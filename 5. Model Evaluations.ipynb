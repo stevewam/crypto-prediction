{
 "cells": [
  {
   "cell_type": "code",
   "execution_count": 1,
   "id": "trying-italian",
   "metadata": {},
   "outputs": [],
   "source": [
    "import warnings\n",
    "warnings.filterwarnings(\"ignore\", category=DeprecationWarning)"
   ]
  },
  {
   "cell_type": "code",
   "execution_count": 2,
   "id": "operational-desperate",
   "metadata": {},
   "outputs": [],
   "source": [
    "import source.load\n",
    "\n",
    "data_dict = source.load.load_data()\n",
    "data = data_dict['data']\n",
    "symbols = data_dict['symbols']"
   ]
  },
  {
   "cell_type": "code",
   "execution_count": 3,
   "id": "isolated-wesley",
   "metadata": {},
   "outputs": [],
   "source": [
    "import source.xgboost"
   ]
  },
  {
   "cell_type": "code",
   "execution_count": 4,
   "id": "superior-commonwealth",
   "metadata": {},
   "outputs": [],
   "source": [
    "hyperparams = {'max_depth':10,\n",
    "               'eta':0.1,\n",
    "               'gamma':0.2,\n",
    "               'min_child_weight':15,\n",
    "               'subsample':0.8,\n",
    "               'objective':'reg:linear',\n",
    "               'early_stopping_rounds':20,\n",
    "               'num_round':300,\n",
    "               'seed':100}\n",
    "               \n",
    "xgb = source.xgboost(prefix='xgboost',\n",
    "                     data=data,\n",
    "                     W=5,\n",
    "                     target='price',\n",
    "                     hyperparams=hyperparams)"
   ]
  },
  {
   "cell_type": "code",
   "execution_count": 5,
   "id": "christian-narrow",
   "metadata": {},
   "outputs": [],
   "source": [
    "# xgb.fit()"
   ]
  },
  {
   "cell_type": "code",
   "execution_count": 6,
   "id": "flexible-kruger",
   "metadata": {},
   "outputs": [],
   "source": [
    "# xgb.init_predictor()"
   ]
  },
  {
   "cell_type": "code",
   "execution_count": 7,
   "id": "economic-nickname",
   "metadata": {},
   "outputs": [],
   "source": [
    "# result = xgb.predict('test', unscaled=False)"
   ]
  },
  {
   "cell_type": "code",
   "execution_count": null,
   "id": "regular-profit",
   "metadata": {},
   "outputs": [],
   "source": []
  },
  {
   "cell_type": "code",
   "execution_count": 8,
   "id": "cordless-airfare",
   "metadata": {},
   "outputs": [],
   "source": [
    "import source.neuralnet"
   ]
  },
  {
   "cell_type": "code",
   "execution_count": 11,
   "id": "constant-allen",
   "metadata": {},
   "outputs": [
    {
     "name": "stderr",
     "output_type": "stream",
     "text": [
      "Exception ignored in: <bound method neuralnet.__del__ of <source.neuralnet.neuralnet object at 0x7fc0f798fa20>>\n",
      "Traceback (most recent call last):\n",
      "  File \"/home/ec2-user/SageMaker/crypto-prediction/source/neuralnet.py\", line 39, in __del__\n",
      "    self.cleanup()\n",
      "  File \"/home/ec2-user/SageMaker/crypto-prediction/source/neuralnet.py\", line 97, in cleanup\n",
      "    self.predictor.delete_endpoint()\n",
      "AttributeError: 'neuralnet' object has no attribute 'predictor'\n"
     ]
    },
    {
     "ename": "TypeError",
     "evalue": "__init__() missing 2 required positional arguments: 'session' and 'role'",
     "output_type": "error",
     "traceback": [
      "\u001b[0;31m---------------------------------------------------------------------------\u001b[0m",
      "\u001b[0;31mTypeError\u001b[0m                                 Traceback (most recent call last)",
      "\u001b[0;32m<ipython-input-11-5d62a8938ec1>\u001b[0m in \u001b[0;36m<module>\u001b[0;34m\u001b[0m\n\u001b[1;32m      7\u001b[0m                \u001b[0mW\u001b[0m\u001b[0;34m=\u001b[0m\u001b[0;36m5\u001b[0m\u001b[0;34m,\u001b[0m\u001b[0;34m\u001b[0m\u001b[0;34m\u001b[0m\u001b[0m\n\u001b[1;32m      8\u001b[0m                \u001b[0mtarget\u001b[0m\u001b[0;34m=\u001b[0m\u001b[0;34m'price'\u001b[0m\u001b[0;34m,\u001b[0m\u001b[0;34m\u001b[0m\u001b[0;34m\u001b[0m\u001b[0m\n\u001b[0;32m----> 9\u001b[0;31m                hyperparams=hyperparams)\n\u001b[0m",
      "\u001b[0;31mTypeError\u001b[0m: __init__() missing 2 required positional arguments: 'session' and 'role'"
     ]
    }
   ],
   "source": [
    "hyperparams = {'hidden_layers': 50,\n",
    "                'max_iter': 10000}\n",
    "               \n",
    "nn = source.neuralnet(\n",
    "               prefix='xgboost',\n",
    "               data=data,\n",
    "               W=5,\n",
    "               target='price',\n",
    "               hyperparams=hyperparams)"
   ]
  },
  {
   "cell_type": "code",
   "execution_count": null,
   "id": "rough-mambo",
   "metadata": {},
   "outputs": [],
   "source": [
    "nn.fit()"
   ]
  },
  {
   "cell_type": "code",
   "execution_count": null,
   "id": "brief-samuel",
   "metadata": {},
   "outputs": [],
   "source": [
    "nn.init_predictor()"
   ]
  }
 ],
 "metadata": {
  "kernelspec": {
   "display_name": "conda_amazonei_mxnet_p36",
   "language": "python",
   "name": "conda_amazonei_mxnet_p36"
  },
  "language_info": {
   "codemirror_mode": {
    "name": "ipython",
    "version": 3
   },
   "file_extension": ".py",
   "mimetype": "text/x-python",
   "name": "python",
   "nbconvert_exporter": "python",
   "pygments_lexer": "ipython3",
   "version": "3.6.10"
  }
 },
 "nbformat": 4,
 "nbformat_minor": 5
}
