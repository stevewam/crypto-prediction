{
 "cells": [
  {
   "cell_type": "code",
   "execution_count": 2,
   "metadata": {},
   "outputs": [],
   "source": [
    "%matplotlib inline\n",
    "import os\n",
    "import numpy as np\n",
    "import pandas as pd\n",
    "import matplotlib.pyplot as plt\n",
    "from sklearn.datasets import load_boston\n",
    "import sklearn.model_selection\n",
    "\n",
    "import sagemaker\n",
    "from sagemaker import get_execution_role\n",
    "from sagemaker.amazon.amazon_estimator import get_image_uri\n",
    "from sagemaker.predictor import csv_serializer\n",
    "\n",
    "session = sagemaker.Session()\n",
    "role = get_execution_role()"
   ]
  },
  {
   "cell_type": "code",
   "execution_count": 76,
   "metadata": {},
   "outputs": [],
   "source": [
    "data_df = pd.read_csv(\"./data/processed_data.csv\")"
   ]
  },
  {
   "cell_type": "markdown",
   "metadata": {},
   "source": [
    "We will be experimenting with the following algorithms for the model:\n",
    "1. XGBoost\n",
    "2. Simple Custom Neural Net\n",
    "3. Long Short Term Memory Networks\n",
    "\n",
    "Before I work with these models, I will start with the benchmark model first which is based on Simple Moving Average model."
   ]
  },
  {
   "cell_type": "markdown",
   "metadata": {},
   "source": [
    "<h2> Simple Moving Average (SMA)</h2>\n",
    "\n",
    "In Simple Moving Average, the predicted next price is equal to the average of the last $w$ data points. In addition to creating this model, I will be creating the function to implement the trading strategy in this section as well."
   ]
  },
  {
   "cell_type": "code",
   "execution_count": 6,
   "metadata": {},
   "outputs": [],
   "source": [
    "import source"
   ]
  },
  {
   "cell_type": "code",
   "execution_count": 38,
   "metadata": {},
   "outputs": [],
   "source": [
    "w = 50"
   ]
  },
  {
   "cell_type": "code",
   "execution_count": 77,
   "metadata": {},
   "outputs": [],
   "source": [
    "def predict_sma_prices(data_df, w):\n",
    "    # Since predicted price is the average of the last w price, we can use create_features function\n",
    "    features_df = source.create_features(data_df, w)\n",
    "    features_df.index = pd.to_datetime(features_df['time'])\n",
    "    \n",
    "    sma_features_df = features_df[['sym', 'price_4_last', 'price_1_mean', 'target_price']]\n",
    "    sma_features_df.columns = ['sym', 'previous_price', 'predicted_price', 'actual_price']\n",
    "    sma_features_df['expected_roi'] = sma_features_df['predicted_price']/sma_features_df['previous_price'] - 1\n",
    "    sma_features_df['actual_roi'] = sma_features_df['actual_price']/sma_features_df['previous_price'] - 1\n",
    "    \n",
    "    return sma_features_df"
   ]
  },
  {
   "cell_type": "code",
   "execution_count": 78,
   "metadata": {},
   "outputs": [],
   "source": [
    "sma_prices_df = predict_sma_prices(data_df, w)"
   ]
  },
  {
   "cell_type": "code",
   "execution_count": 79,
   "metadata": {},
   "outputs": [
    {
     "data": {
      "text/html": [
       "<div>\n",
       "<style scoped>\n",
       "    .dataframe tbody tr th:only-of-type {\n",
       "        vertical-align: middle;\n",
       "    }\n",
       "\n",
       "    .dataframe tbody tr th {\n",
       "        vertical-align: top;\n",
       "    }\n",
       "\n",
       "    .dataframe thead th {\n",
       "        text-align: right;\n",
       "    }\n",
       "</style>\n",
       "<table border=\"1\" class=\"dataframe\">\n",
       "  <thead>\n",
       "    <tr style=\"text-align: right;\">\n",
       "      <th></th>\n",
       "      <th>sym</th>\n",
       "      <th>previous_price</th>\n",
       "      <th>predicted_price</th>\n",
       "      <th>actual_price</th>\n",
       "      <th>expected_roi</th>\n",
       "      <th>actual_roi</th>\n",
       "    </tr>\n",
       "    <tr>\n",
       "      <th>time</th>\n",
       "      <th></th>\n",
       "      <th></th>\n",
       "      <th></th>\n",
       "      <th></th>\n",
       "      <th></th>\n",
       "      <th></th>\n",
       "    </tr>\n",
       "  </thead>\n",
       "  <tbody>\n",
       "    <tr>\n",
       "      <th>2016-01-30</th>\n",
       "      <td>$$$</td>\n",
       "      <td>0.000027</td>\n",
       "      <td>0.000034</td>\n",
       "      <td>0.000026</td>\n",
       "      <td>0.258519</td>\n",
       "      <td>-0.037037</td>\n",
       "    </tr>\n",
       "    <tr>\n",
       "      <th>2016-01-31</th>\n",
       "      <td>$$$</td>\n",
       "      <td>0.000026</td>\n",
       "      <td>0.000034</td>\n",
       "      <td>0.000026</td>\n",
       "      <td>0.306154</td>\n",
       "      <td>0.000000</td>\n",
       "    </tr>\n",
       "    <tr>\n",
       "      <th>2016-02-01</th>\n",
       "      <td>$$$</td>\n",
       "      <td>0.000026</td>\n",
       "      <td>0.000034</td>\n",
       "      <td>0.000026</td>\n",
       "      <td>0.293077</td>\n",
       "      <td>0.000000</td>\n",
       "    </tr>\n",
       "    <tr>\n",
       "      <th>2016-02-02</th>\n",
       "      <td>$$$</td>\n",
       "      <td>0.000026</td>\n",
       "      <td>0.000034</td>\n",
       "      <td>0.000026</td>\n",
       "      <td>0.296154</td>\n",
       "      <td>0.000000</td>\n",
       "    </tr>\n",
       "    <tr>\n",
       "      <th>2016-02-03</th>\n",
       "      <td>$$$</td>\n",
       "      <td>0.000026</td>\n",
       "      <td>0.000034</td>\n",
       "      <td>0.000026</td>\n",
       "      <td>0.299231</td>\n",
       "      <td>0.000000</td>\n",
       "    </tr>\n",
       "  </tbody>\n",
       "</table>\n",
       "</div>"
      ],
      "text/plain": [
       "            sym  previous_price  predicted_price  actual_price  expected_roi  \\\n",
       "time                                                                           \n",
       "2016-01-30  $$$        0.000027         0.000034      0.000026      0.258519   \n",
       "2016-01-31  $$$        0.000026         0.000034      0.000026      0.306154   \n",
       "2016-02-01  $$$        0.000026         0.000034      0.000026      0.293077   \n",
       "2016-02-02  $$$        0.000026         0.000034      0.000026      0.296154   \n",
       "2016-02-03  $$$        0.000026         0.000034      0.000026      0.299231   \n",
       "\n",
       "            actual_roi  \n",
       "time                    \n",
       "2016-01-30   -0.037037  \n",
       "2016-01-31    0.000000  \n",
       "2016-02-01    0.000000  \n",
       "2016-02-02    0.000000  \n",
       "2016-02-03    0.000000  "
      ]
     },
     "execution_count": 79,
     "metadata": {},
     "output_type": "execute_result"
    }
   ],
   "source": [
    "sma_prices_df.head()"
   ]
  },
  {
   "cell_type": "markdown",
   "metadata": {},
   "source": [
    "Now that we have the predicted price for a given time period, we can build a portfolio at each time step so that we can have an idea how much profit can be generated by using the SMA prediction model. The strategy employed to build the portfolio will be standardized accross all the different prediction model we will explore later as well.\n",
    "\n",
    "The strategy will be to invest in the top $n$ coins with the highest expected ROI and then sell it the following day. To simplify the calculation, we will be ignoring the transaction cost. As the algorithm continues to trade, it will re-evaluate the best value of $n$ for a given time period to maximize the Sharpe ratio.\n",
    "\n",
    "We will be trading for 1 year from April 24, 2016 and April 24, 2018."
   ]
  },
  {
   "cell_type": "code",
   "execution_count": 159,
   "metadata": {},
   "outputs": [],
   "source": [
    "def calculate_sharpe_ratio(array):\n",
    "    return np.mean(array)/np.std(array)\n",
    "\n",
    "def calculate_next_sharpe_ratio(roi_history, new_value):\n",
    "    new_hist = roi_history + [new_value]\n",
    "    return np.mean(new_hist)/np.std(new_hist)\n",
    "\n",
    "def update_mean(mean, t, new_value):\n",
    "    if t == 0:\n",
    "        return new_value\n",
    "    else:\n",
    "        return (mean * (t - 1) + new_value) / t\n",
    "\n",
    "def update_std(std, mean, new_mean, t, new_value):\n",
    "    if t == 0:\n",
    "        return 0\n",
    "    else:\n",
    "        return np.sqrt((std ** 2 * (t - 1) + (new_value - new_mean) * (new_value - mean)) / t)"
   ]
  },
  {
   "cell_type": "code",
   "execution_count": 154,
   "metadata": {},
   "outputs": [],
   "source": [
    "test = np.array([18,27])"
   ]
  },
  {
   "cell_type": "code",
   "execution_count": 155,
   "metadata": {},
   "outputs": [
    {
     "data": {
      "text/plain": [
       "4.5"
      ]
     },
     "execution_count": 155,
     "metadata": {},
     "output_type": "execute_result"
    }
   ],
   "source": [
    "np.std(test)"
   ]
  },
  {
   "cell_type": "code",
   "execution_count": 157,
   "metadata": {},
   "outputs": [
    {
     "data": {
      "text/plain": [
       "22.5"
      ]
     },
     "execution_count": 157,
     "metadata": {},
     "output_type": "execute_result"
    }
   ],
   "source": [
    "np.mean(test)"
   ]
  },
  {
   "cell_type": "code",
   "execution_count": 156,
   "metadata": {},
   "outputs": [
    {
     "data": {
      "text/plain": [
       "0.0"
      ]
     },
     "execution_count": 156,
     "metadata": {},
     "output_type": "execute_result"
    }
   ],
   "source": [
    "np.std([18])"
   ]
  },
  {
   "cell_type": "code",
   "execution_count": 158,
   "metadata": {},
   "outputs": [
    {
     "data": {
      "text/plain": [
       "4.5"
      ]
     },
     "execution_count": 158,
     "metadata": {},
     "output_type": "execute_result"
    }
   ],
   "source": [
    "update_std(0, 18, 22.5, 2, 27)"
   ]
  },
  {
   "cell_type": "code",
   "execution_count": 146,
   "metadata": {},
   "outputs": [
    {
     "name": "stdout",
     "output_type": "stream",
     "text": [
      "Date: 2018-04-12 00:00:00; Total: 583788499264657352795619328.00; Day Change: 70448574359310457372672000.00; n: 1108, Sharpe: 0.08\n"
     ]
    }
   ],
   "source": [
    "total_value = 10000\n",
    "sharpe_ratio = None\n",
    "roi_history = []\n",
    "initial_n = 10\n",
    "t = 0\n",
    "\n",
    "dates = list(set([time for time in sma_prices_df.index if time > pd.Timestamp('2016-04-24')]))\n",
    "dates.sort()\n",
    "\n",
    "for date in dates:\n",
    "        \n",
    "    coins_stats_df = sma_prices_df.loc[date,:]\n",
    "    \n",
    "    if sharpe_ratio != None:\n",
    "        sharpe_collection = []\n",
    "        \n",
    "        for n_test in range(len(coins_stats_df)):\n",
    "            n = n_test + 1\n",
    "            top_n_coins_df = coins_stats_df.nlargest(n, 'expected_roi')\n",
    "            day_return = sum(top_n_coins_df['expected_roi'] * total_value / n)\n",
    "            next_sharpe_ratio = calculate_next_sharpe_ratio(roi_history, day_return)\n",
    "            sharpe_collection.append(next_sharpe_ratio)\n",
    "            \n",
    "        n = sharpe_collection.index(max(sharpe_collection)) + 1\n",
    "    else:\n",
    "        n = initial_n\n",
    "            \n",
    "    top_n_coins_df = coins_stats_df.nlargest(n, 'expected_roi')\n",
    "    day_return = sum(top_n_coins_df['actual_roi'] * total_value / n)\n",
    "    total_value += day_return\n",
    "    roi_history.append(day_return)\n",
    "    sharpe_ratio = calculate_sharpe_ratio(roi_history)\n",
    "        \n",
    "        \n",
    "print('Date: {}; Total: {:.2f}; Day Change: {:.2f}; n: {}, Sharpe: {:.2f}'.format(date, total_value, day_return, n, sharpe_ratio))"
   ]
  },
  {
   "cell_type": "code",
   "execution_count": 151,
   "metadata": {},
   "outputs": [
    {
     "data": {
      "text/plain": [
       "5.8378849926465734e+23"
      ]
     },
     "execution_count": 151,
     "metadata": {},
     "output_type": "execute_result"
    }
   ],
   "source": []
  },
  {
   "cell_type": "code",
   "execution_count": null,
   "metadata": {},
   "outputs": [],
   "source": [
    "total_value = 10000\n",
    "sharpe_ratio = None\n",
    "mean_returns = None\n",
    "std_returns = None\n",
    "initial_n = 10\n",
    "t = 1\n",
    "\n",
    "dates = list(set([time for time in sma_prices_df.index if time > pd.Timestamp('2016-04-24')]))\n",
    "dates.sort()\n",
    "\n",
    "for date in dates:\n",
    "    \n",
    "    coins_stats_df = sma_prices_df.loc[date,:]\n",
    "    coins_stats_df = coins_stats_df.sort_values(by='expected_roi')\n",
    "    \n",
    "    if t != 1:\n",
    "        sharpe_select_df = []\n",
    "        \n",
    "        for n_index in range(len(coins_stats_df)):\n",
    "            n = n_index + 1\n",
    "            day_return = sum(coins_stats_df.loc[:n_index, 'expected_roi'] * total_value / n)\n",
    "            \n",
    "            mean = update_mean(mean_returns, t, day_return)\n",
    "            std = update_std(std_returns, mean, mean_returns, t, day_return)\n",
    "            \n",
    "            sharpe_select_df.append(mean/std)\n",
    "            \n",
    "        n = sharpe_select_df.index(max(sharpe_select_df)) + 1\n",
    "        \n",
    "    else:\n",
    "        n = initial_n\n",
    "            \n",
    "    day_return = sum(coins_stats_df.loc[:n_index, 'actual_roi'] * total_value / n)\n",
    "    total_value += day_return\n",
    "    \n",
    "    prev_mean_returns = mean_returns\n",
    "    mean_returns = update_mean(prev_mean_returns, t, day_return)\n",
    "    std_returns = update_std(std_returns, prev_mean_returns, mean_returns, t, day_return)\n",
    "    sharpe_ratio = mean_returns/std_returns\n",
    "\n",
    "    \n",
    "    t += 1\n",
    "        \n",
    "        \n",
    "print('Date: {}; Total: {:.2f}; Day Change: {:.2f}; n: {}, Sharpe: {:.2f}'.format(date, total_value, day_return, n, sharpe_ratio))"
   ]
  },
  {
   "cell_type": "code",
   "execution_count": 167,
   "metadata": {},
   "outputs": [],
   "source": [
    "coins_stats_df = coins_stats_df.sort_values(by='expected_roi', ascending=False)"
   ]
  },
  {
   "cell_type": "code",
   "execution_count": 172,
   "metadata": {},
   "outputs": [],
   "source": [
    "coins_stats_df['avg_roi'] = coins_stats_df['expected_roi'].expanding().mean()"
   ]
  },
  {
   "cell_type": "code",
   "execution_count": 173,
   "metadata": {},
   "outputs": [],
   "source": [
    "coins_stats_df['avg_returns'] = coins_stats_df['avg_roi'] * total_value"
   ]
  },
  {
   "cell_type": "code",
   "execution_count": 174,
   "metadata": {},
   "outputs": [
    {
     "data": {
      "text/html": [
       "<div>\n",
       "<style scoped>\n",
       "    .dataframe tbody tr th:only-of-type {\n",
       "        vertical-align: middle;\n",
       "    }\n",
       "\n",
       "    .dataframe tbody tr th {\n",
       "        vertical-align: top;\n",
       "    }\n",
       "\n",
       "    .dataframe thead th {\n",
       "        text-align: right;\n",
       "    }\n",
       "</style>\n",
       "<table border=\"1\" class=\"dataframe\">\n",
       "  <thead>\n",
       "    <tr style=\"text-align: right;\">\n",
       "      <th></th>\n",
       "      <th>sym</th>\n",
       "      <th>previous_price</th>\n",
       "      <th>predicted_price</th>\n",
       "      <th>actual_price</th>\n",
       "      <th>expected_roi</th>\n",
       "      <th>actual_roi</th>\n",
       "      <th>total_value</th>\n",
       "      <th>avg_returns</th>\n",
       "      <th>avg_roi</th>\n",
       "    </tr>\n",
       "    <tr>\n",
       "      <th>time</th>\n",
       "      <th></th>\n",
       "      <th></th>\n",
       "      <th></th>\n",
       "      <th></th>\n",
       "      <th></th>\n",
       "      <th></th>\n",
       "      <th></th>\n",
       "      <th></th>\n",
       "      <th></th>\n",
       "    </tr>\n",
       "  </thead>\n",
       "  <tbody>\n",
       "    <tr>\n",
       "      <th>2018-04-12</th>\n",
       "      <td>CSC</td>\n",
       "      <td>0.000967</td>\n",
       "      <td>0.215763</td>\n",
       "      <td>0.001100</td>\n",
       "      <td>222.125915</td>\n",
       "      <td>0.137539</td>\n",
       "      <td>5.837885e+26</td>\n",
       "      <td>1.296746e+29</td>\n",
       "      <td>222.125915</td>\n",
       "    </tr>\n",
       "    <tr>\n",
       "      <th>2018-04-12</th>\n",
       "      <td>CTR</td>\n",
       "      <td>0.013998</td>\n",
       "      <td>0.433963</td>\n",
       "      <td>0.014859</td>\n",
       "      <td>30.001759</td>\n",
       "      <td>0.061509</td>\n",
       "      <td>5.837885e+26</td>\n",
       "      <td>7.359462e+28</td>\n",
       "      <td>126.063837</td>\n",
       "    </tr>\n",
       "    <tr>\n",
       "      <th>2018-04-12</th>\n",
       "      <td>LCT</td>\n",
       "      <td>0.084380</td>\n",
       "      <td>1.488315</td>\n",
       "      <td>0.049379</td>\n",
       "      <td>16.638238</td>\n",
       "      <td>-0.414802</td>\n",
       "      <td>5.837885e+26</td>\n",
       "      <td>5.230082e+28</td>\n",
       "      <td>89.588637</td>\n",
       "    </tr>\n",
       "    <tr>\n",
       "      <th>2018-04-12</th>\n",
       "      <td>CRAVE</td>\n",
       "      <td>0.168062</td>\n",
       "      <td>2.751825</td>\n",
       "      <td>0.203834</td>\n",
       "      <td>15.373865</td>\n",
       "      <td>0.212850</td>\n",
       "      <td>5.837885e+26</td>\n",
       "      <td>4.146938e+28</td>\n",
       "      <td>71.034944</td>\n",
       "    </tr>\n",
       "    <tr>\n",
       "      <th>2018-04-12</th>\n",
       "      <td>MDC</td>\n",
       "      <td>0.005261</td>\n",
       "      <td>0.065699</td>\n",
       "      <td>0.016528</td>\n",
       "      <td>11.487900</td>\n",
       "      <td>2.141608</td>\n",
       "      <td>5.837885e+26</td>\n",
       "      <td>3.451681e+28</td>\n",
       "      <td>59.125535</td>\n",
       "    </tr>\n",
       "  </tbody>\n",
       "</table>\n",
       "</div>"
      ],
      "text/plain": [
       "              sym  previous_price  predicted_price  actual_price  \\\n",
       "time                                                               \n",
       "2018-04-12    CSC        0.000967         0.215763      0.001100   \n",
       "2018-04-12    CTR        0.013998         0.433963      0.014859   \n",
       "2018-04-12    LCT        0.084380         1.488315      0.049379   \n",
       "2018-04-12  CRAVE        0.168062         2.751825      0.203834   \n",
       "2018-04-12    MDC        0.005261         0.065699      0.016528   \n",
       "\n",
       "            expected_roi  actual_roi   total_value   avg_returns     avg_roi  \n",
       "time                                                                          \n",
       "2018-04-12    222.125915    0.137539  5.837885e+26  1.296746e+29  222.125915  \n",
       "2018-04-12     30.001759    0.061509  5.837885e+26  7.359462e+28  126.063837  \n",
       "2018-04-12     16.638238   -0.414802  5.837885e+26  5.230082e+28   89.588637  \n",
       "2018-04-12     15.373865    0.212850  5.837885e+26  4.146938e+28   71.034944  \n",
       "2018-04-12     11.487900    2.141608  5.837885e+26  3.451681e+28   59.125535  "
      ]
     },
     "execution_count": 174,
     "metadata": {},
     "output_type": "execute_result"
    }
   ],
   "source": [
    "coins_stats_df.head()"
   ]
  },
  {
   "cell_type": "code",
   "execution_count": 176,
   "metadata": {},
   "outputs": [],
   "source": [
    "day_return = sum(coins_stats_df.iloc[:1, 4] * total_value / 2)"
   ]
  },
  {
   "cell_type": "code",
   "execution_count": 177,
   "metadata": {},
   "outputs": [
    {
     "data": {
      "text/plain": [
       "6.483727734512338e+28"
      ]
     },
     "execution_count": 177,
     "metadata": {},
     "output_type": "execute_result"
    }
   ],
   "source": [
    "day_return"
   ]
  },
  {
   "cell_type": "code",
   "execution_count": null,
   "metadata": {},
   "outputs": [],
   "source": [
    "X_bos_pd = pd.DataFrame(boston.data, columns=boston.feature_names)\n",
    "Y_bos_pd = pd.DataFrame(boston.target)\n",
    "\n",
    "X_train, X_test, Y_train, Y_test = sklearn.model_selection.train_test_split(X_bos_pd, Y_bos_pd, test_size=0.33)\n",
    "X_train, X_val, Y_train, Y_val = sklearn.model_selection.train_test_split(X_train, Y_train, test_size=0.33)"
   ]
  },
  {
   "cell_type": "code",
   "execution_count": null,
   "metadata": {},
   "outputs": [],
   "source": [
    "data_dir = '../data'\n",
    "if not os.path.exists(data_dir):\n",
    "    os.makedirs(data_dir)"
   ]
  },
  {
   "cell_type": "code",
   "execution_count": null,
   "metadata": {},
   "outputs": [],
   "source": [
    "pd.concat([Y_val, X_val], axis=1).to_csv(os.path.join(data_dir, 'validation.csv'), header=False, index=False)\n",
    "pd.concat([Y_train, X_train], axis=1).to_csv(os.path.join(data_dir, 'train.csv'), header=False, index=False)"
   ]
  },
  {
   "cell_type": "code",
   "execution_count": null,
   "metadata": {},
   "outputs": [],
   "source": [
    "prefix = 'boston-xgboost-deploy-hl'\n",
    "\n",
    "val_location = session.upload_data(os.path.join(data_dir, 'validation.csv'), key_prefix=prefix)\n",
    "train_location = session.upload_data(os.path.join(data_dir, 'train.csv'), key_prefix=prefix)"
   ]
  },
  {
   "cell_type": "code",
   "execution_count": null,
   "metadata": {},
   "outputs": [],
   "source": [
    "container = get_image_uri(session.boto_region_name, 'xgboost')"
   ]
  },
  {
   "cell_type": "code",
   "execution_count": null,
   "metadata": {},
   "outputs": [],
   "source": [
    "xgb = sagemaker.estimator.Estimator(container, # The name of the training container\n",
    "                                    role,      # The IAM role to use (our current role in this case)\n",
    "                                    train_instance_count=1, # The number of instances to use for training\n",
    "                                    train_instance_type='ml.m4.xlarge', # The type of instance ot use for training\n",
    "                                    output_path='s3://{}/{}/output'.format(session.default_bucket(), prefix), # Where to save the output (the model artifacts)\n",
    "                                    sagemaker_session=session) # The current SageMaker session"
   ]
  },
  {
   "cell_type": "code",
   "execution_count": null,
   "metadata": {},
   "outputs": [],
   "source": [
    "xgb.set_hyperparameters(max_depth=5,\n",
    "                        eta=0.2,\n",
    "                        gamma=4,\n",
    "                        min_child_weight=6,\n",
    "                        subsample=0.8,\n",
    "                        objective='reg:linear',\n",
    "                        early_stopping_rounds=10,\n",
    "                        num_round=200)"
   ]
  },
  {
   "cell_type": "code",
   "execution_count": null,
   "metadata": {},
   "outputs": [],
   "source": [
    "#Testing Performance\n",
    "xgb_transformer = xgb.transformer(instance_count = 1, instance_type = 'ml.m4.xlarge')\n",
    "xgb_transformer.transform(test_location, content_type='text/csv', split_type='Line')\n",
    "xgb_transformer.wait()"
   ]
  },
  {
   "cell_type": "code",
   "execution_count": null,
   "metadata": {},
   "outputs": [],
   "source": [
    "!aws s3 cp --recursive $xgb_transformer.output_path $data_dir\n",
    "Y_pred = pd.read_csv(os.path.join(data_dir, 'test.csv.out'), header=None)\n",
    "plt.scatter(Y_test, Y_pred)\n",
    "plt.xlabel(\"Median Price\")\n",
    "plt.ylabel(\"Predicted Price\")\n",
    "plt.title(\"Median Price vs Predicted Price\")"
   ]
  },
  {
   "cell_type": "code",
   "execution_count": null,
   "metadata": {},
   "outputs": [],
   "source": [
    "#Deployment\n",
    "xgb_predictor = xgb.deploy(initial_instance_count=1, instance_type='ml.m4.xlarge')\n",
    "xgb_predictor.content_type = 'text/csv'\n",
    "xgb_predictor.serializer = csv_serializer"
   ]
  },
  {
   "cell_type": "code",
   "execution_count": null,
   "metadata": {},
   "outputs": [],
   "source": [
    "Y_pred = xgb_predictor.predict(X_test.values).decode('utf-8')\n",
    "Y_pred = np.fromstring(Y_pred, sep=',')\n",
    "\n",
    "xgb_predictor.delete_endpoint()"
   ]
  }
 ],
 "metadata": {
  "kernelspec": {
   "display_name": "conda_amazonei_mxnet_p36",
   "language": "python",
   "name": "conda_amazonei_mxnet_p36"
  },
  "language_info": {
   "codemirror_mode": {
    "name": "ipython",
    "version": 3
   },
   "file_extension": ".py",
   "mimetype": "text/x-python",
   "name": "python",
   "nbconvert_exporter": "python",
   "pygments_lexer": "ipython3",
   "version": "3.6.10"
  }
 },
 "nbformat": 4,
 "nbformat_minor": 4
}
