{
 "cells": [
  {
   "cell_type": "code",
   "execution_count": 4,
   "metadata": {},
   "outputs": [
    {
     "name": "stdout",
     "output_type": "stream",
     "text": [
      "Collecting sagemaker==1.72.0\n",
      "  Downloading sagemaker-1.72.0.tar.gz (297 kB)\n",
      "\u001b[K     |████████████████████████████████| 297 kB 5.8 MB/s eta 0:00:01\n",
      "\u001b[?25hRequirement already satisfied: boto3>=1.14.12 in /home/ec2-user/anaconda3/envs/amazonei_mxnet_p36/lib/python3.6/site-packages (from sagemaker==1.72.0) (1.16.37)\n",
      "Requirement already satisfied: numpy>=1.9.0 in /home/ec2-user/anaconda3/envs/amazonei_mxnet_p36/lib/python3.6/site-packages (from sagemaker==1.72.0) (1.19.4)\n",
      "Requirement already satisfied: protobuf>=3.1 in /home/ec2-user/anaconda3/envs/amazonei_mxnet_p36/lib/python3.6/site-packages (from sagemaker==1.72.0) (3.14.0)\n",
      "Requirement already satisfied: scipy>=0.19.0 in /home/ec2-user/anaconda3/envs/amazonei_mxnet_p36/lib/python3.6/site-packages (from sagemaker==1.72.0) (1.4.1)\n",
      "Requirement already satisfied: protobuf3-to-dict>=0.1.5 in /home/ec2-user/anaconda3/envs/amazonei_mxnet_p36/lib/python3.6/site-packages (from sagemaker==1.72.0) (0.1.5)\n",
      "Requirement already satisfied: importlib-metadata>=1.4.0 in /home/ec2-user/anaconda3/envs/amazonei_mxnet_p36/lib/python3.6/site-packages (from sagemaker==1.72.0) (3.1.0)\n",
      "Requirement already satisfied: packaging>=20.0 in /home/ec2-user/anaconda3/envs/amazonei_mxnet_p36/lib/python3.6/site-packages (from sagemaker==1.72.0) (20.7)\n",
      "Requirement already satisfied: botocore<1.20.0,>=1.19.37 in /home/ec2-user/anaconda3/envs/amazonei_mxnet_p36/lib/python3.6/site-packages (from boto3>=1.14.12->sagemaker==1.72.0) (1.19.37)\n",
      "Requirement already satisfied: jmespath<1.0.0,>=0.7.1 in /home/ec2-user/anaconda3/envs/amazonei_mxnet_p36/lib/python3.6/site-packages (from boto3>=1.14.12->sagemaker==1.72.0) (0.10.0)\n",
      "Requirement already satisfied: s3transfer<0.4.0,>=0.3.0 in /home/ec2-user/anaconda3/envs/amazonei_mxnet_p36/lib/python3.6/site-packages (from boto3>=1.14.12->sagemaker==1.72.0) (0.3.3)\n",
      "Requirement already satisfied: jmespath<1.0.0,>=0.7.1 in /home/ec2-user/anaconda3/envs/amazonei_mxnet_p36/lib/python3.6/site-packages (from boto3>=1.14.12->sagemaker==1.72.0) (0.10.0)\n",
      "Requirement already satisfied: urllib3<1.27,>=1.25.4 in /home/ec2-user/anaconda3/envs/amazonei_mxnet_p36/lib/python3.6/site-packages (from botocore<1.20.0,>=1.19.37->boto3>=1.14.12->sagemaker==1.72.0) (1.25.11)\n",
      "Requirement already satisfied: python-dateutil<3.0.0,>=2.1 in /home/ec2-user/anaconda3/envs/amazonei_mxnet_p36/lib/python3.6/site-packages (from botocore<1.20.0,>=1.19.37->boto3>=1.14.12->sagemaker==1.72.0) (2.8.1)\n",
      "Requirement already satisfied: zipp>=0.5 in /home/ec2-user/anaconda3/envs/amazonei_mxnet_p36/lib/python3.6/site-packages (from importlib-metadata>=1.4.0->sagemaker==1.72.0) (3.4.0)\n",
      "Requirement already satisfied: pyparsing>=2.0.2 in /home/ec2-user/anaconda3/envs/amazonei_mxnet_p36/lib/python3.6/site-packages (from packaging>=20.0->sagemaker==1.72.0) (2.4.7)\n",
      "Requirement already satisfied: six>=1.9 in /home/ec2-user/anaconda3/envs/amazonei_mxnet_p36/lib/python3.6/site-packages (from protobuf>=3.1->sagemaker==1.72.0) (1.15.0)\n",
      "Requirement already satisfied: protobuf>=3.1 in /home/ec2-user/anaconda3/envs/amazonei_mxnet_p36/lib/python3.6/site-packages (from sagemaker==1.72.0) (3.14.0)\n",
      "Requirement already satisfied: six>=1.9 in /home/ec2-user/anaconda3/envs/amazonei_mxnet_p36/lib/python3.6/site-packages (from protobuf>=3.1->sagemaker==1.72.0) (1.15.0)\n",
      "Requirement already satisfied: six>=1.9 in /home/ec2-user/anaconda3/envs/amazonei_mxnet_p36/lib/python3.6/site-packages (from protobuf>=3.1->sagemaker==1.72.0) (1.15.0)\n",
      "Requirement already satisfied: botocore<1.20.0,>=1.19.37 in /home/ec2-user/anaconda3/envs/amazonei_mxnet_p36/lib/python3.6/site-packages (from boto3>=1.14.12->sagemaker==1.72.0) (1.19.37)\n",
      "Requirement already satisfied: numpy>=1.9.0 in /home/ec2-user/anaconda3/envs/amazonei_mxnet_p36/lib/python3.6/site-packages (from sagemaker==1.72.0) (1.19.4)\n",
      "Collecting smdebug-rulesconfig==0.1.4\n",
      "  Downloading smdebug_rulesconfig-0.1.4-py2.py3-none-any.whl (10 kB)\n",
      "Building wheels for collected packages: sagemaker\n",
      "  Building wheel for sagemaker (setup.py) ... \u001b[?25ldone\n",
      "\u001b[?25h  Created wheel for sagemaker: filename=sagemaker-1.72.0-py2.py3-none-any.whl size=386358 sha256=38707a678c9036db92de7323660f0c53fe803ce9c9af08c7656782b62250c1ea\n",
      "  Stored in directory: /home/ec2-user/.cache/pip/wheels/c3/58/70/85faf4437568bfaa4c419937569ba1fe54d44c5db42406bbd7\n",
      "Successfully built sagemaker\n",
      "Installing collected packages: smdebug-rulesconfig, sagemaker\n",
      "  Attempting uninstall: smdebug-rulesconfig\n",
      "    Found existing installation: smdebug-rulesconfig 1.0.0\n",
      "    Uninstalling smdebug-rulesconfig-1.0.0:\n",
      "      Successfully uninstalled smdebug-rulesconfig-1.0.0\n",
      "  Attempting uninstall: sagemaker\n",
      "    Found existing installation: sagemaker 2.19.0\n",
      "    Uninstalling sagemaker-2.19.0:\n",
      "      Successfully uninstalled sagemaker-2.19.0\n",
      "Successfully installed sagemaker-1.72.0 smdebug-rulesconfig-0.1.4\n",
      "\u001b[33mWARNING: You are using pip version 20.3; however, version 21.0 is available.\n",
      "You should consider upgrading via the '/home/ec2-user/anaconda3/envs/amazonei_mxnet_p36/bin/python -m pip install --upgrade pip' command.\u001b[0m\n"
     ]
    }
   ],
   "source": [
    "!pip install sagemaker==1.72.0"
   ]
  },
  {
   "cell_type": "code",
   "execution_count": 5,
   "metadata": {},
   "outputs": [],
   "source": [
    "%matplotlib inline\n",
    "import os\n",
    "import ast\n",
    "import numpy as np\n",
    "import pandas as pd\n",
    "import matplotlib.pyplot as plt\n",
    "from sklearn.datasets import load_boston\n",
    "import sklearn.model_selection\n",
    "\n",
    "import sagemaker\n",
    "from sagemaker import get_execution_role\n",
    "from sagemaker.amazon.amazon_estimator import get_image_uri\n",
    "from sagemaker.predictor import csv_serializer\n",
    "from sagemaker.xgboost.estimator import XGBoost\n",
    "from sagemaker.sklearn.estimator import SKLearn\n",
    "from sklearn.preprocessing import MinMaxScaler\n",
    "\n",
    "session = sagemaker.Session()\n",
    "role = get_execution_role()"
   ]
  },
  {
   "cell_type": "code",
   "execution_count": 6,
   "metadata": {},
   "outputs": [],
   "source": [
    "data_df = pd.read_csv(\"./data/processed_data.csv\")"
   ]
  },
  {
   "cell_type": "markdown",
   "metadata": {},
   "source": [
    "We will be experimenting with the following algorithms for the model:\n",
    "1. XGBoost\n",
    "2. Simple Custom Neural Net\n",
    "3. Long Short Term Memory Networks\n",
    "\n",
    "Before I work with these models, I will start with the benchmark model first which is based on Simple Moving Average model."
   ]
  },
  {
   "cell_type": "markdown",
   "metadata": {},
   "source": [
    "<h2> Simple Moving Average (SMA)</h2>\n",
    "\n",
    "In Simple Moving Average, the predicted next price is equal to the average of the last $w$ data points. In addition to creating this model, I will be creating the function to implement the trading strategy in this section as well."
   ]
  },
  {
   "cell_type": "code",
   "execution_count": 7,
   "metadata": {},
   "outputs": [],
   "source": [
    "# Import source to access feature.py script\n",
    "import source"
   ]
  },
  {
   "cell_type": "code",
   "execution_count": 8,
   "metadata": {},
   "outputs": [],
   "source": [
    "# Since our create_features function calculate the average of the last w prices as one of our features, we can reuse it to perform SMA\n",
    "def predict_sma_prices(features_df):\n",
    "    return features_df['price_1_mean']\n",
    "\n",
    "# Function to calculate Root Mean Squared of Error, an useful metric to gauge how accurate the model is\n",
    "def calculate_mape(asset_matrix):\n",
    "    asset_matrix['error'] = abs(1 - (asset_matrix['predicted_price']/asset_matrix['actual_price'])) * 100\n",
    "    mape = sum(asset_matrix['error'])/len(asset_matrix)\n",
    "    print('MAPE: {:.4f}'.format(mape))\n",
    "    return mape\n",
    "\n",
    "# Function to create a dataframe containing calculations needed to execute the trading strategy\n",
    "def construct_asset_matrix(test_df, pred):\n",
    "    result = test_df.copy()\n",
    "    result = result[['sym', 'price_4_last', 'market_cap_4_last', 'target']]\n",
    "    result.columns = ['sym', 'previous_price', 'previous_market_cap', 'actual_price']\n",
    "    \n",
    "    result['predicted_price'] = pred.values\n",
    "    result['expected_roi'] = result['predicted_price']/result['previous_price'] - 1\n",
    "    result['actual_roi'] = result['actual_price']/result['previous_price'] - 1\n",
    "    \n",
    "    return result\n",
    "\n",
    "# Function to plot predicted vs actual price for a given asset using asset matrix\n",
    "def plot_predicted_vs_actual(asset_matrix, sym):\n",
    "    plt.figure(figsize=(10,5))\n",
    "\n",
    "    asset_matrix[asset_matrix['sym'] == sym]['predicted_price'].plot(label='Prediction', lw=1)\n",
    "    asset_matrix[asset_matrix['sym'] == sym]['actual_price'].plot(label='Actual', lw=1)\n",
    "\n",
    "    plt.legend()\n",
    "    plt.show()"
   ]
  },
  {
   "cell_type": "code",
   "execution_count": 9,
   "metadata": {},
   "outputs": [],
   "source": [
    "features_df = source.create_features(data_df, w=30)\n",
    "sma_pred = predict_sma_prices(features_df)"
   ]
  },
  {
   "cell_type": "code",
   "execution_count": 10,
   "metadata": {},
   "outputs": [],
   "source": [
    "asset_matrix = construct_asset_matrix(features_df, sma_pred)"
   ]
  },
  {
   "cell_type": "code",
   "execution_count": 11,
   "metadata": {},
   "outputs": [
    {
     "name": "stdout",
     "output_type": "stream",
     "text": [
      "MAPE: inf\n"
     ]
    }
   ],
   "source": [
    "mape = calculate_mape(asset_matrix)"
   ]
  },
  {
   "cell_type": "code",
   "execution_count": 12,
   "metadata": {},
   "outputs": [
    {
     "data": {
      "image/png": "[encoded data removed]",
      "text/plain": [
       "<Figure size 720x360 with 1 Axes>"
      ]
     },
     "metadata": {
      "needs_background": "light"
     },
     "output_type": "display_data"
    }
   ],
   "source": [
    "plot_predicted_vs_actual(asset_matrix, 'BTC')"
   ]
  },
  {
   "cell_type": "markdown",
   "metadata": {},
   "source": [
    "<h2>Trading Strategy</h2>\n",
    "\n",
    "Now that we have the predicted price for a given time period, we can build a portfolio at each time step so that we can have an idea how much profit can be generated by using the SMA prediction model. The strategy employed to build the portfolio will be standardized accross all the different prediction model we will explore later as well.\n",
    "\n",
    "The strategy will be to invest in the top $n$ coins with the highest expected ROI and then sell it the following day. To simplify the calculation, we will be ignoring the transaction cost. As the algorithm continues to trade, it will re-evaluate the best value of $n$ for a given time period such that it maximizes the Sharpe ratio based on the predicted prices on the next time step.\n",
    "\n",
    "We will be trading for 1 year from April 12, 2017 and April 12, 2018."
   ]
  },
  {
   "cell_type": "code",
   "execution_count": 19,
   "metadata": {},
   "outputs": [],
   "source": [
    "vol_threshold = 100000\n",
    "age_threshold = 50\n",
    "\n",
    "test_features_df = source.create_features(data_df, w=5)\n",
    "test_sma_df = test_features_df[pd.to_datetime(test_features_df.index) >= pd.Timestamp('2017-04-12')]\n",
    "test_sma_df = test_sma_df[(test_sma_df['volume_4_last'] * test_sma_df['price_4_last']) > vol_threshold]\n",
    "test_sma_df = test_sma_df[test_sma_df['age_4_last'] > age_threshold]\n",
    "test_sma_pred = predict_sma_prices(test_sma_df)\n",
    "test_asset_matrix = construct_asset_matrix(test_sma_df, test_sma_pred)"
   ]
  },
  {
   "cell_type": "code",
   "execution_count": 20,
   "metadata": {},
   "outputs": [
    {
     "data": {
      "image/png": "[encoded data removed]",
      "text/plain": [
       "<Figure size 720x360 with 1 Axes>"
      ]
     },
     "metadata": {
      "needs_background": "light"
     },
     "output_type": "display_data"
    }
   ],
   "source": [
    "plot_predicted_vs_actual(test_asset_matrix, 'XRP')"
   ]
  },
  {
   "cell_type": "code",
   "execution_count": 21,
   "metadata": {},
   "outputs": [],
   "source": [
    "# Function to update mean based on new value\n",
    "def update_mean(mean, t, new_value):\n",
    "    if t == 0:\n",
    "        return new_value\n",
    "    else:\n",
    "        return (mean * (t - 1) + new_value) / t\n",
    "\n",
    "# Function to update standard deviation based on new value\n",
    "def update_std(std, mean, new_mean, t, new_value):\n",
    "    if t == 0:\n",
    "        return 0\n",
    "    else:\n",
    "        return np.sqrt((std ** 2 * (t - 1) + (new_value - new_mean) * (new_value - mean)) / t)\n",
    "\n",
    "# Function to execute the trading strategy over the trading horizon using asset matrix\n",
    "def evaluate_strategy(asset_matrix):\n",
    "    initial_value = 10000\n",
    "    total_value = initial_value\n",
    "    sharpe_ratio = None\n",
    "    mean_roi = 0\n",
    "    std_roi = 0\n",
    "    n = 5\n",
    "    t = 1\n",
    "    percent_returns = 0\n",
    "    value_history = []\n",
    "    roi_history = []\n",
    "    top_roi = []\n",
    "\n",
    "    dates = list(set(asset_matrix.index))\n",
    "    dates.sort()\n",
    "\n",
    "    for date in dates:\n",
    "\n",
    "        coins_stats_df = asset_matrix.loc[date,:]\n",
    "        coins_stats_df = coins_stats_df.sort_values(by='expected_roi', ascending=False)\n",
    "        coins_stats_df = coins_stats_df[coins_stats_df['expected_roi'] > 0]\n",
    "        \n",
    "        if coins_stats_df.empty:\n",
    "            prev_mean_roi = mean_roi\n",
    "            mean_roi = update_mean(prev_mean_roi, t, 0)\n",
    "            std_roi = update_std(std_roi, prev_mean_roi, mean_roi, t, 0)\n",
    "            n_history.append(0)\n",
    "            value_history.append(total_value)\n",
    "            roi_history.append(0)\n",
    "            continue\n",
    "       \n",
    "        day_return = sum(coins_stats_df.iloc[:n,:]['actual_roi'] * total_value / n)\n",
    "        day_roi = day_return/total_value\n",
    "        total_value += day_return\n",
    "        percent_returns = (total_value/initial_value - 1) * 100\n",
    "\n",
    "        prev_mean_roi = mean_roi\n",
    "        mean_roi = update_mean(prev_mean_roi, t, day_roi)\n",
    "        std_roi = update_std(std_roi, prev_mean_roi, mean_roi, t, day_roi)\n",
    "        sharpe_ratio = mean_roi/std_roi\n",
    "        \n",
    "        value_history.append(total_value)\n",
    "        roi_history.append(day_roi)\n",
    "\n",
    "        t += 1\n",
    "        \n",
    "    print('Cumulative Returns: {:.2e}%, Sharpe Ratio: {:.4f}'.format(percent_returns, sharpe_ratio))\n",
    "    \n",
    "    history = pd.concat([pd.DataFrame(dates), pd.DataFrame(value_history), pd.DataFrame(roi_history)], axis=1)\n",
    "    history.columns = ['time', 'total_value', 'roi']\n",
    "    history = history.set_index('time')\n",
    "    return sharpe_ratio, percent_returns, history"
   ]
  },
  {
   "cell_type": "code",
   "execution_count": 22,
   "metadata": {},
   "outputs": [
    {
     "name": "stderr",
     "output_type": "stream",
     "text": [
      "/home/ec2-user/anaconda3/envs/amazonei_mxnet_p36/lib/python3.6/site-packages/ipykernel/__main__.py:55: RuntimeWarning: divide by zero encountered in double_scalars\n"
     ]
    },
    {
     "name": "stdout",
     "output_type": "stream",
     "text": [
      "Cumulative Returns: 1.66e+07%, Sharpe Ratio: 0.2483\n"
     ]
    }
   ],
   "source": [
    "sma_result = evaluate_strategy(test_asset_matrix)"
   ]
  },
  {
   "cell_type": "code",
   "execution_count": 23,
   "metadata": {},
   "outputs": [
    {
     "name": "stdout",
     "output_type": "stream",
     "text": [
      "MAPE: 12.7693\n"
     ]
    }
   ],
   "source": [
    "sma_mape = calculate_mape(test_asset_matrix)"
   ]
  },
  {
   "cell_type": "code",
   "execution_count": 24,
   "metadata": {},
   "outputs": [
    {
     "data": {
      "image/png": "[encoded data removed]",
      "text/plain": [
       "<Figure size 432x288 with 1 Axes>"
      ]
     },
     "metadata": {
      "needs_background": "light"
     },
     "output_type": "display_data"
    }
   ],
   "source": [
    "plt.plot(sma_result[2]['total_value'])\n",
    "plt.yscale('log')\n",
    "plt.show()"
   ]
  },
  {
   "cell_type": "markdown",
   "metadata": {},
   "source": [
    "<h2> XGBoost </h2>\n",
    "\n",
    "Testing on XGBoost algorithm. We will experiment using different values of $w$."
   ]
  },
  {
   "cell_type": "code",
   "execution_count": 25,
   "metadata": {},
   "outputs": [],
   "source": [
    "def run_xgboost_model(w, hyperparams, prefix, data_dir, data_df, test_start='2017-04-12', val_start='2016-04-12'):\n",
    "    features_df = source.create_features(data_df, w)\n",
    "    features_df = features_df[(features_df['volume_4_last'] * features_df['price_4_last']) > vol_threshold]\n",
    "    features_df = features_df[features_df['age_4_last'] > age_threshold]\n",
    "    \n",
    "    train_df = features_df[features_df.index < pd.Timestamp(val_start)]\n",
    "    val_df = features_df[(features_df.index >= pd.Timestamp(val_start)) & (features_df.index < pd.Timestamp(test_start))]\n",
    "    test_df = features_df[features_df.index >= pd.Timestamp(test_start)]\n",
    "    \n",
    "    X_train = pd.DataFrame(train_df.iloc[:,2:-2])\n",
    "    Y_train = pd.DataFrame(train_df['target'])\n",
    "    X_val = pd.DataFrame(val_df.iloc[:,2:-2])\n",
    "    Y_val = pd.DataFrame(val_df['target'])\n",
    "    X_test = pd.DataFrame(test_df.iloc[:,2:-2])\n",
    "    Y_test = pd.DataFrame(test_df['target'])\n",
    "    \n",
    "    \n",
    "    pd.concat([Y_train, X_train], axis=1).to_csv(os.path.join(data_dir, 'train.csv'), header=False, index=False)\n",
    "    pd.concat([Y_val, X_val], axis=1).to_csv(os.path.join(data_dir, 'val.csv'), header=False, index=False)\n",
    "\n",
    "    train_location = session.upload_data(os.path.join(data_dir, 'train.csv'), key_prefix=prefix)\n",
    "    val_location = session.upload_data(os.path.join(data_dir, 'val.csv'), key_prefix=prefix)\n",
    "    \n",
    "    script_path = './source/custom_xgb.py'\n",
    "\n",
    "    xgb_custom = XGBoost(entry_point=script_path,\n",
    "                        framework_version='1.0-1',\n",
    "                        hyperparameters=hyperparams,\n",
    "                        role=role,\n",
    "                        train_instance_count=1,\n",
    "                        train_instance_type='ml.m4.xlarge',\n",
    "                        output_path='s3://{}/{}/output'.format(session.default_bucket(), prefix))\n",
    "    \n",
    "    s3_input_train = sagemaker.s3_input(s3_data=train_location, content_type='csv')\n",
    "    s3_input_validation = sagemaker.s3_input(s3_data=val_location, content_type='csv')\n",
    "    xgb_custom.fit({'train': s3_input_train, 'validation': s3_input_validation})\n",
    "    \n",
    "    predictor = xgb_custom.deploy(initial_instance_count=1, instance_type=\"ml.m4.xlarge\")\n",
    "    \n",
    "    pred = []\n",
    "    i = 0\n",
    "    payload_list = [[str(entry) for entry in row] for row in X_test.values]\n",
    "\n",
    "    for j in range(10000,len(payload_list)+10000, 10000):\n",
    "        max_idx = min(len(payload_list), j)\n",
    "        payload = '\\n'.join([','.join(row) for row in payload_list[i:j]])\n",
    "        response = session.sagemaker_runtime_client.invoke_endpoint(\n",
    "                                                        EndpointName = predictor.endpoint, #predictor.endpoint,\n",
    "                                                        ContentType = 'text/csv',\n",
    "                                                        Body = payload)\n",
    "        result = response['Body'].read().decode(\"utf-8\")\n",
    "        pred_val = ast.literal_eval(result)\n",
    "        pred = pred + pred_val\n",
    "        i = j\n",
    "    \n",
    "    asset_matrix = construct_asset_matrix(test_df, pd.DataFrame(pred))\n",
    "    mape = calculate_mape(asset_matrix)\n",
    "    result = evaluate_strategy(asset_matrix)\n",
    "    \n",
    "    session.sagemaker_client.delete_endpoint(EndpointName = predictor.endpoint)\n",
    "    \n",
    "    return test_df, pred, asset_matrix, result\n",
    "    "
   ]
  },
  {
   "cell_type": "code",
   "execution_count": 34,
   "metadata": {},
   "outputs": [],
   "source": [
    "hyperparams = {\n",
    "        \"max_depth\": \"1000\",\n",
    "        \"eta\": \"0.2\",\n",
    "        \"gamma\": \"0\",\n",
    "        \"min_child_weight\": \"1\",\n",
    "        \"subsample\": \"0.8\",\n",
    "        \"objective\": \"reg:linear\",\n",
    "        \"num_round\": \"50\",\n",
    "        \"verbosity\": \"0\",\n",
    "        \"early_stopping_rounds\": \"10\"\n",
    "}"
   ]
  },
  {
   "cell_type": "code",
   "execution_count": 35,
   "metadata": {},
   "outputs": [
    {
     "name": "stderr",
     "output_type": "stream",
     "text": [
      "'s3_input' class will be renamed to 'TrainingInput' in SageMaker Python SDK v2.\n",
      "'s3_input' class will be renamed to 'TrainingInput' in SageMaker Python SDK v2.\n"
     ]
    },
    {
     "name": "stdout",
     "output_type": "stream",
     "text": [
      "2021-01-25 14:21:29 Starting - Starting the training job......\n",
      "2021-01-25 14:22:13 Starting - Launching requested ML instances.........\n",
      "2021-01-25 14:23:33 Starting - Preparing the instances for training......\n",
      "2021-01-25 14:24:54 Downloading - Downloading input data\n",
      "2021-01-25 14:24:54 Training - Downloading the training image.....\u001b[34mINFO:sagemaker-containers:Imported framework sagemaker_xgboost_container.training\u001b[0m\n",
      "\u001b[34mINFO:sagemaker-containers:No GPUs detected (normal if no gpus installed)\u001b[0m\n",
      "\u001b[34mINFO:sagemaker_xgboost_container.training:Invoking user training script.\u001b[0m\n",
      "\u001b[34mINFO:sagemaker-containers:Module custom_xgb does not provide a setup.py. \u001b[0m\n",
      "\u001b[34mGenerating setup.py\u001b[0m\n",
      "\u001b[34mINFO:sagemaker-containers:Generating setup.cfg\u001b[0m\n",
      "\u001b[34mINFO:sagemaker-containers:Generating MANIFEST.in\u001b[0m\n",
      "\u001b[34mINFO:sagemaker-containers:Installing module with the following command:\u001b[0m\n",
      "\u001b[34m/miniconda3/bin/python -m pip install . \u001b[0m\n",
      "\u001b[34mProcessing /opt/ml/code\u001b[0m\n",
      "\u001b[34mBuilding wheels for collected packages: custom-xgb\n",
      "  Building wheel for custom-xgb (setup.py): started\n",
      "  Building wheel for custom-xgb (setup.py): finished with status 'done'\n",
      "  Created wheel for custom-xgb: filename=custom_xgb-1.0.0-py2.py3-none-any.whl size=6015 sha256=af858864de0522b60eb9c7f91a7ec4be098f21d56f8df920081bda3de11dc540\n",
      "  Stored in directory: /home/model-server/tmp/pip-ephem-wheel-cache-uuusr_0v/wheels/95/c1/85/65aaf48b35aba88c6e896d2fd04a4b69f1cee0d81ea32993ca\u001b[0m\n",
      "\u001b[34mSuccessfully built custom-xgb\u001b[0m\n",
      "\u001b[34mInstalling collected packages: custom-xgb\u001b[0m\n",
      "\u001b[34mSuccessfully installed custom-xgb-1.0.0\u001b[0m\n",
      "\u001b[34mINFO:sagemaker-containers:No GPUs detected (normal if no gpus installed)\u001b[0m\n",
      "\u001b[34mINFO:sagemaker-containers:Invoking user script\n",
      "\u001b[0m\n",
      "\u001b[34mTraining Env:\n",
      "\u001b[0m\n",
      "\u001b[34m{\n",
      "    \"additional_framework_parameters\": {},\n",
      "    \"channel_input_dirs\": {\n",
      "        \"validation\": \"/opt/ml/input/data/validation\",\n",
      "        \"train\": \"/opt/ml/input/data/train\"\n",
      "    },\n",
      "    \"current_host\": \"algo-1\",\n",
      "    \"framework_module\": \"sagemaker_xgboost_container.training:main\",\n",
      "    \"hosts\": [\n",
      "        \"algo-1\"\n",
      "    ],\n",
      "    \"hyperparameters\": {\n",
      "        \"max_depth\": \"1000\",\n",
      "        \"early_stopping_rounds\": \"10\",\n",
      "        \"objective\": \"reg:linear\",\n",
      "        \"eta\": \"0.2\",\n",
      "        \"num_round\": \"50\",\n",
      "        \"subsample\": \"0.8\",\n",
      "        \"gamma\": \"0\",\n",
      "        \"min_child_weight\": \"1\",\n",
      "        \"verbosity\": \"0\"\n",
      "    },\n",
      "    \"input_config_dir\": \"/opt/ml/input/config\",\n",
      "    \"input_data_config\": {\n",
      "        \"validation\": {\n",
      "            \"ContentType\": \"csv\",\n",
      "            \"TrainingInputMode\": \"File\",\n",
      "            \"S3DistributionType\": \"FullyReplicated\",\n",
      "            \"RecordWrapperType\": \"None\"\n",
      "        },\n",
      "        \"train\": {\n",
      "            \"ContentType\": \"csv\",\n",
      "            \"TrainingInputMode\": \"File\",\n",
      "            \"S3DistributionType\": \"FullyReplicated\",\n",
      "            \"RecordWrapperType\": \"None\"\n",
      "        }\n",
      "    },\n",
      "    \"input_dir\": \"/opt/ml/input\",\n",
      "    \"is_master\": true,\n",
      "    \"job_name\": \"sagemaker-xgboost-2021-01-25-14-21-28-595\",\n",
      "    \"log_level\": 20,\n",
      "    \"master_hostname\": \"algo-1\",\n",
      "    \"model_dir\": \"/opt/ml/model\",\n",
      "    \"module_dir\": \"s3://sagemaker-us-east-2-937637726599/sagemaker-xgboost-2021-01-25-14-21-28-595/source/sourcedir.tar.gz\",\n",
      "    \"module_name\": \"custom_xgb\",\n",
      "    \"network_interface_name\": \"eth0\",\n",
      "    \"num_cpus\": 4,\n",
      "    \"num_gpus\": 0,\n",
      "    \"output_data_dir\": \"/opt/ml/output/data\",\n",
      "    \"output_dir\": \"/opt/ml/output\",\n",
      "    \"output_intermediate_dir\": \"/opt/ml/output/intermediate\",\n",
      "    \"resource_config\": {\n",
      "        \"current_host\": \"algo-1\",\n",
      "        \"hosts\": [\n",
      "            \"algo-1\"\n",
      "        ],\n",
      "        \"network_interface_name\": \"eth0\"\n",
      "    },\n",
      "    \"user_entry_point\": \"custom_xgb.py\"\u001b[0m\n",
      "\u001b[34m}\n",
      "\u001b[0m\n",
      "\u001b[34mEnvironment variables:\n",
      "\u001b[0m\n",
      "\u001b[34mSM_HOSTS=[\"algo-1\"]\u001b[0m\n",
      "\u001b[34mSM_NETWORK_INTERFACE_NAME=eth0\u001b[0m\n",
      "\u001b[34mSM_HPS={\"early_stopping_rounds\":\"10\",\"eta\":\"0.2\",\"gamma\":\"0\",\"max_depth\":\"1000\",\"min_child_weight\":\"1\",\"num_round\":\"50\",\"objective\":\"reg:linear\",\"subsample\":\"0.8\",\"verbosity\":\"0\"}\u001b[0m\n",
      "\u001b[34mSM_USER_ENTRY_POINT=custom_xgb.py\u001b[0m\n",
      "\u001b[34mSM_FRAMEWORK_PARAMS={}\u001b[0m\n",
      "\u001b[34mSM_RESOURCE_CONFIG={\"current_host\":\"algo-1\",\"hosts\":[\"algo-1\"],\"network_interface_name\":\"eth0\"}\u001b[0m\n",
      "\u001b[34mSM_INPUT_DATA_CONFIG={\"train\":{\"ContentType\":\"csv\",\"RecordWrapperType\":\"None\",\"S3DistributionType\":\"FullyReplicated\",\"TrainingInputMode\":\"File\"},\"validation\":{\"ContentType\":\"csv\",\"RecordWrapperType\":\"None\",\"S3DistributionType\":\"FullyReplicated\",\"TrainingInputMode\":\"File\"}}\u001b[0m\n",
      "\u001b[34mSM_OUTPUT_DATA_DIR=/opt/ml/output/data\u001b[0m\n",
      "\u001b[34mSM_CHANNELS=[\"train\",\"validation\"]\u001b[0m\n",
      "\u001b[34mSM_CURRENT_HOST=algo-1\u001b[0m\n",
      "\u001b[34mSM_MODULE_NAME=custom_xgb\u001b[0m\n",
      "\u001b[34mSM_LOG_LEVEL=20\u001b[0m\n",
      "\u001b[34mSM_FRAMEWORK_MODULE=sagemaker_xgboost_container.training:main\u001b[0m\n",
      "\u001b[34mSM_INPUT_DIR=/opt/ml/input\u001b[0m\n",
      "\u001b[34mSM_INPUT_CONFIG_DIR=/opt/ml/input/config\u001b[0m\n",
      "\u001b[34mSM_OUTPUT_DIR=/opt/ml/output\u001b[0m\n",
      "\u001b[34mSM_NUM_CPUS=4\u001b[0m\n",
      "\u001b[34mSM_NUM_GPUS=0\u001b[0m\n",
      "\u001b[34mSM_MODEL_DIR=/opt/ml/model\u001b[0m\n",
      "\u001b[34mSM_MODULE_DIR=s3://sagemaker-us-east-2-937637726599/sagemaker-xgboost-2021-01-25-14-21-28-595/source/sourcedir.tar.gz\u001b[0m\n",
      "\u001b[34mSM_TRAINING_ENV={\"additional_framework_parameters\":{},\"channel_input_dirs\":{\"train\":\"/opt/ml/input/data/train\",\"validation\":\"/opt/ml/input/data/validation\"},\"current_host\":\"algo-1\",\"framework_module\":\"sagemaker_xgboost_container.training:main\",\"hosts\":[\"algo-1\"],\"hyperparameters\":{\"early_stopping_rounds\":\"10\",\"eta\":\"0.2\",\"gamma\":\"0\",\"max_depth\":\"1000\",\"min_child_weight\":\"1\",\"num_round\":\"50\",\"objective\":\"reg:linear\",\"subsample\":\"0.8\",\"verbosity\":\"0\"},\"input_config_dir\":\"/opt/ml/input/config\",\"input_data_config\":{\"train\":{\"ContentType\":\"csv\",\"RecordWrapperType\":\"None\",\"S3DistributionType\":\"FullyReplicated\",\"TrainingInputMode\":\"File\"},\"validation\":{\"ContentType\":\"csv\",\"RecordWrapperType\":\"None\",\"S3DistributionType\":\"FullyReplicated\",\"TrainingInputMode\":\"File\"}},\"input_dir\":\"/opt/ml/input\",\"is_master\":true,\"job_name\":\"sagemaker-xgboost-2021-01-25-14-21-28-595\",\"log_level\":20,\"master_hostname\":\"algo-1\",\"model_dir\":\"/opt/ml/model\",\"module_dir\":\"s3://sagemaker-us-east-2-937637726599/sagemaker-xgboost-2021-01-25-14-21-28-595/source/sourcedir.tar.gz\",\"module_name\":\"custom_xgb\",\"network_interface_name\":\"eth0\",\"num_cpus\":4,\"num_gpus\":0,\"output_data_dir\":\"/opt/ml/output/data\",\"output_dir\":\"/opt/ml/output\",\"output_intermediate_dir\":\"/opt/ml/output/intermediate\",\"resource_config\":{\"current_host\":\"algo-1\",\"hosts\":[\"algo-1\"],\"network_interface_name\":\"eth0\"},\"user_entry_point\":\"custom_xgb.py\"}\u001b[0m\n",
      "\u001b[34mSM_USER_ARGS=[\"--early_stopping_rounds\",\"10\",\"--eta\",\"0.2\",\"--gamma\",\"0\",\"--max_depth\",\"1000\",\"--min_child_weight\",\"1\",\"--num_round\",\"50\",\"--objective\",\"reg:linear\",\"--subsample\",\"0.8\",\"--verbosity\",\"0\"]\u001b[0m\n",
      "\u001b[34mSM_OUTPUT_INTERMEDIATE_DIR=/opt/ml/output/intermediate\u001b[0m\n",
      "\u001b[34mSM_CHANNEL_VALIDATION=/opt/ml/input/data/validation\u001b[0m\n",
      "\u001b[34mSM_CHANNEL_TRAIN=/opt/ml/input/data/train\u001b[0m\n",
      "\u001b[34mSM_HP_MAX_DEPTH=1000\u001b[0m\n",
      "\u001b[34mSM_HP_EARLY_STOPPING_ROUNDS=10\u001b[0m\n",
      "\u001b[34mSM_HP_OBJECTIVE=reg:linear\u001b[0m\n",
      "\u001b[34mSM_HP_ETA=0.2\u001b[0m\n",
      "\u001b[34mSM_HP_NUM_ROUND=50\u001b[0m\n",
      "\u001b[34mSM_HP_SUBSAMPLE=0.8\u001b[0m\n",
      "\u001b[34mSM_HP_GAMMA=0\u001b[0m\n",
      "\u001b[34mSM_HP_MIN_CHILD_WEIGHT=1\u001b[0m\n",
      "\u001b[34mSM_HP_VERBOSITY=0\u001b[0m\n",
      "\u001b[34mPYTHONPATH=/miniconda3/bin:/:/miniconda3/lib/python3.6/site-packages/xgboost/dmlc-core/tracker:/miniconda3/lib/python36.zip:/miniconda3/lib/python3.6:/miniconda3/lib/python3.6/lib-dynload:/miniconda3/lib/python3.6/site-packages\n",
      "\u001b[0m\n",
      "\u001b[34mInvoking script with the following command:\n",
      "\u001b[0m\n",
      "\u001b[34m/miniconda3/bin/python -m custom_xgb --early_stopping_rounds 10 --eta 0.2 --gamma 0 --max_depth 1000 --min_child_weight 1 --num_round 50 --objective reg:linear --subsample 0.8 --verbosity 0\n",
      "\n",
      "\u001b[0m\n",
      "\u001b[34m[14:25:37] 5125x29 matrix with 148625 entries loaded from /opt/ml/input/data/train?format=csv&label_column=0&delimiter=,\u001b[0m\n",
      "\u001b[34m[14:25:37] 5091x29 matrix with 147639 entries loaded from /opt/ml/input/data/validation?format=csv&label_column=0&delimiter=,\u001b[0m\n",
      "\u001b[34m[14:25:37] WARNING: /workspace/src/objective/regression_obj.cu:167: reg:linear is now deprecated in favor of reg:squarederror.\u001b[0m\n",
      "\u001b[34m[14:25:37] WARNING: /workspace/src/learner.cc:328: \u001b[0m\n",
      "\u001b[34mParameters: { early_stopping_rounds } might not be used.\n",
      "\n",
      "  This may not be accurate due to some parameters are only used in language bindings but\n",
      "  passed down to XGBoost core.  Or some parameters are not used but slip through this\n",
      "  verification. Please open an issue if you find above cases.\n",
      "\n",
      "\u001b[0m\n",
      "\u001b[34m[0]#011train-mape:0.71078#011validation-mape:1.11585\u001b[0m\n",
      "\u001b[34m[1]#011train-mape:0.56982#011validation-mape:1.15473\u001b[0m\n",
      "\u001b[34m[2]#011train-mape:0.45658#011validation-mape:1.21729\u001b[0m\n",
      "\u001b[34m[3]#011train-mape:0.36606#011validation-mape:1.28066\u001b[0m\n",
      "\u001b[34m[4]#011train-mape:0.29370#011validation-mape:1.33444\u001b[0m\n",
      "\u001b[34m[5]#011train-mape:0.23566#011validation-mape:1.36402\u001b[0m\n",
      "\u001b[34m[6]#011train-mape:0.18967#011validation-mape:1.33444\u001b[0m\n",
      "\u001b[34m[7]#011train-mape:0.15336#011validation-mape:1.36876\u001b[0m\n",
      "\u001b[34m[8]#011train-mape:0.12460#011validation-mape:1.39085\u001b[0m\n",
      "\u001b[34m[9]#011train-mape:0.10136#011validation-mape:1.38469\u001b[0m\n",
      "\u001b[34m[10]#011train-mape:0.08272#011validation-mape:1.38208\u001b[0m\n",
      "\u001b[34m[11]#011train-mape:0.06809#011validation-mape:1.36846\u001b[0m\n",
      "\u001b[34m[12]#011train-mape:0.05611#011validation-mape:1.37739\u001b[0m\n",
      "\u001b[34m[13]#011train-mape:0.04661#011validation-mape:1.37437\u001b[0m\n",
      "\u001b[34m[14]#011train-mape:0.03890#011validation-mape:1.38088\u001b[0m\n",
      "\u001b[34m[15]#011train-mape:0.03262#011validation-mape:1.38175\u001b[0m\n",
      "\u001b[34m[16]#011train-mape:0.02738#011validation-mape:1.37646\u001b[0m\n",
      "\u001b[34m[17]#011train-mape:0.02310#011validation-mape:1.39055\u001b[0m\n",
      "\u001b[34m[18]#011train-mape:0.01967#011validation-mape:1.39542\u001b[0m\n",
      "\u001b[34m[19]#011train-mape:0.01681#011validation-mape:1.39596\u001b[0m\n",
      "\u001b[34m[20]#011train-mape:0.01435#011validation-mape:1.38309\u001b[0m\n",
      "\u001b[34m[21]#011train-mape:0.01235#011validation-mape:1.38615\u001b[0m\n",
      "\u001b[34m[22]#011train-mape:0.01063#011validation-mape:1.37845\u001b[0m\n",
      "\u001b[34m[23]#011train-mape:0.00921#011validation-mape:1.37868\u001b[0m\n",
      "\u001b[34m[24]#011train-mape:0.00804#011validation-mape:1.38488\u001b[0m\n",
      "\u001b[34m[25]#011train-mape:0.00704#011validation-mape:1.39711\u001b[0m\n",
      "\u001b[34m[26]#011train-mape:0.00621#011validation-mape:1.40283\u001b[0m\n",
      "\u001b[34m[27]#011train-mape:0.00550#011validation-mape:1.40382\u001b[0m\n",
      "\u001b[34m[28]#011train-mape:0.00487#011validation-mape:1.40116\u001b[0m\n",
      "\u001b[34m[29]#011train-mape:0.00433#011validation-mape:1.35356\u001b[0m\n",
      "\u001b[34m[30]#011train-mape:0.00384#011validation-mape:1.35735\u001b[0m\n",
      "\u001b[34m[31]#011train-mape:0.00343#011validation-mape:1.36279\u001b[0m\n",
      "\u001b[34m[32]#011train-mape:0.00308#011validation-mape:1.36258\u001b[0m\n",
      "\u001b[34m[33]#011train-mape:0.00294#011validation-mape:1.37355\u001b[0m\n",
      "\u001b[34m[34]#011train-mape:0.00263#011validation-mape:1.37356\u001b[0m\n",
      "\u001b[34m[35]#011train-mape:0.00236#011validation-mape:1.37251\u001b[0m\n",
      "\u001b[34m[36]#011train-mape:0.00232#011validation-mape:1.38137\u001b[0m\n",
      "\u001b[34m[37]#011train-mape:0.00209#011validation-mape:1.37965\u001b[0m\n",
      "\u001b[34m[38]#011train-mape:0.00204#011validation-mape:1.38610\u001b[0m\n",
      "\u001b[34m[39]#011train-mape:0.00184#011validation-mape:1.38396\u001b[0m\n",
      "\u001b[34m[40]#011train-mape:0.00172#011validation-mape:1.38792\u001b[0m\n",
      "\u001b[34m[41]#011train-mape:0.00155#011validation-mape:1.38678\u001b[0m\n",
      "\u001b[34m[42]#011train-mape:0.00140#011validation-mape:1.38647\u001b[0m\n",
      "\u001b[34m[43]#011train-mape:0.00127#011validation-mape:1.38499\u001b[0m\n",
      "\u001b[34m[44]#011train-mape:0.00118#011validation-mape:1.38691\u001b[0m\n",
      "\u001b[34m[45]#011train-mape:0.00114#011validation-mape:1.39294\u001b[0m\n",
      "\u001b[34m[46]#011train-mape:0.00106#011validation-mape:1.63184\u001b[0m\n",
      "\u001b[34m[47]#011train-mape:0.00096#011validation-mape:1.63257\u001b[0m\n",
      "\u001b[34m[48]#011train-mape:0.00087#011validation-mape:1.62981\u001b[0m\n",
      "\u001b[34m[49]#011train-mape:0.00080#011validation-mape:1.63251\u001b[0m\n",
      "\n",
      "2021-01-25 14:25:50 Uploading - Uploading generated training model\n",
      "2021-01-25 14:25:50 Completed - Training job completed\n"
     ]
    },
    {
     "name": "stderr",
     "output_type": "stream",
     "text": [
      "Parameter image will be renamed to image_uri in SageMaker Python SDK v2.\n"
     ]
    },
    {
     "name": "stdout",
     "output_type": "stream",
     "text": [
      "Training seconds: 77\n",
      "Billable seconds: 77\n",
      "---------------!MAPE: 69.0077\n"
     ]
    },
    {
     "name": "stderr",
     "output_type": "stream",
     "text": [
      "/home/ec2-user/anaconda3/envs/amazonei_mxnet_p36/lib/python3.6/site-packages/ipykernel/__main__.py:55: RuntimeWarning: divide by zero encountered in double_scalars\n"
     ]
    },
    {
     "name": "stdout",
     "output_type": "stream",
     "text": [
      "Cumulative Returns: -3.95e+01%, Sharpe Ratio: 0.0355\n"
     ]
    }
   ],
   "source": [
    "xgb_w7 = run_xgboost_model(w=7, \n",
    "                          hyperparams=hyperparams, \n",
    "                          prefix='xgb-w7', \n",
    "                          data_dir='./data', \n",
    "                          data_df=data_df)"
   ]
  },
  {
   "cell_type": "code",
   "execution_count": 36,
   "metadata": {},
   "outputs": [
    {
     "data": {
      "image/png": "[encoded data removed]",
      "text/plain": [
       "<Figure size 720x360 with 1 Axes>"
      ]
     },
     "metadata": {
      "needs_background": "light"
     },
     "output_type": "display_data"
    }
   ],
   "source": [
    "plot_predicted_vs_actual(xgb_w7[2], 'XRP')"
   ]
  },
  {
   "cell_type": "code",
   "execution_count": 37,
   "metadata": {},
   "outputs": [
    {
     "name": "stderr",
     "output_type": "stream",
     "text": [
      "'s3_input' class will be renamed to 'TrainingInput' in SageMaker Python SDK v2.\n",
      "'s3_input' class will be renamed to 'TrainingInput' in SageMaker Python SDK v2.\n"
     ]
    },
    {
     "name": "stdout",
     "output_type": "stream",
     "text": [
      "2021-01-25 14:33:57 Starting - Starting the training job...\n",
      "2021-01-25 14:34:00 Starting - Launching requested ML instances......\n",
      "2021-01-25 14:35:04 Starting - Preparing the instances for training...\n",
      "2021-01-25 14:35:57 Downloading - Downloading input data......\n",
      "2021-01-25 14:36:56 Training - Training image download completed. Training in progress..\u001b[34mINFO:sagemaker-containers:Imported framework sagemaker_xgboost_container.training\u001b[0m\n",
      "\u001b[34mINFO:sagemaker-containers:No GPUs detected (normal if no gpus installed)\u001b[0m\n",
      "\u001b[34mINFO:sagemaker_xgboost_container.training:Invoking user training script.\u001b[0m\n",
      "\u001b[34mINFO:sagemaker-containers:Module custom_xgb does not provide a setup.py. \u001b[0m\n",
      "\u001b[34mGenerating setup.py\u001b[0m\n",
      "\u001b[34mINFO:sagemaker-containers:Generating setup.cfg\u001b[0m\n",
      "\u001b[34mINFO:sagemaker-containers:Generating MANIFEST.in\u001b[0m\n",
      "\u001b[34mINFO:sagemaker-containers:Installing module with the following command:\u001b[0m\n",
      "\u001b[34m/miniconda3/bin/python -m pip install . \u001b[0m\n",
      "\u001b[34mProcessing /opt/ml/code\u001b[0m\n",
      "\u001b[34mBuilding wheels for collected packages: custom-xgb\n",
      "  Building wheel for custom-xgb (setup.py): started\n",
      "  Building wheel for custom-xgb (setup.py): finished with status 'done'\n",
      "  Created wheel for custom-xgb: filename=custom_xgb-1.0.0-py2.py3-none-any.whl size=6015 sha256=d482fe82afc4f696b9caa90f4ec35e104971d420a723c3a10f153a41cadcc352\n",
      "  Stored in directory: /home/model-server/tmp/pip-ephem-wheel-cache-whm033n5/wheels/95/c1/85/65aaf48b35aba88c6e896d2fd04a4b69f1cee0d81ea32993ca\u001b[0m\n",
      "\u001b[34mSuccessfully built custom-xgb\u001b[0m\n",
      "\u001b[34mInstalling collected packages: custom-xgb\u001b[0m\n",
      "\u001b[34mSuccessfully installed custom-xgb-1.0.0\u001b[0m\n",
      "\u001b[34mINFO:sagemaker-containers:No GPUs detected (normal if no gpus installed)\u001b[0m\n",
      "\u001b[34mINFO:sagemaker-containers:Invoking user script\n",
      "\u001b[0m\n",
      "\u001b[34mTraining Env:\n",
      "\u001b[0m\n",
      "\u001b[34m{\n",
      "    \"additional_framework_parameters\": {},\n",
      "    \"channel_input_dirs\": {\n",
      "        \"validation\": \"/opt/ml/input/data/validation\",\n",
      "        \"train\": \"/opt/ml/input/data/train\"\n",
      "    },\n",
      "    \"current_host\": \"algo-1\",\n",
      "    \"framework_module\": \"sagemaker_xgboost_container.training:main\",\n",
      "    \"hosts\": [\n",
      "        \"algo-1\"\n",
      "    ],\n",
      "    \"hyperparameters\": {\n",
      "        \"max_depth\": \"1000\",\n",
      "        \"early_stopping_rounds\": \"10\",\n",
      "        \"objective\": \"reg:linear\",\n",
      "        \"eta\": \"0.2\",\n",
      "        \"num_round\": \"50\",\n",
      "        \"subsample\": \"0.8\",\n",
      "        \"gamma\": \"0\",\n",
      "        \"min_child_weight\": \"1\",\n",
      "        \"verbosity\": \"0\"\n",
      "    },\n",
      "    \"input_config_dir\": \"/opt/ml/input/config\",\n",
      "    \"input_data_config\": {\n",
      "        \"validation\": {\n",
      "            \"ContentType\": \"csv\",\n",
      "            \"TrainingInputMode\": \"File\",\n",
      "            \"S3DistributionType\": \"FullyReplicated\",\n",
      "            \"RecordWrapperType\": \"None\"\n",
      "        },\n",
      "        \"train\": {\n",
      "            \"ContentType\": \"csv\",\n",
      "            \"TrainingInputMode\": \"File\",\n",
      "            \"S3DistributionType\": \"FullyReplicated\",\n",
      "            \"RecordWrapperType\": \"None\"\n",
      "        }\n",
      "    },\n",
      "    \"input_dir\": \"/opt/ml/input\",\n",
      "    \"is_master\": true,\n",
      "    \"job_name\": \"sagemaker-xgboost-2021-01-25-14-33-57-574\",\n",
      "    \"log_level\": 20,\n",
      "    \"master_hostname\": \"algo-1\",\n",
      "    \"model_dir\": \"/opt/ml/model\",\n",
      "    \"module_dir\": \"s3://sagemaker-us-east-2-937637726599/sagemaker-xgboost-2021-01-25-14-33-57-574/source/sourcedir.tar.gz\",\n",
      "    \"module_name\": \"custom_xgb\",\n",
      "    \"network_interface_name\": \"eth0\",\n",
      "    \"num_cpus\": 4,\n",
      "    \"num_gpus\": 0,\n",
      "    \"output_data_dir\": \"/opt/ml/output/data\",\n",
      "    \"output_dir\": \"/opt/ml/output\",\n",
      "    \"output_intermediate_dir\": \"/opt/ml/output/intermediate\",\n",
      "    \"resource_config\": {\n",
      "        \"current_host\": \"algo-1\",\n",
      "        \"hosts\": [\n",
      "            \"algo-1\"\n",
      "        ],\n",
      "        \"network_interface_name\": \"eth0\"\n",
      "    },\n",
      "    \"user_entry_point\": \"custom_xgb.py\"\u001b[0m\n",
      "\u001b[34m}\n",
      "\u001b[0m\n",
      "\u001b[34mEnvironment variables:\n",
      "\u001b[0m\n",
      "\u001b[34mSM_HOSTS=[\"algo-1\"]\u001b[0m\n",
      "\u001b[34mSM_NETWORK_INTERFACE_NAME=eth0\u001b[0m\n",
      "\u001b[34mSM_HPS={\"early_stopping_rounds\":\"10\",\"eta\":\"0.2\",\"gamma\":\"0\",\"max_depth\":\"1000\",\"min_child_weight\":\"1\",\"num_round\":\"50\",\"objective\":\"reg:linear\",\"subsample\":\"0.8\",\"verbosity\":\"0\"}\u001b[0m\n",
      "\u001b[34mSM_USER_ENTRY_POINT=custom_xgb.py\u001b[0m\n",
      "\u001b[34mSM_FRAMEWORK_PARAMS={}\u001b[0m\n",
      "\u001b[34mSM_RESOURCE_CONFIG={\"current_host\":\"algo-1\",\"hosts\":[\"algo-1\"],\"network_interface_name\":\"eth0\"}\u001b[0m\n",
      "\u001b[34mSM_INPUT_DATA_CONFIG={\"train\":{\"ContentType\":\"csv\",\"RecordWrapperType\":\"None\",\"S3DistributionType\":\"FullyReplicated\",\"TrainingInputMode\":\"File\"},\"validation\":{\"ContentType\":\"csv\",\"RecordWrapperType\":\"None\",\"S3DistributionType\":\"FullyReplicated\",\"TrainingInputMode\":\"File\"}}\u001b[0m\n",
      "\u001b[34mSM_OUTPUT_DATA_DIR=/opt/ml/output/data\u001b[0m\n",
      "\u001b[34mSM_CHANNELS=[\"train\",\"validation\"]\u001b[0m\n",
      "\u001b[34mSM_CURRENT_HOST=algo-1\u001b[0m\n",
      "\u001b[34mSM_MODULE_NAME=custom_xgb\u001b[0m\n",
      "\u001b[34mSM_LOG_LEVEL=20\u001b[0m\n",
      "\u001b[34mSM_FRAMEWORK_MODULE=sagemaker_xgboost_container.training:main\u001b[0m\n",
      "\u001b[34mSM_INPUT_DIR=/opt/ml/input\u001b[0m\n",
      "\u001b[34mSM_INPUT_CONFIG_DIR=/opt/ml/input/config\u001b[0m\n",
      "\u001b[34mSM_OUTPUT_DIR=/opt/ml/output\u001b[0m\n",
      "\u001b[34mSM_NUM_CPUS=4\u001b[0m\n",
      "\u001b[34mSM_NUM_GPUS=0\u001b[0m\n",
      "\u001b[34mSM_MODEL_DIR=/opt/ml/model\u001b[0m\n",
      "\u001b[34mSM_MODULE_DIR=s3://sagemaker-us-east-2-937637726599/sagemaker-xgboost-2021-01-25-14-33-57-574/source/sourcedir.tar.gz\u001b[0m\n",
      "\u001b[34mSM_TRAINING_ENV={\"additional_framework_parameters\":{},\"channel_input_dirs\":{\"train\":\"/opt/ml/input/data/train\",\"validation\":\"/opt/ml/input/data/validation\"},\"current_host\":\"algo-1\",\"framework_module\":\"sagemaker_xgboost_container.training:main\",\"hosts\":[\"algo-1\"],\"hyperparameters\":{\"early_stopping_rounds\":\"10\",\"eta\":\"0.2\",\"gamma\":\"0\",\"max_depth\":\"1000\",\"min_child_weight\":\"1\",\"num_round\":\"50\",\"objective\":\"reg:linear\",\"subsample\":\"0.8\",\"verbosity\":\"0\"},\"input_config_dir\":\"/opt/ml/input/config\",\"input_data_config\":{\"train\":{\"ContentType\":\"csv\",\"RecordWrapperType\":\"None\",\"S3DistributionType\":\"FullyReplicated\",\"TrainingInputMode\":\"File\"},\"validation\":{\"ContentType\":\"csv\",\"RecordWrapperType\":\"None\",\"S3DistributionType\":\"FullyReplicated\",\"TrainingInputMode\":\"File\"}},\"input_dir\":\"/opt/ml/input\",\"is_master\":true,\"job_name\":\"sagemaker-xgboost-2021-01-25-14-33-57-574\",\"log_level\":20,\"master_hostname\":\"algo-1\",\"model_dir\":\"/opt/ml/model\",\"module_dir\":\"s3://sagemaker-us-east-2-937637726599/sagemaker-xgboost-2021-01-25-14-33-57-574/source/sourcedir.tar.gz\",\"module_name\":\"custom_xgb\",\"network_interface_name\":\"eth0\",\"num_cpus\":4,\"num_gpus\":0,\"output_data_dir\":\"/opt/ml/output/data\",\"output_dir\":\"/opt/ml/output\",\"output_intermediate_dir\":\"/opt/ml/output/intermediate\",\"resource_config\":{\"current_host\":\"algo-1\",\"hosts\":[\"algo-1\"],\"network_interface_name\":\"eth0\"},\"user_entry_point\":\"custom_xgb.py\"}\u001b[0m\n",
      "\u001b[34mSM_USER_ARGS=[\"--early_stopping_rounds\",\"10\",\"--eta\",\"0.2\",\"--gamma\",\"0\",\"--max_depth\",\"1000\",\"--min_child_weight\",\"1\",\"--num_round\",\"50\",\"--objective\",\"reg:linear\",\"--subsample\",\"0.8\",\"--verbosity\",\"0\"]\u001b[0m\n",
      "\u001b[34mSM_OUTPUT_INTERMEDIATE_DIR=/opt/ml/output/intermediate\u001b[0m\n",
      "\u001b[34mSM_CHANNEL_VALIDATION=/opt/ml/input/data/validation\u001b[0m\n",
      "\u001b[34mSM_CHANNEL_TRAIN=/opt/ml/input/data/train\u001b[0m\n",
      "\u001b[34mSM_HP_MAX_DEPTH=1000\u001b[0m\n",
      "\u001b[34mSM_HP_EARLY_STOPPING_ROUNDS=10\u001b[0m\n",
      "\u001b[34mSM_HP_OBJECTIVE=reg:linear\u001b[0m\n",
      "\u001b[34mSM_HP_ETA=0.2\u001b[0m\n",
      "\u001b[34mSM_HP_NUM_ROUND=50\u001b[0m\n",
      "\u001b[34mSM_HP_SUBSAMPLE=0.8\u001b[0m\n",
      "\u001b[34mSM_HP_GAMMA=0\u001b[0m\n",
      "\u001b[34mSM_HP_MIN_CHILD_WEIGHT=1\u001b[0m\n",
      "\u001b[34mSM_HP_VERBOSITY=0\u001b[0m\n",
      "\u001b[34mPYTHONPATH=/miniconda3/bin:/:/miniconda3/lib/python3.6/site-packages/xgboost/dmlc-core/tracker:/miniconda3/lib/python36.zip:/miniconda3/lib/python3.6:/miniconda3/lib/python3.6/lib-dynload:/miniconda3/lib/python3.6/site-packages\n",
      "\u001b[0m\n",
      "\u001b[34mInvoking script with the following command:\n",
      "\u001b[0m\n",
      "\u001b[34m/miniconda3/bin/python -m custom_xgb --early_stopping_rounds 10 --eta 0.2 --gamma 0 --max_depth 1000 --min_child_weight 1 --num_round 50 --objective reg:linear --subsample 0.8 --verbosity 0\n",
      "\n",
      "\u001b[0m\n",
      "\u001b[34m[14:37:02] 5125x29 matrix with 148625 entries loaded from /opt/ml/input/data/train?format=csv&label_column=0&delimiter=,\u001b[0m\n",
      "\u001b[34m[14:37:02] 5091x29 matrix with 147639 entries loaded from /opt/ml/input/data/validation?format=csv&label_column=0&delimiter=,\u001b[0m\n",
      "\u001b[34m[14:37:02] WARNING: /workspace/src/objective/regression_obj.cu:167: reg:linear is now deprecated in favor of reg:squarederror.\u001b[0m\n",
      "\u001b[34m[14:37:02] WARNING: /workspace/src/learner.cc:328: \u001b[0m\n",
      "\u001b[34mParameters: { early_stopping_rounds } might not be used.\n",
      "\n",
      "  This may not be accurate due to some parameters are only used in language bindings but\n",
      "  passed down to XGBoost core.  Or some parameters are not used but slip through this\n",
      "  verification. Please open an issue if you find above cases.\n",
      "\n",
      "\u001b[0m\n",
      "\u001b[34m[0]#011train-mape:0.71076#011validation-mape:1.04778\u001b[0m\n",
      "\u001b[34m[1]#011train-mape:0.56983#011validation-mape:1.09134\u001b[0m\n",
      "\u001b[34m[2]#011train-mape:0.45682#011validation-mape:1.16807\u001b[0m\n",
      "\u001b[34m[3]#011train-mape:0.36611#011validation-mape:1.21462\u001b[0m\n",
      "\u001b[34m[4]#011train-mape:0.29355#011validation-mape:1.24500\u001b[0m\n",
      "\u001b[34m[5]#011train-mape:0.23567#011validation-mape:1.28957\u001b[0m\n",
      "\u001b[34m[6]#011train-mape:0.18990#011validation-mape:1.32699\u001b[0m\n",
      "\u001b[34m[7]#011train-mape:0.15348#011validation-mape:1.35286\u001b[0m\n",
      "\u001b[34m[8]#011train-mape:0.12471#011validation-mape:1.38000\u001b[0m\n",
      "\u001b[34m[9]#011train-mape:0.10134#011validation-mape:1.40488\u001b[0m\n",
      "\u001b[34m[10]#011train-mape:0.08277#011validation-mape:1.41278\u001b[0m\n",
      "\u001b[34m[11]#011train-mape:0.06816#011validation-mape:1.40569\u001b[0m\n",
      "\u001b[34m[12]#011train-mape:0.05619#011validation-mape:1.40692\u001b[0m\n",
      "\u001b[34m[13]#011train-mape:0.04666#011validation-mape:1.40393\u001b[0m\n",
      "\u001b[34m[14]#011train-mape:0.03903#011validation-mape:1.40194\u001b[0m\n",
      "\u001b[34m[15]#011train-mape:0.03272#011validation-mape:1.40481\u001b[0m\n",
      "\u001b[34m[16]#011train-mape:0.02755#011validation-mape:1.40686\u001b[0m\n",
      "\u001b[34m[17]#011train-mape:0.02329#011validation-mape:1.40496\u001b[0m\n",
      "\u001b[34m[18]#011train-mape:0.01979#011validation-mape:1.40730\u001b[0m\n",
      "\u001b[34m[19]#011train-mape:0.01692#011validation-mape:1.43248\u001b[0m\n",
      "\u001b[34m[20]#011train-mape:0.01454#011validation-mape:1.43260\u001b[0m\n",
      "\u001b[34m[21]#011train-mape:0.01250#011validation-mape:1.43624\u001b[0m\n",
      "\u001b[34m[22]#011train-mape:0.01086#011validation-mape:1.43281\u001b[0m\n",
      "\u001b[34m[23]#011train-mape:0.00944#011validation-mape:1.49195\u001b[0m\n",
      "\u001b[34m[24]#011train-mape:0.00822#011validation-mape:1.49594\u001b[0m\n",
      "\u001b[34m[25]#011train-mape:0.00721#011validation-mape:1.45487\u001b[0m\n",
      "\u001b[34m[26]#011train-mape:0.00633#011validation-mape:1.45623\u001b[0m\n",
      "\u001b[34m[27]#011train-mape:0.00559#011validation-mape:1.44258\u001b[0m\n",
      "\u001b[34m[28]#011train-mape:0.00495#011validation-mape:1.39303\u001b[0m\n",
      "\u001b[34m[29]#011train-mape:0.00440#011validation-mape:1.40786\u001b[0m\n",
      "\u001b[34m[30]#011train-mape:0.00391#011validation-mape:1.40820\u001b[0m\n",
      "\u001b[34m[31]#011train-mape:0.00347#011validation-mape:1.37131\u001b[0m\n",
      "\u001b[34m[32]#011train-mape:0.00311#011validation-mape:1.37239\u001b[0m\n",
      "\u001b[34m[33]#011train-mape:0.00279#011validation-mape:1.37208\u001b[0m\n",
      "\u001b[34m[34]#011train-mape:0.00251#011validation-mape:1.37045\u001b[0m\n",
      "\u001b[34m[35]#011train-mape:0.00227#011validation-mape:1.37700\u001b[0m\n",
      "\u001b[34m[36]#011train-mape:0.00216#011validation-mape:1.38022\u001b[0m\n",
      "\u001b[34m[37]#011train-mape:0.00195#011validation-mape:1.37459\u001b[0m\n",
      "\u001b[34m[38]#011train-mape:0.00259#011validation-mape:1.38905\u001b[0m\n",
      "\u001b[34m[39]#011train-mape:0.00232#011validation-mape:1.38401\u001b[0m\n",
      "\u001b[34m[40]#011train-mape:0.00209#011validation-mape:1.38459\u001b[0m\n",
      "\u001b[34m[41]#011train-mape:0.00187#011validation-mape:1.37752\u001b[0m\n",
      "\u001b[34m[42]#011train-mape:0.00168#011validation-mape:1.39247\u001b[0m\n",
      "\u001b[34m[43]#011train-mape:0.00152#011validation-mape:1.39873\u001b[0m\n",
      "\u001b[34m[44]#011train-mape:0.00138#011validation-mape:1.39730\u001b[0m\n",
      "\u001b[34m[45]#011train-mape:0.00117#011validation-mape:1.39233\u001b[0m\n",
      "\u001b[34m[46]#011train-mape:0.00111#011validation-mape:1.39407\u001b[0m\n",
      "\u001b[34m[47]#011train-mape:0.00107#011validation-mape:1.39685\u001b[0m\n",
      "\u001b[34m[48]#011train-mape:0.00097#011validation-mape:1.39702\u001b[0m\n",
      "\u001b[34m[49]#011train-mape:0.00089#011validation-mape:1.40777\u001b[0m\n",
      "\n",
      "2021-01-25 14:37:20 Uploading - Uploading generated training model\n",
      "2021-01-25 14:37:20 Completed - Training job completed\n"
     ]
    },
    {
     "name": "stderr",
     "output_type": "stream",
     "text": [
      "Parameter image will be renamed to image_uri in SageMaker Python SDK v2.\n"
     ]
    },
    {
     "name": "stdout",
     "output_type": "stream",
     "text": [
      "Training seconds: 83\n",
      "Billable seconds: 83\n",
      "-----------------!MAPE: 943.4154\n"
     ]
    },
    {
     "name": "stderr",
     "output_type": "stream",
     "text": [
      "/home/ec2-user/anaconda3/envs/amazonei_mxnet_p36/lib/python3.6/site-packages/ipykernel/__main__.py:55: RuntimeWarning: divide by zero encountered in double_scalars\n"
     ]
    },
    {
     "name": "stdout",
     "output_type": "stream",
     "text": [
      "Cumulative Returns: 2.14e+02%, Sharpe Ratio: 0.0803\n"
     ]
    }
   ],
   "source": [
    "xgb_w10 = run_xgboost_model(w=10, \n",
    "                          hyperparams=hyperparams, \n",
    "                          prefix='xgb-w10', \n",
    "                          data_dir='./data', \n",
    "                          data_df=data_df)"
   ]
  },
  {
   "cell_type": "code",
   "execution_count": 38,
   "metadata": {},
   "outputs": [
    {
     "data": {
      "image/png": "[encoded data removed]",
      "text/plain": [
       "<Figure size 720x360 with 1 Axes>"
      ]
     },
     "metadata": {
      "needs_background": "light"
     },
     "output_type": "display_data"
    }
   ],
   "source": [
    "plot_predicted_vs_actual(xgb_w10[2], 'BTC')"
   ]
  },
  {
   "cell_type": "code",
   "execution_count": null,
   "metadata": {},
   "outputs": [
    {
     "name": "stderr",
     "output_type": "stream",
     "text": [
      "'s3_input' class will be renamed to 'TrainingInput' in SageMaker Python SDK v2.\n",
      "'s3_input' class will be renamed to 'TrainingInput' in SageMaker Python SDK v2.\n"
     ]
    },
    {
     "name": "stdout",
     "output_type": "stream",
     "text": [
      "2021-01-25 17:08:54 Starting - Starting the training job."
     ]
    }
   ],
   "source": [
    "xgb_w5 = run_xgboost_model(w=5, \n",
    "                          hyperparams=hyperparams, \n",
    "                          prefix='xgb-w5', \n",
    "                          data_dir='./data', \n",
    "                          data_df=data_df)"
   ]
  },
  {
   "cell_type": "code",
   "execution_count": null,
   "metadata": {},
   "outputs": [],
   "source": [
    "plot_predicted_vs_actual(xgb_w5[2], 'BTC')"
   ]
  },
  {
   "cell_type": "markdown",
   "metadata": {},
   "source": [
    "<h2> Custom Neural Network </h2>\n",
    "\n",
    "Testing on XGBoost algorithm. We will experiement using different values of $w$."
   ]
  },
  {
   "cell_type": "code",
   "execution_count": 292,
   "metadata": {},
   "outputs": [],
   "source": [
    "w=5\n",
    "prefix='mlp-w50'\n",
    "data_dir='./data'\n",
    "data_df=data_df\n",
    "test_start='2017-04-12' \n",
    "val_start='2016-04-12'\n",
    "market_cap_threshold=100000"
   ]
  },
  {
   "cell_type": "code",
   "execution_count": null,
   "metadata": {},
   "outputs": [],
   "source": []
  },
  {
   "cell_type": "code",
   "execution_count": 339,
   "metadata": {},
   "outputs": [],
   "source": [
    "def run_mlp_model(w, hyperparams, prefix, data_dir, data_df, test_start='2017-04-12', val_start='2016-04-12'):\n",
    "    features_df = source.create_features(data_df, w)\n",
    "    features_df = features_df[(features_df['volume_4_last'] * features_df['price_4_last']) > vol_threshold]\n",
    "    features_df = features_df[features_df['age_4_last'] > age_threshold]\n",
    "    \n",
    "    scaler = MinMaxScaler()\n",
    "    for column in features_df.iloc[:,2:-2].columns:\n",
    "        features_df[column] = scaler.fit_transform(features_df[[column]])\n",
    "\n",
    "    train_df = features_df[features_df.index < pd.Timestamp(test_start)]\n",
    "#     val_df = features_df[(features_df.index >= pd.Timestamp(val_start)) & (features_df.index < pd.Timestamp(test_start))]\n",
    "    test_df = features_df[features_df.index >= pd.Timestamp(test_start)]\n",
    "\n",
    "    X_train = pd.DataFrame(train_df.iloc[:,2:-2])\n",
    "    Y_train = pd.DataFrame(train_df['target'])\n",
    "#     X_val = pd.DataFrame(val_df.iloc[:,2:-2])\n",
    "#     Y_val = pd.DataFrame(val_df['target'])\n",
    "    X_test = pd.DataFrame(test_df.iloc[:,2:-2])\n",
    "    Y_test = pd.DataFrame(test_df['target'])\n",
    "\n",
    "    train_location = session.upload_data(os.path.join(data_dir, 'train.csv'), key_prefix=prefix)\n",
    "\n",
    "    estimator = SKLearn(entry_point='train.py',\n",
    "                        source_dir='source',\n",
    "                        role=role,\n",
    "                        train_instance_count=1, \n",
    "                        train_instance_type='ml.c4.xlarge',\n",
    "                        framework_version='0.23-1',\n",
    "                        py_version='py3',\n",
    "                        output_path='s3://{}/{}/output'.format(session.default_bucket(), prefix),\n",
    "                        sagemaker_session=session,\n",
    "                        hyperparameters={\n",
    "                            'hidden_layers': 50,\n",
    "                            'max_iter': 10\n",
    "                        })\n",
    "\n",
    "    estimator.fit({'train': train_location})\n",
    "    \n",
    "    predictor = estimator.deploy(initial_instance_count=1, instance_type=\"ml.t2.medium\")\n",
    "    \n",
    "    pred = []\n",
    "    i = 0\n",
    "    payload_list = [[str(entry) for entry in row] for row in X_test.values]\n",
    "\n",
    "    for j in range(10000,len(payload_list)+10000, 10000):\n",
    "        max_idx = min(len(payload_list), j)\n",
    "        payload = '\\n'.join([','.join(row) for row in payload_list[i:j]])\n",
    "        response = session.sagemaker_runtime_client.invoke_endpoint(\n",
    "                                                        EndpointName = predictor.endpoint,\n",
    "                                                        ContentType = 'text/csv',\n",
    "                                                        Body = payload)\n",
    "        result = response['Body'].read().decode(\"utf-8\")\n",
    "        pred_val = ast.literal_eval(result)\n",
    "        pred = pred + pred_val\n",
    "        i = j\n",
    "\n",
    "    asset_matrix = construct_asset_matrix(test_df, pd.DataFrame(pred))\n",
    "    mape = calculate_mape(asset_matrix)\n",
    "    result = evaluate_strategy(asset_matrix)\n",
    "\n",
    "    session.sagemaker_client.delete_endpoint(EndpointName = predictor.endpoint)\n",
    "\n",
    "    return asset_matrix, mape, result"
   ]
  },
  {
   "cell_type": "code",
   "execution_count": 344,
   "metadata": {},
   "outputs": [
    {
     "data": {
      "text/plain": [
       "inf"
      ]
     },
     "execution_count": 344,
     "metadata": {},
     "output_type": "execute_result"
    }
   ],
   "source": [
    "xgb_w7 = run_mlp_model(w=7, \n",
    "                      hyperparams=hyperparams, \n",
    "                      prefix='xgb-w7', \n",
    "                      data_dir='./data', \n",
    "                      data_df=data_df)"
   ]
  },
  {
   "cell_type": "markdown",
   "metadata": {},
   "source": [
    "<h2> LTSM </h2>\n",
    "\n",
    "Testing on XGBoost algorithm. We will experiement using different values of $w$."
   ]
  },
  {
   "cell_type": "code",
   "execution_count": null,
   "metadata": {},
   "outputs": [],
   "source": [
    "features_df = source.create_features(data_df, w)\n",
    "features_df = features_df[features_df['market_cap_4_last'] > market_cap_threshold]\n",
    "\n",
    "train_df = features_df[features_df.index < pd.Timestamp(val_start)]\n",
    "val_df = features_df[(features_df.index >= pd.Timestamp(val_start)) & (features_df.index < pd.Timestamp(test_start))]\n",
    "test_df = features_df[features_df.index >= pd.Timestamp(test_start)]\n",
    "\n",
    "X_train = pd.DataFrame(train_df.iloc[:,2:-2])\n",
    "Y_train = pd.DataFrame(train_df['target'])\n",
    "X_val = pd.DataFrame(val_df.iloc[:,2:-2])\n",
    "Y_val = pd.DataFrame(val_df['target'])\n",
    "X_test = pd.DataFrame(test_df.iloc[:,2:-2])\n",
    "Y_test = pd.DataFrame(test_df['target'])\n",
    "\n",
    "train_location = session.upload_data(os.path.join(data_dir, 'train.csv'), key_prefix=prefix)\n",
    "\n",
    "estimator = SKLearn(entry_point='train.py',\n",
    "                    source_dir='source',\n",
    "                    role=role,\n",
    "                    train_instance_count=1, \n",
    "                    train_instance_type='ml.c4.xlarge',\n",
    "                    framework_version='0.23-1',\n",
    "                    py_version='py3',\n",
    "                    output_path='s3://{}/{}/output'.format(session.default_bucket(), prefix),\n",
    "                    sagemaker_session=session,\n",
    "                    hyperparameters={\n",
    "                        'hidden_layers': 20,\n",
    "                        'max_iter': 50\n",
    "                    })\n",
    "\n",
    "estimator.fit({'train': train_location})"
   ]
  }
 ],
 "metadata": {
  "kernelspec": {
   "display_name": "conda_amazonei_mxnet_p36",
   "language": "python",
   "name": "conda_amazonei_mxnet_p36"
  },
  "language_info": {
   "codemirror_mode": {
    "name": "ipython",
    "version": 3
   },
   "file_extension": ".py",
   "mimetype": "text/x-python",
   "name": "python",
   "nbconvert_exporter": "python",
   "pygments_lexer": "ipython3",
   "version": "3.6.10"
  }
 },
 "nbformat": 4,
 "nbformat_minor": 4
}
