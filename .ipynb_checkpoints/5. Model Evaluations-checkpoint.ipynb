{
 "cells": [
  {
   "cell_type": "code",
   "execution_count": 1,
   "id": "anticipated-suspension",
   "metadata": {},
   "outputs": [],
   "source": [
    "%%capture\n",
    "!pip install sagemaker==1.72.0"
   ]
  },
  {
   "cell_type": "code",
   "execution_count": 2,
   "id": "heard-affairs",
   "metadata": {},
   "outputs": [],
   "source": [
    "import source\n",
    "import os\n",
    "import warnings\n",
    "import pandas as pd\n",
    "warnings.filterwarnings(\"ignore\")"
   ]
  },
  {
   "cell_type": "code",
   "execution_count": 3,
   "id": "expensive-roulette",
   "metadata": {},
   "outputs": [],
   "source": [
    "%config InlineBackend.figure_format = 'svg'"
   ]
  },
  {
   "cell_type": "code",
   "execution_count": 4,
   "id": "increasing-subscription",
   "metadata": {},
   "outputs": [],
   "source": [
    "data_dict = source.load_data()\n",
    "data = data_dict['data']\n",
    "symbols = data_dict['symbols']"
   ]
  },
  {
   "cell_type": "code",
   "execution_count": 5,
   "id": "nominated-minneapolis",
   "metadata": {},
   "outputs": [],
   "source": [
    "collection = {}"
   ]
  },
  {
   "cell_type": "markdown",
   "id": "adverse-grade",
   "metadata": {},
   "source": [
    "<h2> SMA Evaluation </h2>"
   ]
  },
  {
   "cell_type": "markdown",
   "id": "stretch-determination",
   "metadata": {},
   "source": [
    "<h5> --- SMA Iteration 1 [SMA-1]</h5>"
   ]
  },
  {
   "cell_type": "code",
   "execution_count": null,
   "id": "funky-track",
   "metadata": {},
   "outputs": [],
   "source": [
    "W = 3\n",
    "target = 'price'\n",
    "name = 'SMA-1'\n",
    "sets = source.create.load_sets(data, target, W)\n",
    "\n",
    "test_result = sets['test']['ori']\n",
    "test_result['pred'] = test_result['price_mean']\n",
    "test_result.set_index('time', drop=True, inplace=True)\n",
    "\n",
    "trade_result = source.metric.trade(test_result, target)\n",
    "\n",
    "print('RMSE: ', source.metric.RMSE(test_result, target))\n",
    "source.plot.plot_history({name: trade_result}, 'Trading Result - ' + name)"
   ]
  },
  {
   "cell_type": "markdown",
   "id": "internal-yorkshire",
   "metadata": {},
   "source": [
    "<h5> --- SMA Iteration 2 [SMA-2]</h5>"
   ]
  },
  {
   "cell_type": "code",
   "execution_count": null,
   "id": "false-october",
   "metadata": {},
   "outputs": [],
   "source": [
    "W = 5\n",
    "target = 'price'\n",
    "name = 'SMA-2'\n",
    "sets = source.create.load_sets(data, target, W)\n",
    "\n",
    "test_result = sets['test']['ori']\n",
    "test_result['pred'] = test_result['price_mean']\n",
    "test_result.set_index('time', drop=True, inplace=True)\n",
    "\n",
    "trade_result = source.metric.trade(test_result, target)\n",
    "\n",
    "print('RMSE: ', source.metric.RMSE(test_result, target))\n",
    "source.plot.plot_history({name: trade_result}, 'Trading Result - ' + name)"
   ]
  },
  {
   "cell_type": "markdown",
   "id": "unexpected-flesh",
   "metadata": {},
   "source": [
    "<h5> --- SMA Iteration 3 [SMA-3] - Best Model - Benchmark</h5>"
   ]
  },
  {
   "cell_type": "code",
   "execution_count": null,
   "id": "conservative-psychology",
   "metadata": {},
   "outputs": [],
   "source": [
    "W = 7\n",
    "target = 'price'\n",
    "name = 'SMA-3'\n",
    "sets = source.create.load_sets(data, target, W)\n",
    "\n",
    "test_result = sets['test']['ori']\n",
    "test_result['pred'] = test_result['price_mean']\n",
    "test_result.set_index('time', drop=True, inplace=True)\n",
    "\n",
    "trade_result = source.metric.trade(test_result, target)\n",
    "\n",
    "print('RMSE: ', source.metric.RMSE(test_result, target))\n",
    "source.plot.plot_history({name: trade_result}, 'Trading Result - ' + name)"
   ]
  },
  {
   "cell_type": "code",
   "execution_count": null,
   "id": "acting-observation",
   "metadata": {},
   "outputs": [],
   "source": [
    "test_result_loc = os.path.join('./results', name + '_unscaled.csv')\n",
    "test_result.to_csv(test_result_loc)"
   ]
  },
  {
   "cell_type": "markdown",
   "id": "demographic-potato",
   "metadata": {},
   "source": [
    "<h2> XGBoost Evaluation </h2>"
   ]
  },
  {
   "cell_type": "markdown",
   "id": "blind-melbourne",
   "metadata": {},
   "source": [
    "<h5> --- XGBoost Iteration 1 [XGB-1]</h5>"
   ]
  },
  {
   "cell_type": "code",
   "execution_count": null,
   "id": "smooth-trader",
   "metadata": {},
   "outputs": [],
   "source": [
    "W = 5\n",
    "target = 'price'\n",
    "name = 'XGB-1'"
   ]
  },
  {
   "cell_type": "code",
   "execution_count": null,
   "id": "lucky-cyprus",
   "metadata": {},
   "outputs": [],
   "source": [
    "collection[name]= {}\n",
    "\n",
    "hyperparams = {'max_depth':10,\n",
    "               'eta':0.1,\n",
    "               'gamma':0.2,\n",
    "               'min_child_weight':5,\n",
    "               'subsample':0.8,\n",
    "               'objective':'reg:linear',\n",
    "               'early_stopping_rounds':20,\n",
    "               'num_round':300,\n",
    "               'seed':100}\n",
    "\n",
    "collection[name] = source.xgb(prefix=name,\n",
    "                                           data=data,\n",
    "                                           W=W,\n",
    "                                           target=target,\n",
    "                                           hyperparams=hyperparams)\n",
    "\n",
    "collection[name].fit()\n",
    "collection[name].init_predictor()"
   ]
  },
  {
   "cell_type": "code",
   "execution_count": null,
   "id": "productive-opera",
   "metadata": {},
   "outputs": [],
   "source": [
    "trainval = collection[name].sets['trainval']['ori'].copy()\n",
    "trainval.set_index('time', drop=True, inplace=True)\n",
    "\n",
    "test_result = collection[name].predict('test', unscaled=False)\n",
    "test_result_unscaled = collection[name].predict('test', unscaled=True)\n",
    "test_result_loc = os.path.join('./results', name + '_unscaled.csv')\n",
    "test_result_unscaled.to_csv(test_result_loc)"
   ]
  },
  {
   "cell_type": "code",
   "execution_count": null,
   "id": "unlimited-uruguay",
   "metadata": {},
   "outputs": [],
   "source": [
    "test_result_loc = os.path.join('./results', name + '_unscaled.csv')\n",
    "test_result_unscaled = pd.read_csv(test_result_loc, parse_dates=['time'], index_col=0, keep_default_na=False, header=0)\n",
    "trade_result = source.metric.trade(test_result_unscaled, target)"
   ]
  },
  {
   "cell_type": "code",
   "execution_count": null,
   "id": "sized-appeal",
   "metadata": {},
   "outputs": [],
   "source": [
    "print('RMSE: ', source.metric.RMSE(test_result_unscaled, target))"
   ]
  },
  {
   "cell_type": "code",
   "execution_count": null,
   "id": "large-crystal",
   "metadata": {},
   "outputs": [],
   "source": [
    "source.plot.plot_results({\"Test\": test_result}, 'BTC Price (Scaled) - ' + name, 'BTC')"
   ]
  },
  {
   "cell_type": "code",
   "execution_count": null,
   "id": "canadian-compilation",
   "metadata": {},
   "outputs": [],
   "source": [
    "source.plot.plot_results({\"Train\": trainval, 'Test': test_result_unscaled}, 'BTC Price (Unscaled) - ' + name, 'BTC', scale='log')"
   ]
  },
  {
   "cell_type": "code",
   "execution_count": null,
   "id": "fiscal-individual",
   "metadata": {},
   "outputs": [],
   "source": [
    "source.plot.plot_results({'Test': test_result_unscaled}, 'BTC Price (Unscaled) - ' + name, 'BTC', scale='linear')"
   ]
  },
  {
   "cell_type": "code",
   "execution_count": null,
   "id": "cloudy-trinity",
   "metadata": {},
   "outputs": [],
   "source": [
    "source.plot.plot_history({name: trade_result}, 'Trading Result - ' + name)"
   ]
  },
  {
   "cell_type": "code",
   "execution_count": null,
   "id": "incorporated-present",
   "metadata": {},
   "outputs": [],
   "source": [
    "collection[name].cleanup()"
   ]
  },
  {
   "cell_type": "markdown",
   "id": "stopped-prospect",
   "metadata": {},
   "source": [
    "<h5> --- XGBoost Iteration 2 [XGB-2]</h5>"
   ]
  },
  {
   "cell_type": "code",
   "execution_count": null,
   "id": "sustainable-wilson",
   "metadata": {},
   "outputs": [],
   "source": [
    "W = 7\n",
    "target = 'price'\n",
    "name = 'XGB-2'"
   ]
  },
  {
   "cell_type": "code",
   "execution_count": null,
   "id": "independent-oakland",
   "metadata": {},
   "outputs": [],
   "source": [
    "hyperparams = {'max_depth':10,\n",
    "               'eta':0.1,\n",
    "               'gamma':0.2,\n",
    "               'min_child_weight':15,\n",
    "               'subsample':0.8,\n",
    "               'objective':'reg:linear',\n",
    "               'early_stopping_rounds':20,\n",
    "               'num_round':300,\n",
    "               'seed':100}\n",
    "\n",
    "collection[name] = source.xgb(prefix=name,\n",
    "                                  data=data,\n",
    "                                  W=W,\n",
    "                                  target=target,\n",
    "                                  hyperparams=hyperparams)\n",
    "\n",
    "collection[name].fit()\n",
    "collection[name].init_predictor()"
   ]
  },
  {
   "cell_type": "code",
   "execution_count": null,
   "id": "difficult-savings",
   "metadata": {},
   "outputs": [],
   "source": [
    "trainval = collection[name].sets['trainval']['ori'].copy()\n",
    "trainval.set_index('time', drop=True, inplace=True)\n",
    "\n",
    "test_result = collection[name].predict('test', unscaled=False)\n",
    "test_result_unscaled = collection[name].predict('test', unscaled=True)\n",
    "test_result_loc = os.path.join('./results', name + '_unscaled.csv')\n",
    "test_result_unscaled.to_csv(test_result_loc)"
   ]
  },
  {
   "cell_type": "code",
   "execution_count": null,
   "id": "gothic-transmission",
   "metadata": {},
   "outputs": [],
   "source": [
    "test_result_loc = os.path.join('./results', name + '_unscaled.csv')\n",
    "test_result_unscaled = pd.read_csv(test_result_loc, parse_dates=['time'], index_col=0, keep_default_na=False, header=0)\n",
    "trade_result = source.metric.trade(test_result_unscaled, target)"
   ]
  },
  {
   "cell_type": "code",
   "execution_count": null,
   "id": "modified-coalition",
   "metadata": {},
   "outputs": [],
   "source": [
    "print('RMSE: ', source.metric.RMSE(test_result_unscaled, target))"
   ]
  },
  {
   "cell_type": "code",
   "execution_count": null,
   "id": "prostate-auditor",
   "metadata": {},
   "outputs": [],
   "source": [
    "source.plot.plot_results({\"Test\": test_result}, 'BTC Price (Scaled) - ' + name, 'BTC')"
   ]
  },
  {
   "cell_type": "code",
   "execution_count": null,
   "id": "dedicated-bhutan",
   "metadata": {},
   "outputs": [],
   "source": [
    "source.plot.plot_results({\"Train\": trainval, 'Test': test_result_unscaled}, 'BTC Price (Unscaled) - ' + name, 'BTC', scale='log')"
   ]
  },
  {
   "cell_type": "code",
   "execution_count": null,
   "id": "established-baseline",
   "metadata": {},
   "outputs": [],
   "source": [
    "source.plot.plot_results({'Test': test_result_unscaled}, 'BTC Price (Unscaled) - ' + name, 'BTC', scale='linear')"
   ]
  },
  {
   "cell_type": "code",
   "execution_count": null,
   "id": "protected-walker",
   "metadata": {},
   "outputs": [],
   "source": [
    "source.plot.plot_history({name: trade_result}, 'Trading Result - ' + name)"
   ]
  },
  {
   "cell_type": "code",
   "execution_count": null,
   "id": "juvenile-mattress",
   "metadata": {},
   "outputs": [],
   "source": [
    "collection[name].cleanup()"
   ]
  },
  {
   "cell_type": "markdown",
   "id": "hungry-insight",
   "metadata": {},
   "source": [
    "<h5> --- XGBoost Iteration 3 [XGB-3]</h5>"
   ]
  },
  {
   "cell_type": "code",
   "execution_count": null,
   "id": "pretty-advantage",
   "metadata": {},
   "outputs": [],
   "source": [
    "W = 5\n",
    "target = 'price'\n",
    "name = 'XGB-3'"
   ]
  },
  {
   "cell_type": "code",
   "execution_count": null,
   "id": "wooden-horror",
   "metadata": {},
   "outputs": [],
   "source": [
    "hyperparams = {'max_depth':20,\n",
    "               'eta':0.1,\n",
    "               'gamma':0.2,\n",
    "               'min_child_weight':5,\n",
    "               'subsample':0.8,\n",
    "               'objective':'reg:linear',\n",
    "               'early_stopping_rounds':20,\n",
    "               'num_round':300,\n",
    "               'seed':100}\n",
    "\n",
    "collection[name] = source.xgb(prefix=name,\n",
    "                                  data=data,\n",
    "                                  W=W,\n",
    "                                  target=target,\n",
    "                                  hyperparams=hyperparams)\n",
    "\n",
    "collection[name].fit()\n",
    "collection[name].init_predictor()"
   ]
  },
  {
   "cell_type": "code",
   "execution_count": null,
   "id": "experimental-patio",
   "metadata": {},
   "outputs": [],
   "source": [
    "trainval = collection[name].sets['trainval']['ori'].copy()\n",
    "trainval.set_index('time', drop=True, inplace=True)\n",
    "\n",
    "test_result = collection[name].predict('test', unscaled=False)\n",
    "test_result_unscaled = collection[name].predict('test', unscaled=True)\n",
    "test_result_loc = os.path.join('./results', name + '_unscaled.csv')\n",
    "test_result_unscaled.to_csv(test_result_loc)"
   ]
  },
  {
   "cell_type": "code",
   "execution_count": null,
   "id": "congressional-aquarium",
   "metadata": {},
   "outputs": [],
   "source": [
    "test_result_loc = os.path.join('./results', name + '_unscaled.csv')\n",
    "test_result_unscaled = pd.read_csv(test_result_loc, parse_dates=['time'], index_col=0, keep_default_na=False, header=0)\n",
    "trade_result = source.metric.trade(test_result_unscaled, target)"
   ]
  },
  {
   "cell_type": "code",
   "execution_count": null,
   "id": "compliant-establishment",
   "metadata": {},
   "outputs": [],
   "source": [
    "print('RMSE: ', source.metric.RMSE(test_result_unscaled, target))"
   ]
  },
  {
   "cell_type": "code",
   "execution_count": null,
   "id": "random-marble",
   "metadata": {},
   "outputs": [],
   "source": [
    "source.plot.plot_results({\"Test\": test_result}, 'BTC Price (Scaled) - ' + name, 'BTC')"
   ]
  },
  {
   "cell_type": "code",
   "execution_count": null,
   "id": "international-boston",
   "metadata": {},
   "outputs": [],
   "source": [
    "source.plot.plot_results({\"Train\": trainval, 'Test': test_result_unscaled}, 'BTC Price (Unscaled) - ' + name, 'BTC', scale='log')"
   ]
  },
  {
   "cell_type": "code",
   "execution_count": null,
   "id": "peripheral-heading",
   "metadata": {},
   "outputs": [],
   "source": [
    "source.plot.plot_results({'Test': test_result_unscaled}, 'BTC Price (Unscaled) - ' + name, 'BTC', scale='linear')"
   ]
  },
  {
   "cell_type": "code",
   "execution_count": null,
   "id": "analyzed-shell",
   "metadata": {},
   "outputs": [],
   "source": [
    "source.plot.plot_history({name: trade_result}, 'Trading Result - ' + name)"
   ]
  },
  {
   "cell_type": "code",
   "execution_count": null,
   "id": "treated-italic",
   "metadata": {},
   "outputs": [],
   "source": [
    "collection[name].cleanup()"
   ]
  },
  {
   "cell_type": "markdown",
   "id": "improved-output",
   "metadata": {},
   "source": [
    "<h5> --- XGBoost Iteration 4 [XGB-4]</h5>"
   ]
  },
  {
   "cell_type": "code",
   "execution_count": null,
   "id": "quarterly-understanding",
   "metadata": {},
   "outputs": [],
   "source": [
    "W = 7\n",
    "target = 'price'\n",
    "name = 'XGB-4'"
   ]
  },
  {
   "cell_type": "code",
   "execution_count": null,
   "id": "superior-conviction",
   "metadata": {},
   "outputs": [],
   "source": [
    "hyperparams = {'max_depth':20,\n",
    "               'eta':0.1,\n",
    "               'gamma':0.2,\n",
    "               'min_child_weight':15,\n",
    "               'subsample':0.8,\n",
    "               'objective':'reg:linear',\n",
    "               'early_stopping_rounds':20,\n",
    "               'num_round':300,\n",
    "               'seed':100}\n",
    "\n",
    "collection[name] = source.xgb(prefix=name,\n",
    "                                  data=data,\n",
    "                                  W=W,\n",
    "                                  target=target,\n",
    "                                  hyperparams=hyperparams)\n",
    "\n",
    "collection[name].fit()\n",
    "collection[name].init_predictor()"
   ]
  },
  {
   "cell_type": "code",
   "execution_count": null,
   "id": "guided-physics",
   "metadata": {},
   "outputs": [],
   "source": [
    "trainval = collection[name].sets['trainval']['ori'].copy()\n",
    "trainval.set_index('time', drop=True, inplace=True)\n",
    "\n",
    "test_result = collection[name].predict('test', unscaled=False)\n",
    "test_result_unscaled = collection[name].predict('test', unscaled=True)\n",
    "test_result_loc = os.path.join('./results', name + '_unscaled.csv')\n",
    "test_result_unscaled.to_csv(test_result_loc)"
   ]
  },
  {
   "cell_type": "code",
   "execution_count": null,
   "id": "loving-surprise",
   "metadata": {},
   "outputs": [],
   "source": [
    "test_result_loc = os.path.join('./results', name + '_unscaled.csv')\n",
    "test_result_unscaled = pd.read_csv(test_result_loc, parse_dates=['time'], index_col=0, keep_default_na=False, header=0)\n",
    "trade_result = source.metric.trade(test_result_unscaled, target)"
   ]
  },
  {
   "cell_type": "code",
   "execution_count": null,
   "id": "reduced-stage",
   "metadata": {},
   "outputs": [],
   "source": [
    "print('RMSE: ', source.metric.RMSE(test_result_unscaled, target))"
   ]
  },
  {
   "cell_type": "code",
   "execution_count": null,
   "id": "traditional-castle",
   "metadata": {},
   "outputs": [],
   "source": [
    "source.plot.plot_results({\"Test\": test_result}, 'BTC Price (Scaled) - ' + name, 'BTC')"
   ]
  },
  {
   "cell_type": "code",
   "execution_count": null,
   "id": "starting-motel",
   "metadata": {},
   "outputs": [],
   "source": [
    "source.plot.plot_results({\"Train\": trainval, 'Test': test_result_unscaled}, 'BTC Price (Unscaled) - ' + name, 'BTC', scale='log')"
   ]
  },
  {
   "cell_type": "code",
   "execution_count": null,
   "id": "first-planning",
   "metadata": {},
   "outputs": [],
   "source": [
    "source.plot.plot_results({'Test': test_result_unscaled}, 'BTC Price (Unscaled) - ' + name, 'BTC', scale='linear')"
   ]
  },
  {
   "cell_type": "code",
   "execution_count": null,
   "id": "unknown-documentation",
   "metadata": {},
   "outputs": [],
   "source": [
    "source.plot.plot_history({name: trade_result}, 'Trading Result -' + name)"
   ]
  },
  {
   "cell_type": "code",
   "execution_count": null,
   "id": "direct-baseline",
   "metadata": {},
   "outputs": [],
   "source": [
    "collection[name].cleanup()"
   ]
  },
  {
   "cell_type": "markdown",
   "id": "steady-oklahoma",
   "metadata": {},
   "source": [
    "<h2> Neural Net Evaluation </h2>"
   ]
  },
  {
   "cell_type": "markdown",
   "id": "infrared-offset",
   "metadata": {},
   "source": [
    "<h5> --- Neural Net Iteration 1 [NN-1]</h5>"
   ]
  },
  {
   "cell_type": "code",
   "execution_count": null,
   "id": "brazilian-period",
   "metadata": {},
   "outputs": [],
   "source": [
    "W = 5\n",
    "target = 'price'\n",
    "name = 'NN-1'"
   ]
  },
  {
   "cell_type": "code",
   "execution_count": null,
   "id": "recovered-carpet",
   "metadata": {},
   "outputs": [],
   "source": [
    "hyperparams = {'hidden_layers': 50,\n",
    "               'max_iter': 5000,\n",
    "               'random_state': 100}\n",
    "               \n",
    "collection[name] = source.neuralnet(prefix=name,\n",
    "                        data=data,\n",
    "                        W=W,\n",
    "                        target=target,\n",
    "                        hyperparams=hyperparams)\n",
    "\n",
    "collection[name].fit()\n",
    "collection[name].init_predictor()"
   ]
  },
  {
   "cell_type": "code",
   "execution_count": null,
   "id": "planned-transition",
   "metadata": {},
   "outputs": [],
   "source": [
    "trainval = collection[name].sets['trainval']['ori'].copy()\n",
    "trainval.set_index('time', drop=True, inplace=True)\n",
    "\n",
    "test_result = collection[name].predict('test', unscaled=False)\n",
    "test_result_unscaled = collection[name].predict('test', unscaled=True)\n",
    "test_result_loc = os.path.join('./results', name + '_unscaled.csv')\n",
    "test_result_unscaled.to_csv(test_result_loc)"
   ]
  },
  {
   "cell_type": "code",
   "execution_count": null,
   "id": "floral-prophet",
   "metadata": {},
   "outputs": [],
   "source": [
    "test_result_loc = os.path.join('./results', name + '_unscaled.csv')\n",
    "test_result_unscaled = pd.read_csv(test_result_loc, parse_dates=['time'], index_col=0, keep_default_na=False, header=0)\n",
    "trade_result = source.metric.trade(test_result_unscaled, target)"
   ]
  },
  {
   "cell_type": "code",
   "execution_count": null,
   "id": "forty-oklahoma",
   "metadata": {},
   "outputs": [],
   "source": [
    "print('RMSE: ', source.metric.RMSE(test_result_unscaled, target))"
   ]
  },
  {
   "cell_type": "code",
   "execution_count": null,
   "id": "mature-client",
   "metadata": {},
   "outputs": [],
   "source": [
    "source.plot.plot_results({\"Test\": test_result}, 'BTC Price (Scaled) - ' + name, 'BTC')"
   ]
  },
  {
   "cell_type": "code",
   "execution_count": null,
   "id": "flexible-hebrew",
   "metadata": {},
   "outputs": [],
   "source": [
    "source.plot.plot_results({\"Train\": trainval, 'Test': test_result_unscaled}, 'BTC Price (Unscaled) - ' + name, 'BTC', scale='log')"
   ]
  },
  {
   "cell_type": "code",
   "execution_count": null,
   "id": "actual-cheat",
   "metadata": {},
   "outputs": [],
   "source": [
    "source.plot.plot_results({'Test': test_result_unscaled}, 'BTC Price (Unscaled) - ' + name, 'BTC', scale='linear')"
   ]
  },
  {
   "cell_type": "code",
   "execution_count": null,
   "id": "supposed-welding",
   "metadata": {},
   "outputs": [],
   "source": [
    "source.plot.plot_history({name: trade_result}, 'Trading Result - ' + name)"
   ]
  },
  {
   "cell_type": "code",
   "execution_count": null,
   "id": "careful-baker",
   "metadata": {},
   "outputs": [],
   "source": [
    "collection[name].cleanup()"
   ]
  },
  {
   "cell_type": "markdown",
   "id": "excellent-width",
   "metadata": {},
   "source": [
    "<h5> --- Neural Net Iteration 2 [NN-2]</h5>"
   ]
  },
  {
   "cell_type": "code",
   "execution_count": null,
   "id": "respected-nerve",
   "metadata": {},
   "outputs": [],
   "source": [
    "W = 7\n",
    "target = 'price'\n",
    "name = 'NN-2'"
   ]
  },
  {
   "cell_type": "code",
   "execution_count": null,
   "id": "grave-basket",
   "metadata": {},
   "outputs": [],
   "source": [
    "hyperparams = {'hidden_layers': 50,\n",
    "               'max_iter': 5000,\n",
    "               'random_state': 100}\n",
    "               \n",
    "collection[name] = source.neuralnet(prefix=name,\n",
    "                        data=data,\n",
    "                        W=W,\n",
    "                        target=target,\n",
    "                        hyperparams=hyperparams)\n",
    "\n",
    "collection[name].fit()\n",
    "collection[name].init_predictor()"
   ]
  },
  {
   "cell_type": "code",
   "execution_count": null,
   "id": "female-civilian",
   "metadata": {},
   "outputs": [],
   "source": [
    "trainval = collection[name].sets['trainval']['ori'].copy()\n",
    "trainval.set_index('time', drop=True, inplace=True)\n",
    "\n",
    "test_result = collection[name].predict('test', unscaled=False)\n",
    "test_result_unscaled = collection[name].predict('test', unscaled=True)\n",
    "test_result_loc = os.path.join('./results', name + '_unscaled.csv')\n",
    "test_result_unscaled.to_csv(test_result_loc)"
   ]
  },
  {
   "cell_type": "code",
   "execution_count": null,
   "id": "decreased-jackson",
   "metadata": {},
   "outputs": [],
   "source": [
    "test_result_loc = os.path.join('./results', name + '_unscaled.csv')\n",
    "test_result_unscaled = pd.read_csv(test_result_loc, parse_dates=['time'], index_col=0, keep_default_na=False, header=0)\n",
    "trade_result = source.metric.trade(test_result_unscaled, target)"
   ]
  },
  {
   "cell_type": "code",
   "execution_count": null,
   "id": "metric-thomas",
   "metadata": {},
   "outputs": [],
   "source": [
    "print('RMSE: ', source.metric.RMSE(test_result_unscaled, target))"
   ]
  },
  {
   "cell_type": "code",
   "execution_count": null,
   "id": "representative-vertical",
   "metadata": {},
   "outputs": [],
   "source": [
    "source.plot.plot_results({\"Test\": test_result}, 'BTC Price (Scaled) - ' + name, 'BTC')"
   ]
  },
  {
   "cell_type": "code",
   "execution_count": null,
   "id": "assisted-chrome",
   "metadata": {},
   "outputs": [],
   "source": [
    "source.plot.plot_results({\"Train\": trainval, 'Test': test_result_unscaled}, 'BTC Price (Unscaled) - ' + name, 'BTC', scale='log')"
   ]
  },
  {
   "cell_type": "code",
   "execution_count": null,
   "id": "cordless-renewal",
   "metadata": {},
   "outputs": [],
   "source": [
    "source.plot.plot_results({'Test': test_result_unscaled}, 'BTC Price (Unscaled) - ' + name, 'BTC', scale='linear')"
   ]
  },
  {
   "cell_type": "code",
   "execution_count": null,
   "id": "automotive-superior",
   "metadata": {},
   "outputs": [],
   "source": [
    "source.plot.plot_history({name: trade_result}, 'Trading Result - ' + name)"
   ]
  },
  {
   "cell_type": "code",
   "execution_count": null,
   "id": "determined-model",
   "metadata": {},
   "outputs": [],
   "source": [
    "collection[name].cleanup()"
   ]
  },
  {
   "cell_type": "markdown",
   "id": "married-equivalent",
   "metadata": {},
   "source": [
    "<h5> --- Neural Net Iteration 3 [NN-3]</h5>"
   ]
  },
  {
   "cell_type": "code",
   "execution_count": null,
   "id": "knowing-concern",
   "metadata": {},
   "outputs": [],
   "source": [
    "W = 5\n",
    "target = 'price'\n",
    "name = 'NN-3'"
   ]
  },
  {
   "cell_type": "code",
   "execution_count": null,
   "id": "precious-wheel",
   "metadata": {},
   "outputs": [],
   "source": [
    "hyperparams = {'hidden_layers': 100,\n",
    "               'max_iter': 5000,\n",
    "               'random_state': 100}\n",
    "               \n",
    "collection[name] = source.neuralnet(prefix=name,\n",
    "                        data=data,\n",
    "                        W=W,\n",
    "                        target=target,\n",
    "                        hyperparams=hyperparams)\n",
    "\n",
    "collection[name].fit()\n",
    "collection[name].init_predictor()"
   ]
  },
  {
   "cell_type": "code",
   "execution_count": null,
   "id": "attractive-mechanism",
   "metadata": {},
   "outputs": [],
   "source": [
    "trainval = collection[name].sets['trainval']['ori'].copy()\n",
    "trainval.set_index('time', drop=True, inplace=True)\n",
    "\n",
    "test_result = collection[name].predict('test', unscaled=False)\n",
    "test_result_unscaled = collection[name].predict('test', unscaled=True)\n",
    "test_result_loc = os.path.join('./results', name + '_unscaled.csv')\n",
    "test_result_unscaled.to_csv(test_result_loc)"
   ]
  },
  {
   "cell_type": "code",
   "execution_count": null,
   "id": "impaired-engineer",
   "metadata": {},
   "outputs": [],
   "source": [
    "test_result_loc = os.path.join('./results', name + '_unscaled.csv')\n",
    "test_result_unscaled = pd.read_csv(test_result_loc, parse_dates=['time'], index_col=0, keep_default_na=False, header=0)\n",
    "trade_result = source.metric.trade(test_result_unscaled, target)"
   ]
  },
  {
   "cell_type": "code",
   "execution_count": null,
   "id": "prompt-parent",
   "metadata": {},
   "outputs": [],
   "source": [
    "print('RMSE: ', source.metric.RMSE(test_result_unscaled, target))"
   ]
  },
  {
   "cell_type": "code",
   "execution_count": null,
   "id": "bibliographic-creator",
   "metadata": {},
   "outputs": [],
   "source": [
    "source.plot.plot_results({\"Test\": test_result}, 'BTC Price (Scaled) - ' + name, 'BTC')"
   ]
  },
  {
   "cell_type": "code",
   "execution_count": null,
   "id": "emotional-palestine",
   "metadata": {},
   "outputs": [],
   "source": [
    "source.plot.plot_results({\"Train\": trainval, 'Test': test_result_unscaled}, 'BTC Price (Unscaled) - ' + name, 'BTC', scale='log')"
   ]
  },
  {
   "cell_type": "code",
   "execution_count": null,
   "id": "brazilian-compromise",
   "metadata": {},
   "outputs": [],
   "source": [
    "source.plot.plot_results({'Test': test_result_unscaled}, 'BTC Price (Unscaled) - ' + name, 'BTC', scale='linear')"
   ]
  },
  {
   "cell_type": "code",
   "execution_count": null,
   "id": "concerned-estonia",
   "metadata": {},
   "outputs": [],
   "source": [
    "source.plot.plot_history({name: trade_result}, 'Trading Result - ' + name)"
   ]
  },
  {
   "cell_type": "code",
   "execution_count": null,
   "id": "certified-temple",
   "metadata": {},
   "outputs": [],
   "source": [
    "collection[name].cleanup()"
   ]
  },
  {
   "cell_type": "markdown",
   "id": "approximate-designer",
   "metadata": {},
   "source": [
    "<h5> --- Neural Net Iteration 4 [NN-4]</h5>"
   ]
  },
  {
   "cell_type": "code",
   "execution_count": null,
   "id": "sticky-relief",
   "metadata": {},
   "outputs": [],
   "source": [
    "W = 7\n",
    "target = 'price'\n",
    "name = 'NN-4'"
   ]
  },
  {
   "cell_type": "code",
   "execution_count": null,
   "id": "smooth-pastor",
   "metadata": {},
   "outputs": [],
   "source": [
    "hyperparams = {'hidden_layers': 100,\n",
    "               'max_iter': 5000,\n",
    "               'random_state': 100}\n",
    "               \n",
    "collection[name] = source.neuralnet(prefix=name,\n",
    "                        data=data,\n",
    "                        W=W,\n",
    "                        target=target,\n",
    "                        hyperparams=hyperparams)\n",
    "\n",
    "collection[name].fit()\n",
    "collection[name].init_predictor()"
   ]
  },
  {
   "cell_type": "code",
   "execution_count": null,
   "id": "ideal-milan",
   "metadata": {},
   "outputs": [],
   "source": [
    "trainval = collection[name].sets['trainval']['ori'].copy()\n",
    "trainval.set_index('time', drop=True, inplace=True)\n",
    "\n",
    "test_result = collection[name].predict('test', unscaled=False)\n",
    "test_result_unscaled = collection[name].predict('test', unscaled=True)\n",
    "test_result_loc = os.path.join('./results', name + '_unscaled.csv')\n",
    "test_result_unscaled.to_csv(test_result_loc)"
   ]
  },
  {
   "cell_type": "code",
   "execution_count": null,
   "id": "demonstrated-knife",
   "metadata": {},
   "outputs": [],
   "source": [
    "test_result_loc = os.path.join('./results', name + '_unscaled.csv')\n",
    "test_result_unscaled = pd.read_csv(test_result_loc, parse_dates=['time'], index_col=0, keep_default_na=False, header=0)\n",
    "trade_result = source.metric.trade(test_result_unscaled, target)"
   ]
  },
  {
   "cell_type": "code",
   "execution_count": null,
   "id": "scientific-transformation",
   "metadata": {},
   "outputs": [],
   "source": [
    "print('RMSE: ', source.metric.RMSE(test_result_unscaled, target))"
   ]
  },
  {
   "cell_type": "code",
   "execution_count": null,
   "id": "toxic-flight",
   "metadata": {},
   "outputs": [],
   "source": [
    "source.plot.plot_results({\"Test\": test_result}, 'BTC Price (Scaled) - ' + name, 'BTC')"
   ]
  },
  {
   "cell_type": "code",
   "execution_count": null,
   "id": "awful-activity",
   "metadata": {},
   "outputs": [],
   "source": [
    "source.plot.plot_results({\"Train\": trainval, 'Test': test_result_unscaled}, 'BTC Price (Unscaled) - ' + name, 'BTC', scale='log')"
   ]
  },
  {
   "cell_type": "code",
   "execution_count": null,
   "id": "narrow-moral",
   "metadata": {},
   "outputs": [],
   "source": [
    "source.plot.plot_results({'Test': test_result_unscaled}, 'BTC Price (Unscaled) - ' + name, 'BTC', scale='linear')"
   ]
  },
  {
   "cell_type": "code",
   "execution_count": null,
   "id": "pressed-consideration",
   "metadata": {},
   "outputs": [],
   "source": [
    "source.plot.plot_history({name: trade_result}, 'Trading Result - ' + name)"
   ]
  },
  {
   "cell_type": "code",
   "execution_count": null,
   "id": "loaded-parallel",
   "metadata": {},
   "outputs": [],
   "source": [
    "collection[name].cleanup()"
   ]
  },
  {
   "cell_type": "markdown",
   "id": "generous-stupid",
   "metadata": {},
   "source": [
    "<h2> DeepAR Evaluation </h2>"
   ]
  },
  {
   "cell_type": "markdown",
   "id": "leading-elimination",
   "metadata": {},
   "source": [
    "<h5> --- DeepAR Iteration 1 [DA-1]</h5>"
   ]
  },
  {
   "cell_type": "code",
   "execution_count": null,
   "id": "complete-equity",
   "metadata": {},
   "outputs": [],
   "source": [
    "W = 5\n",
    "target = 'price'\n",
    "name = 'DA-1'"
   ]
  },
  {
   "cell_type": "code",
   "execution_count": null,
   "id": "palestinian-violation",
   "metadata": {},
   "outputs": [],
   "source": [
    "hyperparams = {\n",
    "    \"epochs\": \"500\",\n",
    "    \"time_freq\": 'D',\n",
    "    \"prediction_length\": '1',\n",
    "    \"context_length\": '30',\n",
    "    \"num_cells\": \"100\",\n",
    "    \"num_layers\": \"4\",\n",
    "    \"mini_batch_size\": \"128\",\n",
    "    \"learning_rate\": \"0.1\",\n",
    "    \"early_stopping_patience\": \"10\"\n",
    "}\n",
    "               \n",
    "collection[name] = source.deepar(prefix=name,\n",
    "                        data=data,\n",
    "                        W=W,\n",
    "                        target=target,\n",
    "                        hyperparams=hyperparams)\n",
    "\n",
    "collection[name].fit()\n",
    "collection[name].init_predictor()"
   ]
  },
  {
   "cell_type": "code",
   "execution_count": null,
   "id": "tight-worship",
   "metadata": {},
   "outputs": [],
   "source": [
    "trainval = collection[name].sets['trainval']['ori'].copy()\n",
    "trainval.set_index('time', drop=True, inplace=True)\n",
    "\n",
    "test_result = collection[name].predict('test', unscaled=False)\n",
    "test_result_unscaled = collection[name].predict('test', unscaled=True)\n",
    "test_result_loc = os.path.join('./results', name + '_unscaled.csv')\n",
    "test_result_unscaled.to_csv(test_result_loc)"
   ]
  },
  {
   "cell_type": "code",
   "execution_count": null,
   "id": "exotic-scope",
   "metadata": {},
   "outputs": [],
   "source": [
    "test_result_loc = os.path.join('./results', name + '_unscaled.csv')\n",
    "test_result_unscaled = pd.read_csv(test_result_loc, parse_dates=['time'], index_col=0, keep_default_na=False, header=0)\n",
    "trade_result = source.metric.trade(test_result_unscaled, target)"
   ]
  },
  {
   "cell_type": "code",
   "execution_count": null,
   "id": "nasty-elements",
   "metadata": {},
   "outputs": [],
   "source": [
    "print('RMSE: ', source.metric.RMSE(test_result_unscaled, target))"
   ]
  },
  {
   "cell_type": "code",
   "execution_count": null,
   "id": "baking-trick",
   "metadata": {},
   "outputs": [],
   "source": [
    "source.plot.plot_results({\"Test\": test_result}, 'BTC Price (Scaled) - ' + name, 'BTC')"
   ]
  },
  {
   "cell_type": "code",
   "execution_count": null,
   "id": "unable-equity",
   "metadata": {},
   "outputs": [],
   "source": [
    "source.plot.plot_results({\"Train\": trainval, 'Test': test_result_unscaled}, 'BTC Price (Unscaled) - ' + name, 'BTC', scale='log')"
   ]
  },
  {
   "cell_type": "code",
   "execution_count": null,
   "id": "formed-provincial",
   "metadata": {},
   "outputs": [],
   "source": [
    "source.plot.plot_results({'Test': test_result_unscaled}, 'BTC Price (Unscaled) - ' + name, 'BTC', scale='linear')"
   ]
  },
  {
   "cell_type": "code",
   "execution_count": null,
   "id": "handed-metallic",
   "metadata": {},
   "outputs": [],
   "source": [
    "source.plot.plot_history({name: trade_result}, 'Trading Result - ' + name)"
   ]
  },
  {
   "cell_type": "code",
   "execution_count": null,
   "id": "angry-lyric",
   "metadata": {},
   "outputs": [],
   "source": [
    "collection[name].cleanup()"
   ]
  },
  {
   "cell_type": "markdown",
   "id": "balanced-gothic",
   "metadata": {},
   "source": [
    "<h5> --- DeepAR Iteration 2 [DA-2]</h5>"
   ]
  },
  {
   "cell_type": "code",
   "execution_count": null,
   "id": "beautiful-entry",
   "metadata": {},
   "outputs": [],
   "source": [
    "W = 7\n",
    "target = 'price'\n",
    "name = 'DA-2'"
   ]
  },
  {
   "cell_type": "code",
   "execution_count": null,
   "id": "saving-concrete",
   "metadata": {},
   "outputs": [],
   "source": [
    "hyperparams = {\n",
    "    \"epochs\": \"500\",\n",
    "    \"time_freq\": 'D',\n",
    "    \"prediction_length\": '1',\n",
    "    \"context_length\": '30',\n",
    "    \"num_cells\": \"100\",\n",
    "    \"num_layers\": \"4\",\n",
    "    \"mini_batch_size\": \"128\",\n",
    "    \"learning_rate\": \"0.1\",\n",
    "    \"early_stopping_patience\": \"10\"\n",
    "}\n",
    "               \n",
    "collection[name] = source.deepar(prefix=name,\n",
    "                        data=data,\n",
    "                        W=W,\n",
    "                        target=target,\n",
    "                        hyperparams=hyperparams)\n",
    "\n",
    "collection[name].fit()\n",
    "collection[name].init_predictor()"
   ]
  },
  {
   "cell_type": "code",
   "execution_count": null,
   "id": "smaller-society",
   "metadata": {},
   "outputs": [],
   "source": [
    "trainval = collection[name].sets['trainval']['ori'].copy()\n",
    "trainval.set_index('time', drop=True, inplace=True)\n",
    "\n",
    "test_result = collection[name].predict('test', unscaled=False)\n",
    "test_result_unscaled = collection[name].predict('test', unscaled=True)\n",
    "test_result_loc = os.path.join('./results', name + '_unscaled.csv')\n",
    "test_result_unscaled.to_csv(test_result_loc)"
   ]
  },
  {
   "cell_type": "code",
   "execution_count": null,
   "id": "angry-scholarship",
   "metadata": {},
   "outputs": [],
   "source": [
    "test_result_loc = os.path.join('./results', name + '_unscaled.csv')\n",
    "test_result_unscaled = pd.read_csv(test_result_loc, parse_dates=['time'], index_col=0, keep_default_na=False, header=0)\n",
    "trade_result = source.metric.trade(test_result_unscaled, target)"
   ]
  },
  {
   "cell_type": "code",
   "execution_count": null,
   "id": "french-apache",
   "metadata": {},
   "outputs": [],
   "source": [
    "print('RMSE: ', source.metric.RMSE(test_result_unscaled, target))"
   ]
  },
  {
   "cell_type": "code",
   "execution_count": null,
   "id": "expected-naples",
   "metadata": {},
   "outputs": [],
   "source": [
    "source.plot.plot_results({\"Test\": test_result}, 'BTC Price (Scaled) - ' + name, 'BTC')"
   ]
  },
  {
   "cell_type": "code",
   "execution_count": null,
   "id": "contained-lobby",
   "metadata": {},
   "outputs": [],
   "source": [
    "source.plot.plot_results({\"Train\": trainval, 'Test': test_result_unscaled}, 'BTC Price (Unscaled) - ' + name, 'BTC', scale='log')"
   ]
  },
  {
   "cell_type": "code",
   "execution_count": null,
   "id": "funky-drove",
   "metadata": {},
   "outputs": [],
   "source": [
    "source.plot.plot_results({'Test': test_result_unscaled}, 'BTC Price (Unscaled) - ' + name, 'BTC', scale='linear')"
   ]
  },
  {
   "cell_type": "code",
   "execution_count": null,
   "id": "precious-chorus",
   "metadata": {},
   "outputs": [],
   "source": [
    "source.plot.plot_history({name: trade_result}, 'Trading Result - ' + name)"
   ]
  },
  {
   "cell_type": "code",
   "execution_count": null,
   "id": "ancient-shark",
   "metadata": {},
   "outputs": [],
   "source": [
    "collection[name].cleanup()"
   ]
  },
  {
   "cell_type": "markdown",
   "id": "competitive-secretariat",
   "metadata": {},
   "source": [
    "<h5> --- DeepAR Iteration 3 [DA-3]</h5>"
   ]
  },
  {
   "cell_type": "code",
   "execution_count": null,
   "id": "invisible-english",
   "metadata": {},
   "outputs": [],
   "source": [
    "W = 5\n",
    "target = 'price'\n",
    "name = 'DA-3'"
   ]
  },
  {
   "cell_type": "code",
   "execution_count": null,
   "id": "english-genius",
   "metadata": {},
   "outputs": [],
   "source": [
    "hyperparams = {\n",
    "    \"epochs\": \"500\",\n",
    "    \"time_freq\": 'D',\n",
    "    \"prediction_length\": '1',\n",
    "    \"context_length\": '30',\n",
    "    \"num_cells\": \"200\",\n",
    "    \"num_layers\": \"4\",\n",
    "    \"mini_batch_size\": \"128\",\n",
    "    \"learning_rate\": \"0.1\",\n",
    "    \"early_stopping_patience\": \"10\"\n",
    "}\n",
    "               \n",
    "collection[name] = source.deepar(prefix=name,\n",
    "                        data=data,\n",
    "                        W=W,\n",
    "                        target=target,\n",
    "                        hyperparams=hyperparams)\n",
    "\n",
    "collection[name].fit()\n",
    "collection[name].init_predictor()"
   ]
  },
  {
   "cell_type": "code",
   "execution_count": null,
   "id": "cubic-details",
   "metadata": {},
   "outputs": [],
   "source": [
    "trainval = collection[name].sets['trainval']['ori'].copy()\n",
    "trainval.set_index('time', drop=True, inplace=True)\n",
    "\n",
    "test_result = collection[name].predict('test', unscaled=False)\n",
    "test_result_unscaled = collection[name].predict('test', unscaled=True)\n",
    "test_result_loc = os.path.join('./results', name + '_unscaled.csv')\n",
    "test_result_unscaled.to_csv(test_result_loc)"
   ]
  },
  {
   "cell_type": "code",
   "execution_count": null,
   "id": "double-deadline",
   "metadata": {},
   "outputs": [],
   "source": [
    "test_result_loc = os.path.join('./results', name + '_unscaled.csv')\n",
    "test_result_unscaled = pd.read_csv(test_result_loc, parse_dates=['time'], index_col=0, keep_default_na=False, header=0)\n",
    "trade_result = source.metric.trade(test_result_unscaled, target)"
   ]
  },
  {
   "cell_type": "code",
   "execution_count": null,
   "id": "sustainable-speaker",
   "metadata": {},
   "outputs": [],
   "source": [
    "print('RMSE: ', source.metric.RMSE(test_result_unscaled, target))"
   ]
  },
  {
   "cell_type": "code",
   "execution_count": null,
   "id": "documentary-registrar",
   "metadata": {},
   "outputs": [],
   "source": [
    "source.plot.plot_results({\"Test\": test_result}, 'BTC Price (Scaled) - ' + name, 'BTC')"
   ]
  },
  {
   "cell_type": "code",
   "execution_count": null,
   "id": "unique-syndicate",
   "metadata": {},
   "outputs": [],
   "source": [
    "source.plot.plot_results({\"Train\": trainval, 'Test': test_result_unscaled}, 'BTC Price (Unscaled) - ' + name, 'BTC', scale='log')"
   ]
  },
  {
   "cell_type": "code",
   "execution_count": null,
   "id": "introductory-mission",
   "metadata": {},
   "outputs": [],
   "source": [
    "source.plot.plot_results({'Test': test_result_unscaled}, 'BTC Price (Unscaled) - ' + name, 'BTC', scale='linear')"
   ]
  },
  {
   "cell_type": "code",
   "execution_count": null,
   "id": "amateur-classification",
   "metadata": {},
   "outputs": [],
   "source": [
    "source.plot.plot_history({name: trade_result}, 'Trading Result - ' + name)"
   ]
  },
  {
   "cell_type": "code",
   "execution_count": null,
   "id": "surrounded-trustee",
   "metadata": {},
   "outputs": [],
   "source": [
    "collection[name].cleanup()"
   ]
  },
  {
   "cell_type": "markdown",
   "id": "general-aside",
   "metadata": {},
   "source": [
    "<h5> --- DeepAR Iteration 4 [DA-4]</h5>"
   ]
  },
  {
   "cell_type": "code",
   "execution_count": null,
   "id": "opened-announcement",
   "metadata": {},
   "outputs": [],
   "source": [
    "W = 7\n",
    "target = 'price'\n",
    "name = 'DA-4'"
   ]
  },
  {
   "cell_type": "code",
   "execution_count": null,
   "id": "adapted-civilian",
   "metadata": {},
   "outputs": [],
   "source": [
    "hyperparams = {\n",
    "    \"epochs\": \"500\",\n",
    "    \"time_freq\": 'D',\n",
    "    \"prediction_length\": '1',\n",
    "    \"context_length\": '30',\n",
    "    \"num_cells\": \"200\",\n",
    "    \"num_layers\": \"4\",\n",
    "    \"mini_batch_size\": \"128\",\n",
    "    \"learning_rate\": \"0.1\",\n",
    "    \"early_stopping_patience\": \"10\"\n",
    "}\n",
    "               \n",
    "collection[name] = source.deepar(prefix=name,\n",
    "                        data=data,\n",
    "                        W=W,\n",
    "                        target=target,\n",
    "                        hyperparams=hyperparams)\n",
    "\n",
    "collection[name].fit()\n",
    "collection[name].init_predictor()"
   ]
  },
  {
   "cell_type": "code",
   "execution_count": null,
   "id": "chronic-applicant",
   "metadata": {},
   "outputs": [],
   "source": [
    "trainval = collection[name].sets['trainval']['ori'].copy()\n",
    "trainval.set_index('time', drop=True, inplace=True)\n",
    "\n",
    "test_result = collection[name].predict('test', unscaled=False)\n",
    "test_result_unscaled = collection[name].predict('test', unscaled=True)\n",
    "test_result_loc = os.path.join('./results', name + '_unscaled.csv')\n",
    "test_result_unscaled.to_csv(test_result_loc)"
   ]
  },
  {
   "cell_type": "code",
   "execution_count": null,
   "id": "committed-exhaust",
   "metadata": {},
   "outputs": [],
   "source": [
    "import os\n",
    "test_result_loc = os.path.join('./results', name + '_unscaled.csv')\n",
    "test_result_unscaled = pd.read_csv(test_result_loc, parse_dates=['time'], index_col=0, keep_default_na=False, header=0)\n",
    "trade_result = source.metric.trade(test_result_unscaled, target)"
   ]
  },
  {
   "cell_type": "code",
   "execution_count": null,
   "id": "serial-parker",
   "metadata": {},
   "outputs": [],
   "source": [
    "print('RMSE: ', source.metric.RMSE(test_result_unscaled, target))"
   ]
  },
  {
   "cell_type": "code",
   "execution_count": null,
   "id": "headed-raise",
   "metadata": {},
   "outputs": [],
   "source": [
    "source.plot.plot_results({\"Test\": test_result}, 'BTC Price (Scaled) - ' + name, 'BTC')"
   ]
  },
  {
   "cell_type": "code",
   "execution_count": null,
   "id": "developmental-marine",
   "metadata": {},
   "outputs": [],
   "source": [
    "source.plot.plot_results({\"Train\": trainval, 'Test': test_result_unscaled}, 'BTC Price (Unscaled) - ' + name, 'BTC', scale='log')"
   ]
  },
  {
   "cell_type": "code",
   "execution_count": null,
   "id": "earned-hobby",
   "metadata": {},
   "outputs": [],
   "source": [
    "source.plot.plot_results({'Test': test_result_unscaled}, 'BTC Price (Unscaled) - ' + name, 'BTC', scale='linear')"
   ]
  },
  {
   "cell_type": "code",
   "execution_count": null,
   "id": "painted-purse",
   "metadata": {},
   "outputs": [],
   "source": [
    "source.plot.plot_history({name: trade_result}, 'Trading Result - ' + name)"
   ]
  },
  {
   "cell_type": "code",
   "execution_count": null,
   "id": "greatest-roberts",
   "metadata": {},
   "outputs": [],
   "source": [
    "collection[name].cleanup()"
   ]
  },
  {
   "cell_type": "markdown",
   "id": "victorian-raising",
   "metadata": {},
   "source": [
    "<h2> XGBoost Optimization </h2>"
   ]
  },
  {
   "cell_type": "code",
   "execution_count": 6,
   "id": "agreed-penny",
   "metadata": {},
   "outputs": [],
   "source": [
    "from sagemaker.tuner import IntegerParameter, ContinuousParameter\n",
    "from sagemaker.estimator import Estimator"
   ]
  },
  {
   "cell_type": "code",
   "execution_count": 7,
   "id": "inner-chicken",
   "metadata": {},
   "outputs": [],
   "source": [
    "W = 7\n",
    "target = 'price'\n",
    "name = 'XGB-Optim'"
   ]
  },
  {
   "cell_type": "code",
   "execution_count": 8,
   "id": "postal-necklace",
   "metadata": {},
   "outputs": [],
   "source": [
    "hyperparams = {'max_depth':20,\n",
    "               'eta':0.1,\n",
    "               'gamma':0.2,\n",
    "               'min_child_weight':15,\n",
    "               'subsample':0.8,\n",
    "               'objective':'reg:linear',\n",
    "               'early_stopping_rounds':20,\n",
    "               'num_round':300,\n",
    "               'seed':100}\n",
    "\n",
    "xgb_optim = source.xgb(prefix=name,\n",
    "                           data=data,\n",
    "                           W=W,\n",
    "                           target=target,\n",
    "                           hyperparams=hyperparams)"
   ]
  },
  {
   "cell_type": "code",
   "execution_count": null,
   "id": "collected-arkansas",
   "metadata": {},
   "outputs": [],
   "source": [
    "hyperparameter_ranges = {'max_depth': IntegerParameter(10, 20),\n",
    "                         'eta'      : ContinuousParameter(0.05, 0.15),\n",
    "                         'min_child_weight': IntegerParameter(10, 20),\n",
    "                         'subsample': ContinuousParameter(0.7, 0.9),\n",
    "                         'gamma': ContinuousParameter(0,0.5)}\n",
    "\n",
    "tuner = xgb_optim.tuned_fit(hyperparameter_ranges)"
   ]
  },
  {
   "cell_type": "code",
   "execution_count": null,
   "id": "explicit-truck",
   "metadata": {},
   "outputs": [],
   "source": [
    "xgb_optim.init_predictor()"
   ]
  },
  {
   "cell_type": "code",
   "execution_count": null,
   "id": "statewide-contributor",
   "metadata": {},
   "outputs": [],
   "source": [
    "trainval = xgb_optim.sets['trainval']['ori'].copy()\n",
    "trainval.set_index('time', drop=True, inplace=True)\n",
    "\n",
    "test_result = xgb_optim.predict('test', unscaled=False)\n",
    "test_result_unscaled = xgb_optim.predict('test', unscaled=True)\n",
    "test_result_loc = os.path.join('./results', name + '_unscaled.csv')\n",
    "test_result_unscaled.to_csv(test_result_loc)"
   ]
  },
  {
   "cell_type": "code",
   "execution_count": null,
   "id": "celtic-drawing",
   "metadata": {},
   "outputs": [],
   "source": [
    "test_result_loc = os.path.join('./results', name + '_unscaled.csv')\n",
    "test_result_unscaled = pd.read_csv(test_result_loc, parse_dates=['time'], index_col=0, keep_default_na=False, header=0)\n",
    "trade_result = source.metric.trade(test_result_unscaled, target)"
   ]
  },
  {
   "cell_type": "code",
   "execution_count": null,
   "id": "packed-pottery",
   "metadata": {},
   "outputs": [],
   "source": [
    "print('RMSE: ', source.metric.RMSE(test_result_unscaled, target))"
   ]
  },
  {
   "cell_type": "code",
   "execution_count": null,
   "id": "interested-swing",
   "metadata": {},
   "outputs": [],
   "source": [
    "source.plot.plot_results({\"Test\": test_result}, 'BTC Price (Scaled) - ' + name, 'BTC')"
   ]
  },
  {
   "cell_type": "code",
   "execution_count": null,
   "id": "functioning-group",
   "metadata": {},
   "outputs": [],
   "source": [
    "source.plot.plot_results({\"Train\": trainval, 'Test': test_result_unscaled}, 'BTC Price (Unscaled) - ' + name, 'BTC', scale='log')"
   ]
  },
  {
   "cell_type": "code",
   "execution_count": null,
   "id": "shaped-nerve",
   "metadata": {},
   "outputs": [],
   "source": [
    "source.plot.plot_results({'Test': test_result_unscaled}, 'BTC Price (Unscaled) - ' + name, 'BTC', scale='linear')"
   ]
  },
  {
   "cell_type": "code",
   "execution_count": null,
   "id": "european-assessment",
   "metadata": {},
   "outputs": [],
   "source": [
    "source.plot.plot_history({name: trade_result}, 'Trading Result - ' + name)"
   ]
  },
  {
   "cell_type": "code",
   "execution_count": null,
   "id": "received-delicious",
   "metadata": {},
   "outputs": [],
   "source": [
    "import boto3\n",
    "client = boto3.client('sagemaker')\n",
    "training_job = str(tuner.best_training_job())\n",
    "print(training_job)\n",
    "print(client.describe_training_job(TrainingJobName=training_job)['HyperParameters'])"
   ]
  },
  {
   "cell_type": "markdown",
   "id": "increasing-commissioner",
   "metadata": {},
   "source": [
    "<b>Best training job:</b>\n",
    "<br>\n",
    "xgboost-210207-1105-016-7807dba6\n",
    "\n",
    "<b>Best iteration hyperparameters:</b>\n",
    "<br>\n",
    "{'_tuning_objective_metric': 'validation:rmse',\n",
    " 'early_stopping_rounds': '20',\n",
    " 'eta': '0.05410745565672248',\n",
    " 'gamma': '1.9164529523379112',\n",
    " 'max_depth': '18',\n",
    " 'min_child_weight': '2',\n",
    " 'num_round': '300',\n",
    " 'objective': 'reg:linear',\n",
    " 'seed': '100',\n",
    " 'subsample': '0.6339124917100728'}"
   ]
  },
  {
   "cell_type": "code",
   "execution_count": 9,
   "id": "fancy-paradise",
   "metadata": {
    "collapsed": true,
    "jupyter": {
     "outputs_hidden": true
    }
   },
   "outputs": [
    {
     "name": "stderr",
     "output_type": "stream",
     "text": [
      "Parameter image_name will be renamed to image_uri in SageMaker Python SDK v2.\n"
     ]
    },
    {
     "name": "stdout",
     "output_type": "stream",
     "text": [
      "2021-02-07 11:19:21 Starting - Preparing the instances for training\n",
      "2021-02-07 11:19:21 Downloading - Downloading input data\n",
      "2021-02-07 11:19:21 Training - Training image download completed. Training in progress.\n",
      "2021-02-07 11:19:21 Uploading - Uploading generated training model\n",
      "2021-02-07 11:19:21 Completed - Training job completed\u001b[34mArguments: train\u001b[0m\n",
      "\u001b[34m[2021-02-07:11:18:54:INFO] Running standalone xgboost training.\u001b[0m\n",
      "\u001b[34m[2021-02-07:11:18:54:INFO] Setting up HPO optimized metric to be : rmse\u001b[0m\n",
      "\u001b[34m[2021-02-07:11:18:54:INFO] File size need to be processed in the node: 33.83mb. Available memory size in the node: 8427.28mb\u001b[0m\n",
      "\u001b[34m[2021-02-07:11:18:54:INFO] Determined delimiter of CSV input is ','\u001b[0m\n",
      "\u001b[34m[11:18:54] S3DistributionType set as FullyReplicated\u001b[0m\n",
      "\u001b[34m[11:18:54] 24436x49 matrix with 1197364 entries loaded from /opt/ml/input/data/train?format=csv&label_column=0&delimiter=,\u001b[0m\n",
      "\u001b[34m[2021-02-07:11:18:54:INFO] Determined delimiter of CSV input is ','\u001b[0m\n",
      "\u001b[34m[11:18:54] S3DistributionType set as FullyReplicated\u001b[0m\n",
      "\u001b[34m[11:18:54] 13717x49 matrix with 672133 entries loaded from /opt/ml/input/data/validation?format=csv&label_column=0&delimiter=,\u001b[0m\n",
      "\u001b[34m[11:18:54] src/tree/updater_prune.cc:74: tree pruning end, 1 roots, 622 extra nodes, 1172 pruned nodes, max_depth=16\u001b[0m\n",
      "\u001b[34m[0]#011train-rmse:2.01764#011validation-rmse:2.21713\u001b[0m\n",
      "\u001b[34mMultiple eval metrics have been passed: 'validation-rmse' will be used for early stopping.\n",
      "\u001b[0m\n",
      "\u001b[34mWill train until validation-rmse hasn't improved in 20 rounds.\u001b[0m\n",
      "\u001b[34m[11:18:54] src/tree/updater_prune.cc:74: tree pruning end, 1 roots, 582 extra nodes, 1206 pruned nodes, max_depth=16\u001b[0m\n",
      "\u001b[34m[1]#011train-rmse:1.88522#011validation-rmse:2.10265\u001b[0m\n",
      "\u001b[34m[11:18:55] src/tree/updater_prune.cc:74: tree pruning end, 1 roots, 580 extra nodes, 1312 pruned nodes, max_depth=14\u001b[0m\n",
      "\u001b[34m[2]#011train-rmse:1.7625#011validation-rmse:2.00183\u001b[0m\n",
      "\u001b[34m[11:18:55] src/tree/updater_prune.cc:74: tree pruning end, 1 roots, 550 extra nodes, 1398 pruned nodes, max_depth=13\u001b[0m\n",
      "\u001b[34m[3]#011train-rmse:1.64796#011validation-rmse:1.91328\u001b[0m\n",
      "\u001b[34m[11:18:55] src/tree/updater_prune.cc:74: tree pruning end, 1 roots, 548 extra nodes, 1460 pruned nodes, max_depth=15\u001b[0m\n",
      "\u001b[34m[4]#011train-rmse:1.54682#011validation-rmse:1.83335\u001b[0m\n",
      "\u001b[34m[11:18:55] src/tree/updater_prune.cc:74: tree pruning end, 1 roots, 512 extra nodes, 1570 pruned nodes, max_depth=14\u001b[0m\n",
      "\u001b[34m[5]#011train-rmse:1.45393#011validation-rmse:1.75901\u001b[0m\n",
      "\u001b[34m[11:18:55] src/tree/updater_prune.cc:74: tree pruning end, 1 roots, 504 extra nodes, 1628 pruned nodes, max_depth=13\u001b[0m\n",
      "\u001b[34m[6]#011train-rmse:1.36555#011validation-rmse:1.69773\u001b[0m\n",
      "\u001b[34m[11:18:56] src/tree/updater_prune.cc:74: tree pruning end, 1 roots, 440 extra nodes, 1740 pruned nodes, max_depth=13\u001b[0m\n",
      "\u001b[34m[7]#011train-rmse:1.28655#011validation-rmse:1.63397\u001b[0m\n",
      "\u001b[34m[11:18:56] src/tree/updater_prune.cc:74: tree pruning end, 1 roots, 480 extra nodes, 1752 pruned nodes, max_depth=14\u001b[0m\n",
      "\u001b[34m[8]#011train-rmse:1.21025#011validation-rmse:1.57835\u001b[0m\n",
      "\u001b[34m[11:18:56] src/tree/updater_prune.cc:74: tree pruning end, 1 roots, 430 extra nodes, 1832 pruned nodes, max_depth=13\u001b[0m\n",
      "\u001b[34m[9]#011train-rmse:1.14122#011validation-rmse:1.53368\u001b[0m\n",
      "\u001b[34m[11:18:56] src/tree/updater_prune.cc:74: tree pruning end, 1 roots, 432 extra nodes, 1900 pruned nodes, max_depth=16\u001b[0m\n",
      "\u001b[34m[10]#011train-rmse:1.08088#011validation-rmse:1.48998\u001b[0m\n",
      "\u001b[34m[11:18:56] src/tree/updater_prune.cc:74: tree pruning end, 1 roots, 416 extra nodes, 1980 pruned nodes, max_depth=15\u001b[0m\n",
      "\u001b[34m[11]#011train-rmse:1.01828#011validation-rmse:1.44254\u001b[0m\n",
      "\u001b[34m[11:18:57] src/tree/updater_prune.cc:74: tree pruning end, 1 roots, 404 extra nodes, 2084 pruned nodes, max_depth=14\u001b[0m\n",
      "\u001b[34m[12]#011train-rmse:0.968831#011validation-rmse:1.41261\u001b[0m\n",
      "\u001b[34m[11:18:57] src/tree/updater_prune.cc:74: tree pruning end, 1 roots, 368 extra nodes, 2158 pruned nodes, max_depth=15\u001b[0m\n",
      "\u001b[34m[13]#011train-rmse:0.920572#011validation-rmse:1.38497\u001b[0m\n",
      "\u001b[34m[11:18:57] src/tree/updater_prune.cc:74: tree pruning end, 1 roots, 356 extra nodes, 2178 pruned nodes, max_depth=14\u001b[0m\n",
      "\u001b[34m[14]#011train-rmse:0.87197#011validation-rmse:1.35624\u001b[0m\n",
      "\u001b[34m[11:18:58] src/tree/updater_prune.cc:74: tree pruning end, 1 roots, 360 extra nodes, 2332 pruned nodes, max_depth=12\u001b[0m\n",
      "\u001b[34m[15]#011train-rmse:0.832365#011validation-rmse:1.33769\u001b[0m\n",
      "\u001b[34m[11:18:58] src/tree/updater_prune.cc:74: tree pruning end, 1 roots, 324 extra nodes, 2412 pruned nodes, max_depth=12\u001b[0m\n",
      "\u001b[34m[16]#011train-rmse:0.796324#011validation-rmse:1.3227\u001b[0m\n",
      "\u001b[34m[11:18:58] src/tree/updater_prune.cc:74: tree pruning end, 1 roots, 328 extra nodes, 2344 pruned nodes, max_depth=17\u001b[0m\n",
      "\u001b[34m[17]#011train-rmse:0.765823#011validation-rmse:1.30522\u001b[0m\n",
      "\u001b[34m[11:18:58] src/tree/updater_prune.cc:74: tree pruning end, 1 roots, 300 extra nodes, 2394 pruned nodes, max_depth=13\u001b[0m\n",
      "\u001b[34m[18]#011train-rmse:0.728438#011validation-rmse:1.28503\u001b[0m\n",
      "\u001b[34m[11:18:58] src/tree/updater_prune.cc:74: tree pruning end, 1 roots, 288 extra nodes, 2588 pruned nodes, max_depth=14\u001b[0m\n",
      "\u001b[34m[19]#011train-rmse:0.701531#011validation-rmse:1.26681\u001b[0m\n",
      "\u001b[34m[11:18:59] src/tree/updater_prune.cc:74: tree pruning end, 1 roots, 264 extra nodes, 2748 pruned nodes, max_depth=14\u001b[0m\n",
      "\u001b[34m[20]#011train-rmse:0.676836#011validation-rmse:1.25152\u001b[0m\n",
      "\u001b[34m[11:18:59] src/tree/updater_prune.cc:74: tree pruning end, 1 roots, 290 extra nodes, 2610 pruned nodes, max_depth=13\u001b[0m\n",
      "\u001b[34m[21]#011train-rmse:0.653287#011validation-rmse:1.23677\u001b[0m\n",
      "\u001b[34m[11:18:59] src/tree/updater_prune.cc:74: tree pruning end, 1 roots, 270 extra nodes, 2640 pruned nodes, max_depth=13\u001b[0m\n",
      "\u001b[34m[22]#011train-rmse:0.626996#011validation-rmse:1.23017\u001b[0m\n",
      "\u001b[34m[11:18:59] src/tree/updater_prune.cc:74: tree pruning end, 1 roots, 232 extra nodes, 2566 pruned nodes, max_depth=13\u001b[0m\n",
      "\u001b[34m[23]#011train-rmse:0.604432#011validation-rmse:1.21433\u001b[0m\n",
      "\u001b[34m[11:19:00] src/tree/updater_prune.cc:74: tree pruning end, 1 roots, 216 extra nodes, 2620 pruned nodes, max_depth=15\u001b[0m\n",
      "\u001b[34m[24]#011train-rmse:0.586034#011validation-rmse:1.20211\u001b[0m\n",
      "\u001b[34m[11:19:00] src/tree/updater_prune.cc:74: tree pruning end, 1 roots, 262 extra nodes, 2814 pruned nodes, max_depth=18\u001b[0m\n",
      "\u001b[34m[25]#011train-rmse:0.571412#011validation-rmse:1.19257\u001b[0m\n",
      "\u001b[34m[11:19:00] src/tree/updater_prune.cc:74: tree pruning end, 1 roots, 202 extra nodes, 2724 pruned nodes, max_depth=14\u001b[0m\n",
      "\u001b[34m[26]#011train-rmse:0.553362#011validation-rmse:1.18507\u001b[0m\n",
      "\u001b[34m[11:19:00] src/tree/updater_prune.cc:74: tree pruning end, 1 roots, 192 extra nodes, 2616 pruned nodes, max_depth=13\u001b[0m\n",
      "\u001b[34m[27]#011train-rmse:0.534468#011validation-rmse:1.17505\u001b[0m\n",
      "\u001b[34m[11:19:00] src/tree/updater_prune.cc:74: tree pruning end, 1 roots, 186 extra nodes, 2812 pruned nodes, max_depth=12\u001b[0m\n",
      "\u001b[34m[28]#011train-rmse:0.521451#011validation-rmse:1.16884\u001b[0m\n",
      "\u001b[34m[11:19:01] src/tree/updater_prune.cc:74: tree pruning end, 1 roots, 188 extra nodes, 2652 pruned nodes, max_depth=14\u001b[0m\n",
      "\u001b[34m[29]#011train-rmse:0.508962#011validation-rmse:1.16269\u001b[0m\n",
      "\u001b[34m[11:19:01] src/tree/updater_prune.cc:74: tree pruning end, 1 roots, 174 extra nodes, 2670 pruned nodes, max_depth=13\u001b[0m\n",
      "\u001b[34m[30]#011train-rmse:0.497823#011validation-rmse:1.16126\u001b[0m\n",
      "\u001b[34m[11:19:01] src/tree/updater_prune.cc:74: tree pruning end, 1 roots, 162 extra nodes, 2620 pruned nodes, max_depth=15\u001b[0m\n",
      "\u001b[34m[31]#011train-rmse:0.486253#011validation-rmse:1.15872\u001b[0m\n",
      "\u001b[34m[11:19:01] src/tree/updater_prune.cc:74: tree pruning end, 1 roots, 158 extra nodes, 2622 pruned nodes, max_depth=14\u001b[0m\n",
      "\u001b[34m[32]#011train-rmse:0.473202#011validation-rmse:1.14845\u001b[0m\n",
      "\u001b[34m[11:19:02] src/tree/updater_prune.cc:74: tree pruning end, 1 roots, 154 extra nodes, 2724 pruned nodes, max_depth=17\u001b[0m\n",
      "\u001b[34m[33]#011train-rmse:0.464238#011validation-rmse:1.14532\u001b[0m\n",
      "\u001b[34m[11:19:02] src/tree/updater_prune.cc:74: tree pruning end, 1 roots, 146 extra nodes, 2522 pruned nodes, max_depth=14\u001b[0m\n",
      "\u001b[34m[34]#011train-rmse:0.45603#011validation-rmse:1.14374\u001b[0m\n",
      "\u001b[34m[11:19:02] src/tree/updater_prune.cc:74: tree pruning end, 1 roots, 154 extra nodes, 3030 pruned nodes, max_depth=14\u001b[0m\n",
      "\u001b[34m[35]#011train-rmse:0.443862#011validation-rmse:1.14312\u001b[0m\n",
      "\u001b[34m[11:19:02] src/tree/updater_prune.cc:74: tree pruning end, 1 roots, 138 extra nodes, 2602 pruned nodes, max_depth=14\u001b[0m\n",
      "\u001b[34m[36]#011train-rmse:0.434899#011validation-rmse:1.13473\u001b[0m\n",
      "\u001b[34m[11:19:02] src/tree/updater_prune.cc:74: tree pruning end, 1 roots, 132 extra nodes, 2852 pruned nodes, max_depth=12\u001b[0m\n",
      "\u001b[34m[37]#011train-rmse:0.427567#011validation-rmse:1.13467\u001b[0m\n",
      "\u001b[34m[11:19:03] src/tree/updater_prune.cc:74: tree pruning end, 1 roots, 116 extra nodes, 2656 pruned nodes, max_depth=15\u001b[0m\n",
      "\u001b[34m[38]#011train-rmse:0.41986#011validation-rmse:1.13109\u001b[0m\n",
      "\u001b[34m[11:19:03] src/tree/updater_prune.cc:74: tree pruning end, 1 roots, 112 extra nodes, 2672 pruned nodes, max_depth=14\u001b[0m\n",
      "\u001b[34m[39]#011train-rmse:0.410383#011validation-rmse:1.12688\u001b[0m\n",
      "\u001b[34m[11:19:03] src/tree/updater_prune.cc:74: tree pruning end, 1 roots, 106 extra nodes, 2596 pruned nodes, max_depth=11\u001b[0m\n",
      "\u001b[34m[40]#011train-rmse:0.402438#011validation-rmse:1.12392\u001b[0m\n",
      "\u001b[34m[11:19:04] src/tree/updater_prune.cc:74: tree pruning end, 1 roots, 118 extra nodes, 2034 pruned nodes, max_depth=17\u001b[0m\n",
      "\u001b[34m[41]#011train-rmse:0.394893#011validation-rmse:1.12146\u001b[0m\n",
      "\u001b[34m[11:19:04] src/tree/updater_prune.cc:74: tree pruning end, 1 roots, 94 extra nodes, 2992 pruned nodes, max_depth=11\u001b[0m\n",
      "\u001b[34m[42]#011train-rmse:0.389352#011validation-rmse:1.12202\u001b[0m\n",
      "\u001b[34m[11:19:04] src/tree/updater_prune.cc:74: tree pruning end, 1 roots, 94 extra nodes, 2414 pruned nodes, max_depth=11\u001b[0m\n",
      "\u001b[34m[43]#011train-rmse:0.383459#011validation-rmse:1.12257\u001b[0m\n",
      "\u001b[34m[11:19:04] src/tree/updater_prune.cc:74: tree pruning end, 1 roots, 102 extra nodes, 1930 pruned nodes, max_depth=18\u001b[0m\n",
      "\u001b[34m[44]#011train-rmse:0.379411#011validation-rmse:1.12337\u001b[0m\n",
      "\u001b[34m[11:19:05] src/tree/updater_prune.cc:74: tree pruning end, 1 roots, 92 extra nodes, 2420 pruned nodes, max_depth=12\u001b[0m\n",
      "\u001b[34m[45]#011train-rmse:0.37435#011validation-rmse:1.12069\u001b[0m\n",
      "\u001b[34m[11:19:05] src/tree/updater_prune.cc:74: tree pruning end, 1 roots, 90 extra nodes, 2294 pruned nodes, max_depth=13\u001b[0m\n",
      "\u001b[34m[46]#011train-rmse:0.371181#011validation-rmse:1.11812\u001b[0m\n",
      "\u001b[34m[11:19:05] src/tree/updater_prune.cc:74: tree pruning end, 1 roots, 88 extra nodes, 2240 pruned nodes, max_depth=13\u001b[0m\n",
      "\u001b[34m[47]#011train-rmse:0.367917#011validation-rmse:1.11605\u001b[0m\n",
      "\u001b[34m[11:19:06] src/tree/updater_prune.cc:74: tree pruning end, 1 roots, 96 extra nodes, 2872 pruned nodes, max_depth=14\u001b[0m\n",
      "\u001b[34m[48]#011train-rmse:0.363184#011validation-rmse:1.11177\u001b[0m\n",
      "\u001b[34m[11:19:06] src/tree/updater_prune.cc:74: tree pruning end, 1 roots, 90 extra nodes, 2406 pruned nodes, max_depth=13\u001b[0m\n",
      "\u001b[34m[49]#011train-rmse:0.358992#011validation-rmse:1.11141\u001b[0m\n",
      "\u001b[34m[11:19:06] src/tree/updater_prune.cc:74: tree pruning end, 1 roots, 86 extra nodes, 1884 pruned nodes, max_depth=18\u001b[0m\n",
      "\u001b[34m[50]#011train-rmse:0.355909#011validation-rmse:1.11303\u001b[0m\n",
      "\u001b[34m[11:19:06] src/tree/updater_prune.cc:74: tree pruning end, 1 roots, 74 extra nodes, 1602 pruned nodes, max_depth=13\u001b[0m\n",
      "\u001b[34m[51]#011train-rmse:0.353074#011validation-rmse:1.11326\u001b[0m\n",
      "\u001b[34m[11:19:07] src/tree/updater_prune.cc:74: tree pruning end, 1 roots, 76 extra nodes, 1532 pruned nodes, max_depth=16\u001b[0m\n",
      "\u001b[34m[52]#011train-rmse:0.348152#011validation-rmse:1.11353\u001b[0m\n",
      "\u001b[34m[11:19:07] src/tree/updater_prune.cc:74: tree pruning end, 1 roots, 78 extra nodes, 1724 pruned nodes, max_depth=14\u001b[0m\n",
      "\u001b[34m[53]#011train-rmse:0.34303#011validation-rmse:1.11162\u001b[0m\n",
      "\u001b[34m[11:19:07] src/tree/updater_prune.cc:74: tree pruning end, 1 roots, 82 extra nodes, 2326 pruned nodes, max_depth=16\u001b[0m\n",
      "\u001b[34m[54]#011train-rmse:0.339257#011validation-rmse:1.11252\u001b[0m\n",
      "\u001b[34m[11:19:07] src/tree/updater_prune.cc:74: tree pruning end, 1 roots, 80 extra nodes, 1564 pruned nodes, max_depth=16\u001b[0m\n",
      "\u001b[34m[55]#011train-rmse:0.336725#011validation-rmse:1.11268\u001b[0m\n",
      "\u001b[34m[11:19:07] src/tree/updater_prune.cc:74: tree pruning end, 1 roots, 70 extra nodes, 1648 pruned nodes, max_depth=16\u001b[0m\n",
      "\u001b[34m[56]#011train-rmse:0.33275#011validation-rmse:1.11412\u001b[0m\n",
      "\u001b[34m[11:19:08] src/tree/updater_prune.cc:74: tree pruning end, 1 roots, 80 extra nodes, 1730 pruned nodes, max_depth=13\u001b[0m\n",
      "\u001b[34m[57]#011train-rmse:0.330477#011validation-rmse:1.11442\u001b[0m\n",
      "\u001b[34m[11:19:08] src/tree/updater_prune.cc:74: tree pruning end, 1 roots, 66 extra nodes, 1628 pruned nodes, max_depth=15\u001b[0m\n",
      "\u001b[34m[58]#011train-rmse:0.328474#011validation-rmse:1.11518\u001b[0m\n",
      "\u001b[34m[11:19:08] src/tree/updater_prune.cc:74: tree pruning end, 1 roots, 54 extra nodes, 1012 pruned nodes, max_depth=12\u001b[0m\n",
      "\u001b[34m[59]#011train-rmse:0.327688#011validation-rmse:1.11369\u001b[0m\n",
      "\u001b[34m[11:19:08] src/tree/updater_prune.cc:74: tree pruning end, 1 roots, 72 extra nodes, 990 pruned nodes, max_depth=18\u001b[0m\n",
      "\u001b[34m[60]#011train-rmse:0.325082#011validation-rmse:1.11484\u001b[0m\n",
      "\u001b[34m[11:19:08] src/tree/updater_prune.cc:74: tree pruning end, 1 roots, 62 extra nodes, 1362 pruned nodes, max_depth=12\u001b[0m\n",
      "\u001b[34m[61]#011train-rmse:0.323563#011validation-rmse:1.11366\u001b[0m\n",
      "\u001b[34m[11:19:09] src/tree/updater_prune.cc:74: tree pruning end, 1 roots, 76 extra nodes, 1134 pruned nodes, max_depth=18\u001b[0m\n",
      "\u001b[34m[62]#011train-rmse:0.319118#011validation-rmse:1.11241\u001b[0m\n",
      "\u001b[34m[11:19:09] src/tree/updater_prune.cc:74: tree pruning end, 1 roots, 60 extra nodes, 1630 pruned nodes, max_depth=13\u001b[0m\n",
      "\u001b[34m[63]#011train-rmse:0.316433#011validation-rmse:1.10863\u001b[0m\n",
      "\u001b[34m[11:19:09] src/tree/updater_prune.cc:74: tree pruning end, 1 roots, 68 extra nodes, 884 pruned nodes, max_depth=14\u001b[0m\n",
      "\u001b[34m[64]#011train-rmse:0.312007#011validation-rmse:1.10693\u001b[0m\n",
      "\u001b[34m[11:19:09] src/tree/updater_prune.cc:74: tree pruning end, 1 roots, 48 extra nodes, 792 pruned nodes, max_depth=13\u001b[0m\n",
      "\u001b[34m[65]#011train-rmse:0.308728#011validation-rmse:1.10819\u001b[0m\n",
      "\u001b[34m[11:19:10] src/tree/updater_prune.cc:74: tree pruning end, 1 roots, 22 extra nodes, 790 pruned nodes, max_depth=8\u001b[0m\n",
      "\u001b[34m[66]#011train-rmse:0.305658#011validation-rmse:1.11038\u001b[0m\n",
      "\u001b[34m[11:19:10] src/tree/updater_prune.cc:74: tree pruning end, 1 roots, 46 extra nodes, 880 pruned nodes, max_depth=18\u001b[0m\n",
      "\u001b[34m[67]#011train-rmse:0.302141#011validation-rmse:1.11105\u001b[0m\n",
      "\u001b[34m[11:19:10] src/tree/updater_prune.cc:74: tree pruning end, 1 roots, 26 extra nodes, 1440 pruned nodes, max_depth=10\u001b[0m\n",
      "\u001b[34m[68]#011train-rmse:0.299272#011validation-rmse:1.11143\u001b[0m\n",
      "\u001b[34m[11:19:10] src/tree/updater_prune.cc:74: tree pruning end, 1 roots, 38 extra nodes, 724 pruned nodes, max_depth=12\u001b[0m\n",
      "\u001b[34m[69]#011train-rmse:0.298491#011validation-rmse:1.11239\u001b[0m\n",
      "\u001b[34m[11:19:10] src/tree/updater_prune.cc:74: tree pruning end, 1 roots, 50 extra nodes, 582 pruned nodes, max_depth=17\u001b[0m\n",
      "\u001b[34m[70]#011train-rmse:0.29759#011validation-rmse:1.11234\u001b[0m\n",
      "\u001b[34m[11:19:10] src/tree/updater_prune.cc:74: tree pruning end, 1 roots, 50 extra nodes, 532 pruned nodes, max_depth=17\u001b[0m\n",
      "\u001b[34m[71]#011train-rmse:0.296451#011validation-rmse:1.11096\u001b[0m\n",
      "\u001b[34m[11:19:11] src/tree/updater_prune.cc:74: tree pruning end, 1 roots, 60 extra nodes, 762 pruned nodes, max_depth=16\u001b[0m\n",
      "\u001b[34m[72]#011train-rmse:0.293669#011validation-rmse:1.11252\u001b[0m\n",
      "\u001b[34m[11:19:11] src/tree/updater_prune.cc:74: tree pruning end, 1 roots, 44 extra nodes, 1178 pruned nodes, max_depth=15\u001b[0m\n",
      "\u001b[34m[73]#011train-rmse:0.29277#011validation-rmse:1.10994\u001b[0m\n",
      "\u001b[34m[11:19:11] src/tree/updater_prune.cc:74: tree pruning end, 1 roots, 42 extra nodes, 304 pruned nodes, max_depth=14\u001b[0m\n",
      "\u001b[34m[74]#011train-rmse:0.290335#011validation-rmse:1.11208\u001b[0m\n",
      "\u001b[34m[11:19:11] src/tree/updater_prune.cc:74: tree pruning end, 1 roots, 38 extra nodes, 484 pruned nodes, max_depth=13\u001b[0m\n",
      "\u001b[34m[75]#011train-rmse:0.289519#011validation-rmse:1.11182\u001b[0m\n",
      "\u001b[34m[11:19:11] src/tree/updater_prune.cc:74: tree pruning end, 1 roots, 36 extra nodes, 194 pruned nodes, max_depth=16\u001b[0m\n",
      "\u001b[34m[76]#011train-rmse:0.288736#011validation-rmse:1.11069\u001b[0m\n",
      "\u001b[34m[11:19:12] src/tree/updater_prune.cc:74: tree pruning end, 1 roots, 32 extra nodes, 526 pruned nodes, max_depth=11\u001b[0m\n",
      "\u001b[34m[77]#011train-rmse:0.286561#011validation-rmse:1.11005\u001b[0m\n",
      "\u001b[34m[11:19:12] src/tree/updater_prune.cc:74: tree pruning end, 1 roots, 38 extra nodes, 554 pruned nodes, max_depth=15\u001b[0m\n",
      "\u001b[34m[78]#011train-rmse:0.285182#011validation-rmse:1.11125\u001b[0m\n",
      "\u001b[34m[11:19:12] src/tree/updater_prune.cc:74: tree pruning end, 1 roots, 40 extra nodes, 456 pruned nodes, max_depth=17\u001b[0m\n",
      "\u001b[34m[79]#011train-rmse:0.284641#011validation-rmse:1.11113\u001b[0m\n",
      "\u001b[34m[11:19:12] src/tree/updater_prune.cc:74: tree pruning end, 1 roots, 46 extra nodes, 1738 pruned nodes, max_depth=18\u001b[0m\n",
      "\u001b[34m[80]#011train-rmse:0.283204#011validation-rmse:1.1117\u001b[0m\n",
      "\u001b[34m[11:19:12] src/tree/updater_prune.cc:74: tree pruning end, 1 roots, 40 extra nodes, 1160 pruned nodes, max_depth=13\u001b[0m\n",
      "\u001b[34m[81]#011train-rmse:0.282244#011validation-rmse:1.10947\u001b[0m\n",
      "\u001b[34m[11:19:13] src/tree/updater_prune.cc:74: tree pruning end, 1 roots, 22 extra nodes, 614 pruned nodes, max_depth=9\u001b[0m\n",
      "\u001b[34m[82]#011train-rmse:0.281617#011validation-rmse:1.10906\u001b[0m\n",
      "\u001b[34m[11:19:13] src/tree/updater_prune.cc:74: tree pruning end, 1 roots, 28 extra nodes, 422 pruned nodes, max_depth=13\u001b[0m\n",
      "\u001b[34m[83]#011train-rmse:0.279447#011validation-rmse:1.11174\u001b[0m\n",
      "\u001b[34m[11:19:13] src/tree/updater_prune.cc:74: tree pruning end, 1 roots, 38 extra nodes, 470 pruned nodes, max_depth=16\u001b[0m\n",
      "\u001b[34m[84]#011train-rmse:0.278683#011validation-rmse:1.11343\u001b[0m\n",
      "\u001b[34mStopping. Best iteration:\u001b[0m\n",
      "\u001b[34m[64]#011train-rmse:0.312007#011validation-rmse:1.10693\n",
      "\u001b[0m\n",
      "Training seconds: 69\n",
      "Billable seconds: 69\n"
     ]
    }
   ],
   "source": [
    "xgb_optim.model = Estimator.attach('xgboost-210207-1105-016-7807dba6')"
   ]
  },
  {
   "cell_type": "code",
   "execution_count": null,
   "id": "south-japanese",
   "metadata": {},
   "outputs": [
    {
     "name": "stderr",
     "output_type": "stream",
     "text": [
      "Parameter image will be renamed to image_uri in SageMaker Python SDK v2.\n",
      "Using already existing model: xgboost-210207-1105-016-7807dba6\n"
     ]
    },
    {
     "name": "stdout",
     "output_type": "stream",
     "text": [
      "---"
     ]
    }
   ],
   "source": [
    "xgb_optim.init_predictor()"
   ]
  },
  {
   "cell_type": "code",
   "execution_count": null,
   "id": "confused-pakistan",
   "metadata": {},
   "outputs": [],
   "source": [
    "trainval = xgb_optim.sets['trainval']['ori'].copy()\n",
    "trainval.set_index('time', drop=True, inplace=True)\n",
    "\n",
    "test_result = xgb_optim.predict('test', unscaled=False)\n",
    "test_result_unscaled = xgb_optim.predict('test', unscaled=True)\n",
    "test_result_loc = os.path.join('./results', name + '_unscaled.csv')\n",
    "test_result_unscaled.to_csv(test_result_loc)"
   ]
  },
  {
   "cell_type": "code",
   "execution_count": null,
   "id": "demonstrated-passing",
   "metadata": {},
   "outputs": [],
   "source": [
    "test_result_loc = os.path.join('./results', name + '_unscaled.csv')\n",
    "test_result_unscaled = pd.read_csv(test_result_loc, parse_dates=['time'], index_col=0, keep_default_na=False, header=0)\n",
    "trade_result = source.metric.trade(test_result_unscaled, target)"
   ]
  },
  {
   "cell_type": "code",
   "execution_count": null,
   "id": "typical-inflation",
   "metadata": {},
   "outputs": [],
   "source": [
    "print('RMSE: ', source.metric.RMSE(test_result_unscaled, target))"
   ]
  },
  {
   "cell_type": "code",
   "execution_count": null,
   "id": "allied-berkeley",
   "metadata": {},
   "outputs": [],
   "source": [
    "source.plot.plot_results({\"Test\": test_result}, 'BTC Price (Scaled) - ' + name, 'BTC', figsize=(10,5))"
   ]
  },
  {
   "cell_type": "code",
   "execution_count": null,
   "id": "based-jimmy",
   "metadata": {},
   "outputs": [],
   "source": [
    "source.plot.plot_results({\"Train\": trainval, 'Test': test_result_unscaled}, 'BTC Price (Unscaled) - ' + name, 'BTC', scale='log')"
   ]
  },
  {
   "cell_type": "code",
   "execution_count": null,
   "id": "cathedral-priest",
   "metadata": {},
   "outputs": [],
   "source": [
    "source.plot.plot_results({'Test': test_result_unscaled}, 'BTC Price (Unscaled) - ' + name, 'BTC', scale='linear', figsize=(10,5))"
   ]
  },
  {
   "cell_type": "code",
   "execution_count": null,
   "id": "driving-cholesterol",
   "metadata": {},
   "outputs": [],
   "source": [
    "source.plot.plot_history({name: trade_result}, 'Trading Result -' + name)"
   ]
  },
  {
   "cell_type": "code",
   "execution_count": null,
   "id": "executed-fleet",
   "metadata": {},
   "outputs": [],
   "source": [
    "xgb_optim.cleanup()"
   ]
  },
  {
   "cell_type": "markdown",
   "id": "matched-bronze",
   "metadata": {},
   "source": [
    "<h2> Trade Result Comparison </h2>"
   ]
  },
  {
   "cell_type": "code",
   "execution_count": null,
   "id": "canadian-synthesis",
   "metadata": {},
   "outputs": [],
   "source": [
    "%%capture\n",
    "models = ['SMA-3', 'XGB-2', 'NN-3', 'DA-1', 'XGB-Optim']\n",
    "sets = {}\n",
    "\n",
    "for name in models:\n",
    "    test_result_loc = os.path.join('./results', name + '_unscaled.csv')\n",
    "    test_result_unscaled = pd.read_csv(test_result_loc, parse_dates=['time'], index_col=0, keep_default_na=False, header=0)\n",
    "    trade_result = source.metric.trade(test_result_unscaled, target)\n",
    "    sets[name] = trade_result\n",
    "\n",
    "source.plot.plot_history(sets, '%Returns', figsize=(10,6))"
   ]
  },
  {
   "cell_type": "code",
   "execution_count": null,
   "id": "dangerous-breeding",
   "metadata": {},
   "outputs": [],
   "source": []
  }
 ],
 "metadata": {
  "kernelspec": {
   "display_name": "conda_amazonei_mxnet_p36",
   "language": "python",
   "name": "conda_amazonei_mxnet_p36"
  },
  "language_info": {
   "codemirror_mode": {
    "name": "ipython",
    "version": 3
   },
   "file_extension": ".py",
   "mimetype": "text/x-python",
   "name": "python",
   "nbconvert_exporter": "python",
   "pygments_lexer": "ipython3",
   "version": "3.6.10"
  }
 },
 "nbformat": 4,
 "nbformat_minor": 5
}
