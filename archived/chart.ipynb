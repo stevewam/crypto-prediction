{
 "cells": [
  {
   "cell_type": "code",
   "execution_count": 20,
   "metadata": {},
   "outputs": [],
   "source": [
    "import pandas as pd"
   ]
  },
  {
   "cell_type": "code",
   "execution_count": 21,
   "metadata": {},
   "outputs": [],
   "source": [
    "df = pd.read_csv('data.csv', delimiter=';')"
   ]
  },
  {
   "cell_type": "code",
   "execution_count": 24,
   "metadata": {},
   "outputs": [],
   "source": [
    "df = df.reset_index()"
   ]
  },
  {
   "cell_type": "code",
   "execution_count": 25,
   "metadata": {},
   "outputs": [],
   "source": [
    "df.columns = ['Name', 'THB', 'USD', '%Cat', 'Cat']"
   ]
  },
  {
   "cell_type": "code",
   "execution_count": 29,
   "metadata": {},
   "outputs": [],
   "source": [
    "df = df.dropna(subset=['Name'])"
   ]
  },
  {
   "cell_type": "code",
   "execution_count": 31,
   "metadata": {},
   "outputs": [],
   "source": [
    "df = df.iloc[1:,:]"
   ]
  },
  {
   "cell_type": "code",
   "execution_count": 35,
   "metadata": {},
   "outputs": [
    {
     "name": "stderr",
     "output_type": "stream",
     "text": [
      "/home/ec2-user/anaconda3/envs/amazonei_mxnet_p36/lib/python3.6/site-packages/ipykernel/__main__.py:1: SettingWithCopyWarning: \n",
      "A value is trying to be set on a copy of a slice from a DataFrame.\n",
      "Try using .loc[row_indexer,col_indexer] = value instead\n",
      "\n",
      "See the caveats in the documentation: https://pandas.pydata.org/pandas-docs/stable/user_guide/indexing.html#returning-a-view-versus-a-copy\n",
      "  if __name__ == '__main__':\n"
     ]
    }
   ],
   "source": [
    "df['Cat'] = df['Cat'].fillna(method='ffill')"
   ]
  },
  {
   "cell_type": "code",
   "execution_count": 37,
   "metadata": {},
   "outputs": [],
   "source": [
    "import pandas as pd\n",
    "from statsmodels.graphics.mosaicplot import mosaic\n",
    "import pylab\n",
    "from itertools import product\n",
    "import numpy as np\n",
    "\n",
    "rand = np.random.random\n",
    "speaks_mul_foreign_languages = list(product(['male', 'female'], ['yes', 'no']))\n",
    "index = pd.MultiIndex.from_tuples(speaks_mul_foreign_languages, names=['male', 'female'])\n",
    "data = pd.Series(rand(4), index=index)\n",
    "# mosaic(data, gap=0.01, title='Who knows multiple foregin languages? - Mosaic Chart')\n",
    "# pylab.show()"
   ]
  },
  {
   "cell_type": "code",
   "execution_count": 40,
   "metadata": {},
   "outputs": [
    {
     "data": {
      "image/png": "[encoded data removed]",
      "text/plain": [
       "<Figure size 432x288 with 2 Axes>"
      ]
     },
     "metadata": {
      "needs_background": "light"
     },
     "output_type": "display_data"
    }
   ],
   "source": [
    "import numpy as np\n",
    "import matplotlib.pyplot as plt\n",
    "import matplotlib.colors as mcolors\n",
    "import matplotlib.cm as cm\n",
    "\n",
    "\n",
    "x = np.array([0.       , 0.4512135, 0.760715 , 0.775948 , 0.977063 , 1.170482 ,\n",
    "       1.229812 , 1.3009845, 1.347207 , 1.4155705, 1.928897 ])\n",
    "\n",
    "bin_width = np.diff(x)\n",
    "\n",
    "y = np.array([ 0.40048296,  1.11131896,  0.30525134,  3.86793415, 21.80974083,\n",
    "       11.88354534, 13.84599687,  9.7484865 ,  9.5418679 , 22.39983675])\n",
    "z = np.array([0.       , 0.4512135, -0.760715 , 0.775948 , 0.977063 , 1.170482 ,\n",
    "       1.229812 , 1.3009845, 1.347207 , -1.4155705])\n",
    "\n",
    "fig, ax = plt.subplots()\n",
    "\n",
    "\n",
    "cmap = plt.cm.RdYlBu\n",
    "norm = mcolors.DivergingNorm(vmin=z.min(), vcenter=0., vmax=z.max())\n",
    "sm = cm.ScalarMappable(cmap=cmap, norm=norm)\n",
    "sm.set_array([])\n",
    "\n",
    "bar_plot = ax.bar(x[:-1], y,  color=cmap(norm(z)),  width=bin_width,  align='edge')\n",
    "\n",
    "cbar = fig.colorbar(sm)\n",
    "\n",
    "ax.set_ylabel(\"y\")\n",
    "\n",
    "plt.show()"
   ]
  },
  {
   "cell_type": "code",
   "execution_count": 39,
   "metadata": {},
   "outputs": [
    {
     "ename": "ValueError",
     "evalue": "You must pass an index if data is a DataFrame. See examples.",
     "output_type": "error",
     "traceback": [
      "\u001b[0;31m---------------------------------------------------------------------------\u001b[0m",
      "\u001b[0;31mValueError\u001b[0m                                Traceback (most recent call last)",
      "\u001b[0;32m<ipython-input-39-80487383ed71>\u001b[0m in \u001b[0;36m<module>\u001b[0;34m\u001b[0m\n\u001b[0;32m----> 1\u001b[0;31m \u001b[0mmosaic\u001b[0m\u001b[0;34m(\u001b[0m\u001b[0mdf\u001b[0m\u001b[0;34m)\u001b[0m\u001b[0;34m\u001b[0m\u001b[0;34m\u001b[0m\u001b[0m\n\u001b[0m",
      "\u001b[0;32m~/anaconda3/envs/amazonei_mxnet_p36/lib/python3.6/site-packages/statsmodels/graphics/mosaicplot.py\u001b[0m in \u001b[0;36mmosaic\u001b[0;34m(data, index, ax, horizontal, gap, properties, labelizer, title, statistic, axes_label, label_rotation)\u001b[0m\n\u001b[1;32m    619\u001b[0m     \"\"\"\n\u001b[1;32m    620\u001b[0m     \u001b[0;32mif\u001b[0m \u001b[0misinstance\u001b[0m\u001b[0;34m(\u001b[0m\u001b[0mdata\u001b[0m\u001b[0;34m,\u001b[0m \u001b[0mDataFrame\u001b[0m\u001b[0;34m)\u001b[0m \u001b[0;32mand\u001b[0m \u001b[0mindex\u001b[0m \u001b[0;32mis\u001b[0m \u001b[0;32mNone\u001b[0m\u001b[0;34m:\u001b[0m\u001b[0;34m\u001b[0m\u001b[0;34m\u001b[0m\u001b[0m\n\u001b[0;32m--> 621\u001b[0;31m         raise ValueError(\"You must pass an index if data is a DataFrame.\"\n\u001b[0m\u001b[1;32m    622\u001b[0m                          \" See examples.\")\n\u001b[1;32m    623\u001b[0m \u001b[0;34m\u001b[0m\u001b[0m\n",
      "\u001b[0;31mValueError\u001b[0m: You must pass an index if data is a DataFrame. See examples."
     ]
    }
   ],
   "source": [
    "mosaic(df)"
   ]
  },
  {
   "cell_type": "code",
   "execution_count": null,
   "metadata": {},
   "outputs": [],
   "source": []
  }
 ],
 "metadata": {
  "kernelspec": {
   "display_name": "conda_amazonei_mxnet_p36",
   "language": "python",
   "name": "conda_amazonei_mxnet_p36"
  },
  "language_info": {
   "codemirror_mode": {
    "name": "ipython",
    "version": 3
   },
   "file_extension": ".py",
   "mimetype": "text/x-python",
   "name": "python",
   "nbconvert_exporter": "python",
   "pygments_lexer": "ipython3",
   "version": "3.6.10"
  }
 },
 "nbformat": 4,
 "nbformat_minor": 4
}
