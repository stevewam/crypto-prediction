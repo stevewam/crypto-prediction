{
 "cells": [
  {
   "cell_type": "code",
   "execution_count": 1,
   "metadata": {
    "collapsed": true,
    "jupyter": {
     "outputs_hidden": true
    }
   },
   "outputs": [
    {
     "name": "stdout",
     "output_type": "stream",
     "text": [
      "Requirement already satisfied: sagemaker==1.72.0 in /home/ec2-user/anaconda3/envs/amazonei_mxnet_p36/lib/python3.6/site-packages (1.72.0)\n",
      "Requirement already satisfied: protobuf>=3.1 in /home/ec2-user/anaconda3/envs/amazonei_mxnet_p36/lib/python3.6/site-packages (from sagemaker==1.72.0) (3.14.0)\n",
      "Requirement already satisfied: numpy>=1.9.0 in /home/ec2-user/anaconda3/envs/amazonei_mxnet_p36/lib/python3.6/site-packages (from sagemaker==1.72.0) (1.19.4)\n",
      "Requirement already satisfied: protobuf3-to-dict>=0.1.5 in /home/ec2-user/anaconda3/envs/amazonei_mxnet_p36/lib/python3.6/site-packages (from sagemaker==1.72.0) (0.1.5)\n",
      "Requirement already satisfied: importlib-metadata>=1.4.0 in /home/ec2-user/anaconda3/envs/amazonei_mxnet_p36/lib/python3.6/site-packages (from sagemaker==1.72.0) (3.1.0)\n",
      "Requirement already satisfied: packaging>=20.0 in /home/ec2-user/anaconda3/envs/amazonei_mxnet_p36/lib/python3.6/site-packages (from sagemaker==1.72.0) (20.7)\n",
      "Requirement already satisfied: scipy>=0.19.0 in /home/ec2-user/anaconda3/envs/amazonei_mxnet_p36/lib/python3.6/site-packages (from sagemaker==1.72.0) (1.4.1)\n",
      "Requirement already satisfied: smdebug-rulesconfig==0.1.4 in /home/ec2-user/anaconda3/envs/amazonei_mxnet_p36/lib/python3.6/site-packages (from sagemaker==1.72.0) (0.1.4)\n",
      "Requirement already satisfied: boto3>=1.14.12 in /home/ec2-user/anaconda3/envs/amazonei_mxnet_p36/lib/python3.6/site-packages (from sagemaker==1.72.0) (1.16.37)\n",
      "Requirement already satisfied: botocore<1.20.0,>=1.19.37 in /home/ec2-user/anaconda3/envs/amazonei_mxnet_p36/lib/python3.6/site-packages (from boto3>=1.14.12->sagemaker==1.72.0) (1.19.37)\n",
      "Requirement already satisfied: jmespath<1.0.0,>=0.7.1 in /home/ec2-user/anaconda3/envs/amazonei_mxnet_p36/lib/python3.6/site-packages (from boto3>=1.14.12->sagemaker==1.72.0) (0.10.0)\n",
      "Requirement already satisfied: s3transfer<0.4.0,>=0.3.0 in /home/ec2-user/anaconda3/envs/amazonei_mxnet_p36/lib/python3.6/site-packages (from boto3>=1.14.12->sagemaker==1.72.0) (0.3.3)\n",
      "Requirement already satisfied: python-dateutil<3.0.0,>=2.1 in /home/ec2-user/anaconda3/envs/amazonei_mxnet_p36/lib/python3.6/site-packages (from botocore<1.20.0,>=1.19.37->boto3>=1.14.12->sagemaker==1.72.0) (2.8.1)\n",
      "Requirement already satisfied: jmespath<1.0.0,>=0.7.1 in /home/ec2-user/anaconda3/envs/amazonei_mxnet_p36/lib/python3.6/site-packages (from boto3>=1.14.12->sagemaker==1.72.0) (0.10.0)\n",
      "Requirement already satisfied: urllib3<1.27,>=1.25.4 in /home/ec2-user/anaconda3/envs/amazonei_mxnet_p36/lib/python3.6/site-packages (from botocore<1.20.0,>=1.19.37->boto3>=1.14.12->sagemaker==1.72.0) (1.25.11)\n",
      "Requirement already satisfied: zipp>=0.5 in /home/ec2-user/anaconda3/envs/amazonei_mxnet_p36/lib/python3.6/site-packages (from importlib-metadata>=1.4.0->sagemaker==1.72.0) (3.4.0)\n",
      "Requirement already satisfied: pyparsing>=2.0.2 in /home/ec2-user/anaconda3/envs/amazonei_mxnet_p36/lib/python3.6/site-packages (from packaging>=20.0->sagemaker==1.72.0) (2.4.7)\n",
      "Requirement already satisfied: six>=1.9 in /home/ec2-user/anaconda3/envs/amazonei_mxnet_p36/lib/python3.6/site-packages (from protobuf>=3.1->sagemaker==1.72.0) (1.15.0)\n",
      "Requirement already satisfied: six>=1.9 in /home/ec2-user/anaconda3/envs/amazonei_mxnet_p36/lib/python3.6/site-packages (from protobuf>=3.1->sagemaker==1.72.0) (1.15.0)\n",
      "Requirement already satisfied: protobuf>=3.1 in /home/ec2-user/anaconda3/envs/amazonei_mxnet_p36/lib/python3.6/site-packages (from sagemaker==1.72.0) (3.14.0)\n",
      "Requirement already satisfied: six>=1.9 in /home/ec2-user/anaconda3/envs/amazonei_mxnet_p36/lib/python3.6/site-packages (from protobuf>=3.1->sagemaker==1.72.0) (1.15.0)\n",
      "Requirement already satisfied: botocore<1.20.0,>=1.19.37 in /home/ec2-user/anaconda3/envs/amazonei_mxnet_p36/lib/python3.6/site-packages (from boto3>=1.14.12->sagemaker==1.72.0) (1.19.37)\n",
      "Requirement already satisfied: numpy>=1.9.0 in /home/ec2-user/anaconda3/envs/amazonei_mxnet_p36/lib/python3.6/site-packages (from sagemaker==1.72.0) (1.19.4)\n",
      "\u001b[33mWARNING: You are using pip version 20.3; however, version 21.0 is available.\n",
      "You should consider upgrading via the '/home/ec2-user/anaconda3/envs/amazonei_mxnet_p36/bin/python -m pip install --upgrade pip' command.\u001b[0m\n"
     ]
    }
   ],
   "source": [
    "!pip install sagemaker==1.72.0"
   ]
  },
  {
   "cell_type": "code",
   "execution_count": 22,
   "metadata": {},
   "outputs": [],
   "source": [
    "%matplotlib inline\n",
    "import os\n",
    "import ast\n",
    "import json\n",
    "import numpy as np\n",
    "import pandas as pd\n",
    "import source\n",
    "\n",
    "import matplotlib.pyplot as plt\n",
    "from sklearn.datasets import load_boston\n",
    "import sklearn.model_selection\n",
    "\n",
    "import boto3\n",
    "import sagemaker\n",
    "from sagemaker import get_execution_role\n",
    "from sagemaker.amazon.amazon_estimator import get_image_uri\n",
    "from sagemaker.predictor import csv_serializer\n",
    "from sagemaker.xgboost.estimator import XGBoost\n",
    "from sagemaker.sklearn.estimator import SKLearn\n",
    "from sklearn.preprocessing import MinMaxScaler\n",
    "\n",
    "import warnings\n",
    "warnings.filterwarnings('ignore')\n",
    "\n",
    "session = sagemaker.Session()\n",
    "role = get_execution_role()"
   ]
  },
  {
   "cell_type": "code",
   "execution_count": 23,
   "metadata": {},
   "outputs": [],
   "source": [
    "data_df = pd.read_csv(\"./data/processed_data.csv\")"
   ]
  },
  {
   "cell_type": "markdown",
   "metadata": {},
   "source": [
    "<h2> Train and Test Set </h2>\n",
    "\n",
    "Before moving on to modelling, let us define the training and test set. In this project, we will be trading from April 27, 2017 onwards. Therefore, training set will include all data *before* this cutoff date, while test set will include all data *after* this cutoff date.\n",
    "\n",
    "Furthermore, I will limiting the universe of the cryptocurrency to the top 10 currency by ranking as of the end of training, April 26, 2017.\n",
    "\n",
    "Unfortunate, since our features set is generated based on the value of $w$ we choose, we cannot separate the the training and test set using the raw data. Therefore, we will create a function to do this. For now, we can find the top 10 currency first."
   ]
  },
  {
   "cell_type": "code",
   "execution_count": 24,
   "metadata": {},
   "outputs": [],
   "source": [
    "end_of_training_data = data_df[data_df['time'] == '2016-04-26']\n",
    "top_20 = end_of_training_data.nsmallest(columns='rank', n=20)['sym'].values\n",
    "data_df = data_df[data_df['sym'].isin(top_20)].reset_index(drop=True)\n",
    "\n",
    "START_TEST = pd.Timestamp('2017-10-25')\n",
    "START_VAL = pd.Timestamp('2016-10-25')"
   ]
  },
  {
   "cell_type": "markdown",
   "metadata": {},
   "source": [
    "We will be experimenting with the following algorithms for the model:\n",
    "1. XGBoost\n",
    "2. Simple Custom Neural Net\n",
    "3. Long Short Term Memory Networks\n",
    "\n",
    "Before I work with these models, I will start with the benchmark model first which is based on Simple Moving Average model."
   ]
  },
  {
   "cell_type": "markdown",
   "metadata": {},
   "source": [
    "<h2> Simple Moving Average (SMA)</h2>\n",
    "\n",
    "In Simple Moving Average, the predicted next price is equal to the average of the last $w$ data points. In addition to creating this model, I will be creating the function to implement the trading strategy in this section as well."
   ]
  },
  {
   "cell_type": "code",
   "execution_count": 25,
   "metadata": {},
   "outputs": [],
   "source": [
    "# Since our create_features function calculate the average of the last w prices as one of our features, we can reuse it to perform SMA\n",
    "def predict_sma(features_df, target='price'):\n",
    "    return features_df['price_1_mean']\n",
    "\n",
    "# Function to calculate Root Mean Squared of Error, an useful metric to gauge how accurate the model is\n",
    "def calculate_mape(asset_matrix):\n",
    "    asset_matrix['error'] = abs(1 - (asset_matrix['predicted_price']/asset_matrix['actual_price'])) * 100\n",
    "    mape = sum(asset_matrix['error'])/len(asset_matrix)\n",
    "    print('MAPE: {:.4f}'.format(mape))\n",
    "    return mape\n",
    "\n",
    "# Function to create a dataframe containing calculations needed to execute the trading strategy\n",
    "def construct_asset_matrix(test_df, pred, pred_type='price'):\n",
    "    result = test_df.copy()\n",
    "    \n",
    "    if pred_type == 'price':\n",
    "        result = result[['sym', 'price_4_last', 'market_cap_4_last', 'target']]\n",
    "        result.columns = ['sym', 'previous_price', 'previous_market_cap', 'actual_price']\n",
    "        result['predicted_price'] = pred.values\n",
    "        result['expected_roi'] = result['predicted_price']/result['previous_price'] - 1\n",
    "        result['actual_roi'] = result['actual_price']/result['previous_price'] - 1\n",
    "    else:\n",
    "        result = result[['sym', 'price_4_last', 'market_cap_4_last', 'target']]\n",
    "        result.columns = ['sym', 'previous_price', 'previous_market_cap', 'actual_roi']\n",
    "        result['expected_roi'] = pred.values\n",
    "        result['predicted_price'] = result['previous_price'] * (1 + result['expected_roi'])\n",
    "        result['actual_price'] = result['previous_price'] * (1 + result['actual_roi'])\n",
    "        \n",
    "    return result\n",
    "\n",
    "# Function to plot predicted vs actual price for a given asset using asset matrix\n",
    "def plot_predicted_vs_actual(asset_matrix, sym):\n",
    "    plt.figure(figsize=(10,5))\n",
    "\n",
    "    asset_matrix[asset_matrix['sym'] == sym]['predicted_price'].plot(label='Prediction', lw=1)\n",
    "    asset_matrix[asset_matrix['sym'] == sym]['actual_price'].plot(label='Actual', lw=1)\n",
    "\n",
    "    plt.legend()\n",
    "    plt.show()"
   ]
  },
  {
   "cell_type": "code",
   "execution_count": 26,
   "metadata": {},
   "outputs": [],
   "source": [
    "sma_features = source.create_features(data_df, w=5)\n",
    "sma_pred = predict_sma(sma_features)"
   ]
  },
  {
   "cell_type": "code",
   "execution_count": 27,
   "metadata": {},
   "outputs": [],
   "source": [
    "asset_matrix = construct_asset_matrix(sma_features, sma_pred)"
   ]
  },
  {
   "cell_type": "markdown",
   "metadata": {},
   "source": [
    "<h2>Trading Strategy</h2>\n",
    "\n",
    "Now that we have the predicted price for a given time period, we can build a portfolio at each time step so that we can have an idea how much profit can be generated by using the SMA prediction model. The strategy employed to build the portfolio will be standardized accross all the different prediction model we will explore later as well.\n",
    "\n",
    "The strategy will be to invest in the top $n$ coins with the highest expected ROI and then sell it the following day. To simplify the calculation, we will be ignoring the transaction cost. As the algorithm continues to trade, it will re-evaluate the best value of $n$ for a given time period such that it maximizes the Sharpe ratio based on the predicted prices on the next time step.\n",
    "\n",
    "We will be trading for 1 year from April 12, 2017 and April 12, 2018."
   ]
  },
  {
   "cell_type": "code",
   "execution_count": 28,
   "metadata": {},
   "outputs": [],
   "source": [
    "test_features_df = source.create_features(data_df, w=5)\n",
    "test_sma_df = test_features_df[pd.to_datetime(test_features_df.index) >= START_TEST]\n",
    "test_sma_pred = predict_sma(test_sma_df)\n",
    "test_asset_matrix = construct_asset_matrix(test_sma_df, test_sma_pred)"
   ]
  },
  {
   "cell_type": "code",
   "execution_count": 29,
   "metadata": {},
   "outputs": [
    {
     "data": {
      "image/png": "[encoded data removed]",
      "text/plain": [
       "<Figure size 720x360 with 1 Axes>"
      ]
     },
     "metadata": {
      "needs_background": "light"
     },
     "output_type": "display_data"
    }
   ],
   "source": [
    "plot_predicted_vs_actual(test_asset_matrix, 'BTC')"
   ]
  },
  {
   "cell_type": "code",
   "execution_count": 43,
   "metadata": {},
   "outputs": [],
   "source": [
    "# Function to update mean based on new value\n",
    "def update_mean(mean, t, new_value):\n",
    "    if t == 0:\n",
    "        return new_value\n",
    "    else:\n",
    "        return (mean * (t - 1) + new_value) / t\n",
    "\n",
    "# Function to update standard deviation based on new value\n",
    "def update_std(std, mean, new_mean, t, new_value):\n",
    "    if t == 0:\n",
    "        return 0\n",
    "    else:\n",
    "        return np.sqrt((std ** 2 * (t - 1) + (new_value - new_mean) * (new_value - mean)) / t)\n",
    "\n",
    "# Function to execute the trading strategy over the trading horizon using asset matrix\n",
    "def evaluate_strategy(asset_matrix, n=10):\n",
    "    initial_value = 10000\n",
    "    total_value = initial_value\n",
    "    sharpe_ratio = None\n",
    "    mean_roi = 0\n",
    "    std_roi = 0\n",
    "    t = 1\n",
    "    percent_returns = 0\n",
    "    value_history = []\n",
    "    roi_history = []\n",
    "    top_roi = []\n",
    "\n",
    "    dates = list(set(asset_matrix.index))\n",
    "    dates.sort()\n",
    "\n",
    "    for date in dates:\n",
    "\n",
    "        coins_stats_df = asset_matrix.loc[date,:]\n",
    "        try:\n",
    "            coins_stats_df = coins_stats_df.sort_values(by='expected_roi', ascending=False)\n",
    "        except:\n",
    "            pass\n",
    "        coins_stats_df = coins_stats_df[coins_stats_df['expected_roi'] > 0]\n",
    "        \n",
    "        if coins_stats_df.empty:\n",
    "            prev_mean_roi = mean_roi\n",
    "            mean_roi = update_mean(prev_mean_roi, t, 0)\n",
    "            std_roi = update_std(std_roi, prev_mean_roi, mean_roi, t, 0)\n",
    "            value_history.append(total_value)\n",
    "            roi_history.append(0)\n",
    "            continue\n",
    "       \n",
    "        day_return = sum(coins_stats_df.iloc[:n,:]['actual_roi'] * total_value / n)\n",
    "        day_roi = day_return/total_value\n",
    "        total_value += day_return\n",
    "        percent_returns = (total_value/initial_value - 1) * 100\n",
    "\n",
    "        prev_mean_roi = mean_roi\n",
    "        mean_roi = update_mean(prev_mean_roi, t, day_roi)\n",
    "        std_roi = update_std(std_roi, prev_mean_roi, mean_roi, t, day_roi)\n",
    "        sharpe_ratio = mean_roi/std_roi\n",
    "        \n",
    "        value_history.append(total_value)\n",
    "        roi_history.append(day_roi)\n",
    "\n",
    "        t += 1\n",
    "        \n",
    "    print('Cumulative Returns: {:.2e}%, Sharpe Ratio: {:.4f}'.format(percent_returns, sharpe_ratio))\n",
    "    \n",
    "    history = pd.concat([pd.DataFrame(dates), pd.DataFrame(value_history), pd.DataFrame(roi_history)], axis=1)\n",
    "    history.columns = ['time', 'total_value', 'roi']\n",
    "    history = history.set_index('time')\n",
    "    return sharpe_ratio, percent_returns, history"
   ]
  },
  {
   "cell_type": "code",
   "execution_count": 31,
   "metadata": {},
   "outputs": [
    {
     "name": "stdout",
     "output_type": "stream",
     "text": [
      "Cumulative Returns: 3.07e+04%, Sharpe Ratio: 0.2719\n"
     ]
    }
   ],
   "source": [
    "sma_result = evaluate_strategy(test_asset_matrix)"
   ]
  },
  {
   "cell_type": "code",
   "execution_count": 32,
   "metadata": {},
   "outputs": [
    {
     "data": {
      "image/png": "[encoded data removed]",
      "text/plain": [
       "<Figure size 432x288 with 1 Axes>"
      ]
     },
     "metadata": {
      "needs_background": "light"
     },
     "output_type": "display_data"
    }
   ],
   "source": [
    "plt.plot(sma_result[2]['total_value'])\n",
    "plt.yscale('log')\n",
    "plt.show()"
   ]
  },
  {
   "cell_type": "markdown",
   "metadata": {},
   "source": [
    "<h2> XGBoost </h2>\n",
    "\n",
    "Testing on XGBoost algorithm. We will experiment using different values of $w$."
   ]
  },
  {
   "cell_type": "code",
   "execution_count": 33,
   "metadata": {},
   "outputs": [],
   "source": [
    "def run_xgboost_model(w, hyperparams, prefix, data_dir, data_df, target='price'):\n",
    "    \n",
    "    features_df = source.create_features(data_df, w, target=target)\n",
    "    features_df = features_df[features_df['sym'] == 'BTC']\n",
    "    \n",
    "    train_df = features_df[features_df.index < START_VAL]\n",
    "    val_df = features_df[(features_df.index >= START_VAL) & (features_df.index < START_TEST)]\n",
    "    test_df = features_df[features_df.index >= START_TEST]\n",
    "    \n",
    "    X_train = pd.DataFrame(train_df.iloc[:,2:-2])\n",
    "    Y_train = pd.DataFrame(train_df['target'])\n",
    "    \n",
    "    X_val = pd.DataFrame(val_df.iloc[:,2:-2])\n",
    "    Y_val = pd.DataFrame(val_df['target'])\n",
    "    \n",
    "    X_test = pd.DataFrame(test_df.iloc[:,2:-2])\n",
    "    Y_test = pd.DataFrame(test_df['target'])\n",
    "    \n",
    "    pd.concat([Y_train, X_train], axis=1).to_csv(os.path.join(data_dir, 'train.csv'), header=False, index=False)\n",
    "    pd.concat([Y_val, X_val], axis=1).to_csv(os.path.join(data_dir, 'val.csv'), header=False, index=False)\n",
    "\n",
    "    train_location = session.upload_data(os.path.join(data_dir, 'train.csv'), key_prefix=prefix)\n",
    "    val_location = session.upload_data(os.path.join(data_dir, 'val.csv'), key_prefix=prefix)\n",
    "    \n",
    "    container = get_image_uri(session.boto_region_name, 'xgboost')\n",
    "\n",
    "    xgb = sagemaker.estimator.Estimator(container, # The name of the training container\n",
    "    role,      # The IAM role to use (our current role in this case)\n",
    "    train_instance_count=1, # The number of instances to use for training\n",
    "    train_instance_type='ml.m4.xlarge', # The type of instance ot use for training\n",
    "    output_path='s3://{}/{}/output'.format(session.default_bucket(), prefix),\n",
    "    # Where to save the output (the model artifacts)\n",
    "    sagemaker_session=session) # The current SageMaker session\n",
    "\n",
    "    xgb.set_hyperparameters(max_depth=5,\n",
    "                            eta=0.2,\n",
    "                            gamma=4,\n",
    "                            min_child_weight=6,\n",
    "                            subsample=0.8,\n",
    "                            objective='reg:linear',\n",
    "                            early_stopping_rounds=10,\n",
    "                            num_round=200)\n",
    "#     script_path = './source/custom_xgb.py'\n",
    "\n",
    "#     xgb_custom = XGBoost(entry_point=script_path,\n",
    "#                         framework_version='1.0-1',\n",
    "#                         hyperparameters=hyperparams,\n",
    "#                         role=role,\n",
    "#                         train_instance_count=1,\n",
    "#                         train_instance_type='ml.m4.xlarge',\n",
    "#                         output_path='s3://{}/{}/output'.format(session.default_bucket(), prefix))\n",
    "    \n",
    "    s3_input_train = sagemaker.s3_input(s3_data=train_location, content_type='csv')\n",
    "    s3_input_validation = sagemaker.s3_input(s3_data=val_location, content_type='csv')\n",
    "    xgb_custom.fit({'train': s3_input_train, 'validation': s3_input_validation})\n",
    "    \n",
    "    predictor = xgb_custom.deploy(initial_instance_count=1, instance_type=\"ml.m4.xlarge\")\n",
    "    \n",
    "    pred = []\n",
    "    i = 0\n",
    "    payload_list = [[str(entry) for entry in row] for row in X_test.values]\n",
    "\n",
    "    for j in range(10000,len(payload_list)+10000, 10000):\n",
    "        max_idx = min(len(payload_list), j)\n",
    "        payload = '\\n'.join([','.join(row) for row in payload_list[i:j]])\n",
    "        response = session.sagemaker_runtime_client.invoke_endpoint(\n",
    "                                                        EndpointName = predictor.endpoint, \n",
    "                                                        ContentType = 'text/csv',\n",
    "                                                        Body = payload)\n",
    "        result = response['Body'].read().decode(\"utf-8\")\n",
    "        pred_val = ast.literal_eval(result)\n",
    "        pred = pred + pred_val\n",
    "        i = j\n",
    "    \n",
    "    asset_matrix = construct_asset_matrix(test_df, pd.DataFrame(pred), pred_type=target)\n",
    "    \n",
    "    return asset_matrix\n",
    "#     result = evaluate_strategy(asset_matrix)\n",
    "    \n",
    "#     session.sagemaker_client.delete_endpoint(EndpointName = predictor.endpoint)\n",
    "    \n",
    "#     return asset_matrix, result\n",
    "    "
   ]
  },
  {
   "cell_type": "code",
   "execution_count": 34,
   "metadata": {},
   "outputs": [],
   "source": [
    "hyperparams = {\n",
    "        \"max_depth\": \"1000\",\n",
    "        \"eta\": \"0.2\",\n",
    "        \"gamma\": \"0\",\n",
    "        \"min_child_weight\": \"1\",\n",
    "        \"subsample\": \"0.8\",\n",
    "        \"objective\": \"reg:squarederror\",\n",
    "        \"num_round\": \"100\",\n",
    "        \"verbosity\": \"0\",\n",
    "        \"early_stopping_rounds\": \"10\",\n",
    "        \"disable\": '0'\n",
    "}"
   ]
  },
  {
   "cell_type": "code",
   "execution_count": 36,
   "metadata": {},
   "outputs": [
    {
     "name": "stderr",
     "output_type": "stream",
     "text": [
      "'s3_input' class will be renamed to 'TrainingInput' in SageMaker Python SDK v2.\n",
      "'s3_input' class will be renamed to 'TrainingInput' in SageMaker Python SDK v2.\n"
     ]
    },
    {
     "name": "stdout",
     "output_type": "stream",
     "text": [
      "2021-01-26 14:25:48 Starting - Starting the training job...\n",
      "2021-01-26 14:25:51 Starting - Launching requested ML instances......\n",
      "2021-01-26 14:26:56 Starting - Preparing the instances for training......\n",
      "2021-01-26 14:27:54 Downloading - Downloading input data...\n",
      "2021-01-26 14:28:33 Training - Downloading the training image..\u001b[34mINFO:sagemaker-containers:Imported framework sagemaker_xgboost_container.training\u001b[0m\n",
      "\u001b[34mINFO:sagemaker-containers:No GPUs detected (normal if no gpus installed)\u001b[0m\n",
      "\u001b[34mINFO:sagemaker_xgboost_container.training:Invoking user training script.\u001b[0m\n",
      "\u001b[34mINFO:sagemaker-containers:Module custom_xgb does not provide a setup.py. \u001b[0m\n",
      "\u001b[34mGenerating setup.py\u001b[0m\n",
      "\u001b[34mINFO:sagemaker-containers:Generating setup.cfg\u001b[0m\n",
      "\u001b[34mINFO:sagemaker-containers:Generating MANIFEST.in\u001b[0m\n",
      "\u001b[34mINFO:sagemaker-containers:Installing module with the following command:\u001b[0m\n",
      "\u001b[34m/miniconda3/bin/python -m pip install . \u001b[0m\n",
      "\u001b[34mProcessing /opt/ml/code\u001b[0m\n",
      "\u001b[34mBuilding wheels for collected packages: custom-xgb\n",
      "  Building wheel for custom-xgb (setup.py): started\n",
      "  Building wheel for custom-xgb (setup.py): finished with status 'done'\n",
      "  Created wheel for custom-xgb: filename=custom_xgb-1.0.0-py2.py3-none-any.whl size=6027 sha256=487b69f428f9d17388067039c07ed5bc90d9058cea33b1097d89c7c7d3c297c3\n",
      "  Stored in directory: /home/model-server/tmp/pip-ephem-wheel-cache-83zss7uh/wheels/95/c1/85/65aaf48b35aba88c6e896d2fd04a4b69f1cee0d81ea32993ca\u001b[0m\n",
      "\u001b[34mSuccessfully built custom-xgb\u001b[0m\n",
      "\u001b[34mInstalling collected packages: custom-xgb\u001b[0m\n",
      "\u001b[34mSuccessfully installed custom-xgb-1.0.0\u001b[0m\n",
      "\u001b[34mINFO:sagemaker-containers:No GPUs detected (normal if no gpus installed)\u001b[0m\n",
      "\u001b[34mINFO:sagemaker-containers:Invoking user script\n",
      "\u001b[0m\n",
      "\u001b[34mTraining Env:\n",
      "\u001b[0m\n",
      "\u001b[34m{\n",
      "    \"additional_framework_parameters\": {},\n",
      "    \"channel_input_dirs\": {\n",
      "        \"validation\": \"/opt/ml/input/data/validation\",\n",
      "        \"train\": \"/opt/ml/input/data/train\"\n",
      "    },\n",
      "    \"current_host\": \"algo-1\",\n",
      "    \"framework_module\": \"sagemaker_xgboost_container.training:main\",\n",
      "    \"hosts\": [\n",
      "        \"algo-1\"\n",
      "    ],\n",
      "    \"hyperparameters\": {\n",
      "        \"max_depth\": \"1000\",\n",
      "        \"early_stopping_rounds\": \"10\",\n",
      "        \"objective\": \"reg:squarederror\",\n",
      "        \"eta\": \"0.2\",\n",
      "        \"disable\": \"0\",\n",
      "        \"num_round\": \"100\",\n",
      "        \"subsample\": \"0.8\",\n",
      "        \"gamma\": \"0\",\n",
      "        \"min_child_weight\": \"1\",\n",
      "        \"verbosity\": \"0\"\n",
      "    },\n",
      "    \"input_config_dir\": \"/opt/ml/input/config\",\n",
      "    \"input_data_config\": {\n",
      "        \"validation\": {\n",
      "            \"ContentType\": \"csv\",\n",
      "            \"TrainingInputMode\": \"File\",\n",
      "            \"S3DistributionType\": \"FullyReplicated\",\n",
      "            \"RecordWrapperType\": \"None\"\n",
      "        },\n",
      "        \"train\": {\n",
      "            \"ContentType\": \"csv\",\n",
      "            \"TrainingInputMode\": \"File\",\n",
      "            \"S3DistributionType\": \"FullyReplicated\",\n",
      "            \"RecordWrapperType\": \"None\"\n",
      "        }\n",
      "    },\n",
      "    \"input_dir\": \"/opt/ml/input\",\n",
      "    \"is_master\": true,\n",
      "    \"job_name\": \"sagemaker-xgboost-2021-01-26-14-25-48-358\",\n",
      "    \"log_level\": 20,\n",
      "    \"master_hostname\": \"algo-1\",\n",
      "    \"model_dir\": \"/opt/ml/model\",\n",
      "    \"module_dir\": \"s3://sagemaker-us-east-2-937637726599/sagemaker-xgboost-2021-01-26-14-25-48-358/source/sourcedir.tar.gz\",\n",
      "    \"module_name\": \"custom_xgb\",\n",
      "    \"network_interface_name\": \"eth0\",\n",
      "    \"num_cpus\": 4,\n",
      "    \"num_gpus\": 0,\n",
      "    \"output_data_dir\": \"/opt/ml/output/data\",\n",
      "    \"output_dir\": \"/opt/ml/output\",\n",
      "    \"output_intermediate_dir\": \"/opt/ml/output/intermediate\",\n",
      "    \"resource_config\": {\n",
      "        \"current_host\": \"algo-1\",\n",
      "        \"hosts\": [\n",
      "            \"algo-1\"\n",
      "        ],\n",
      "        \"network_interface_name\": \"eth0\"\n",
      "    },\n",
      "    \"user_entry_point\": \"custom_xgb.py\"\u001b[0m\n",
      "\u001b[34m}\n",
      "\u001b[0m\n",
      "\u001b[34mEnvironment variables:\n",
      "\u001b[0m\n",
      "\u001b[34mSM_HOSTS=[\"algo-1\"]\u001b[0m\n",
      "\u001b[34mSM_NETWORK_INTERFACE_NAME=eth0\u001b[0m\n",
      "\u001b[34mSM_HPS={\"disable\":\"0\",\"early_stopping_rounds\":\"10\",\"eta\":\"0.2\",\"gamma\":\"0\",\"max_depth\":\"1000\",\"min_child_weight\":\"1\",\"num_round\":\"100\",\"objective\":\"reg:squarederror\",\"subsample\":\"0.8\",\"verbosity\":\"0\"}\u001b[0m\n",
      "\u001b[34mSM_USER_ENTRY_POINT=custom_xgb.py\u001b[0m\n",
      "\u001b[34mSM_FRAMEWORK_PARAMS={}\u001b[0m\n",
      "\u001b[34mSM_RESOURCE_CONFIG={\"current_host\":\"algo-1\",\"hosts\":[\"algo-1\"],\"network_interface_name\":\"eth0\"}\u001b[0m\n",
      "\u001b[34mSM_INPUT_DATA_CONFIG={\"train\":{\"ContentType\":\"csv\",\"RecordWrapperType\":\"None\",\"S3DistributionType\":\"FullyReplicated\",\"TrainingInputMode\":\"File\"},\"validation\":{\"ContentType\":\"csv\",\"RecordWrapperType\":\"None\",\"S3DistributionType\":\"FullyReplicated\",\"TrainingInputMode\":\"File\"}}\u001b[0m\n",
      "\u001b[34mSM_OUTPUT_DATA_DIR=/opt/ml/output/data\u001b[0m\n",
      "\u001b[34mSM_CHANNELS=[\"train\",\"validation\"]\u001b[0m\n",
      "\u001b[34mSM_CURRENT_HOST=algo-1\u001b[0m\n",
      "\u001b[34mSM_MODULE_NAME=custom_xgb\u001b[0m\n",
      "\u001b[34mSM_LOG_LEVEL=20\u001b[0m\n",
      "\u001b[34mSM_FRAMEWORK_MODULE=sagemaker_xgboost_container.training:main\u001b[0m\n",
      "\u001b[34mSM_INPUT_DIR=/opt/ml/input\u001b[0m\n",
      "\u001b[34mSM_INPUT_CONFIG_DIR=/opt/ml/input/config\u001b[0m\n",
      "\u001b[34mSM_OUTPUT_DIR=/opt/ml/output\u001b[0m\n",
      "\u001b[34mSM_NUM_CPUS=4\u001b[0m\n",
      "\u001b[34mSM_NUM_GPUS=0\u001b[0m\n",
      "\u001b[34mSM_MODEL_DIR=/opt/ml/model\u001b[0m\n",
      "\u001b[34mSM_MODULE_DIR=s3://sagemaker-us-east-2-937637726599/sagemaker-xgboost-2021-01-26-14-25-48-358/source/sourcedir.tar.gz\u001b[0m\n",
      "\u001b[34mSM_TRAINING_ENV={\"additional_framework_parameters\":{},\"channel_input_dirs\":{\"train\":\"/opt/ml/input/data/train\",\"validation\":\"/opt/ml/input/data/validation\"},\"current_host\":\"algo-1\",\"framework_module\":\"sagemaker_xgboost_container.training:main\",\"hosts\":[\"algo-1\"],\"hyperparameters\":{\"disable\":\"0\",\"early_stopping_rounds\":\"10\",\"eta\":\"0.2\",\"gamma\":\"0\",\"max_depth\":\"1000\",\"min_child_weight\":\"1\",\"num_round\":\"100\",\"objective\":\"reg:squarederror\",\"subsample\":\"0.8\",\"verbosity\":\"0\"},\"input_config_dir\":\"/opt/ml/input/config\",\"input_data_config\":{\"train\":{\"ContentType\":\"csv\",\"RecordWrapperType\":\"None\",\"S3DistributionType\":\"FullyReplicated\",\"TrainingInputMode\":\"File\"},\"validation\":{\"ContentType\":\"csv\",\"RecordWrapperType\":\"None\",\"S3DistributionType\":\"FullyReplicated\",\"TrainingInputMode\":\"File\"}},\"input_dir\":\"/opt/ml/input\",\"is_master\":true,\"job_name\":\"sagemaker-xgboost-2021-01-26-14-25-48-358\",\"log_level\":20,\"master_hostname\":\"algo-1\",\"model_dir\":\"/opt/ml/model\",\"module_dir\":\"s3://sagemaker-us-east-2-937637726599/sagemaker-xgboost-2021-01-26-14-25-48-358/source/sourcedir.tar.gz\",\"module_name\":\"custom_xgb\",\"network_interface_name\":\"eth0\",\"num_cpus\":4,\"num_gpus\":0,\"output_data_dir\":\"/opt/ml/output/data\",\"output_dir\":\"/opt/ml/output\",\"output_intermediate_dir\":\"/opt/ml/output/intermediate\",\"resource_config\":{\"current_host\":\"algo-1\",\"hosts\":[\"algo-1\"],\"network_interface_name\":\"eth0\"},\"user_entry_point\":\"custom_xgb.py\"}\u001b[0m\n",
      "\u001b[34mSM_USER_ARGS=[\"--disable\",\"0\",\"--early_stopping_rounds\",\"10\",\"--eta\",\"0.2\",\"--gamma\",\"0\",\"--max_depth\",\"1000\",\"--min_child_weight\",\"1\",\"--num_round\",\"100\",\"--objective\",\"reg:squarederror\",\"--subsample\",\"0.8\",\"--verbosity\",\"0\"]\u001b[0m\n",
      "\u001b[34mSM_OUTPUT_INTERMEDIATE_DIR=/opt/ml/output/intermediate\u001b[0m\n",
      "\u001b[34mSM_CHANNEL_VALIDATION=/opt/ml/input/data/validation\u001b[0m\n",
      "\u001b[34mSM_CHANNEL_TRAIN=/opt/ml/input/data/train\u001b[0m\n",
      "\u001b[34mSM_HP_MAX_DEPTH=1000\u001b[0m\n",
      "\u001b[34mSM_HP_EARLY_STOPPING_ROUNDS=10\u001b[0m\n",
      "\u001b[34mSM_HP_OBJECTIVE=reg:squarederror\u001b[0m\n",
      "\u001b[34mSM_HP_ETA=0.2\u001b[0m\n",
      "\u001b[34mSM_HP_DISABLE=0\u001b[0m\n",
      "\u001b[34mSM_HP_NUM_ROUND=100\u001b[0m\n",
      "\u001b[34mSM_HP_SUBSAMPLE=0.8\u001b[0m\n",
      "\u001b[34mSM_HP_GAMMA=0\u001b[0m\n",
      "\u001b[34mSM_HP_MIN_CHILD_WEIGHT=1\u001b[0m\n",
      "\u001b[34mSM_HP_VERBOSITY=0\u001b[0m\n",
      "\u001b[34mPYTHONPATH=/miniconda3/bin:/:/miniconda3/lib/python3.6/site-packages/xgboost/dmlc-core/tracker:/miniconda3/lib/python36.zip:/miniconda3/lib/python3.6:/miniconda3/lib/python3.6/lib-dynload:/miniconda3/lib/python3.6/site-packages\n",
      "\u001b[0m\n",
      "\u001b[34mInvoking script with the following command:\n",
      "\u001b[0m\n",
      "\u001b[34m/miniconda3/bin/python -m custom_xgb --disable 0 --early_stopping_rounds 10 --eta 0.2 --gamma 0 --max_depth 1000 --min_child_weight 1 --num_round 100 --objective reg:squarederror --subsample 0.8 --verbosity 0\n",
      "\n",
      "\u001b[0m\n",
      "\u001b[34m[14:29:00] 1269x29 matrix with 36801 entries loaded from /opt/ml/input/data/train?format=csv&label_column=0&delimiter=,\u001b[0m\n",
      "\u001b[34m[14:29:00] 365x29 matrix with 10585 entries loaded from /opt/ml/input/data/validation?format=csv&label_column=0&delimiter=,\u001b[0m\n",
      "\u001b[34m[14:29:00] WARNING: /workspace/src/learner.cc:328: \u001b[0m\n",
      "\u001b[34mParameters: { early_stopping_rounds } might not be used.\n",
      "\n",
      "  This may not be accurate due to some parameters are only used in language bindings but\n",
      "  passed down to XGBoost core.  Or some parameters are not used but slip through this\n",
      "  verification. Please open an issue if you find above cases.\n",
      "\n",
      "\u001b[0m\n",
      "\u001b[34m/opt/ml/code/custom_xgb.py:35: RuntimeWarning: divide by zero encountered in true_divide\n",
      "  mape = abs(1 - predt/y)\u001b[0m\n",
      "\u001b[34m[0]#011train-rmse:0.40263#011validation-rmse:0.46022#011train-mape:inf#011validation-mape:inf\u001b[0m\n",
      "\u001b[34m[1]#011train-rmse:0.32330#011validation-rmse:0.43106#011train-mape:inf#011validation-mape:inf\u001b[0m\n",
      "\u001b[34m[2]#011train-rmse:0.25999#011validation-rmse:0.40181#011train-mape:inf#011validation-mape:inf\u001b[0m\n",
      "\u001b[34m[3]#011train-rmse:0.20954#011validation-rmse:0.35710#011train-mape:inf#011validation-mape:inf\u001b[0m\n",
      "\u001b[34m[4]#011train-rmse:0.16935#011validation-rmse:0.33906#011train-mape:inf#011validation-mape:inf\u001b[0m\n",
      "\u001b[34m[5]#011train-rmse:0.13758#011validation-rmse:0.33741#011train-mape:inf#011validation-mape:inf\u001b[0m\n",
      "\u001b[34m[6]#011train-rmse:0.11240#011validation-rmse:0.33282#011train-mape:inf#011validation-mape:inf\u001b[0m\n",
      "\u001b[34m[7]#011train-rmse:0.09241#011validation-rmse:0.33446#011train-mape:inf#011validation-mape:inf\u001b[0m\n",
      "\u001b[34m[8]#011train-rmse:0.07634#011validation-rmse:0.33078#011train-mape:inf#011validation-mape:inf\u001b[0m\n",
      "\u001b[34m[9]#011train-rmse:0.06375#011validation-rmse:0.32952#011train-mape:inf#011validation-mape:inf\u001b[0m\n",
      "\u001b[34m[10]#011train-rmse:0.05332#011validation-rmse:0.32400#011train-mape:inf#011validation-mape:inf\u001b[0m\n",
      "\u001b[34m[11]#011train-rmse:0.04506#011validation-rmse:0.32198#011train-mape:inf#011validation-mape:inf\u001b[0m\n",
      "\u001b[34m[12]#011train-rmse:0.03840#011validation-rmse:0.31814#011train-mape:inf#011validation-mape:inf\u001b[0m\n",
      "\u001b[34m[13]#011train-rmse:0.03304#011validation-rmse:0.31234#011train-mape:inf#011validation-mape:inf\u001b[0m\n",
      "\u001b[34m[14]#011train-rmse:0.02834#011validation-rmse:0.31006#011train-mape:inf#011validation-mape:inf\u001b[0m\n",
      "\u001b[34m[15]#011train-rmse:0.02459#011validation-rmse:0.31292#011train-mape:inf#011validation-mape:inf\u001b[0m\n",
      "\u001b[34m[16]#011train-rmse:0.02135#011validation-rmse:0.31105#011train-mape:inf#011validation-mape:inf\u001b[0m\n",
      "\u001b[34m[17]#011train-rmse:0.01850#011validation-rmse:0.31015#011train-mape:inf#011validation-mape:inf\u001b[0m\n",
      "\u001b[34m[18]#011train-rmse:0.01620#011validation-rmse:0.30814#011train-mape:inf#011validation-mape:inf\u001b[0m\n",
      "\u001b[34m[19]#011train-rmse:0.01424#011validation-rmse:0.30527#011train-mape:inf#011validation-mape:inf\u001b[0m\n",
      "\u001b[34m[20]#011train-rmse:0.01260#011validation-rmse:0.30337#011train-mape:inf#011validation-mape:inf\u001b[0m\n",
      "\u001b[34m[21]#011train-rmse:0.01126#011validation-rmse:0.30368#011train-mape:inf#011validation-mape:inf\u001b[0m\n",
      "\u001b[34m[22]#011train-rmse:0.01004#011validation-rmse:0.30368#011train-mape:inf#011validation-mape:inf\u001b[0m\n",
      "\u001b[34m[23]#011train-rmse:0.00891#011validation-rmse:0.30327#011train-mape:inf#011validation-mape:inf\u001b[0m\n",
      "\u001b[34m[24]#011train-rmse:0.00795#011validation-rmse:0.30271#011train-mape:inf#011validation-mape:inf\u001b[0m\n",
      "\u001b[34m[25]#011train-rmse:0.00703#011validation-rmse:0.30298#011train-mape:inf#011validation-mape:inf\u001b[0m\n",
      "\u001b[34m[26]#011train-rmse:0.00635#011validation-rmse:0.30233#011train-mape:inf#011validation-mape:inf\u001b[0m\n",
      "\u001b[34m[27]#011train-rmse:0.00578#011validation-rmse:0.30258#011train-mape:inf#011validation-mape:inf\u001b[0m\n",
      "\u001b[34m[28]#011train-rmse:0.00527#011validation-rmse:0.30179#011train-mape:inf#011validation-mape:inf\u001b[0m\n",
      "\u001b[34m[29]#011train-rmse:0.00478#011validation-rmse:0.30135#011train-mape:inf#011validation-mape:inf\u001b[0m\n",
      "\u001b[34m[30]#011train-rmse:0.00435#011validation-rmse:0.30031#011train-mape:inf#011validation-mape:inf\u001b[0m\n",
      "\u001b[34m[31]#011train-rmse:0.00396#011validation-rmse:0.30009#011train-mape:inf#011validation-mape:inf\u001b[0m\n",
      "\u001b[34m[32]#011train-rmse:0.00363#011validation-rmse:0.29992#011train-mape:inf#011validation-mape:inf\u001b[0m\n",
      "\u001b[34m[33]#011train-rmse:0.00332#011validation-rmse:0.29979#011train-mape:inf#011validation-mape:inf\u001b[0m\n",
      "\u001b[34m[34]#011train-rmse:0.00308#011validation-rmse:0.29966#011train-mape:inf#011validation-mape:inf\u001b[0m\n",
      "\u001b[34m[35]#011train-rmse:0.00282#011validation-rmse:0.29959#011train-mape:inf#011validation-mape:inf\u001b[0m\n",
      "\u001b[34m[36]#011train-rmse:0.00262#011validation-rmse:0.29949#011train-mape:inf#011validation-mape:inf\u001b[0m\n",
      "\u001b[34m[37]#011train-rmse:0.00238#011validation-rmse:0.29877#011train-mape:inf#011validation-mape:inf\u001b[0m\n",
      "\u001b[34m[38]#011train-rmse:0.00217#011validation-rmse:0.29846#011train-mape:inf#011validation-mape:inf\u001b[0m\n",
      "\u001b[34m[39]#011train-rmse:0.00200#011validation-rmse:0.29846#011train-mape:inf#011validation-mape:inf\u001b[0m\n",
      "\u001b[34m[40]#011train-rmse:0.00189#011validation-rmse:0.29837#011train-mape:inf#011validation-mape:inf\u001b[0m\n",
      "\u001b[34m[41]#011train-rmse:0.00174#011validation-rmse:0.29846#011train-mape:inf#011validation-mape:inf\u001b[0m\n",
      "\u001b[34m[42]#011train-rmse:0.00160#011validation-rmse:0.29839#011train-mape:inf#011validation-mape:inf\u001b[0m\n",
      "\u001b[34m[43]#011train-rmse:0.00148#011validation-rmse:0.29825#011train-mape:inf#011validation-mape:inf\u001b[0m\n",
      "\u001b[34m[44]#011train-rmse:0.00135#011validation-rmse:0.29818#011train-mape:inf#011validation-mape:inf\u001b[0m\n",
      "\u001b[34m[45]#011train-rmse:0.00126#011validation-rmse:0.29819#011train-mape:inf#011validation-mape:inf\u001b[0m\n",
      "\u001b[34m[46]#011train-rmse:0.00118#011validation-rmse:0.29801#011train-mape:inf#011validation-mape:inf\u001b[0m\n",
      "\u001b[34m[47]#011train-rmse:0.00108#011validation-rmse:0.29805#011train-mape:inf#011validation-mape:inf\u001b[0m\n",
      "\u001b[34m[48]#011train-rmse:0.00101#011validation-rmse:0.29803#011train-mape:inf#011validation-mape:inf\u001b[0m\n",
      "\u001b[34m[49]#011train-rmse:0.00096#011validation-rmse:0.29794#011train-mape:inf#011validation-mape:inf\u001b[0m\n",
      "\u001b[34m[50]#011train-rmse:0.00089#011validation-rmse:0.29789#011train-mape:inf#011validation-mape:inf\u001b[0m\n",
      "\u001b[34m[51]#011train-rmse:0.00083#011validation-rmse:0.29783#011train-mape:inf#011validation-mape:inf\u001b[0m\n",
      "\u001b[34m[52]#011train-rmse:0.00079#011validation-rmse:0.29779#011train-mape:inf#011validation-mape:inf\u001b[0m\n",
      "\u001b[34m[53]#011train-rmse:0.00075#011validation-rmse:0.29780#011train-mape:inf#011validation-mape:inf\u001b[0m\n",
      "\u001b[34m[54]#011train-rmse:0.00071#011validation-rmse:0.29778#011train-mape:inf#011validation-mape:inf\u001b[0m\n",
      "\u001b[34m[55]#011train-rmse:0.00068#011validation-rmse:0.29774#011train-mape:inf#011validation-mape:inf\u001b[0m\n",
      "\u001b[34m[56]#011train-rmse:0.00064#011validation-rmse:0.29768#011train-mape:inf#011validation-mape:inf\u001b[0m\n",
      "\u001b[34m[57]#011train-rmse:0.00061#011validation-rmse:0.29766#011train-mape:inf#011validation-mape:inf\u001b[0m\n",
      "\u001b[34m[58]#011train-rmse:0.00059#011validation-rmse:0.29769#011train-mape:inf#011validation-mape:inf\u001b[0m\n",
      "\u001b[34m[59]#011train-rmse:0.00056#011validation-rmse:0.29767#011train-mape:inf#011validation-mape:inf\u001b[0m\n",
      "\u001b[34m[60]#011train-rmse:0.00056#011validation-rmse:0.29764#011train-mape:inf#011validation-mape:inf\u001b[0m\n",
      "\u001b[34m[61]#011train-rmse:0.00054#011validation-rmse:0.29763#011train-mape:inf#011validation-mape:inf\u001b[0m\n",
      "\u001b[34m[62]#011train-rmse:0.00053#011validation-rmse:0.29761#011train-mape:inf#011validation-mape:inf\u001b[0m\n",
      "\u001b[34m[63]#011train-rmse:0.00052#011validation-rmse:0.29754#011train-mape:inf#011validation-mape:inf\u001b[0m\n",
      "\u001b[34m[64]#011train-rmse:0.00051#011validation-rmse:0.29753#011train-mape:inf#011validation-mape:inf\u001b[0m\n",
      "\u001b[34m[65]#011train-rmse:0.00051#011validation-rmse:0.29753#011train-mape:inf#011validation-mape:inf\u001b[0m\n",
      "\u001b[34m[66]#011train-rmse:0.00051#011validation-rmse:0.29753#011train-mape:inf#011validation-mape:inf\u001b[0m\n",
      "\u001b[34m[67]#011train-rmse:0.00050#011validation-rmse:0.29753#011train-mape:inf#011validation-mape:inf\u001b[0m\n",
      "\u001b[34m[68]#011train-rmse:0.00050#011validation-rmse:0.29753#011train-mape:inf#011validation-mape:inf\u001b[0m\n",
      "\u001b[34m[69]#011train-rmse:0.00050#011validation-rmse:0.29751#011train-mape:inf#011validation-mape:inf\u001b[0m\n",
      "\u001b[34m[70]#011train-rmse:0.00050#011validation-rmse:0.29751#011train-mape:inf#011validation-mape:inf\u001b[0m\n",
      "\u001b[34m[71]#011train-rmse:0.00050#011validation-rmse:0.29751#011train-mape:inf#011validation-mape:inf\u001b[0m\n",
      "\u001b[34m[72]#011train-rmse:0.00050#011validation-rmse:0.29751#011train-mape:inf#011validation-mape:inf\u001b[0m\n",
      "\u001b[34m[73]#011train-rmse:0.00049#011validation-rmse:0.29751#011train-mape:inf#011validation-mape:inf\u001b[0m\n",
      "\u001b[34m[74]#011train-rmse:0.00049#011validation-rmse:0.29751#011train-mape:inf#011validation-mape:inf\u001b[0m\n",
      "\u001b[34m[75]#011train-rmse:0.00049#011validation-rmse:0.29751#011train-mape:inf#011validation-mape:inf\u001b[0m\n",
      "\u001b[34m[76]#011train-rmse:0.00049#011validation-rmse:0.29751#011train-mape:inf#011validation-mape:inf\u001b[0m\n",
      "\u001b[34m[77]#011train-rmse:0.00047#011validation-rmse:0.29751#011train-mape:inf#011validation-mape:inf\u001b[0m\n",
      "\u001b[34m[78]#011train-rmse:0.00047#011validation-rmse:0.29751#011train-mape:inf#011validation-mape:inf\u001b[0m\n",
      "\u001b[34m[79]#011train-rmse:0.00047#011validation-rmse:0.29752#011train-mape:inf#011validation-mape:inf\u001b[0m\n",
      "\u001b[34m[80]#011train-rmse:0.00047#011validation-rmse:0.29752#011train-mape:inf#011validation-mape:inf\u001b[0m\n",
      "\u001b[34m[81]#011train-rmse:0.00047#011validation-rmse:0.29752#011train-mape:inf#011validation-mape:inf\u001b[0m\n",
      "\u001b[34m[82]#011train-rmse:0.00047#011validation-rmse:0.29757#011train-mape:inf#011validation-mape:inf\u001b[0m\n",
      "\u001b[34m[83]#011train-rmse:0.00047#011validation-rmse:0.29757#011train-mape:inf#011validation-mape:inf\u001b[0m\n",
      "\u001b[34m[84]#011train-rmse:0.00047#011validation-rmse:0.29757#011train-mape:inf#011validation-mape:inf\u001b[0m\n",
      "\u001b[34m[85]#011train-rmse:0.00047#011validation-rmse:0.29757#011train-mape:inf#011validation-mape:inf\u001b[0m\n",
      "\u001b[34m[86]#011train-rmse:0.00047#011validation-rmse:0.29757#011train-mape:inf#011validation-mape:inf\u001b[0m\n",
      "\u001b[34m[87]#011train-rmse:0.00047#011validation-rmse:0.29757#011train-mape:inf#011validation-mape:inf\u001b[0m\n",
      "\u001b[34m[88]#011train-rmse:0.00047#011validation-rmse:0.29757#011train-mape:inf#011validation-mape:inf\u001b[0m\n",
      "\u001b[34m[89]#011train-rmse:0.00047#011validation-rmse:0.29757#011train-mape:inf#011validation-mape:inf\u001b[0m\n",
      "\u001b[34m[90]#011train-rmse:0.00047#011validation-rmse:0.29757#011train-mape:inf#011validation-mape:inf\u001b[0m\n",
      "\u001b[34m[91]#011train-rmse:0.00047#011validation-rmse:0.29757#011train-mape:inf#011validation-mape:inf\u001b[0m\n",
      "\u001b[34m[92]#011train-rmse:0.00047#011validation-rmse:0.29757#011train-mape:inf#011validation-mape:inf\u001b[0m\n",
      "\u001b[34m[93]#011train-rmse:0.00047#011validation-rmse:0.29757#011train-mape:inf#011validation-mape:inf\u001b[0m\n",
      "\u001b[34m[94]#011train-rmse:0.00047#011validation-rmse:0.29757#011train-mape:inf#011validation-mape:inf\u001b[0m\n",
      "\u001b[34m[95]#011train-rmse:0.00047#011validation-rmse:0.29757#011train-mape:inf#011validation-mape:inf\u001b[0m\n",
      "\u001b[34m[96]#011train-rmse:0.00047#011validation-rmse:0.29757#011train-mape:inf#011validation-mape:inf\u001b[0m\n",
      "\u001b[34m[97]#011train-rmse:0.00047#011validation-rmse:0.29757#011train-mape:inf#011validation-mape:inf\u001b[0m\n",
      "\u001b[34m[98]#011train-rmse:0.00047#011validation-rmse:0.29757#011train-mape:inf#011validation-mape:inf\u001b[0m\n",
      "\u001b[34m[99]#011train-rmse:0.00047#011validation-rmse:0.29757#011train-mape:inf#011validation-mape:inf\u001b[0m\n",
      "\n",
      "2021-01-26 14:29:13 Uploading - Uploading generated training model\n",
      "2021-01-26 14:29:13 Completed - Training job completed\n"
     ]
    },
    {
     "name": "stderr",
     "output_type": "stream",
     "text": [
      "Parameter image will be renamed to image_uri in SageMaker Python SDK v2.\n"
     ]
    },
    {
     "name": "stdout",
     "output_type": "stream",
     "text": [
      "Training seconds: 79\n",
      "Billable seconds: 79\n",
      "---------------!"
     ]
    }
   ],
   "source": [
    "xgb_w7_roi = run_xgboost_model(w=7, \n",
    "                          hyperparams=hyperparams, \n",
    "                          prefix='xgb-w7-roi', \n",
    "                          data_dir='./data', \n",
    "                          data_df=data_df,\n",
    "                          target='roi')"
   ]
  },
  {
   "cell_type": "code",
   "execution_count": 44,
   "metadata": {},
   "outputs": [
    {
     "ename": "AttributeError",
     "evalue": "'numpy.float64' object has no attribute 'empty'",
     "output_type": "error",
     "traceback": [
      "\u001b[0;31m---------------------------------------------------------------------------\u001b[0m",
      "\u001b[0;31mAttributeError\u001b[0m                            Traceback (most recent call last)",
      "\u001b[0;32m<ipython-input-44-d9344037cbdc>\u001b[0m in \u001b[0;36m<module>\u001b[0;34m\u001b[0m\n\u001b[0;32m----> 1\u001b[0;31m \u001b[0mres\u001b[0m \u001b[0;34m=\u001b[0m \u001b[0mevaluate_strategy\u001b[0m\u001b[0;34m(\u001b[0m\u001b[0mxgb_w7_roi\u001b[0m\u001b[0;34m)\u001b[0m\u001b[0;34m\u001b[0m\u001b[0;34m\u001b[0m\u001b[0m\n\u001b[0m",
      "\u001b[0;32m<ipython-input-43-5532a847bc83>\u001b[0m in \u001b[0;36mevaluate_strategy\u001b[0;34m(asset_matrix, n)\u001b[0m\n\u001b[1;32m     38\u001b[0m         \u001b[0mcoins_stats_df\u001b[0m \u001b[0;34m=\u001b[0m \u001b[0mcoins_stats_df\u001b[0m\u001b[0;34m[\u001b[0m\u001b[0mcoins_stats_df\u001b[0m\u001b[0;34m[\u001b[0m\u001b[0;34m'expected_roi'\u001b[0m\u001b[0;34m]\u001b[0m \u001b[0;34m>\u001b[0m \u001b[0;36m0\u001b[0m\u001b[0;34m]\u001b[0m\u001b[0;34m\u001b[0m\u001b[0;34m\u001b[0m\u001b[0m\n\u001b[1;32m     39\u001b[0m \u001b[0;34m\u001b[0m\u001b[0m\n\u001b[0;32m---> 40\u001b[0;31m         \u001b[0;32mif\u001b[0m \u001b[0mcoins_stats_df\u001b[0m\u001b[0;34m.\u001b[0m\u001b[0mempty\u001b[0m\u001b[0;34m:\u001b[0m\u001b[0;34m\u001b[0m\u001b[0;34m\u001b[0m\u001b[0m\n\u001b[0m\u001b[1;32m     41\u001b[0m             \u001b[0mprev_mean_roi\u001b[0m \u001b[0;34m=\u001b[0m \u001b[0mmean_roi\u001b[0m\u001b[0;34m\u001b[0m\u001b[0;34m\u001b[0m\u001b[0m\n\u001b[1;32m     42\u001b[0m             \u001b[0mmean_roi\u001b[0m \u001b[0;34m=\u001b[0m \u001b[0mupdate_mean\u001b[0m\u001b[0;34m(\u001b[0m\u001b[0mprev_mean_roi\u001b[0m\u001b[0;34m,\u001b[0m \u001b[0mt\u001b[0m\u001b[0;34m,\u001b[0m \u001b[0;36m0\u001b[0m\u001b[0;34m)\u001b[0m\u001b[0;34m\u001b[0m\u001b[0;34m\u001b[0m\u001b[0m\n",
      "\u001b[0;31mAttributeError\u001b[0m: 'numpy.float64' object has no attribute 'empty'"
     ]
    }
   ],
   "source": [
    "res = evaluate_strategy(xgb_w7_roi)"
   ]
  },
  {
   "cell_type": "code",
   "execution_count": 40,
   "metadata": {},
   "outputs": [
    {
     "data": {
      "text/html": [
       "<div>\n",
       "<style scoped>\n",
       "    .dataframe tbody tr th:only-of-type {\n",
       "        vertical-align: middle;\n",
       "    }\n",
       "\n",
       "    .dataframe tbody tr th {\n",
       "        vertical-align: top;\n",
       "    }\n",
       "\n",
       "    .dataframe thead th {\n",
       "        text-align: right;\n",
       "    }\n",
       "</style>\n",
       "<table border=\"1\" class=\"dataframe\">\n",
       "  <thead>\n",
       "    <tr style=\"text-align: right;\">\n",
       "      <th></th>\n",
       "      <th>sym</th>\n",
       "      <th>previous_price</th>\n",
       "      <th>previous_market_cap</th>\n",
       "      <th>actual_roi</th>\n",
       "      <th>expected_roi</th>\n",
       "      <th>predicted_price</th>\n",
       "      <th>actual_price</th>\n",
       "    </tr>\n",
       "    <tr>\n",
       "      <th>time</th>\n",
       "      <th></th>\n",
       "      <th></th>\n",
       "      <th></th>\n",
       "      <th></th>\n",
       "      <th></th>\n",
       "      <th></th>\n",
       "      <th></th>\n",
       "    </tr>\n",
       "  </thead>\n",
       "  <tbody>\n",
       "    <tr>\n",
       "      <th>2017-10-25</th>\n",
       "      <td>BTC</td>\n",
       "      <td>5526.64</td>\n",
       "      <td>9.878160e+10</td>\n",
       "      <td>-0.038979</td>\n",
       "      <td>0.340576</td>\n",
       "      <td>7408.879918</td>\n",
       "      <td>5311.217516</td>\n",
       "    </tr>\n",
       "    <tr>\n",
       "      <th>2017-10-26</th>\n",
       "      <td>BTC</td>\n",
       "      <td>5750.80</td>\n",
       "      <td>9.195420e+10</td>\n",
       "      <td>-0.026085</td>\n",
       "      <td>0.305993</td>\n",
       "      <td>7510.505005</td>\n",
       "      <td>5600.787938</td>\n",
       "    </tr>\n",
       "    <tr>\n",
       "      <th>2017-10-27</th>\n",
       "      <td>BTC</td>\n",
       "      <td>5904.83</td>\n",
       "      <td>9.568510e+10</td>\n",
       "      <td>0.021438</td>\n",
       "      <td>0.308847</td>\n",
       "      <td>7728.520147</td>\n",
       "      <td>6031.416791</td>\n",
       "    </tr>\n",
       "    <tr>\n",
       "      <th>2017-10-28</th>\n",
       "      <td>BTC</td>\n",
       "      <td>5780.90</td>\n",
       "      <td>9.822540e+10</td>\n",
       "      <td>0.004834</td>\n",
       "      <td>0.317401</td>\n",
       "      <td>7615.762705</td>\n",
       "      <td>5808.844431</td>\n",
       "    </tr>\n",
       "    <tr>\n",
       "      <th>2017-10-29</th>\n",
       "      <td>BTC</td>\n",
       "      <td>5753.09</td>\n",
       "      <td>9.636960e+10</td>\n",
       "      <td>-0.065123</td>\n",
       "      <td>0.391988</td>\n",
       "      <td>8008.233839</td>\n",
       "      <td>5378.428878</td>\n",
       "    </tr>\n",
       "    <tr>\n",
       "      <th>...</th>\n",
       "      <td>...</td>\n",
       "      <td>...</td>\n",
       "      <td>...</td>\n",
       "      <td>...</td>\n",
       "      <td>...</td>\n",
       "      <td>...</td>\n",
       "      <td>...</td>\n",
       "    </tr>\n",
       "    <tr>\n",
       "      <th>2018-04-08</th>\n",
       "      <td>BTC</td>\n",
       "      <td>6911.09</td>\n",
       "      <td>1.124670e+11</td>\n",
       "      <td>-0.016008</td>\n",
       "      <td>0.375923</td>\n",
       "      <td>9509.130211</td>\n",
       "      <td>6800.459739</td>\n",
       "    </tr>\n",
       "    <tr>\n",
       "      <th>2018-04-09</th>\n",
       "      <td>BTC</td>\n",
       "      <td>7023.52</td>\n",
       "      <td>1.173920e+11</td>\n",
       "      <td>0.037336</td>\n",
       "      <td>0.337059</td>\n",
       "      <td>9390.857426</td>\n",
       "      <td>7285.748094</td>\n",
       "    </tr>\n",
       "    <tr>\n",
       "      <th>2018-04-10</th>\n",
       "      <td>BTC</td>\n",
       "      <td>6770.73</td>\n",
       "      <td>1.195160e+11</td>\n",
       "      <td>-0.009368</td>\n",
       "      <td>0.298454</td>\n",
       "      <td>8791.479343</td>\n",
       "      <td>6707.299851</td>\n",
       "    </tr>\n",
       "    <tr>\n",
       "      <th>2018-04-11</th>\n",
       "      <td>BTC</td>\n",
       "      <td>6834.76</td>\n",
       "      <td>1.153060e+11</td>\n",
       "      <td>-0.019167</td>\n",
       "      <td>0.414634</td>\n",
       "      <td>9668.686860</td>\n",
       "      <td>6703.759910</td>\n",
       "    </tr>\n",
       "    <tr>\n",
       "      <th>2018-04-12</th>\n",
       "      <td>BTC</td>\n",
       "      <td>6968.32</td>\n",
       "      <td>1.161260e+11</td>\n",
       "      <td>-0.116732</td>\n",
       "      <td>0.324549</td>\n",
       "      <td>9229.880799</td>\n",
       "      <td>6154.892242</td>\n",
       "    </tr>\n",
       "  </tbody>\n",
       "</table>\n",
       "<p>170 rows × 7 columns</p>\n",
       "</div>"
      ],
      "text/plain": [
       "            sym  previous_price  previous_market_cap  actual_roi  \\\n",
       "time                                                               \n",
       "2017-10-25  BTC         5526.64         9.878160e+10   -0.038979   \n",
       "2017-10-26  BTC         5750.80         9.195420e+10   -0.026085   \n",
       "2017-10-27  BTC         5904.83         9.568510e+10    0.021438   \n",
       "2017-10-28  BTC         5780.90         9.822540e+10    0.004834   \n",
       "2017-10-29  BTC         5753.09         9.636960e+10   -0.065123   \n",
       "...         ...             ...                  ...         ...   \n",
       "2018-04-08  BTC         6911.09         1.124670e+11   -0.016008   \n",
       "2018-04-09  BTC         7023.52         1.173920e+11    0.037336   \n",
       "2018-04-10  BTC         6770.73         1.195160e+11   -0.009368   \n",
       "2018-04-11  BTC         6834.76         1.153060e+11   -0.019167   \n",
       "2018-04-12  BTC         6968.32         1.161260e+11   -0.116732   \n",
       "\n",
       "            expected_roi  predicted_price  actual_price  \n",
       "time                                                     \n",
       "2017-10-25      0.340576      7408.879918   5311.217516  \n",
       "2017-10-26      0.305993      7510.505005   5600.787938  \n",
       "2017-10-27      0.308847      7728.520147   6031.416791  \n",
       "2017-10-28      0.317401      7615.762705   5808.844431  \n",
       "2017-10-29      0.391988      8008.233839   5378.428878  \n",
       "...                  ...              ...           ...  \n",
       "2018-04-08      0.375923      9509.130211   6800.459739  \n",
       "2018-04-09      0.337059      9390.857426   7285.748094  \n",
       "2018-04-10      0.298454      8791.479343   6707.299851  \n",
       "2018-04-11      0.414634      9668.686860   6703.759910  \n",
       "2018-04-12      0.324549      9229.880799   6154.892242  \n",
       "\n",
       "[170 rows x 7 columns]"
      ]
     },
     "execution_count": 40,
     "metadata": {},
     "output_type": "execute_result"
    }
   ],
   "source": [
    "xgb_w7_roi"
   ]
  },
  {
   "cell_type": "code",
   "execution_count": 46,
   "metadata": {},
   "outputs": [
    {
     "data": {
      "image/png": "[encoded data removed]",
      "text/plain": [
       "<Figure size 720x360 with 1 Axes>"
      ]
     },
     "metadata": {
      "needs_background": "light"
     },
     "output_type": "display_data"
    }
   ],
   "source": [
    "plot_predicted_vs_actual(xgb_w7_roi, 'BTC')"
   ]
  },
  {
   "cell_type": "code",
   "execution_count": null,
   "metadata": {},
   "outputs": [],
   "source": [
    "plot_predicted_vs_actual(xgb_w7_roi[0], 'XRP')"
   ]
  },
  {
   "cell_type": "code",
   "execution_count": null,
   "metadata": {},
   "outputs": [],
   "source": [
    "plot_predicted_vs_actual(xgb_w7_roi[0], 'ETH')"
   ]
  },
  {
   "cell_type": "code",
   "execution_count": null,
   "metadata": {},
   "outputs": [],
   "source": [
    "plt.plot(xgb_w7_roi[1][2]['total_value'])\n",
    "plt.yscale('log')\n",
    "plt.show()"
   ]
  },
  {
   "cell_type": "code",
   "execution_count": null,
   "metadata": {},
   "outputs": [],
   "source": [
    "hyperparams = {\n",
    "        \"max_depth\": \"200\",\n",
    "        \"eta\": \"0.2\",\n",
    "        \"gamma\": \"0\",\n",
    "        \"min_child_weight\": \"1\",\n",
    "        \"subsample\": \"0.8\",\n",
    "        \"objective\": \"reg:squarederror\",\n",
    "        \"num_round\": \"50\",\n",
    "        \"verbosity\": \"0\",\n",
    "        \"early_stopping_rounds\": \"10\",\n",
    "        \"disable\": '1'\n",
    "}"
   ]
  },
  {
   "cell_type": "code",
   "execution_count": null,
   "metadata": {},
   "outputs": [],
   "source": [
    "xgb_w7_price = run_xgboost_model(w=7, \n",
    "                          hyperparams=hyperparams, \n",
    "                          prefix='xgb-w7-price', \n",
    "                          data_dir='./data', \n",
    "                          data_df=data_df,\n",
    "                          target='price')"
   ]
  },
  {
   "cell_type": "code",
   "execution_count": null,
   "metadata": {},
   "outputs": [],
   "source": [
    "res = evaluate_strategy(xgb_w7_price[2])"
   ]
  },
  {
   "cell_type": "code",
   "execution_count": null,
   "metadata": {},
   "outputs": [],
   "source": [
    "plot_predicted_vs_actual(xgb_w7_price[2], 'ETH')"
   ]
  },
  {
   "cell_type": "code",
   "execution_count": null,
   "metadata": {},
   "outputs": [],
   "source": [
    "plot_predicted_vs_actual(xgb_w7_price[2], 'BTC')"
   ]
  },
  {
   "cell_type": "code",
   "execution_count": null,
   "metadata": {},
   "outputs": [],
   "source": [
    "plot_predicted_vs_actual(xgb_w7_price[2], 'XRP')"
   ]
  },
  {
   "cell_type": "code",
   "execution_count": null,
   "metadata": {},
   "outputs": [],
   "source": [
    "plt.plot(xgb_w7_price[3][2]['total_value'])\n",
    "plt.yscale('log')\n",
    "plt.show()"
   ]
  },
  {
   "cell_type": "code",
   "execution_count": null,
   "metadata": {},
   "outputs": [],
   "source": [
    "xgb_w5 = run_xgboost_model(w=5, \n",
    "                          hyperparams=hyperparams, \n",
    "                          prefix='xgb-w5', \n",
    "                          data_dir='./data', \n",
    "                          data_df=data_df)"
   ]
  },
  {
   "cell_type": "code",
   "execution_count": null,
   "metadata": {},
   "outputs": [],
   "source": [
    "plot_predicted_vs_actual(xgb_w5[2], 'BTC')"
   ]
  },
  {
   "cell_type": "markdown",
   "metadata": {},
   "source": [
    "<h2> Custom Neural Network </h2>\n",
    "\n",
    "Testing on XGBoost algorithm. We will experiement using different values of $w$."
   ]
  },
  {
   "cell_type": "code",
   "execution_count": null,
   "metadata": {},
   "outputs": [],
   "source": [
    "def run_mlp_model(w, hyperparams, prefix, data_dir, data_df, target='roi'):\n",
    "    test_start='2017-04-12'\n",
    "    val_start='2016-04-12'\n",
    "    features_df = source.create_features(data_df, w, target)\n",
    "    \n",
    "    scaler = MinMaxScaler()\n",
    "    for column in features_df.iloc[:,2:-2].columns:\n",
    "        features_df[column] = scaler.fit_transform(features_df[[column]])\n",
    "\n",
    "    train_df = features_df[features_df.index < pd.Timestamp(test_start)]\n",
    "#     val_df = features_df[(features_df.index >= pd.Timestamp(val_start)) & (features_df.index < pd.Timestamp(test_start))]\n",
    "    test_df = features_df[features_df.index >= pd.Timestamp(test_start)]\n",
    "\n",
    "    X_train = pd.DataFrame(train_df.iloc[:,2:-2])\n",
    "    Y_train = pd.DataFrame(train_df['target'])\n",
    "#     X_val = pd.DataFrame(val_df.iloc[:,2:-2])\n",
    "#     Y_val = pd.DataFrame(val_df['target'])\n",
    "    X_test = pd.DataFrame(test_df.iloc[:,2:-2])\n",
    "    Y_test = pd.DataFrame(test_df['target'])\n",
    "\n",
    "    train_location = session.upload_data(os.path.join(data_dir, 'train.csv'), key_prefix=prefix)\n",
    "\n",
    "    estimator = SKLearn(entry_point='train.py',\n",
    "                        source_dir='source',\n",
    "                        role=role,\n",
    "                        train_instance_count=1, \n",
    "                        train_instance_type='ml.c4.xlarge',\n",
    "                        framework_version='0.23-1',\n",
    "                        py_version='py3',\n",
    "                        output_path='s3://{}/{}/output'.format(session.default_bucket(), prefix),\n",
    "                        sagemaker_session=session,\n",
    "                        hyperparameters={\n",
    "                            'hidden_layers': 100,\n",
    "                            'max_iter': 500\n",
    "                        })\n",
    "\n",
    "    estimator.fit({'train': train_location})\n",
    "    \n",
    "    predictor = estimator.deploy(initial_instance_count=1, instance_type=\"ml.t2.medium\")\n",
    "    \n",
    "    pred = []\n",
    "    i = 0\n",
    "    payload_list = [[str(entry) for entry in row] for row in X_test.values]\n",
    "\n",
    "    for j in range(10000,len(payload_list)+10000, 10000):\n",
    "        max_idx = min(len(payload_list), j)\n",
    "        payload = '\\n'.join([','.join(row) for row in payload_list[i:j]])\n",
    "        response = session.sagemaker_runtime_client.invoke_endpoint(\n",
    "                                                        EndpointName = predictor.endpoint,\n",
    "                                                        ContentType = 'text/csv',\n",
    "                                                        Body = payload)\n",
    "        result = response['Body'].read().decode(\"utf-8\")\n",
    "        pred_val = ast.literal_eval(result)\n",
    "        pred = pred + pred_val\n",
    "        i = j\n",
    "\n",
    "    asset_matrix = construct_asset_matrix(test_df, pd.DataFrame(pred), pred_type=target)\n",
    "    mape = calculate_mape(asset_matrix)\n",
    "    result = evaluate_strategy(asset_matrix)\n",
    "\n",
    "    session.sagemaker_client.delete_endpoint(EndpointName = predictor.endpoint)\n",
    "\n",
    "    return asset_matrix, result"
   ]
  },
  {
   "cell_type": "code",
   "execution_count": null,
   "metadata": {},
   "outputs": [],
   "source": [
    "mlp_w7 = run_mlp_model(w=7, \n",
    "                      hyperparams=hyperparams, \n",
    "                      prefix='xgb-w7', \n",
    "                      data_dir='./data', \n",
    "                      data_df=data_df,\n",
    "                      target='roi')"
   ]
  },
  {
   "cell_type": "code",
   "execution_count": null,
   "metadata": {},
   "outputs": [],
   "source": [
    "res = evaluate_strategy(mlp_w7[0])"
   ]
  },
  {
   "cell_type": "code",
   "execution_count": null,
   "metadata": {},
   "outputs": [],
   "source": [
    "plot_predicted_vs_actual(mlp_w7[0], 'BTC')"
   ]
  },
  {
   "cell_type": "code",
   "execution_count": null,
   "metadata": {},
   "outputs": [],
   "source": [
    "plot_predicted_vs_actual(mlp_w7[0], 'ETH')"
   ]
  },
  {
   "cell_type": "code",
   "execution_count": null,
   "metadata": {},
   "outputs": [],
   "source": [
    "plot_predicted_vs_actual(mlp_w7[0], 'XRP')"
   ]
  },
  {
   "cell_type": "markdown",
   "metadata": {},
   "source": [
    "<h2> LSTM </h2>\n",
    "\n",
    "To implement an LSTM model, we will leverage on the SageMaker's DeepAR algorithm."
   ]
  },
  {
   "cell_type": "code",
   "execution_count": null,
   "metadata": {},
   "outputs": [],
   "source": [
    "def sym_to_json_obj(sym_df, cat):\n",
    "    json_obj = {\"start\": str(sym_df.index[0]), \n",
    "                \"target\": list(sym_df['target']), \n",
    "                \"cat\":[cat], \n",
    "                \"dynamic_feat\":[list(sym_df[column]) for column in sym_df.columns]}\n",
    "    return json_obj\n",
    "\n",
    "def write_json_dataset(features_df, filename): \n",
    "    with open(filename, 'wb') as f:\n",
    "        # for each of our times series, there is one JSON line\n",
    "        for idx, sym in enumerate(features_df['sym'].unique()):\n",
    "            sym_df = features_df[features_df['sym'] == sym]\n",
    "            sym_df = sym_df.drop(columns='sym')\n",
    "            json_line = json.dumps(sym_to_json_obj(sym_df, idx)) + '\\n'\n",
    "            json_line = json_line.encode('utf-8')\n",
    "            f.write(json_line)\n",
    "    print(filename + ' saved.')"
   ]
  },
  {
   "cell_type": "code",
   "execution_count": null,
   "metadata": {},
   "outputs": [],
   "source": [
    "w=5\n",
    "features_df = source.create_features(data_df, w, target='price')\n",
    "features_df = features_df[features_df['sym'] == 'BTC']\n",
    "train_features = features_df[features_df.index < pd.Timestamp('2017-04-12')]\n",
    "write_json_dataset(train_features, './data/train.json')"
   ]
  },
  {
   "cell_type": "code",
   "execution_count": null,
   "metadata": {},
   "outputs": [],
   "source": [
    "train_location = session.upload_data(os.path.join(data_dir, 'train.json'), key_prefix=prefix)"
   ]
  },
  {
   "cell_type": "code",
   "execution_count": null,
   "metadata": {},
   "outputs": [],
   "source": [
    "image_name = get_image_uri(boto3.Session().region_name, # get the region\n",
    "                           'forecasting-deepar') # specify image\n",
    "\n",
    "from sagemaker.estimator import Estimator\n",
    "\n",
    "# instantiate a DeepAR estimator\n",
    "estimator = Estimator(image_name,\n",
    "                      role=role,   \n",
    "                        train_instance_count=1, \n",
    "                        train_instance_type='ml.m4.xlarge', \n",
    "                        output_path='s3://{}/{}/output'.format(session.default_bucket(), prefix),\n",
    "                        sagemaker_session=session)\n",
    "freq='D'\n",
    "context_length=50 # same as prediction_length\n",
    "prediction_length=1\n",
    "\n",
    "hyperparameters = {\n",
    "    \"epochs\": \"500\",\n",
    "    \"time_freq\": freq,\n",
    "    \"prediction_length\": str(prediction_length),\n",
    "    \"context_length\": str(context_length),\n",
    "    \"num_cells\": \"100\",\n",
    "    \"num_layers\": \"4\",\n",
    "    \"mini_batch_size\": \"128\",\n",
    "    \"learning_rate\": \"0.01\",\n",
    "    \"early_stopping_patience\": \"100\"\n",
    "}\n",
    "estimator.set_hyperparameters(**hyperparameters)\n",
    "\n",
    "data_channels = {\n",
    "    \"train\": train_location\n",
    "}\n",
    "\n",
    "# fit the estimator\n",
    "estimator.fit(inputs=data_channels) #having test data channels means the estimator can calculate accuracy on the test set\n",
    "\n"
   ]
  },
  {
   "cell_type": "code",
   "execution_count": null,
   "metadata": {},
   "outputs": [],
   "source": [
    "predictor = estimator.deploy(\n",
    "    initial_instance_count=1,\n",
    "    instance_type='ml.t2.medium',\n",
    "    content_type=\"application/json\" # specify that it will accept/produce JSON\n",
    ")"
   ]
  },
  {
   "cell_type": "code",
   "execution_count": null,
   "metadata": {},
   "outputs": [],
   "source": [
    "def json_predictor_input(features_df, cutoff, days, num_samples=50, quantiles=['0.1', '0.5', '0.9']):\n",
    "    \n",
    "    instances = []\n",
    "    for idx, sym in enumerate(features_df['sym'].unique()):\n",
    "        sym_df = features_df[features_df['sym'] == sym]\n",
    "        sym_df = sym_df.drop(columns='sym')\n",
    "        window = sym_df[(sym_df.index >= (cutoff - pd.Timedelta(days, 'D'))) & (sym_df.index <= cutoff)]\n",
    "        json_obj = {\"start\": str(sym_df[sym_df.index == cutoff].index[0]), \n",
    "                    \"target\": list(window['target'])[:-1],\n",
    "                    \"cat\":[idx], \n",
    "                    \"dynamic_feat\":[list(window[column]) for column in sym_df.columns]}\n",
    "        instances.append(json_obj)\n",
    "            \n",
    "    # specify the output quantiles and samples\n",
    "    configuration = {\"num_samples\": num_samples, #no of samples for each time point \n",
    "                     \"output_types\": [\"quantiles\"], \n",
    "                     \"quantiles\": quantiles}\n",
    "\n",
    "    request_data = {\"instances\": instances, \n",
    "                    \"configuration\": configuration}\n",
    "\n",
    "    json_request = json.dumps(request_data).encode('utf-8')\n",
    "    \n",
    "    return json_request\n",
    "\n",
    "def decode_prediction(prediction, encoding='utf-8'):\n",
    "    '''Accepts a JSON prediction and returns a list of prediction data.\n",
    "    '''\n",
    "    prediction_data = json.loads(prediction.decode(encoding))\n",
    "    prediction_list = []\n",
    "    for k in range(len(prediction_data['predictions'])):\n",
    "        prediction_list.append(pd.DataFrame(data=prediction_data['predictions'][k]['quantiles']))\n",
    "    return prediction_list"
   ]
  },
  {
   "cell_type": "code",
   "execution_count": null,
   "metadata": {},
   "outputs": [],
   "source": [
    "test_df = features_df[features_df.index >= pd.Timestamp('2017-04-12')]"
   ]
  },
  {
   "cell_type": "code",
   "execution_count": null,
   "metadata": {},
   "outputs": [],
   "source": [
    "def loop_predict(features_df, cutoff, days):\n",
    "    dates = list(set(features_df[features_df.index >= cutoff].index))\n",
    "    \n",
    "    df = pd.DataFrame([])\n",
    "    for date in dates:\n",
    "        test_features = json_predictor_input(features_df, date, context_length, quantiles=['0.5'])\n",
    "        json_prediction = predictor.predict(test_features)\n",
    "        pred = [x['0.5'].values[0] for x in decode_prediction(json_prediction)]\n",
    "        temp_df = pd.DataFrame(zip([sym for sym in features_df['sym'].unique()], pred), columns=['sym', 'prediction'])\n",
    "        temp_df['time'] = date\n",
    "        \n",
    "        df = df.append(temp_df, ignore_index=True)\n",
    "    \n",
    "    return df"
   ]
  },
  {
   "cell_type": "code",
   "execution_count": null,
   "metadata": {},
   "outputs": [],
   "source": [
    "df = loop_predict(features_df, pd.Timestamp('2017-04-12'), context_length)"
   ]
  },
  {
   "cell_type": "code",
   "execution_count": null,
   "metadata": {},
   "outputs": [],
   "source": [
    "pred_df = pd.merge(test_df, df, how='left', left_on=['time', 'sym'], right_on=['time', 'sym'])\n",
    "pred_df = pred_df.set_index('time')"
   ]
  },
  {
   "cell_type": "code",
   "execution_count": null,
   "metadata": {},
   "outputs": [],
   "source": [
    "as_matrix = construct_asset_matrix(pred_df, pred_df['prediction'])"
   ]
  },
  {
   "cell_type": "code",
   "execution_count": null,
   "metadata": {},
   "outputs": [],
   "source": [
    "res = evaluate_strategy(as_matrix)"
   ]
  },
  {
   "cell_type": "code",
   "execution_count": null,
   "metadata": {},
   "outputs": [],
   "source": [
    "plot_predicted_vs_actual(as_matrix, 'BTC')"
   ]
  },
  {
   "cell_type": "code",
   "execution_count": null,
   "metadata": {},
   "outputs": [],
   "source": []
  }
 ],
 "metadata": {
  "kernelspec": {
   "display_name": "conda_amazonei_mxnet_p36",
   "language": "python",
   "name": "conda_amazonei_mxnet_p36"
  },
  "language_info": {
   "codemirror_mode": {
    "name": "ipython",
    "version": 3
   },
   "file_extension": ".py",
   "mimetype": "text/x-python",
   "name": "python",
   "nbconvert_exporter": "python",
   "pygments_lexer": "ipython3",
   "version": "3.6.10"
  }
 },
 "nbformat": 4,
 "nbformat_minor": 4
}
