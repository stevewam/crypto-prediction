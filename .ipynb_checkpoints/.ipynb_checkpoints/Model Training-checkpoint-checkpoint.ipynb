{
 "cells": [
  {
   "cell_type": "code",
   "execution_count": 20,
   "metadata": {},
   "outputs": [
    {
     "name": "stdout",
     "output_type": "stream",
     "text": [
      "Requirement already satisfied: sagemaker==1.72.0 in /home/ec2-user/anaconda3/envs/amazonei_mxnet_p36/lib/python3.6/site-packages (1.72.0)\n",
      "Requirement already satisfied: numpy>=1.9.0 in /home/ec2-user/anaconda3/envs/amazonei_mxnet_p36/lib/python3.6/site-packages (from sagemaker==1.72.0) (1.19.4)\n",
      "Requirement already satisfied: boto3>=1.14.12 in /home/ec2-user/anaconda3/envs/amazonei_mxnet_p36/lib/python3.6/site-packages (from sagemaker==1.72.0) (1.16.37)\n",
      "Requirement already satisfied: protobuf>=3.1 in /home/ec2-user/anaconda3/envs/amazonei_mxnet_p36/lib/python3.6/site-packages (from sagemaker==1.72.0) (3.14.0)\n",
      "Requirement already satisfied: smdebug-rulesconfig==0.1.4 in /home/ec2-user/anaconda3/envs/amazonei_mxnet_p36/lib/python3.6/site-packages (from sagemaker==1.72.0) (0.1.4)\n",
      "Requirement already satisfied: protobuf3-to-dict>=0.1.5 in /home/ec2-user/anaconda3/envs/amazonei_mxnet_p36/lib/python3.6/site-packages (from sagemaker==1.72.0) (0.1.5)\n",
      "Requirement already satisfied: importlib-metadata>=1.4.0 in /home/ec2-user/anaconda3/envs/amazonei_mxnet_p36/lib/python3.6/site-packages (from sagemaker==1.72.0) (3.1.0)\n",
      "Requirement already satisfied: scipy>=0.19.0 in /home/ec2-user/anaconda3/envs/amazonei_mxnet_p36/lib/python3.6/site-packages (from sagemaker==1.72.0) (1.4.1)\n",
      "Requirement already satisfied: packaging>=20.0 in /home/ec2-user/anaconda3/envs/amazonei_mxnet_p36/lib/python3.6/site-packages (from sagemaker==1.72.0) (20.7)\n",
      "Requirement already satisfied: s3transfer<0.4.0,>=0.3.0 in /home/ec2-user/anaconda3/envs/amazonei_mxnet_p36/lib/python3.6/site-packages (from boto3>=1.14.12->sagemaker==1.72.0) (0.3.3)\n",
      "Requirement already satisfied: botocore<1.20.0,>=1.19.37 in /home/ec2-user/anaconda3/envs/amazonei_mxnet_p36/lib/python3.6/site-packages (from boto3>=1.14.12->sagemaker==1.72.0) (1.19.37)\n",
      "Requirement already satisfied: jmespath<1.0.0,>=0.7.1 in /home/ec2-user/anaconda3/envs/amazonei_mxnet_p36/lib/python3.6/site-packages (from boto3>=1.14.12->sagemaker==1.72.0) (0.10.0)\n",
      "Requirement already satisfied: python-dateutil<3.0.0,>=2.1 in /home/ec2-user/anaconda3/envs/amazonei_mxnet_p36/lib/python3.6/site-packages (from botocore<1.20.0,>=1.19.37->boto3>=1.14.12->sagemaker==1.72.0) (2.8.1)\n",
      "Requirement already satisfied: jmespath<1.0.0,>=0.7.1 in /home/ec2-user/anaconda3/envs/amazonei_mxnet_p36/lib/python3.6/site-packages (from boto3>=1.14.12->sagemaker==1.72.0) (0.10.0)\n",
      "Requirement already satisfied: urllib3<1.27,>=1.25.4 in /home/ec2-user/anaconda3/envs/amazonei_mxnet_p36/lib/python3.6/site-packages (from botocore<1.20.0,>=1.19.37->boto3>=1.14.12->sagemaker==1.72.0) (1.25.11)\n",
      "Requirement already satisfied: zipp>=0.5 in /home/ec2-user/anaconda3/envs/amazonei_mxnet_p36/lib/python3.6/site-packages (from importlib-metadata>=1.4.0->sagemaker==1.72.0) (3.4.0)\n",
      "Requirement already satisfied: pyparsing>=2.0.2 in /home/ec2-user/anaconda3/envs/amazonei_mxnet_p36/lib/python3.6/site-packages (from packaging>=20.0->sagemaker==1.72.0) (2.4.7)\n",
      "Requirement already satisfied: six>=1.9 in /home/ec2-user/anaconda3/envs/amazonei_mxnet_p36/lib/python3.6/site-packages (from protobuf>=3.1->sagemaker==1.72.0) (1.15.0)\n",
      "Requirement already satisfied: six>=1.9 in /home/ec2-user/anaconda3/envs/amazonei_mxnet_p36/lib/python3.6/site-packages (from protobuf>=3.1->sagemaker==1.72.0) (1.15.0)\n",
      "Requirement already satisfied: protobuf>=3.1 in /home/ec2-user/anaconda3/envs/amazonei_mxnet_p36/lib/python3.6/site-packages (from sagemaker==1.72.0) (3.14.0)\n",
      "Requirement already satisfied: six>=1.9 in /home/ec2-user/anaconda3/envs/amazonei_mxnet_p36/lib/python3.6/site-packages (from protobuf>=3.1->sagemaker==1.72.0) (1.15.0)\n",
      "Requirement already satisfied: botocore<1.20.0,>=1.19.37 in /home/ec2-user/anaconda3/envs/amazonei_mxnet_p36/lib/python3.6/site-packages (from boto3>=1.14.12->sagemaker==1.72.0) (1.19.37)\n",
      "Requirement already satisfied: numpy>=1.9.0 in /home/ec2-user/anaconda3/envs/amazonei_mxnet_p36/lib/python3.6/site-packages (from sagemaker==1.72.0) (1.19.4)\n",
      "\u001b[33mWARNING: You are using pip version 20.3; however, version 20.3.3 is available.\n",
      "You should consider upgrading via the '/home/ec2-user/anaconda3/envs/amazonei_mxnet_p36/bin/python -m pip install --upgrade pip' command.\u001b[0m\n"
     ]
    }
   ],
   "source": [
    "!pip install sagemaker==1.72.0"
   ]
  },
  {
   "cell_type": "code",
   "execution_count": 6,
   "metadata": {},
   "outputs": [],
   "source": [
    "%matplotlib inline\n",
    "import os\n",
    "import numpy as np\n",
    "import pandas as pd\n",
    "import matplotlib.pyplot as plt\n",
    "from sklearn.datasets import load_boston\n",
    "import sklearn.model_selection\n",
    "\n",
    "import sagemaker\n",
    "from sagemaker import get_execution_role\n",
    "from sagemaker.amazon.amazon_estimator import get_image_uri\n",
    "from sagemaker.predictor import csv_serializer\n",
    "\n",
    "session = sagemaker.Session()\n",
    "role = get_execution_role()"
   ]
  },
  {
   "cell_type": "code",
   "execution_count": 7,
   "metadata": {},
   "outputs": [],
   "source": [
    "data_df = pd.read_csv(\"./data/processed_data.csv\")"
   ]
  },
  {
   "cell_type": "markdown",
   "metadata": {},
   "source": [
    "We will be experimenting with the following algorithms for the model:\n",
    "1. XGBoost\n",
    "2. Simple Custom Neural Net\n",
    "3. Long Short Term Memory Networks\n",
    "\n",
    "Before I work with these models, I will start with the benchmark model first which is based on Simple Moving Average model."
   ]
  },
  {
   "cell_type": "markdown",
   "metadata": {},
   "source": [
    "<h2> Simple Moving Average (SMA)</h2>\n",
    "\n",
    "In Simple Moving Average, the predicted next price is equal to the average of the last $w$ data points. In addition to creating this model, I will be creating the function to implement the trading strategy in this section as well."
   ]
  },
  {
   "cell_type": "code",
   "execution_count": 8,
   "metadata": {},
   "outputs": [
    {
     "data": {
      "text/plain": [
       "<module 'source' from '/home/ec2-user/SageMaker/crypto-prediction/source/__init__.py'>"
      ]
     },
     "execution_count": 8,
     "metadata": {},
     "output_type": "execute_result"
    }
   ],
   "source": [
    "# Import source to access feature.py script\n",
    "import source\n",
    "import importlib\n",
    "importlib.reload(source)\n"
   ]
  },
  {
   "cell_type": "code",
   "execution_count": 9,
   "metadata": {},
   "outputs": [],
   "source": [
    "w = 50"
   ]
  },
  {
   "cell_type": "code",
   "execution_count": 10,
   "metadata": {},
   "outputs": [],
   "source": [
    "features_df = source.create_features(data_df, w)"
   ]
  },
  {
   "cell_type": "code",
   "execution_count": 109,
   "metadata": {},
   "outputs": [
    {
     "data": {
      "text/html": [
       "<div>\n",
       "<style scoped>\n",
       "    .dataframe tbody tr th:only-of-type {\n",
       "        vertical-align: middle;\n",
       "    }\n",
       "\n",
       "    .dataframe tbody tr th {\n",
       "        vertical-align: top;\n",
       "    }\n",
       "\n",
       "    .dataframe thead th {\n",
       "        text-align: right;\n",
       "    }\n",
       "</style>\n",
       "<table border=\"1\" class=\"dataframe\">\n",
       "  <thead>\n",
       "    <tr style=\"text-align: right;\">\n",
       "      <th></th>\n",
       "      <th>sym</th>\n",
       "      <th>age_4_last</th>\n",
       "      <th>market_cap_1_mean</th>\n",
       "      <th>market_cap_2_median</th>\n",
       "      <th>market_cap_3_stdev</th>\n",
       "      <th>market_cap_4_last</th>\n",
       "      <th>market_cap_5_delta</th>\n",
       "      <th>market_share_1_mean</th>\n",
       "      <th>market_share_2_median</th>\n",
       "      <th>market_share_3_stdev</th>\n",
       "      <th>...</th>\n",
       "      <th>roi_2_median</th>\n",
       "      <th>roi_3_stdev</th>\n",
       "      <th>roi_4_last</th>\n",
       "      <th>roi_5_delta</th>\n",
       "      <th>volume_1_mean</th>\n",
       "      <th>volume_2_median</th>\n",
       "      <th>volume_3_stdev</th>\n",
       "      <th>volume_4_last</th>\n",
       "      <th>volume_5_delta</th>\n",
       "      <th>target_price</th>\n",
       "    </tr>\n",
       "    <tr>\n",
       "      <th>time</th>\n",
       "      <th></th>\n",
       "      <th></th>\n",
       "      <th></th>\n",
       "      <th></th>\n",
       "      <th></th>\n",
       "      <th></th>\n",
       "      <th></th>\n",
       "      <th></th>\n",
       "      <th></th>\n",
       "      <th></th>\n",
       "      <th></th>\n",
       "      <th></th>\n",
       "      <th></th>\n",
       "      <th></th>\n",
       "      <th></th>\n",
       "      <th></th>\n",
       "      <th></th>\n",
       "      <th></th>\n",
       "      <th></th>\n",
       "      <th></th>\n",
       "      <th></th>\n",
       "    </tr>\n",
       "  </thead>\n",
       "  <tbody>\n",
       "    <tr>\n",
       "      <th>2016-01-30</th>\n",
       "      <td>$$$</td>\n",
       "      <td>49.0</td>\n",
       "      <td>1578.12</td>\n",
       "      <td>1219.5</td>\n",
       "      <td>783.470683</td>\n",
       "      <td>1221.0</td>\n",
       "      <td>-1066.0</td>\n",
       "      <td>2.246673e-07</td>\n",
       "      <td>1.682321e-07</td>\n",
       "      <td>1.101040e-07</td>\n",
       "      <td>...</td>\n",
       "      <td>0.0</td>\n",
       "      <td>0.426528</td>\n",
       "      <td>0.000000</td>\n",
       "      <td>0.000000</td>\n",
       "      <td>12.16</td>\n",
       "      <td>3.0</td>\n",
       "      <td>30.454623</td>\n",
       "      <td>2.0</td>\n",
       "      <td>1.0</td>\n",
       "      <td>0.000026</td>\n",
       "    </tr>\n",
       "    <tr>\n",
       "      <th>2016-01-31</th>\n",
       "      <td>$$$</td>\n",
       "      <td>50.0</td>\n",
       "      <td>1556.72</td>\n",
       "      <td>1217.5</td>\n",
       "      <td>778.309105</td>\n",
       "      <td>1217.0</td>\n",
       "      <td>-28.0</td>\n",
       "      <td>2.217388e-07</td>\n",
       "      <td>1.682321e-07</td>\n",
       "      <td>1.091034e-07</td>\n",
       "      <td>...</td>\n",
       "      <td>0.0</td>\n",
       "      <td>0.426444</td>\n",
       "      <td>0.038462</td>\n",
       "      <td>0.410555</td>\n",
       "      <td>12.18</td>\n",
       "      <td>3.0</td>\n",
       "      <td>30.447472</td>\n",
       "      <td>2.0</td>\n",
       "      <td>2.0</td>\n",
       "      <td>0.000026</td>\n",
       "    </tr>\n",
       "    <tr>\n",
       "      <th>2016-02-01</th>\n",
       "      <td>$$$</td>\n",
       "      <td>51.0</td>\n",
       "      <td>1556.12</td>\n",
       "      <td>1216.0</td>\n",
       "      <td>778.565836</td>\n",
       "      <td>1215.0</td>\n",
       "      <td>-781.0</td>\n",
       "      <td>2.221393e-07</td>\n",
       "      <td>1.776320e-07</td>\n",
       "      <td>1.089358e-07</td>\n",
       "      <td>...</td>\n",
       "      <td>0.0</td>\n",
       "      <td>0.421884</td>\n",
       "      <td>0.000000</td>\n",
       "      <td>-0.954545</td>\n",
       "      <td>12.22</td>\n",
       "      <td>3.0</td>\n",
       "      <td>30.432454</td>\n",
       "      <td>2.0</td>\n",
       "      <td>0.0</td>\n",
       "      <td>0.000026</td>\n",
       "    </tr>\n",
       "    <tr>\n",
       "      <th>2016-02-02</th>\n",
       "      <td>$$$</td>\n",
       "      <td>52.0</td>\n",
       "      <td>1539.92</td>\n",
       "      <td>1204.5</td>\n",
       "      <td>777.652743</td>\n",
       "      <td>1186.0</td>\n",
       "      <td>192.0</td>\n",
       "      <td>2.202851e-07</td>\n",
       "      <td>1.776320e-07</td>\n",
       "      <td>1.087202e-07</td>\n",
       "      <td>...</td>\n",
       "      <td>0.0</td>\n",
       "      <td>0.402294</td>\n",
       "      <td>0.000000</td>\n",
       "      <td>0.000000</td>\n",
       "      <td>12.20</td>\n",
       "      <td>3.0</td>\n",
       "      <td>30.439636</td>\n",
       "      <td>1.0</td>\n",
       "      <td>-2.0</td>\n",
       "      <td>0.000026</td>\n",
       "    </tr>\n",
       "    <tr>\n",
       "      <th>2016-02-03</th>\n",
       "      <td>$$$</td>\n",
       "      <td>53.0</td>\n",
       "      <td>1544.00</td>\n",
       "      <td>1206.5</td>\n",
       "      <td>775.261562</td>\n",
       "      <td>1198.0</td>\n",
       "      <td>180.0</td>\n",
       "      <td>2.212602e-07</td>\n",
       "      <td>1.867770e-07</td>\n",
       "      <td>1.081915e-07</td>\n",
       "      <td>...</td>\n",
       "      <td>0.0</td>\n",
       "      <td>0.402294</td>\n",
       "      <td>0.000000</td>\n",
       "      <td>0.043478</td>\n",
       "      <td>12.24</td>\n",
       "      <td>3.0</td>\n",
       "      <td>30.428612</td>\n",
       "      <td>5.0</td>\n",
       "      <td>3.0</td>\n",
       "      <td>0.000026</td>\n",
       "    </tr>\n",
       "  </tbody>\n",
       "</table>\n",
       "<p>5 rows × 33 columns</p>\n",
       "</div>"
      ],
      "text/plain": [
       "            sym  age_4_last  market_cap_1_mean  market_cap_2_median  \\\n",
       "time                                                                  \n",
       "2016-01-30  $$$        49.0            1578.12               1219.5   \n",
       "2016-01-31  $$$        50.0            1556.72               1217.5   \n",
       "2016-02-01  $$$        51.0            1556.12               1216.0   \n",
       "2016-02-02  $$$        52.0            1539.92               1204.5   \n",
       "2016-02-03  $$$        53.0            1544.00               1206.5   \n",
       "\n",
       "            market_cap_3_stdev  market_cap_4_last  market_cap_5_delta  \\\n",
       "time                                                                    \n",
       "2016-01-30          783.470683             1221.0             -1066.0   \n",
       "2016-01-31          778.309105             1217.0               -28.0   \n",
       "2016-02-01          778.565836             1215.0              -781.0   \n",
       "2016-02-02          777.652743             1186.0               192.0   \n",
       "2016-02-03          775.261562             1198.0               180.0   \n",
       "\n",
       "            market_share_1_mean  market_share_2_median  market_share_3_stdev  \\\n",
       "time                                                                           \n",
       "2016-01-30         2.246673e-07           1.682321e-07          1.101040e-07   \n",
       "2016-01-31         2.217388e-07           1.682321e-07          1.091034e-07   \n",
       "2016-02-01         2.221393e-07           1.776320e-07          1.089358e-07   \n",
       "2016-02-02         2.202851e-07           1.776320e-07          1.087202e-07   \n",
       "2016-02-03         2.212602e-07           1.867770e-07          1.081915e-07   \n",
       "\n",
       "            ...  roi_2_median  roi_3_stdev  roi_4_last  roi_5_delta  \\\n",
       "time        ...                                                       \n",
       "2016-01-30  ...           0.0     0.426528    0.000000     0.000000   \n",
       "2016-01-31  ...           0.0     0.426444    0.038462     0.410555   \n",
       "2016-02-01  ...           0.0     0.421884    0.000000    -0.954545   \n",
       "2016-02-02  ...           0.0     0.402294    0.000000     0.000000   \n",
       "2016-02-03  ...           0.0     0.402294    0.000000     0.043478   \n",
       "\n",
       "            volume_1_mean  volume_2_median  volume_3_stdev  volume_4_last  \\\n",
       "time                                                                        \n",
       "2016-01-30          12.16              3.0       30.454623            2.0   \n",
       "2016-01-31          12.18              3.0       30.447472            2.0   \n",
       "2016-02-01          12.22              3.0       30.432454            2.0   \n",
       "2016-02-02          12.20              3.0       30.439636            1.0   \n",
       "2016-02-03          12.24              3.0       30.428612            5.0   \n",
       "\n",
       "            volume_5_delta  target_price  \n",
       "time                                      \n",
       "2016-01-30             1.0      0.000026  \n",
       "2016-01-31             2.0      0.000026  \n",
       "2016-02-01             0.0      0.000026  \n",
       "2016-02-02            -2.0      0.000026  \n",
       "2016-02-03             3.0      0.000026  \n",
       "\n",
       "[5 rows x 33 columns]"
      ]
     },
     "execution_count": 109,
     "metadata": {},
     "output_type": "execute_result"
    }
   ],
   "source": [
    "features_df.head()"
   ]
  },
  {
   "cell_type": "code",
   "execution_count": 110,
   "metadata": {},
   "outputs": [],
   "source": [
    "# Since our create_features function calculate the average of the last w prices as one of our features, we can reuse it to perform SMA\n",
    "def predict_sma_prices(features_df, w):\n",
    "    return features_df['price_1_mean']\n",
    "\n",
    "# Function to calculate Root Mean Squared of Error, an useful metric to gauge how accurate the model is\n",
    "def calculate_rmse(asset_matrix):\n",
    "    asset_matrix['error'] = (asset_matrix['actual_price'] - asset_matrix['predicted_price']) ** 2\n",
    "    rmse = np.sqrt(sum(asset_matrix['error'])/len(asset_matrix))\n",
    "    print('RMSE: {:.4f}'.format(rmse))\n",
    "    return rmse\n",
    "\n",
    "# Function to create a dataframe containing calculations needed to execute the trading strategy\n",
    "def construct_asset_matrix(test_df, pred):\n",
    "    result = test_df.copy()\n",
    "    result = result[['sym', 'price_4_last', 'market_cap_4_last', 'target_price', ]]\n",
    "    result.columns = ['sym', 'previous_price', 'previous_market_cap', 'actual_price']\n",
    "    \n",
    "    result['predicted_price'] = pred.values\n",
    "    result['expected_roi'] = result['predicted_price']/result['previous_price'] - 1\n",
    "    result['actual_roi'] = result['actual_price']/result['previous_price'] - 1\n",
    "    \n",
    "    return result\n",
    "\n",
    "# Function to plot predicted vs actual price for a given asset using asset matrix\n",
    "def plot_predicted_vs_actual(asset_matrix, sym):\n",
    "    plt.figure(figsize=(10,5))\n",
    "\n",
    "    asset_matrix[asset_matrix['sym'] == sym]['predicted_price'].plot(label='Prediction', lw=1)\n",
    "    asset_matrix[asset_matrix['sym'] == sym]['actual_price'].plot(label='Actual', lw=1)\n",
    "\n",
    "    plt.legend()\n",
    "    plt.show()"
   ]
  },
  {
   "cell_type": "code",
   "execution_count": 111,
   "metadata": {},
   "outputs": [],
   "source": [
    "sma_pred = predict_sma_prices(features_df, w)"
   ]
  },
  {
   "cell_type": "code",
   "execution_count": 112,
   "metadata": {},
   "outputs": [],
   "source": [
    "asset_matrix = construct_asset_matrix(features_df, sma_pred)"
   ]
  },
  {
   "cell_type": "code",
   "execution_count": 113,
   "metadata": {},
   "outputs": [
    {
     "name": "stdout",
     "output_type": "stream",
     "text": [
      "RMSE: 7066.5171\n"
     ]
    }
   ],
   "source": [
    "sma_rsme = calculate_rmse(asset_matrix)"
   ]
  },
  {
   "cell_type": "code",
   "execution_count": 114,
   "metadata": {},
   "outputs": [
    {
     "data": {
      "image/png": "[encoded data removed]",
      "text/plain": [
       "<Figure size 720x360 with 1 Axes>"
      ]
     },
     "metadata": {
      "needs_background": "light"
     },
     "output_type": "display_data"
    }
   ],
   "source": [
    "plot_predicted_vs_actual(asset_matrix, 'BTC')"
   ]
  },
  {
   "cell_type": "markdown",
   "metadata": {},
   "source": [
    "<h2>Trading Strategy</h2>\n",
    "\n",
    "Now that we have the predicted price for a given time period, we can build a portfolio at each time step so that we can have an idea how much profit can be generated by using the SMA prediction model. The strategy employed to build the portfolio will be standardized accross all the different prediction model we will explore later as well.\n",
    "\n",
    "The strategy will be to invest in the top $n$ coins with the highest expected ROI and then sell it the following day. To simplify the calculation, we will be ignoring the transaction cost. As the algorithm continues to trade, it will re-evaluate the best value of $n$ for a given time period such that it maximizes the Sharpe ratio based on the predicted prices on the next time step.\n",
    "\n",
    "We will be trading for 1 year from April 12, 2017 and April 12, 2018."
   ]
  },
  {
   "cell_type": "code",
   "execution_count": 127,
   "metadata": {},
   "outputs": [],
   "source": [
    "test_sma_df = features_df[pd.to_datetime(features_df.index) >= pd.Timestamp('2017-04-12')]\n",
    "test_sma_pred = predict_sma_prices(test_sma_df, w)\n",
    "asset_matrix = construct_asset_matrix(test_sma_df, test_sma_pred)"
   ]
  },
  {
   "cell_type": "code",
   "execution_count": 128,
   "metadata": {},
   "outputs": [
    {
     "data": {
      "image/png": "[encoded data removed]",
      "text/plain": [
       "<Figure size 720x360 with 1 Axes>"
      ]
     },
     "metadata": {
      "needs_background": "light"
     },
     "output_type": "display_data"
    }
   ],
   "source": [
    "plot_predicted_vs_actual(asset_matrix, 'ETH')"
   ]
  },
  {
   "cell_type": "code",
   "execution_count": 117,
   "metadata": {},
   "outputs": [],
   "source": [
    "# Function to update mean based on new value\n",
    "def update_mean(mean, t, new_value):\n",
    "    if t == 0:\n",
    "        return new_value\n",
    "    else:\n",
    "        return (mean * (t - 1) + new_value) / t\n",
    "\n",
    "# Function to update standard deviation based on new value\n",
    "def update_std(std, mean, new_mean, t, new_value):\n",
    "    if t == 0:\n",
    "        return 0\n",
    "    else:\n",
    "        return np.sqrt((std ** 2 * (t - 1) + (new_value - new_mean) * (new_value - mean)) / t)\n",
    "\n",
    "# Function to execute the trading strategy over the trading horizon using asset matrix\n",
    "def evaluate_strategy(asset_matrix):\n",
    "    initial_value = 10000\n",
    "    total_value = initial_value\n",
    "    sharpe_ratio = None\n",
    "    mean_roi = 0\n",
    "    std_roi = 0\n",
    "    initial_n = 10\n",
    "    t = 1\n",
    "    percent_returns = 0\n",
    "    cap_threshold = 100000\n",
    "    \n",
    "    asset_matrix = asset_matrix[asset_matrix['previous_market_cap'] > cap_threshold]\n",
    "\n",
    "    dates = list(set(asset_matrix.index))\n",
    "    dates.sort()\n",
    "\n",
    "    for date in dates:\n",
    "\n",
    "        coins_stats_df = asset_matrix.loc[date,:]\n",
    "        coins_stats_df = coins_stats_df.sort_values(by='expected_roi', ascending=False)\n",
    "\n",
    "        if t != 1:\n",
    "            sharpe_select_df = []\n",
    "\n",
    "            coins_stats_df['avg_expected_roi'] = coins_stats_df['expected_roi'].expanding().mean()\n",
    "            coins_stats_df['new_mean'] = coins_stats_df['avg_expected_roi'].apply(lambda x: update_mean(mean_roi, t, x))\n",
    "            coins_stats_df['new_std'] = coins_stats_df.apply(lambda row: update_std(std_roi, mean_roi, row['new_mean'], t, row['avg_expected_roi']), axis=1)\n",
    "            coins_stats_df['sharpe_ratio'] = coins_stats_df['new_mean']/coins_stats_df['new_std']\n",
    "            coins_stats_df['n'] = np.arange(start=1, stop=(len(coins_stats_df)+1))\n",
    "\n",
    "            n = coins_stats_df[coins_stats_df['sharpe_ratio']==coins_stats_df['sharpe_ratio'].max()]['n'].values[0]\n",
    "\n",
    "        else:\n",
    "            n = initial_n\n",
    "\n",
    "        n_index = n - 1        \n",
    "        day_return = sum(coins_stats_df.iloc[:n,:]['actual_roi'] * total_value / n)\n",
    "        day_roi = day_return/total_value\n",
    "        total_value += day_return\n",
    "        percent_returns = (total_value/initial_value - 1 ) * 100\n",
    "\n",
    "        prev_mean_roi = mean_roi\n",
    "        mean_roi = update_mean(prev_mean_roi, t, day_roi)\n",
    "        std_roi = update_std(std_roi, prev_mean_roi, mean_roi, t, day_roi)\n",
    "        sharpe_ratio = mean_roi/std_roi\n",
    "\n",
    "        t += 1\n",
    "        \n",
    "    print('Sharpe Ratio: {:.4f}, Cumulative Returns: {:.2e}%'.format(sharpe_ratio, percent_returns))    \n",
    "     \n",
    "    return sharpe_ratio, percent_returns"
   ]
  },
  {
   "cell_type": "code",
   "execution_count": 118,
   "metadata": {},
   "outputs": [
    {
     "name": "stderr",
     "output_type": "stream",
     "text": [
      "/home/ec2-user/anaconda3/envs/amazonei_mxnet_p36/lib/python3.6/site-packages/ipykernel/__main__.py:60: RuntimeWarning: divide by zero encountered in double_scalars\n"
     ]
    },
    {
     "name": "stdout",
     "output_type": "stream",
     "text": [
      "Sharpe Ratio: 0.4387, Cumulative Returns: 1.24e+17%\n"
     ]
    }
   ],
   "source": [
    "sharpe_ratio, percent_returns = evaluate_strategy(asset_matrix)"
   ]
  },
  {
   "cell_type": "markdown",
   "metadata": {},
   "source": [
    "<h2> XGBoost </h2>\n",
    "\n",
    "Testing on XGBoost algorithm. We will experiement using different values of $w$."
   ]
  },
  {
   "cell_type": "code",
   "execution_count": 213,
   "metadata": {},
   "outputs": [],
   "source": [
    "w = 50\n",
    "features_df = source.create_features(data_df, w)"
   ]
  },
  {
   "cell_type": "code",
   "execution_count": 214,
   "metadata": {},
   "outputs": [],
   "source": [
    "xgb_X_pd = pd.DataFrame(features_df.iloc[:,2:-2])\n",
    "xgb_Y_pd = pd.DataFrame(features_df['target_price'])"
   ]
  },
  {
   "cell_type": "code",
   "execution_count": 215,
   "metadata": {},
   "outputs": [],
   "source": [
    "xgb_X_train = xgb_X_pd[features_df.index < pd.Timestamp('2017-04-12')]\n",
    "xgb_Y_train = xgb_Y_pd[features_df.index < pd.Timestamp('2017-04-12')]\n",
    "\n",
    "# xgb_X_train, xgb_X_val, xgb_Y_train, xgb_Y_val = sklearn.model_selection.train_test_split(xgb_X_train, xgb_Y_train, test_size=0.10)\n",
    "\n",
    "xgb_X_test = xgb_X_pd[features_df.index >= pd.Timestamp('2017-04-12')]\n",
    "xgb_Y_test = xgb_Y_pd[features_df.index >= pd.Timestamp('2017-04-12')]\n",
    "test_set = features_df[features_df.index >= pd.Timestamp('2017-04-12')]"
   ]
  },
  {
   "cell_type": "code",
   "execution_count": 216,
   "metadata": {},
   "outputs": [],
   "source": [
    "data_dir = './data'"
   ]
  },
  {
   "cell_type": "code",
   "execution_count": null,
   "metadata": {},
   "outputs": [],
   "source": [
    "pd.concat([xgb_Y_train, xgb_X_train], axis=1).to_csv(os.path.join(data_dir, 'train.csv'), header=False, index=False)\n",
    "# pd.concat([xgb_Y_val, xgb_X_val], axis=1).to_csv(os.path.join(data_dir, 'val.csv'), header=False, index=False)\n",
    "pd.concat([xgb_X_test], axis=1).to_csv(os.path.join(data_dir, 'test.csv'), header=False, index=False)"
   ]
  },
  {
   "cell_type": "code",
   "execution_count": null,
   "metadata": {},
   "outputs": [],
   "source": [
    "prefix = 'xgb-w1'\n",
    "\n",
    "# val_location = session.upload_data(os.path.join(data_dir, 'val.csv'), key_prefix=prefix)\n",
    "train_location = session.upload_data(os.path.join(data_dir, 'train.csv'), key_prefix=prefix)\n",
    "test_location = session.upload_data(os.path.join(data_dir, 'test.csv'), key_prefix=prefix)"
   ]
  },
  {
   "cell_type": "code",
   "execution_count": null,
   "metadata": {},
   "outputs": [],
   "source": [
    "container = get_image_uri(session.boto_region_name, 'xgboost')"
   ]
  },
  {
   "cell_type": "code",
   "execution_count": null,
   "metadata": {},
   "outputs": [],
   "source": [
    "xgb = sagemaker.estimator.Estimator(container, # The name of the training container\n",
    "                                    role,      # The IAM role to use (our current role in this case)\\\n",
    "                                    train_instance_count=1, # The number of instances to use for training\n",
    "                                    train_instance_type='ml.m4.xlarge', # The type of instance ot use for training\n",
    "                                    output_path='s3://{}/{}/output'.format(session.default_bucket(), prefix), # Where to save the output (the model artifacts)\n",
    "                                    sagemaker_session=session) # The current SageMaker session"
   ]
  },
  {
   "cell_type": "code",
   "execution_count": null,
   "metadata": {},
   "outputs": [],
   "source": [
    "xgb.set_hyperparameters(max_depth=100,\n",
    "                        eta=0.2,\n",
    "                        gamma=0,\n",
    "                        min_child_weight=1,\n",
    "                        subsample=0.8,\n",
    "                        objective='reg:linear',\n",
    "                        early_stopping_rounds=10,\n",
    "                        num_round=500)"
   ]
  },
  {
   "cell_type": "code",
   "execution_count": null,
   "metadata": {},
   "outputs": [],
   "source": [
    "s3_input_train = sagemaker.s3_input(s3_data=train_location, content_type='csv')\n",
    "s3_input_validation = sagemaker.s3_input(s3_data=val_location, content_type='csv')\n",
    "xgb.fit({'train': s3_input_train})"
   ]
  },
  {
   "cell_type": "code",
   "execution_count": null,
   "metadata": {},
   "outputs": [],
   "source": [
    "# from sagemaker.tuner import IntegerParameter, ContinuousParameter, HyperparameterTuner\n",
    "\n",
    "# xgb_hyperparameter_tuner = HyperparameterTuner(estimator = xgb, # The estimator object to use as the basis for the training jobs.\n",
    "#                                                objective_metric_name = 'validation:rmse', # The metric used to compare trained models.\n",
    "#                                                objective_type = 'Minimize', # Whether we wish to minimize or maximize the metric.\n",
    "#                                                max_jobs = 20, # The total number of models to train\n",
    "#                                                max_parallel_jobs = 3, # The number of models to train in parallel\n",
    "#                                                hyperparameter_ranges = {\n",
    "#                                                     'max_depth': IntegerParameter(3, 12),\n",
    "#                                                     'eta'      : ContinuousParameter(0.05, 0.5),\n",
    "#                                                     'min_child_weight': IntegerParameter(2, 8),\n",
    "#                                                     'subsample': ContinuousParameter(0.5, 0.9),\n",
    "#                                                     'gamma': ContinuousParameter(0, 10),\n",
    "#                                                })\n",
    "\n",
    "# xgb_hyperparameter_tuner.fit({'train': s3_input_train, 'validation': s3_input_validation})\n",
    "# xgb_hyperparameter_tuner.wait()\n",
    "# xgb_attached = sagemaker.estimator.Estimator.attach(xgb_hyperparameter_tuner.best_training_job())"
   ]
  },
  {
   "cell_type": "code",
   "execution_count": null,
   "metadata": {},
   "outputs": [],
   "source": [
    "#Testing Performance\n",
    "xgb_transformer = xgb.transformer(instance_count = 1, instance_type = 'ml.m4.xlarge')\n",
    "xgb_transformer.transform(test_location, content_type='text/csv', split_type='Line')\n",
    "xgb_transformer.wait()"
   ]
  },
  {
   "cell_type": "code",
   "execution_count": null,
   "metadata": {},
   "outputs": [],
   "source": [
    "!aws s3 cp --recursive $xgb_transformer.output_path $data_dir\n",
    "xgb_pred = pd.read_csv(os.path.join(data_dir, 'test.csv.out'), header=None)"
   ]
  },
  {
   "cell_type": "code",
   "execution_count": null,
   "metadata": {},
   "outputs": [],
   "source": [
    "xgb_asset_matrix = construct_asset_matrix(test_set, xgb_pred)"
   ]
  },
  {
   "cell_type": "code",
   "execution_count": null,
   "metadata": {},
   "outputs": [],
   "source": [
    "plot_predicted_vs_actual(xgb_asset_matrix, 'BTC')"
   ]
  },
  {
   "cell_type": "code",
   "execution_count": null,
   "metadata": {},
   "outputs": [],
   "source": [
    "xgb_test_rmse = calculate_rmse(xgb_asset_matrix)"
   ]
  },
  {
   "cell_type": "code",
   "execution_count": null,
   "metadata": {},
   "outputs": [],
   "source": [
    "xgb_sharpe_ratio, xgb_percent_returns = evaluate_strategy(xgb_asset_matrix)"
   ]
  },
  {
   "cell_type": "code",
   "execution_count": 63,
   "metadata": {},
   "outputs": [],
   "source": [
    "# xgb_asset_matrix_container['w=50'] = xgb_asset_matrix"
   ]
  },
  {
   "cell_type": "code",
   "execution_count": 123,
   "metadata": {},
   "outputs": [
    {
     "data": {
      "text/html": [
       "<div>\n",
       "<style scoped>\n",
       "    .dataframe tbody tr th:only-of-type {\n",
       "        vertical-align: middle;\n",
       "    }\n",
       "\n",
       "    .dataframe tbody tr th {\n",
       "        vertical-align: top;\n",
       "    }\n",
       "\n",
       "    .dataframe thead th {\n",
       "        text-align: right;\n",
       "    }\n",
       "</style>\n",
       "<table border=\"1\" class=\"dataframe\">\n",
       "  <thead>\n",
       "    <tr style=\"text-align: right;\">\n",
       "      <th></th>\n",
       "      <th>sym</th>\n",
       "      <th>previous_price</th>\n",
       "      <th>previous_market_cap</th>\n",
       "      <th>actual_price</th>\n",
       "      <th>predicted_price</th>\n",
       "      <th>expected_roi</th>\n",
       "      <th>actual_roi</th>\n",
       "      <th>error</th>\n",
       "    </tr>\n",
       "    <tr>\n",
       "      <th>time</th>\n",
       "      <th></th>\n",
       "      <th></th>\n",
       "      <th></th>\n",
       "      <th></th>\n",
       "      <th></th>\n",
       "      <th></th>\n",
       "      <th></th>\n",
       "      <th></th>\n",
       "    </tr>\n",
       "  </thead>\n",
       "  <tbody>\n",
       "    <tr>\n",
       "      <th>2016-01-30</th>\n",
       "      <td>$$$</td>\n",
       "      <td>0.000027</td>\n",
       "      <td>1221.0</td>\n",
       "      <td>0.000026</td>\n",
       "      <td>0.000977</td>\n",
       "      <td>35.175604</td>\n",
       "      <td>-0.037037</td>\n",
       "      <td>9.039090e-07</td>\n",
       "    </tr>\n",
       "    <tr>\n",
       "      <th>2016-01-31</th>\n",
       "      <td>$$$</td>\n",
       "      <td>0.000026</td>\n",
       "      <td>1217.0</td>\n",
       "      <td>0.000026</td>\n",
       "      <td>0.000976</td>\n",
       "      <td>36.526855</td>\n",
       "      <td>0.000000</td>\n",
       "      <td>9.019267e-07</td>\n",
       "    </tr>\n",
       "    <tr>\n",
       "      <th>2016-02-01</th>\n",
       "      <td>$$$</td>\n",
       "      <td>0.000026</td>\n",
       "      <td>1215.0</td>\n",
       "      <td>0.000026</td>\n",
       "      <td>0.000548</td>\n",
       "      <td>20.075973</td>\n",
       "      <td>0.000000</td>\n",
       "      <td>2.724582e-07</td>\n",
       "    </tr>\n",
       "    <tr>\n",
       "      <th>2016-02-02</th>\n",
       "      <td>$$$</td>\n",
       "      <td>0.000026</td>\n",
       "      <td>1186.0</td>\n",
       "      <td>0.000026</td>\n",
       "      <td>0.000977</td>\n",
       "      <td>36.562389</td>\n",
       "      <td>0.000000</td>\n",
       "      <td>9.036824e-07</td>\n",
       "    </tr>\n",
       "    <tr>\n",
       "      <th>2016-02-03</th>\n",
       "      <td>$$$</td>\n",
       "      <td>0.000026</td>\n",
       "      <td>1198.0</td>\n",
       "      <td>0.000026</td>\n",
       "      <td>0.000978</td>\n",
       "      <td>36.620847</td>\n",
       "      <td>0.000000</td>\n",
       "      <td>9.065744e-07</td>\n",
       "    </tr>\n",
       "    <tr>\n",
       "      <th>...</th>\n",
       "      <td>...</td>\n",
       "      <td>...</td>\n",
       "      <td>...</td>\n",
       "      <td>...</td>\n",
       "      <td>...</td>\n",
       "      <td>...</td>\n",
       "      <td>...</td>\n",
       "      <td>...</td>\n",
       "    </tr>\n",
       "    <tr>\n",
       "      <th>2017-04-08</th>\n",
       "      <td>ZYD</td>\n",
       "      <td>0.007132</td>\n",
       "      <td>52026.0</td>\n",
       "      <td>0.006773</td>\n",
       "      <td>0.007902</td>\n",
       "      <td>0.108030</td>\n",
       "      <td>-0.050337</td>\n",
       "      <td>1.275710e-06</td>\n",
       "    </tr>\n",
       "    <tr>\n",
       "      <th>2017-04-09</th>\n",
       "      <td>ZYD</td>\n",
       "      <td>0.006773</td>\n",
       "      <td>43744.0</td>\n",
       "      <td>0.008066</td>\n",
       "      <td>0.007778</td>\n",
       "      <td>0.148408</td>\n",
       "      <td>0.190905</td>\n",
       "      <td>8.284742e-08</td>\n",
       "    </tr>\n",
       "    <tr>\n",
       "      <th>2017-04-10</th>\n",
       "      <td>ZYD</td>\n",
       "      <td>0.008066</td>\n",
       "      <td>41840.0</td>\n",
       "      <td>0.007883</td>\n",
       "      <td>0.008574</td>\n",
       "      <td>0.062930</td>\n",
       "      <td>-0.022688</td>\n",
       "      <td>4.769169e-07</td>\n",
       "    </tr>\n",
       "    <tr>\n",
       "      <th>2017-04-11</th>\n",
       "      <td>ZYD</td>\n",
       "      <td>0.007883</td>\n",
       "      <td>49921.0</td>\n",
       "      <td>0.006965</td>\n",
       "      <td>0.007632</td>\n",
       "      <td>-0.031903</td>\n",
       "      <td>-0.116453</td>\n",
       "      <td>4.442362e-07</td>\n",
       "    </tr>\n",
       "    <tr>\n",
       "      <th>2017-04-12</th>\n",
       "      <td>ZYD</td>\n",
       "      <td>0.006965</td>\n",
       "      <td>48965.0</td>\n",
       "      <td>0.007622</td>\n",
       "      <td>0.006937</td>\n",
       "      <td>-0.004072</td>\n",
       "      <td>0.094329</td>\n",
       "      <td>4.697190e-07</td>\n",
       "    </tr>\n",
       "  </tbody>\n",
       "</table>\n",
       "<p>327194 rows × 8 columns</p>\n",
       "</div>"
      ],
      "text/plain": [
       "            sym  previous_price  previous_market_cap  actual_price  \\\n",
       "time                                                                 \n",
       "2016-01-30  $$$        0.000027               1221.0      0.000026   \n",
       "2016-01-31  $$$        0.000026               1217.0      0.000026   \n",
       "2016-02-01  $$$        0.000026               1215.0      0.000026   \n",
       "2016-02-02  $$$        0.000026               1186.0      0.000026   \n",
       "2016-02-03  $$$        0.000026               1198.0      0.000026   \n",
       "...         ...             ...                  ...           ...   \n",
       "2017-04-08  ZYD        0.007132              52026.0      0.006773   \n",
       "2017-04-09  ZYD        0.006773              43744.0      0.008066   \n",
       "2017-04-10  ZYD        0.008066              41840.0      0.007883   \n",
       "2017-04-11  ZYD        0.007883              49921.0      0.006965   \n",
       "2017-04-12  ZYD        0.006965              48965.0      0.007622   \n",
       "\n",
       "            predicted_price  expected_roi  actual_roi         error  \n",
       "time                                                                 \n",
       "2016-01-30         0.000977     35.175604   -0.037037  9.039090e-07  \n",
       "2016-01-31         0.000976     36.526855    0.000000  9.019267e-07  \n",
       "2016-02-01         0.000548     20.075973    0.000000  2.724582e-07  \n",
       "2016-02-02         0.000977     36.562389    0.000000  9.036824e-07  \n",
       "2016-02-03         0.000978     36.620847    0.000000  9.065744e-07  \n",
       "...                     ...           ...         ...           ...  \n",
       "2017-04-08         0.007902      0.108030   -0.050337  1.275710e-06  \n",
       "2017-04-09         0.007778      0.148408    0.190905  8.284742e-08  \n",
       "2017-04-10         0.008574      0.062930   -0.022688  4.769169e-07  \n",
       "2017-04-11         0.007632     -0.031903   -0.116453  4.442362e-07  \n",
       "2017-04-12         0.006937     -0.004072    0.094329  4.697190e-07  \n",
       "\n",
       "[327194 rows x 8 columns]"
      ]
     },
     "execution_count": 123,
     "metadata": {},
     "output_type": "execute_result"
    }
   ],
   "source": [
    "xgb_asset_matrix"
   ]
  },
  {
   "cell_type": "code",
   "execution_count": null,
   "metadata": {},
   "outputs": [],
   "source": []
  }
 ],
 "metadata": {
  "kernelspec": {
   "display_name": "conda_amazonei_mxnet_p36",
   "language": "python",
   "name": "conda_amazonei_mxnet_p36"
  },
  "language_info": {
   "codemirror_mode": {
    "name": "ipython",
    "version": 3
   },
   "file_extension": ".py",
   "mimetype": "text/x-python",
   "name": "python",
   "nbconvert_exporter": "python",
   "pygments_lexer": "ipython3",
   "version": "3.6.10"
  }
 },
 "nbformat": 4,
 "nbformat_minor": 4
}
