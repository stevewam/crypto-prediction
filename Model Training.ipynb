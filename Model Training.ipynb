{
 "cells": [
  {
   "cell_type": "code",
   "execution_count": 2,
   "metadata": {},
   "outputs": [
    {
     "name": "stdout",
     "output_type": "stream",
     "text": [
      "Requirement already satisfied: sagemaker==1.72.0 in /home/ec2-user/anaconda3/envs/amazonei_mxnet_p36/lib/python3.6/site-packages (1.72.0)\n",
      "Requirement already satisfied: packaging>=20.0 in /home/ec2-user/anaconda3/envs/amazonei_mxnet_p36/lib/python3.6/site-packages (from sagemaker==1.72.0) (20.7)\n",
      "Requirement already satisfied: numpy>=1.9.0 in /home/ec2-user/anaconda3/envs/amazonei_mxnet_p36/lib/python3.6/site-packages (from sagemaker==1.72.0) (1.19.4)\n",
      "Requirement already satisfied: smdebug-rulesconfig==0.1.4 in /home/ec2-user/anaconda3/envs/amazonei_mxnet_p36/lib/python3.6/site-packages (from sagemaker==1.72.0) (0.1.4)\n",
      "Requirement already satisfied: scipy>=0.19.0 in /home/ec2-user/anaconda3/envs/amazonei_mxnet_p36/lib/python3.6/site-packages (from sagemaker==1.72.0) (1.4.1)\n",
      "Requirement already satisfied: protobuf>=3.1 in /home/ec2-user/anaconda3/envs/amazonei_mxnet_p36/lib/python3.6/site-packages (from sagemaker==1.72.0) (3.14.0)\n",
      "Requirement already satisfied: importlib-metadata>=1.4.0 in /home/ec2-user/anaconda3/envs/amazonei_mxnet_p36/lib/python3.6/site-packages (from sagemaker==1.72.0) (3.1.0)\n",
      "Requirement already satisfied: boto3>=1.14.12 in /home/ec2-user/anaconda3/envs/amazonei_mxnet_p36/lib/python3.6/site-packages (from sagemaker==1.72.0) (1.16.37)\n",
      "Requirement already satisfied: protobuf3-to-dict>=0.1.5 in /home/ec2-user/anaconda3/envs/amazonei_mxnet_p36/lib/python3.6/site-packages (from sagemaker==1.72.0) (0.1.5)\n",
      "Requirement already satisfied: s3transfer<0.4.0,>=0.3.0 in /home/ec2-user/anaconda3/envs/amazonei_mxnet_p36/lib/python3.6/site-packages (from boto3>=1.14.12->sagemaker==1.72.0) (0.3.3)\n",
      "Requirement already satisfied: jmespath<1.0.0,>=0.7.1 in /home/ec2-user/anaconda3/envs/amazonei_mxnet_p36/lib/python3.6/site-packages (from boto3>=1.14.12->sagemaker==1.72.0) (0.10.0)\n",
      "Requirement already satisfied: botocore<1.20.0,>=1.19.37 in /home/ec2-user/anaconda3/envs/amazonei_mxnet_p36/lib/python3.6/site-packages (from boto3>=1.14.12->sagemaker==1.72.0) (1.19.37)\n",
      "Requirement already satisfied: python-dateutil<3.0.0,>=2.1 in /home/ec2-user/anaconda3/envs/amazonei_mxnet_p36/lib/python3.6/site-packages (from botocore<1.20.0,>=1.19.37->boto3>=1.14.12->sagemaker==1.72.0) (2.8.1)\n",
      "Requirement already satisfied: jmespath<1.0.0,>=0.7.1 in /home/ec2-user/anaconda3/envs/amazonei_mxnet_p36/lib/python3.6/site-packages (from boto3>=1.14.12->sagemaker==1.72.0) (0.10.0)\n",
      "Requirement already satisfied: urllib3<1.27,>=1.25.4 in /home/ec2-user/anaconda3/envs/amazonei_mxnet_p36/lib/python3.6/site-packages (from botocore<1.20.0,>=1.19.37->boto3>=1.14.12->sagemaker==1.72.0) (1.25.11)\n",
      "Requirement already satisfied: zipp>=0.5 in /home/ec2-user/anaconda3/envs/amazonei_mxnet_p36/lib/python3.6/site-packages (from importlib-metadata>=1.4.0->sagemaker==1.72.0) (3.4.0)\n",
      "Requirement already satisfied: pyparsing>=2.0.2 in /home/ec2-user/anaconda3/envs/amazonei_mxnet_p36/lib/python3.6/site-packages (from packaging>=20.0->sagemaker==1.72.0) (2.4.7)\n",
      "Requirement already satisfied: six>=1.9 in /home/ec2-user/anaconda3/envs/amazonei_mxnet_p36/lib/python3.6/site-packages (from protobuf>=3.1->sagemaker==1.72.0) (1.15.0)\n",
      "Requirement already satisfied: protobuf>=3.1 in /home/ec2-user/anaconda3/envs/amazonei_mxnet_p36/lib/python3.6/site-packages (from sagemaker==1.72.0) (3.14.0)\n",
      "Requirement already satisfied: six>=1.9 in /home/ec2-user/anaconda3/envs/amazonei_mxnet_p36/lib/python3.6/site-packages (from protobuf>=3.1->sagemaker==1.72.0) (1.15.0)\n",
      "Requirement already satisfied: six>=1.9 in /home/ec2-user/anaconda3/envs/amazonei_mxnet_p36/lib/python3.6/site-packages (from protobuf>=3.1->sagemaker==1.72.0) (1.15.0)\n",
      "Requirement already satisfied: botocore<1.20.0,>=1.19.37 in /home/ec2-user/anaconda3/envs/amazonei_mxnet_p36/lib/python3.6/site-packages (from boto3>=1.14.12->sagemaker==1.72.0) (1.19.37)\n",
      "Requirement already satisfied: numpy>=1.9.0 in /home/ec2-user/anaconda3/envs/amazonei_mxnet_p36/lib/python3.6/site-packages (from sagemaker==1.72.0) (1.19.4)\n",
      "\u001b[33mWARNING: You are using pip version 20.3; however, version 20.3.3 is available.\n",
      "You should consider upgrading via the '/home/ec2-user/anaconda3/envs/amazonei_mxnet_p36/bin/python -m pip install --upgrade pip' command.\u001b[0m\n"
     ]
    }
   ],
   "source": [
    "!pip install sagemaker==1.72.0"
   ]
  },
  {
   "cell_type": "code",
   "execution_count": 3,
   "metadata": {},
   "outputs": [],
   "source": [
    "%matplotlib inline\n",
    "import os\n",
    "import ast\n",
    "import numpy as np\n",
    "import pandas as pd\n",
    "import matplotlib.pyplot as plt\n",
    "from sklearn.datasets import load_boston\n",
    "import sklearn.model_selection\n",
    "\n",
    "import sagemaker\n",
    "from sagemaker import get_execution_role\n",
    "from sagemaker.amazon.amazon_estimator import get_image_uri\n",
    "from sagemaker.predictor import csv_serializer\n",
    "from sagemaker.xgboost.estimator import XGBoost\n",
    "from sagemaker.sklearn.estimator import SKLearn\n",
    "\n",
    "session = sagemaker.Session()\n",
    "role = get_execution_role()"
   ]
  },
  {
   "cell_type": "code",
   "execution_count": 14,
   "metadata": {},
   "outputs": [],
   "source": [
    "data_df = pd.read_csv(\"./data/processed_data.csv\")"
   ]
  },
  {
   "cell_type": "markdown",
   "metadata": {},
   "source": [
    "We will be experimenting with the following algorithms for the model:\n",
    "1. XGBoost\n",
    "2. Simple Custom Neural Net\n",
    "3. Long Short Term Memory Networks\n",
    "\n",
    "Before I work with these models, I will start with the benchmark model first which is based on Simple Moving Average model."
   ]
  },
  {
   "cell_type": "markdown",
   "metadata": {},
   "source": [
    "<h2> Simple Moving Average (SMA)</h2>\n",
    "\n",
    "In Simple Moving Average, the predicted next price is equal to the average of the last $w$ data points. In addition to creating this model, I will be creating the function to implement the trading strategy in this section as well."
   ]
  },
  {
   "cell_type": "code",
   "execution_count": 151,
   "metadata": {},
   "outputs": [],
   "source": [
    "# Import source to access feature.py script\n",
    "import source"
   ]
  },
  {
   "cell_type": "code",
   "execution_count": 152,
   "metadata": {},
   "outputs": [],
   "source": [
    "# Since our create_features function calculate the average of the last w prices as one of our features, we can reuse it to perform SMA\n",
    "def predict_sma_prices(features_df):\n",
    "    return features_df['price_1_mean']\n",
    "\n",
    "# Function to calculate Root Mean Squared of Error, an useful metric to gauge how accurate the model is\n",
    "def calculate_mape(asset_matrix):\n",
    "    asset_matrix['error'] = abs((asset_matrix['predicted_price']/asset_matrix['actual_price']) - 1) * 100\n",
    "    mape = sum(asset_matrix['error'])/len(asset_matrix)\n",
    "    print('MAPE: {:.4f}'.format(mape))\n",
    "    return mape\n",
    "\n",
    "# Function to create a dataframe containing calculations needed to execute the trading strategy\n",
    "def construct_asset_matrix(test_df, pred):\n",
    "    result = test_df.copy()\n",
    "    result = result[['sym', 'price_4_last', 'market_cap_4_last', 'target_price']]\n",
    "    result.columns = ['sym', 'previous_price', 'previous_market_cap', 'actual_price']\n",
    "    \n",
    "    result['predicted_price'] = pred.values\n",
    "    result['expected_roi'] = result['predicted_price']/result['previous_price'] - 1\n",
    "    result['actual_roi'] = result['actual_price']/result['previous_price'] - 1\n",
    "    \n",
    "    return result\n",
    "\n",
    "# Function to plot predicted vs actual price for a given asset using asset matrix\n",
    "def plot_predicted_vs_actual(asset_matrix, sym):\n",
    "    plt.figure(figsize=(10,5))\n",
    "\n",
    "    asset_matrix[asset_matrix['sym'] == sym]['predicted_price'].plot(label='Prediction', lw=1)\n",
    "    asset_matrix[asset_matrix['sym'] == sym]['actual_price'].plot(label='Actual', lw=1)\n",
    "\n",
    "    plt.legend()\n",
    "    plt.show()"
   ]
  },
  {
   "cell_type": "code",
   "execution_count": 158,
   "metadata": {},
   "outputs": [],
   "source": [
    "features_df = source.create_features(data_df, w=30)\n",
    "sma_pred = predict_sma_prices(features_df)"
   ]
  },
  {
   "cell_type": "code",
   "execution_count": 159,
   "metadata": {},
   "outputs": [],
   "source": [
    "asset_matrix = construct_asset_matrix(features_df, sma_pred)"
   ]
  },
  {
   "cell_type": "code",
   "execution_count": 160,
   "metadata": {},
   "outputs": [
    {
     "name": "stdout",
     "output_type": "stream",
     "text": [
      "MAPE: inf\n"
     ]
    }
   ],
   "source": [
    "mape = calculate_mape(asset_matrix)"
   ]
  },
  {
   "cell_type": "code",
   "execution_count": 161,
   "metadata": {},
   "outputs": [
    {
     "data": {
      "image/png": "[encoded data removed]",
      "text/plain": [
       "<Figure size 720x360 with 1 Axes>"
      ]
     },
     "metadata": {
      "needs_background": "light"
     },
     "output_type": "display_data"
    }
   ],
   "source": [
    "plot_predicted_vs_actual(asset_matrix, 'BTC')"
   ]
  },
  {
   "cell_type": "markdown",
   "metadata": {},
   "source": [
    "<h2>Trading Strategy</h2>\n",
    "\n",
    "Now that we have the predicted price for a given time period, we can build a portfolio at each time step so that we can have an idea how much profit can be generated by using the SMA prediction model. The strategy employed to build the portfolio will be standardized accross all the different prediction model we will explore later as well.\n",
    "\n",
    "The strategy will be to invest in the top $n$ coins with the highest expected ROI and then sell it the following day. To simplify the calculation, we will be ignoring the transaction cost. As the algorithm continues to trade, it will re-evaluate the best value of $n$ for a given time period such that it maximizes the Sharpe ratio based on the predicted prices on the next time step.\n",
    "\n",
    "We will be trading for 1 year from April 12, 2017 and April 12, 2018."
   ]
  },
  {
   "cell_type": "code",
   "execution_count": 245,
   "metadata": {},
   "outputs": [],
   "source": [
    "vol_threshold = 100000\n",
    "age_threshold = 50\n",
    "\n",
    "test_features_df = source.create_features(data_df, w=5)\n",
    "test_sma_df = test_features_df[pd.to_datetime(test_features_df.index) >= pd.Timestamp('2017-04-12')]\n",
    "test_sma_df = test_sma_df[(test_sma_df['volume_4_last'] * test_sma_df['price_4_last']) > vol_threshold]\n",
    "test_sma_df = test_sma_df[test_sma_df['age_4_last'] > age_threshold]\n",
    "test_sma_pred = predict_sma_prices(test_sma_df)\n",
    "test_asset_matrix = construct_asset_matrix(test_sma_df, test_sma_pred)"
   ]
  },
  {
   "cell_type": "code",
   "execution_count": 246,
   "metadata": {},
   "outputs": [
    {
     "data": {
      "image/png": "[encoded data removed]",
      "text/plain": [
       "<Figure size 720x360 with 1 Axes>"
      ]
     },
     "metadata": {
      "needs_background": "light"
     },
     "output_type": "display_data"
    }
   ],
   "source": [
    "plot_predicted_vs_actual(test_asset_matrix, 'XRP')"
   ]
  },
  {
   "cell_type": "code",
   "execution_count": 326,
   "metadata": {},
   "outputs": [],
   "source": [
    "# Function to update mean based on new value\n",
    "def update_mean(mean, t, new_value):\n",
    "    if t == 0:\n",
    "        return new_value\n",
    "    else:\n",
    "        return (mean * (t - 1) + new_value) / t\n",
    "\n",
    "# Function to update standard deviation based on new value\n",
    "def update_std(std, mean, new_mean, t, new_value):\n",
    "    if t == 0:\n",
    "        return 0\n",
    "    else:\n",
    "        return np.sqrt((std ** 2 * (t - 1) + (new_value - new_mean) * (new_value - mean)) / t)\n",
    "\n",
    "# Function to execute the trading strategy over the trading horizon using asset matrix\n",
    "def evaluate_strategy(asset_matrix):\n",
    "    initial_value = 10000\n",
    "    total_value = initial_value\n",
    "    sharpe_ratio = None\n",
    "    mean_roi = 0\n",
    "    std_roi = 0\n",
    "    n = 5\n",
    "    t = 1\n",
    "    percent_returns = 0\n",
    "    value_history = []\n",
    "    roi_history = []\n",
    "    top_roi = []\n",
    "\n",
    "    dates = list(set(asset_matrix.index))\n",
    "    dates.sort()\n",
    "\n",
    "    for date in dates:\n",
    "\n",
    "        coins_stats_df = asset_matrix.loc[date,:]\n",
    "        coins_stats_df = coins_stats_df.sort_values(by='expected_roi', ascending=False)\n",
    "        coins_stats_df = coins_stats_df[coins_stats_df['expected_roi'] > 0]\n",
    "        \n",
    "        if coins_stats_df.empty:\n",
    "            prev_mean_roi = mean_roi\n",
    "            mean_roi = update_mean(prev_mean_roi, t, 0)\n",
    "            std_roi = update_std(std_roi, prev_mean_roi, mean_roi, t, 0)\n",
    "            n_history.append(0)\n",
    "            value_history.append(total_value)\n",
    "            roi_history.append(0)\n",
    "            continue\n",
    "       \n",
    "        day_return = sum(coins_stats_df.iloc[:n,:]['actual_roi'] * total_value / n)\n",
    "        day_roi = day_return/total_value\n",
    "        total_value += day_return\n",
    "        percent_returns = (total_value/initial_value - 1) * 100\n",
    "\n",
    "        prev_mean_roi = mean_roi\n",
    "        mean_roi = update_mean(prev_mean_roi, t, day_roi)\n",
    "        std_roi = update_std(std_roi, prev_mean_roi, mean_roi, t, day_roi)\n",
    "        sharpe_ratio = mean_roi/std_roi\n",
    "        \n",
    "        value_history.append(total_value)\n",
    "        roi_history.append(day_roi)\n",
    "\n",
    "        t += 1\n",
    "        \n",
    "    print('Cumulative Returns: {:.2e}%, Sharpe Ratio: {:.4f}'.format(percent_returns, sharpe_ratio))\n",
    "    \n",
    "    history = pd.concat([pd.DataFrame(dates), pd.DataFrame(value_history), pd.DataFrame(roi_history)], axis=1)\n",
    "    history.columns = ['time', 'total_value', 'roi']\n",
    "    history = history.set_index('time')\n",
    "    return sharpe_ratio, percent_returns, history"
   ]
  },
  {
   "cell_type": "code",
   "execution_count": 327,
   "metadata": {},
   "outputs": [
    {
     "name": "stderr",
     "output_type": "stream",
     "text": [
      "/home/ec2-user/anaconda3/envs/amazonei_mxnet_p36/lib/python3.6/site-packages/ipykernel/__main__.py:55: RuntimeWarning: divide by zero encountered in double_scalars\n"
     ]
    },
    {
     "name": "stdout",
     "output_type": "stream",
     "text": [
      "Cumulative Returns: 1.66e+07%, Sharpe Ratio: 0.2483\n"
     ]
    }
   ],
   "source": [
    "sma_result = evaluate_strategy(test_asset_matrix)"
   ]
  },
  {
   "cell_type": "code",
   "execution_count": 328,
   "metadata": {},
   "outputs": [
    {
     "name": "stdout",
     "output_type": "stream",
     "text": [
      "MAPE: 12.7693\n"
     ]
    }
   ],
   "source": [
    "sma_mape = calculate_mape(test_asset_matrix)"
   ]
  },
  {
   "cell_type": "code",
   "execution_count": 330,
   "metadata": {},
   "outputs": [
    {
     "data": {
      "image/png": "[encoded data removed]",
      "text/plain": [
       "<Figure size 432x288 with 1 Axes>"
      ]
     },
     "metadata": {
      "needs_background": "light"
     },
     "output_type": "display_data"
    }
   ],
   "source": [
    "plt.plot(sma_result[2]['total_value'])\n",
    "plt.yscale('log')\n",
    "plt.show()"
   ]
  },
  {
   "cell_type": "markdown",
   "metadata": {},
   "source": [
    "<h2> XGBoost </h2>\n",
    "\n",
    "Testing on XGBoost algorithm. We will experiement using different values of $w$."
   ]
  },
  {
   "cell_type": "code",
   "execution_count": 298,
   "metadata": {},
   "outputs": [],
   "source": [
    "def run_xgboost_model(w, hyperparams, prefix, data_dir, data_df, test_start='2017-04-12', val_start='2016-04-12'):\n",
    "    features_df = source.create_features(data_df, w)\n",
    "    features_df = features_df[(features_df['volume_4_last'] * features_df['price_4_last']) > vol_threshold]\n",
    "    features_df = features_df[features_df['age_4_last'] > age_threshold]\n",
    "    \n",
    "    train_df = features_df[features_df.index < pd.Timestamp(val_start)]\n",
    "    val_df = features_df[(features_df.index >= pd.Timestamp(val_start)) & (features_df.index < pd.Timestamp(test_start))]\n",
    "    test_df = features_df[features_df.index >= pd.Timestamp(test_start)]\n",
    "    \n",
    "    X_train = pd.DataFrame(train_df.iloc[:,2:-2])\n",
    "    Y_train = pd.DataFrame(train_df['target_price'])\n",
    "    X_val = pd.DataFrame(val_df.iloc[:,2:-2])\n",
    "    Y_val = pd.DataFrame(val_df['target_price'])\n",
    "    X_test = pd.DataFrame(test_df.iloc[:,2:-2])\n",
    "    Y_test = pd.DataFrame(test_df['target_price'])\n",
    "    \n",
    "    \n",
    "    pd.concat([Y_train, X_train], axis=1).to_csv(os.path.join(data_dir, 'train.csv'), header=False, index=False)\n",
    "    pd.concat([Y_val, X_val], axis=1).to_csv(os.path.join(data_dir, 'val.csv'), header=False, index=False)\n",
    "\n",
    "    train_location = session.upload_data(os.path.join(data_dir, 'train.csv'), key_prefix=prefix)\n",
    "    val_location = session.upload_data(os.path.join(data_dir, 'val.csv'), key_prefix=prefix)\n",
    "    \n",
    "    script_path = './source/custom_xgb.py'\n",
    "\n",
    "    xgb_custom = XGBoost(entry_point=script_path,\n",
    "                        framework_version='1.0-1',\n",
    "                        hyperparameters=hyperparams,\n",
    "                        role=role,\n",
    "                        train_instance_count=1,\n",
    "                        train_instance_type='ml.m4.xlarge',\n",
    "                        output_path='s3://{}/{}/output'.format(session.default_bucket(), prefix))\n",
    "    \n",
    "    s3_input_train = sagemaker.s3_input(s3_data=train_location, content_type='csv')\n",
    "    s3_input_validation = sagemaker.s3_input(s3_data=val_location, content_type='csv')\n",
    "    xgb_custom.fit({'train': s3_input_train, 'validation': s3_input_validation})\n",
    "    \n",
    "    predictor = xgb_custom.deploy(initial_instance_count=1, instance_type=\"ml.m4.xlarge\")\n",
    "    \n",
    "    pred = []\n",
    "    i = 0\n",
    "    payload_list = [[str(entry) for entry in row] for row in X_test.values]\n",
    "\n",
    "    for j in range(10000,len(payload_list)+10000, 10000):\n",
    "        max_idx = min(len(payload_list), j)\n",
    "        payload = '\\n'.join([','.join(row) for row in payload_list[i:j]])\n",
    "        response = session.sagemaker_runtime_client.invoke_endpoint(\n",
    "                                                        EndpointName = predictor.endpoint, #predictor.endpoint,\n",
    "                                                        ContentType = 'text/csv',\n",
    "                                                        Body = payload)\n",
    "        result = response['Body'].read().decode(\"utf-8\")\n",
    "        pred_val = ast.literal_eval(result)\n",
    "        pred = pred + pred_val\n",
    "        i = j\n",
    "    \n",
    "    asset_matrix = construct_asset_matrix(test_df, pd.DataFrame(pred))\n",
    "    mape = calculate_mape(asset_matrix)\n",
    "    result = evaluate_strategy(asset_matrix)\n",
    "    \n",
    "    session.sagemaker_client.delete_endpoint(EndpointName = predictor.endpoint)\n",
    "    \n",
    "    return test_df, pred, asset_matrix, result\n",
    "    "
   ]
  },
  {
   "cell_type": "code",
   "execution_count": 290,
   "metadata": {},
   "outputs": [],
   "source": [
    "hyperparams = {\n",
    "        \"max_depth\": \"1000\",\n",
    "        \"eta\": \"0.2\",\n",
    "        \"gamma\": \"0\",\n",
    "        \"min_child_weight\": \"1\",\n",
    "        \"subsample\": \"0.8\",\n",
    "        \"objective\": \"reg:linear\",\n",
    "        \"num_round\": \"50\",\n",
    "        \"verbosity\": \"0\",\n",
    "        \"early_stopping_rounds\": \"10\"\n",
    "}"
   ]
  },
  {
   "cell_type": "code",
   "execution_count": 288,
   "metadata": {},
   "outputs": [
    {
     "name": "stderr",
     "output_type": "stream",
     "text": [
      "'s3_input' class will be renamed to 'TrainingInput' in SageMaker Python SDK v2.\n",
      "'s3_input' class will be renamed to 'TrainingInput' in SageMaker Python SDK v2.\n"
     ]
    },
    {
     "name": "stdout",
     "output_type": "stream",
     "text": [
      "2021-01-24 14:19:34 Starting - Starting the training job...\n",
      "2021-01-24 14:19:35 Starting - Launching requested ML instances......\n",
      "2021-01-24 14:20:38 Starting - Preparing the instances for training......\n",
      "2021-01-24 14:22:01 Downloading - Downloading input data\n",
      "2021-01-24 14:22:01 Training - Downloading the training image...\n",
      "2021-01-24 14:22:34 Training - Training image download completed. Training in progress..\u001b[34mINFO:sagemaker-containers:Imported framework sagemaker_xgboost_container.training\u001b[0m\n",
      "\u001b[34mINFO:sagemaker-containers:No GPUs detected (normal if no gpus installed)\u001b[0m\n",
      "\u001b[34mINFO:sagemaker_xgboost_container.training:Invoking user training script.\u001b[0m\n",
      "\u001b[34mINFO:sagemaker-containers:Module custom_xgb does not provide a setup.py. \u001b[0m\n",
      "\u001b[34mGenerating setup.py\u001b[0m\n",
      "\u001b[34mINFO:sagemaker-containers:Generating setup.cfg\u001b[0m\n",
      "\u001b[34mINFO:sagemaker-containers:Generating MANIFEST.in\u001b[0m\n",
      "\u001b[34mINFO:sagemaker-containers:Installing module with the following command:\u001b[0m\n",
      "\u001b[34m/miniconda3/bin/python -m pip install . \u001b[0m\n",
      "\u001b[34mProcessing /opt/ml/code\u001b[0m\n",
      "\u001b[34mBuilding wheels for collected packages: custom-xgb\n",
      "  Building wheel for custom-xgb (setup.py): started\u001b[0m\n",
      "\u001b[34m  Building wheel for custom-xgb (setup.py): finished with status 'done'\n",
      "  Created wheel for custom-xgb: filename=custom_xgb-1.0.0-py2.py3-none-any.whl size=6028 sha256=2f15086375d3e20249796641c5641f38201b7d42018252dfea101e606f091a41\n",
      "  Stored in directory: /home/model-server/tmp/pip-ephem-wheel-cache-5pq_8zwd/wheels/95/c1/85/65aaf48b35aba88c6e896d2fd04a4b69f1cee0d81ea32993ca\u001b[0m\n",
      "\u001b[34mSuccessfully built custom-xgb\u001b[0m\n",
      "\u001b[34mInstalling collected packages: custom-xgb\u001b[0m\n",
      "\u001b[34mSuccessfully installed custom-xgb-1.0.0\u001b[0m\n",
      "\u001b[34mINFO:sagemaker-containers:No GPUs detected (normal if no gpus installed)\u001b[0m\n",
      "\u001b[34mINFO:sagemaker-containers:Invoking user script\n",
      "\u001b[0m\n",
      "\u001b[34mTraining Env:\n",
      "\u001b[0m\n",
      "\u001b[34m{\n",
      "    \"additional_framework_parameters\": {},\n",
      "    \"channel_input_dirs\": {\n",
      "        \"validation\": \"/opt/ml/input/data/validation\",\n",
      "        \"train\": \"/opt/ml/input/data/train\"\n",
      "    },\n",
      "    \"current_host\": \"algo-1\",\n",
      "    \"framework_module\": \"sagemaker_xgboost_container.training:main\",\n",
      "    \"hosts\": [\n",
      "        \"algo-1\"\n",
      "    ],\n",
      "    \"hyperparameters\": {\n",
      "        \"max_depth\": \"1000\",\n",
      "        \"early_stopping_rounds\": \"10\",\n",
      "        \"objective\": \"reg:linear\",\n",
      "        \"eta\": \"0.2\",\n",
      "        \"num_round\": \"50\",\n",
      "        \"subsample\": \"0.8\",\n",
      "        \"gamma\": \"0\",\n",
      "        \"min_child_weight\": \"1\",\n",
      "        \"verbosity\": \"0\"\n",
      "    },\n",
      "    \"input_config_dir\": \"/opt/ml/input/config\",\n",
      "    \"input_data_config\": {\n",
      "        \"validation\": {\n",
      "            \"ContentType\": \"csv\",\n",
      "            \"TrainingInputMode\": \"File\",\n",
      "            \"S3DistributionType\": \"FullyReplicated\",\n",
      "            \"RecordWrapperType\": \"None\"\n",
      "        },\n",
      "        \"train\": {\n",
      "            \"ContentType\": \"csv\",\n",
      "            \"TrainingInputMode\": \"File\",\n",
      "            \"S3DistributionType\": \"FullyReplicated\",\n",
      "            \"RecordWrapperType\": \"None\"\n",
      "        }\n",
      "    },\n",
      "    \"input_dir\": \"/opt/ml/input\",\n",
      "    \"is_master\": true,\n",
      "    \"job_name\": \"sagemaker-xgboost-2021-01-24-14-19-33-894\",\n",
      "    \"log_level\": 20,\n",
      "    \"master_hostname\": \"algo-1\",\n",
      "    \"model_dir\": \"/opt/ml/model\",\n",
      "    \"module_dir\": \"s3://sagemaker-us-east-2-937637726599/sagemaker-xgboost-2021-01-24-14-19-33-894/source/sourcedir.tar.gz\",\n",
      "    \"module_name\": \"custom_xgb\",\n",
      "    \"network_interface_name\": \"eth0\",\n",
      "    \"num_cpus\": 4,\n",
      "    \"num_gpus\": 0,\n",
      "    \"output_data_dir\": \"/opt/ml/output/data\",\n",
      "    \"output_dir\": \"/opt/ml/output\",\n",
      "    \"output_intermediate_dir\": \"/opt/ml/output/intermediate\",\n",
      "    \"resource_config\": {\n",
      "        \"current_host\": \"algo-1\",\n",
      "        \"hosts\": [\n",
      "            \"algo-1\"\n",
      "        ],\n",
      "        \"network_interface_name\": \"eth0\"\n",
      "    },\n",
      "    \"user_entry_point\": \"custom_xgb.py\"\u001b[0m\n",
      "\u001b[34m}\n",
      "\u001b[0m\n",
      "\u001b[34mEnvironment variables:\n",
      "\u001b[0m\n",
      "\u001b[34mSM_HOSTS=[\"algo-1\"]\u001b[0m\n",
      "\u001b[34mSM_NETWORK_INTERFACE_NAME=eth0\u001b[0m\n",
      "\u001b[34mSM_HPS={\"early_stopping_rounds\":\"10\",\"eta\":\"0.2\",\"gamma\":\"0\",\"max_depth\":\"1000\",\"min_child_weight\":\"1\",\"num_round\":\"50\",\"objective\":\"reg:linear\",\"subsample\":\"0.8\",\"verbosity\":\"0\"}\u001b[0m\n",
      "\u001b[34mSM_USER_ENTRY_POINT=custom_xgb.py\u001b[0m\n",
      "\u001b[34mSM_FRAMEWORK_PARAMS={}\u001b[0m\n",
      "\u001b[34mSM_RESOURCE_CONFIG={\"current_host\":\"algo-1\",\"hosts\":[\"algo-1\"],\"network_interface_name\":\"eth0\"}\u001b[0m\n",
      "\u001b[34mSM_INPUT_DATA_CONFIG={\"train\":{\"ContentType\":\"csv\",\"RecordWrapperType\":\"None\",\"S3DistributionType\":\"FullyReplicated\",\"TrainingInputMode\":\"File\"},\"validation\":{\"ContentType\":\"csv\",\"RecordWrapperType\":\"None\",\"S3DistributionType\":\"FullyReplicated\",\"TrainingInputMode\":\"File\"}}\u001b[0m\n",
      "\u001b[34mSM_OUTPUT_DATA_DIR=/opt/ml/output/data\u001b[0m\n",
      "\u001b[34mSM_CHANNELS=[\"train\",\"validation\"]\u001b[0m\n",
      "\u001b[34mSM_CURRENT_HOST=algo-1\u001b[0m\n",
      "\u001b[34mSM_MODULE_NAME=custom_xgb\u001b[0m\n",
      "\u001b[34mSM_LOG_LEVEL=20\u001b[0m\n",
      "\u001b[34mSM_FRAMEWORK_MODULE=sagemaker_xgboost_container.training:main\u001b[0m\n",
      "\u001b[34mSM_INPUT_DIR=/opt/ml/input\u001b[0m\n",
      "\u001b[34mSM_INPUT_CONFIG_DIR=/opt/ml/input/config\u001b[0m\n",
      "\u001b[34mSM_OUTPUT_DIR=/opt/ml/output\u001b[0m\n",
      "\u001b[34mSM_NUM_CPUS=4\u001b[0m\n",
      "\u001b[34mSM_NUM_GPUS=0\u001b[0m\n",
      "\u001b[34mSM_MODEL_DIR=/opt/ml/model\u001b[0m\n",
      "\u001b[34mSM_MODULE_DIR=s3://sagemaker-us-east-2-937637726599/sagemaker-xgboost-2021-01-24-14-19-33-894/source/sourcedir.tar.gz\u001b[0m\n",
      "\u001b[34mSM_TRAINING_ENV={\"additional_framework_parameters\":{},\"channel_input_dirs\":{\"train\":\"/opt/ml/input/data/train\",\"validation\":\"/opt/ml/input/data/validation\"},\"current_host\":\"algo-1\",\"framework_module\":\"sagemaker_xgboost_container.training:main\",\"hosts\":[\"algo-1\"],\"hyperparameters\":{\"early_stopping_rounds\":\"10\",\"eta\":\"0.2\",\"gamma\":\"0\",\"max_depth\":\"1000\",\"min_child_weight\":\"1\",\"num_round\":\"50\",\"objective\":\"reg:linear\",\"subsample\":\"0.8\",\"verbosity\":\"0\"},\"input_config_dir\":\"/opt/ml/input/config\",\"input_data_config\":{\"train\":{\"ContentType\":\"csv\",\"RecordWrapperType\":\"None\",\"S3DistributionType\":\"FullyReplicated\",\"TrainingInputMode\":\"File\"},\"validation\":{\"ContentType\":\"csv\",\"RecordWrapperType\":\"None\",\"S3DistributionType\":\"FullyReplicated\",\"TrainingInputMode\":\"File\"}},\"input_dir\":\"/opt/ml/input\",\"is_master\":true,\"job_name\":\"sagemaker-xgboost-2021-01-24-14-19-33-894\",\"log_level\":20,\"master_hostname\":\"algo-1\",\"model_dir\":\"/opt/ml/model\",\"module_dir\":\"s3://sagemaker-us-east-2-937637726599/sagemaker-xgboost-2021-01-24-14-19-33-894/source/sourcedir.tar.gz\",\"module_name\":\"custom_xgb\",\"network_interface_name\":\"eth0\",\"num_cpus\":4,\"num_gpus\":0,\"output_data_dir\":\"/opt/ml/output/data\",\"output_dir\":\"/opt/ml/output\",\"output_intermediate_dir\":\"/opt/ml/output/intermediate\",\"resource_config\":{\"current_host\":\"algo-1\",\"hosts\":[\"algo-1\"],\"network_interface_name\":\"eth0\"},\"user_entry_point\":\"custom_xgb.py\"}\u001b[0m\n",
      "\u001b[34mSM_USER_ARGS=[\"--early_stopping_rounds\",\"10\",\"--eta\",\"0.2\",\"--gamma\",\"0\",\"--max_depth\",\"1000\",\"--min_child_weight\",\"1\",\"--num_round\",\"50\",\"--objective\",\"reg:linear\",\"--subsample\",\"0.8\",\"--verbosity\",\"0\"]\u001b[0m\n",
      "\u001b[34mSM_OUTPUT_INTERMEDIATE_DIR=/opt/ml/output/intermediate\u001b[0m\n",
      "\u001b[34mSM_CHANNEL_VALIDATION=/opt/ml/input/data/validation\u001b[0m\n",
      "\u001b[34mSM_CHANNEL_TRAIN=/opt/ml/input/data/train\u001b[0m\n",
      "\u001b[34mSM_HP_MAX_DEPTH=1000\u001b[0m\n",
      "\u001b[34mSM_HP_EARLY_STOPPING_ROUNDS=10\u001b[0m\n",
      "\u001b[34mSM_HP_OBJECTIVE=reg:linear\u001b[0m\n",
      "\u001b[34mSM_HP_ETA=0.2\u001b[0m\n",
      "\u001b[34mSM_HP_NUM_ROUND=50\u001b[0m\n",
      "\u001b[34mSM_HP_SUBSAMPLE=0.8\u001b[0m\n",
      "\u001b[34mSM_HP_GAMMA=0\u001b[0m\n",
      "\u001b[34mSM_HP_MIN_CHILD_WEIGHT=1\u001b[0m\n",
      "\u001b[34mSM_HP_VERBOSITY=0\u001b[0m\n",
      "\u001b[34mPYTHONPATH=/miniconda3/bin:/:/miniconda3/lib/python3.6/site-packages/xgboost/dmlc-core/tracker:/miniconda3/lib/python36.zip:/miniconda3/lib/python3.6:/miniconda3/lib/python3.6/lib-dynload:/miniconda3/lib/python3.6/site-packages\n",
      "\u001b[0m\n",
      "\u001b[34mInvoking script with the following command:\n",
      "\u001b[0m\n",
      "\u001b[34m/miniconda3/bin/python -m custom_xgb --early_stopping_rounds 10 --eta 0.2 --gamma 0 --max_depth 1000 --min_child_weight 1 --num_round 50 --objective reg:linear --subsample 0.8 --verbosity 0\n",
      "\n",
      "\u001b[0m\n",
      "\u001b[34m[14:22:40] 6074x29 matrix with 176146 entries loaded from /opt/ml/input/data/train?format=csv&label_column=0&delimiter=,\u001b[0m\n",
      "\u001b[34m[14:22:40] 7927x29 matrix with 229883 entries loaded from /opt/ml/input/data/validation?format=csv&label_column=0&delimiter=,\u001b[0m\n",
      "\u001b[34m[14:22:40] WARNING: /workspace/src/objective/regression_obj.cu:167: reg:linear is now deprecated in favor of reg:squarederror.\u001b[0m\n",
      "\u001b[34m[14:22:40] WARNING: /workspace/src/learner.cc:328: \u001b[0m\n",
      "\u001b[34mParameters: { early_stopping_rounds } might not be used.\n",
      "\n",
      "  This may not be accurate due to some parameters are only used in language bindings but\n",
      "  passed down to XGBoost core.  Or some parameters are not used but slip through this\n",
      "  verification. Please open an issue if you find above cases.\n",
      "\n",
      "\u001b[0m\n",
      "\u001b[34m[0]#011train-mape:169.49811#011validation-mape:151.22032\u001b[0m\n",
      "\u001b[34m[1]#011train-mape:106.05284#011validation-mape:99.94454\u001b[0m\n",
      "\u001b[34m[2]#011train-mape:81.27226#011validation-mape:76.85560\u001b[0m\n",
      "\u001b[34m[3]#011train-mape:67.84745#011validation-mape:64.69956\u001b[0m\n",
      "\u001b[34m[4]#011train-mape:59.25366#011validation-mape:57.06268\u001b[0m\n",
      "\u001b[34m[5]#011train-mape:53.29545#011validation-mape:51.31248\u001b[0m\n",
      "\u001b[34m[6]#011train-mape:48.86270#011validation-mape:47.11718\u001b[0m\n",
      "\u001b[34m[7]#011train-mape:45.37269#011validation-mape:43.65712\u001b[0m\n",
      "\u001b[34m[8]#011train-mape:42.50677#011validation-mape:40.81353\u001b[0m\n",
      "\u001b[34m[9]#011train-mape:40.03830#011validation-mape:38.61680\u001b[0m\n",
      "\u001b[34m[10]#011train-mape:37.87773#011validation-mape:36.48865\u001b[0m\n",
      "\u001b[34m[11]#011train-mape:35.89645#011validation-mape:34.57348\u001b[0m\n",
      "\u001b[34m[12]#011train-mape:34.05173#011validation-mape:32.82157\u001b[0m\n",
      "\u001b[34m[13]#011train-mape:32.28400#011validation-mape:31.24927\u001b[0m\n",
      "\u001b[34m[14]#011train-mape:30.58975#011validation-mape:29.77470\u001b[0m\n",
      "\u001b[34m[15]#011train-mape:28.93703#011validation-mape:28.36268\u001b[0m\n",
      "\u001b[34m[16]#011train-mape:27.32352#011validation-mape:26.98354\u001b[0m\n",
      "\u001b[34m[17]#011train-mape:25.75736#011validation-mape:25.72017\u001b[0m\n",
      "\u001b[34m[18]#011train-mape:24.22864#011validation-mape:24.49973\u001b[0m\n",
      "\u001b[34m[19]#011train-mape:22.73476#011validation-mape:23.29504\u001b[0m\n",
      "\u001b[34m[20]#011train-mape:21.32903#011validation-mape:22.21189\u001b[0m\n",
      "\u001b[34m[21]#011train-mape:19.96720#011validation-mape:21.15291\u001b[0m\n",
      "\u001b[34m[22]#011train-mape:18.68953#011validation-mape:20.14642\u001b[0m\n",
      "\u001b[34m[23]#011train-mape:17.48091#011validation-mape:19.25921\u001b[0m\n",
      "\u001b[34m[24]#011train-mape:16.32650#011validation-mape:18.41279\u001b[0m\n",
      "\u001b[34m[25]#011train-mape:15.24643#011validation-mape:17.89461\u001b[0m\n",
      "\u001b[34m[26]#011train-mape:14.21355#011validation-mape:17.42533\u001b[0m\n",
      "\u001b[34m[27]#011train-mape:13.24646#011validation-mape:17.16812\u001b[0m\n",
      "\u001b[34m[28]#011train-mape:12.31688#011validation-mape:16.69226\u001b[0m\n",
      "\u001b[34m[29]#011train-mape:11.42865#011validation-mape:15.63486\u001b[0m\n",
      "\u001b[34m[30]#011train-mape:10.56630#011validation-mape:16.55225\u001b[0m\n",
      "\u001b[34m[31]#011train-mape:9.74434#011validation-mape:20.80252\u001b[0m\n",
      "\u001b[34m[32]#011train-mape:9.17837#011validation-mape:19.55848\u001b[0m\n",
      "\u001b[34m[33]#011train-mape:8.30896#011validation-mape:16.70789\u001b[0m\n",
      "\u001b[34m[34]#011train-mape:7.64344#011validation-mape:14.57932\u001b[0m\n",
      "\u001b[34m[35]#011train-mape:6.95814#011validation-mape:14.79937\u001b[0m\n",
      "\u001b[34m[36]#011train-mape:6.36254#011validation-mape:15.50282\u001b[0m\n",
      "\u001b[34m[37]#011train-mape:6.09970#011validation-mape:15.12666\u001b[0m\n",
      "\u001b[34m[38]#011train-mape:5.47707#011validation-mape:14.97274\u001b[0m\n",
      "\u001b[34m[39]#011train-mape:5.02106#011validation-mape:14.72809\u001b[0m\n",
      "\u001b[34m[40]#011train-mape:4.87245#011validation-mape:17.66421\u001b[0m\n",
      "\u001b[34m[41]#011train-mape:4.50561#011validation-mape:14.82695\u001b[0m\n",
      "\u001b[34m[42]#011train-mape:4.26747#011validation-mape:15.00890\u001b[0m\n",
      "\u001b[34m[43]#011train-mape:4.09272#011validation-mape:99.42912\u001b[0m\n",
      "\u001b[34m[44]#011train-mape:3.99115#011validation-mape:17.35915\u001b[0m\n",
      "\u001b[34m[45]#011train-mape:4.51557#011validation-mape:15.50235\u001b[0m\n",
      "\u001b[34m[46]#011train-mape:4.14548#011validation-mape:14.45241\u001b[0m\n",
      "\u001b[34m[47]#011train-mape:4.03300#011validation-mape:14.59690\u001b[0m\n",
      "\u001b[34m[48]#011train-mape:4.15370#011validation-mape:15.05682\u001b[0m\n",
      "\u001b[34m[49]#011train-mape:4.63145#011validation-mape:14.74258\u001b[0m\n",
      "\n",
      "2021-01-24 14:22:52 Uploading - Uploading generated training model\n",
      "2021-01-24 14:22:52 Completed - Training job completed\n"
     ]
    },
    {
     "name": "stderr",
     "output_type": "stream",
     "text": [
      "Parameter image will be renamed to image_uri in SageMaker Python SDK v2.\n"
     ]
    },
    {
     "name": "stdout",
     "output_type": "stream",
     "text": [
      "Training seconds: 77\n",
      "Billable seconds: 77\n",
      "---------------!MAPE: 115905119.8298\n"
     ]
    },
    {
     "name": "stderr",
     "output_type": "stream",
     "text": [
      "/home/ec2-user/anaconda3/envs/amazonei_mxnet_p36/lib/python3.6/site-packages/ipykernel/__main__.py:74: RuntimeWarning: divide by zero encountered in double_scalars\n"
     ]
    },
    {
     "name": "stdout",
     "output_type": "stream",
     "text": [
      "Sharpe Ratio: 0.0915, Cumulative Returns: 3.75e+02%\n"
     ]
    },
    {
     "ename": "ValueError",
     "evalue": "too many values to unpack (expected 2)",
     "output_type": "error",
     "traceback": [
      "\u001b[0;31m---------------------------------------------------------------------------\u001b[0m",
      "\u001b[0;31mValueError\u001b[0m                                Traceback (most recent call last)",
      "\u001b[0;32m<ipython-input-288-9409f82cfe9c>\u001b[0m in \u001b[0;36m<module>\u001b[0;34m\u001b[0m\n\u001b[1;32m      3\u001b[0m                           \u001b[0mprefix\u001b[0m\u001b[0;34m=\u001b[0m\u001b[0;34m'xgb-w5'\u001b[0m\u001b[0;34m,\u001b[0m\u001b[0;34m\u001b[0m\u001b[0;34m\u001b[0m\u001b[0m\n\u001b[1;32m      4\u001b[0m                           \u001b[0mdata_dir\u001b[0m\u001b[0;34m=\u001b[0m\u001b[0;34m'./data'\u001b[0m\u001b[0;34m,\u001b[0m\u001b[0;34m\u001b[0m\u001b[0;34m\u001b[0m\u001b[0m\n\u001b[0;32m----> 5\u001b[0;31m                           data_df=data_df)\n\u001b[0m",
      "\u001b[0;32m<ipython-input-286-0e06fcfbb62a>\u001b[0m in \u001b[0;36mrun_xgboost_model\u001b[0;34m(w, hyperparams, prefix, data_dir, data_df, test_start, val_start)\u001b[0m\n\u001b[1;32m     56\u001b[0m     \u001b[0masset_matrix\u001b[0m \u001b[0;34m=\u001b[0m \u001b[0mconstruct_asset_matrix\u001b[0m\u001b[0;34m(\u001b[0m\u001b[0mtest_df\u001b[0m\u001b[0;34m,\u001b[0m \u001b[0mpd\u001b[0m\u001b[0;34m.\u001b[0m\u001b[0mDataFrame\u001b[0m\u001b[0;34m(\u001b[0m\u001b[0mpred\u001b[0m\u001b[0;34m)\u001b[0m\u001b[0;34m)\u001b[0m\u001b[0;34m\u001b[0m\u001b[0;34m\u001b[0m\u001b[0m\n\u001b[1;32m     57\u001b[0m     \u001b[0mmape\u001b[0m \u001b[0;34m=\u001b[0m \u001b[0mcalculate_mape\u001b[0m\u001b[0;34m(\u001b[0m\u001b[0masset_matrix\u001b[0m\u001b[0;34m)\u001b[0m\u001b[0;34m\u001b[0m\u001b[0;34m\u001b[0m\u001b[0m\n\u001b[0;32m---> 58\u001b[0;31m     \u001b[0msharpe_ratio\u001b[0m\u001b[0;34m,\u001b[0m \u001b[0mpercent_returns\u001b[0m \u001b[0;34m=\u001b[0m \u001b[0mevaluate_strategy\u001b[0m\u001b[0;34m(\u001b[0m\u001b[0masset_matrix\u001b[0m\u001b[0;34m)\u001b[0m\u001b[0;34m\u001b[0m\u001b[0;34m\u001b[0m\u001b[0m\n\u001b[0m\u001b[1;32m     59\u001b[0m \u001b[0;34m\u001b[0m\u001b[0m\n\u001b[1;32m     60\u001b[0m     \u001b[0msession\u001b[0m\u001b[0;34m.\u001b[0m\u001b[0msagemaker_client\u001b[0m\u001b[0;34m.\u001b[0m\u001b[0mdelete_endpoint\u001b[0m\u001b[0;34m(\u001b[0m\u001b[0mEndpointName\u001b[0m \u001b[0;34m=\u001b[0m \u001b[0mpredictor\u001b[0m\u001b[0;34m.\u001b[0m\u001b[0mendpoint\u001b[0m\u001b[0;34m)\u001b[0m\u001b[0;34m\u001b[0m\u001b[0;34m\u001b[0m\u001b[0m\n",
      "\u001b[0;31mValueError\u001b[0m: too many values to unpack (expected 2)"
     ]
    }
   ],
   "source": [
    "xgb_w7 = run_xgboost_model(w=7, \n",
    "                          hyperparams=hyperparams, \n",
    "                          prefix='xgb-w7', \n",
    "                          data_dir='./data', \n",
    "                          data_df=data_df)"
   ]
  },
  {
   "cell_type": "code",
   "execution_count": null,
   "metadata": {},
   "outputs": [],
   "source": [
    "features_df = None"
   ]
  },
  {
   "cell_type": "code",
   "execution_count": 102,
   "metadata": {},
   "outputs": [
    {
     "data": {
      "image/png": "[encoded data removed]",
      "text/plain": [
       "<Figure size 720x360 with 1 Axes>"
      ]
     },
     "metadata": {
      "needs_background": "light"
     },
     "output_type": "display_data"
    }
   ],
   "source": [
    "plot_predicted_vs_actual(xgb_w50[0], '$$$')"
   ]
  },
  {
   "cell_type": "code",
   "execution_count": null,
   "metadata": {},
   "outputs": [],
   "source": [
    "xgb_w10 = run_xgboost_model(w=5, \n",
    "                          hyperparams=hyperparams, \n",
    "                          prefix='xgb-w10', \n",
    "                          data_dir='./data', \n",
    "                          data_df=data_df)"
   ]
  },
  {
   "cell_type": "code",
   "execution_count": null,
   "metadata": {},
   "outputs": [],
   "source": [
    "xgb_w5 = run_xgboost_model(w=5, \n",
    "                          hyperparams=hyperparams, \n",
    "                          prefix='xgb-w5', \n",
    "                          data_dir='./data', \n",
    "                          data_df=data_df)"
   ]
  },
  {
   "cell_type": "markdown",
   "metadata": {},
   "source": [
    "<h2> Custom Neural Network </h2>\n",
    "\n",
    "Testing on XGBoost algorithm. We will experiement using different values of $w$."
   ]
  },
  {
   "cell_type": "code",
   "execution_count": 292,
   "metadata": {},
   "outputs": [],
   "source": [
    "w=5\n",
    "prefix='mlp-w50'\n",
    "data_dir='./data'\n",
    "data_df=data_df\n",
    "test_start='2017-04-12' \n",
    "val_start='2016-04-12'\n",
    "market_cap_threshold=100000"
   ]
  },
  {
   "cell_type": "code",
   "execution_count": 332,
   "metadata": {},
   "outputs": [
    {
     "name": "stderr",
     "output_type": "stream",
     "text": [
      "'s3_input' class will be renamed to 'TrainingInput' in SageMaker Python SDK v2.\n"
     ]
    },
    {
     "name": "stdout",
     "output_type": "stream",
     "text": [
      "2021-01-24 14:59:53 Starting - Starting the training job...\n",
      "2021-01-24 14:59:55 Starting - Launching requested ML instances......\n",
      "2021-01-24 15:01:02 Starting - Preparing the instances for training......\n",
      "2021-01-24 15:01:55 Downloading - Downloading input data...\n",
      "2021-01-24 15:02:35 Training - Downloading the training image..\u001b[34m2021-01-24 15:02:57,189 sagemaker-containers INFO     Imported framework sagemaker_sklearn_container.training\u001b[0m\n",
      "\u001b[34m2021-01-24 15:02:57,191 sagemaker-training-toolkit INFO     No GPUs detected (normal if no gpus installed)\u001b[0m\n",
      "\u001b[34m2021-01-24 15:02:57,200 sagemaker_sklearn_container.training INFO     Invoking user training script.\u001b[0m\n",
      "\u001b[34m2021-01-24 15:02:57,510 sagemaker-training-toolkit INFO     No GPUs detected (normal if no gpus installed)\u001b[0m\n",
      "\u001b[34m2021-01-24 15:03:00,573 sagemaker-training-toolkit INFO     No GPUs detected (normal if no gpus installed)\u001b[0m\n",
      "\u001b[34m2021-01-24 15:03:00,586 sagemaker-training-toolkit INFO     No GPUs detected (normal if no gpus installed)\u001b[0m\n",
      "\u001b[34m2021-01-24 15:03:00,596 sagemaker-training-toolkit INFO     Invoking user script\n",
      "\u001b[0m\n",
      "\u001b[34mTraining Env:\n",
      "\u001b[0m\n",
      "\u001b[34m{\n",
      "    \"additional_framework_parameters\": {},\n",
      "    \"channel_input_dirs\": {\n",
      "        \"train\": \"/opt/ml/input/data/train\"\n",
      "    },\n",
      "    \"current_host\": \"algo-1\",\n",
      "    \"framework_module\": \"sagemaker_sklearn_container.training:main\",\n",
      "    \"hosts\": [\n",
      "        \"algo-1\"\n",
      "    ],\n",
      "    \"hyperparameters\": {\n",
      "        \"max_iter\": 50,\n",
      "        \"hidden_layers\": 20\n",
      "    },\n",
      "    \"input_config_dir\": \"/opt/ml/input/config\",\n",
      "    \"input_data_config\": {\n",
      "        \"train\": {\n",
      "            \"TrainingInputMode\": \"File\",\n",
      "            \"S3DistributionType\": \"FullyReplicated\",\n",
      "            \"RecordWrapperType\": \"None\"\n",
      "        }\n",
      "    },\n",
      "    \"input_dir\": \"/opt/ml/input\",\n",
      "    \"is_master\": true,\n",
      "    \"job_name\": \"sagemaker-scikit-learn-2021-01-24-14-59-53-044\",\n",
      "    \"log_level\": 20,\n",
      "    \"master_hostname\": \"algo-1\",\n",
      "    \"model_dir\": \"/opt/ml/model\",\n",
      "    \"module_dir\": \"s3://sagemaker-us-east-2-937637726599/sagemaker-scikit-learn-2021-01-24-14-59-53-044/source/sourcedir.tar.gz\",\n",
      "    \"module_name\": \"train\",\n",
      "    \"network_interface_name\": \"eth0\",\n",
      "    \"num_cpus\": 4,\n",
      "    \"num_gpus\": 0,\n",
      "    \"output_data_dir\": \"/opt/ml/output/data\",\n",
      "    \"output_dir\": \"/opt/ml/output\",\n",
      "    \"output_intermediate_dir\": \"/opt/ml/output/intermediate\",\n",
      "    \"resource_config\": {\n",
      "        \"current_host\": \"algo-1\",\n",
      "        \"hosts\": [\n",
      "            \"algo-1\"\n",
      "        ],\n",
      "        \"network_interface_name\": \"eth0\"\n",
      "    },\n",
      "    \"user_entry_point\": \"train.py\"\u001b[0m\n",
      "\u001b[34m}\n",
      "\u001b[0m\n",
      "\u001b[34mEnvironment variables:\n",
      "\u001b[0m\n",
      "\u001b[34mSM_HOSTS=[\"algo-1\"]\u001b[0m\n",
      "\u001b[34mSM_NETWORK_INTERFACE_NAME=eth0\u001b[0m\n",
      "\u001b[34mSM_HPS={\"hidden_layers\":20,\"max_iter\":50}\u001b[0m\n",
      "\u001b[34mSM_USER_ENTRY_POINT=train.py\u001b[0m\n",
      "\u001b[34mSM_FRAMEWORK_PARAMS={}\u001b[0m\n",
      "\u001b[34mSM_RESOURCE_CONFIG={\"current_host\":\"algo-1\",\"hosts\":[\"algo-1\"],\"network_interface_name\":\"eth0\"}\u001b[0m\n",
      "\u001b[34mSM_INPUT_DATA_CONFIG={\"train\":{\"RecordWrapperType\":\"None\",\"S3DistributionType\":\"FullyReplicated\",\"TrainingInputMode\":\"File\"}}\u001b[0m\n",
      "\u001b[34mSM_OUTPUT_DATA_DIR=/opt/ml/output/data\u001b[0m\n",
      "\u001b[34mSM_CHANNELS=[\"train\"]\u001b[0m\n",
      "\u001b[34mSM_CURRENT_HOST=algo-1\u001b[0m\n",
      "\u001b[34mSM_MODULE_NAME=train\u001b[0m\n",
      "\u001b[34mSM_LOG_LEVEL=20\u001b[0m\n",
      "\u001b[34mSM_FRAMEWORK_MODULE=sagemaker_sklearn_container.training:main\u001b[0m\n",
      "\u001b[34mSM_INPUT_DIR=/opt/ml/input\u001b[0m\n",
      "\u001b[34mSM_INPUT_CONFIG_DIR=/opt/ml/input/config\u001b[0m\n",
      "\u001b[34mSM_OUTPUT_DIR=/opt/ml/output\u001b[0m\n",
      "\u001b[34mSM_NUM_CPUS=4\u001b[0m\n",
      "\u001b[34mSM_NUM_GPUS=0\u001b[0m\n",
      "\u001b[34mSM_MODEL_DIR=/opt/ml/model\u001b[0m\n",
      "\u001b[34mSM_MODULE_DIR=s3://sagemaker-us-east-2-937637726599/sagemaker-scikit-learn-2021-01-24-14-59-53-044/source/sourcedir.tar.gz\u001b[0m\n",
      "\u001b[34mSM_TRAINING_ENV={\"additional_framework_parameters\":{},\"channel_input_dirs\":{\"train\":\"/opt/ml/input/data/train\"},\"current_host\":\"algo-1\",\"framework_module\":\"sagemaker_sklearn_container.training:main\",\"hosts\":[\"algo-1\"],\"hyperparameters\":{\"hidden_layers\":20,\"max_iter\":50},\"input_config_dir\":\"/opt/ml/input/config\",\"input_data_config\":{\"train\":{\"RecordWrapperType\":\"None\",\"S3DistributionType\":\"FullyReplicated\",\"TrainingInputMode\":\"File\"}},\"input_dir\":\"/opt/ml/input\",\"is_master\":true,\"job_name\":\"sagemaker-scikit-learn-2021-01-24-14-59-53-044\",\"log_level\":20,\"master_hostname\":\"algo-1\",\"model_dir\":\"/opt/ml/model\",\"module_dir\":\"s3://sagemaker-us-east-2-937637726599/sagemaker-scikit-learn-2021-01-24-14-59-53-044/source/sourcedir.tar.gz\",\"module_name\":\"train\",\"network_interface_name\":\"eth0\",\"num_cpus\":4,\"num_gpus\":0,\"output_data_dir\":\"/opt/ml/output/data\",\"output_dir\":\"/opt/ml/output\",\"output_intermediate_dir\":\"/opt/ml/output/intermediate\",\"resource_config\":{\"current_host\":\"algo-1\",\"hosts\":[\"algo-1\"],\"network_interface_name\":\"eth0\"},\"user_entry_point\":\"train.py\"}\u001b[0m\n",
      "\u001b[34mSM_USER_ARGS=[\"--hidden_layers\",\"20\",\"--max_iter\",\"50\"]\u001b[0m\n",
      "\u001b[34mSM_OUTPUT_INTERMEDIATE_DIR=/opt/ml/output/intermediate\u001b[0m\n",
      "\u001b[34mSM_CHANNEL_TRAIN=/opt/ml/input/data/train\u001b[0m\n",
      "\u001b[34mSM_HP_MAX_ITER=50\u001b[0m\n",
      "\u001b[34mSM_HP_HIDDEN_LAYERS=20\u001b[0m\n",
      "\u001b[34mPYTHONPATH=/opt/ml/code:/miniconda3/bin:/miniconda3/lib/python37.zip:/miniconda3/lib/python3.7:/miniconda3/lib/python3.7/lib-dynload:/miniconda3/lib/python3.7/site-packages\n",
      "\u001b[0m\n",
      "\u001b[34mInvoking script with the following command:\n",
      "\u001b[0m\n",
      "\u001b[34m/miniconda3/bin/python train.py --hidden_layers 20 --max_iter 50\n",
      "\n",
      "\u001b[0m\n",
      "\u001b[34m/miniconda3/lib/python3.7/site-packages/sklearn/neural_network/_multilayer_perceptron.py:471: ConvergenceWarning: lbfgs failed to converge (status=1):\u001b[0m\n",
      "\u001b[34mSTOP: TOTAL NO. of ITERATIONS REACHED LIMIT.\n",
      "\u001b[0m\n",
      "\u001b[34mIncrease the number of iterations (max_iter) or scale the data as shown in:\n",
      "    https://scikit-learn.org/stable/modules/preprocessing.html\n",
      "  self.n_iter_ = _check_optimize_result(\"lbfgs\", opt_res, self.max_iter)\u001b[0m\n",
      "\u001b[34m2021-01-24 15:03:02,832 sagemaker-containers INFO     Reporting training SUCCESS\u001b[0m\n",
      "\n",
      "2021-01-24 15:03:13 Uploading - Uploading generated training model\n",
      "2021-01-24 15:03:13 Completed - Training job completed\n",
      "Training seconds: 78\n",
      "Billable seconds: 78\n"
     ]
    }
   ],
   "source": [
    "features_df = source.create_features(data_df, w)\n",
    "features_df = features_df[features_df['market_cap_4_last'] > market_cap_threshold]\n",
    "\n",
    "train_df = features_df[features_df.index < pd.Timestamp(val_start)]\n",
    "val_df = features_df[(features_df.index >= pd.Timestamp(val_start)) & (features_df.index < pd.Timestamp(test_start))]\n",
    "test_df = features_df[features_df.index >= pd.Timestamp(test_start)]\n",
    "\n",
    "X_train = pd.DataFrame(train_df.iloc[:,2:-2])\n",
    "Y_train = pd.DataFrame(train_df['target_price'])\n",
    "X_val = pd.DataFrame(val_df.iloc[:,2:-2])\n",
    "Y_val = pd.DataFrame(val_df['target_price'])\n",
    "X_test = pd.DataFrame(test_df.iloc[:,2:-2])\n",
    "Y_test = pd.DataFrame(test_df['target_price'])\n",
    "\n",
    "train_location = session.upload_data(os.path.join(data_dir, 'train.csv'), key_prefix=prefix)\n",
    "\n",
    "estimator = SKLearn(entry_point='train.py',\n",
    "                    source_dir='source',\n",
    "                    role=role,\n",
    "                    train_instance_count=1, \n",
    "                    train_instance_type='ml.c4.xlarge',\n",
    "                    framework_version='0.23-1',\n",
    "                    py_version='py3',\n",
    "                    output_path='s3://{}/{}/output'.format(session.default_bucket(), prefix),\n",
    "                    sagemaker_session=session,\n",
    "                    hyperparameters={\n",
    "                        'hidden_layers': 20,\n",
    "                        'max_iter': 50\n",
    "                    })\n",
    "\n",
    "estimator.fit({'train': train_location})"
   ]
  },
  {
   "cell_type": "code",
   "execution_count": 337,
   "metadata": {},
   "outputs": [
    {
     "name": "stdout",
     "output_type": "stream",
     "text": [
      "MAPE: inf\n"
     ]
    },
    {
     "name": "stderr",
     "output_type": "stream",
     "text": [
      "/home/ec2-user/anaconda3/envs/amazonei_mxnet_p36/lib/python3.6/site-packages/ipykernel/__main__.py:55: RuntimeWarning: divide by zero encountered in double_scalars\n"
     ]
    },
    {
     "name": "stdout",
     "output_type": "stream",
     "text": [
      "Cumulative Returns: 3.73e+17%, Sharpe Ratio: 0.1212\n"
     ]
    },
    {
     "ename": "NameError",
     "evalue": "name 'predictor' is not defined",
     "output_type": "error",
     "traceback": [
      "\u001b[0;31m---------------------------------------------------------------------------\u001b[0m",
      "\u001b[0;31mNameError\u001b[0m                                 Traceback (most recent call last)",
      "\u001b[0;32m<ipython-input-337-1d09f291daaa>\u001b[0m in \u001b[0;36m<module>\u001b[0;34m\u001b[0m\n\u001b[1;32m     21\u001b[0m \u001b[0mresult\u001b[0m \u001b[0;34m=\u001b[0m \u001b[0mevaluate_strategy\u001b[0m\u001b[0;34m(\u001b[0m\u001b[0masset_matrix\u001b[0m\u001b[0;34m)\u001b[0m\u001b[0;34m\u001b[0m\u001b[0;34m\u001b[0m\u001b[0m\n\u001b[1;32m     22\u001b[0m \u001b[0;34m\u001b[0m\u001b[0m\n\u001b[0;32m---> 23\u001b[0;31m \u001b[0msession\u001b[0m\u001b[0;34m.\u001b[0m\u001b[0msagemaker_client\u001b[0m\u001b[0;34m.\u001b[0m\u001b[0mdelete_endpoint\u001b[0m\u001b[0;34m(\u001b[0m\u001b[0mEndpointName\u001b[0m \u001b[0;34m=\u001b[0m \u001b[0mpredictor\u001b[0m\u001b[0;34m.\u001b[0m\u001b[0mendpoint\u001b[0m\u001b[0;34m)\u001b[0m\u001b[0;34m\u001b[0m\u001b[0;34m\u001b[0m\u001b[0m\n\u001b[0m\u001b[1;32m     24\u001b[0m \u001b[0;34m\u001b[0m\u001b[0m\n\u001b[1;32m     25\u001b[0m \u001b[0;32mreturn\u001b[0m \u001b[0masset_matrix\u001b[0m\u001b[0;34m,\u001b[0m \u001b[0mmape\u001b[0m\u001b[0;34m,\u001b[0m \u001b[0mresult\u001b[0m\u001b[0;34m\u001b[0m\u001b[0;34m\u001b[0m\u001b[0m\n",
      "\u001b[0;31mNameError\u001b[0m: name 'predictor' is not defined"
     ]
    }
   ],
   "source": [
    "# predictor = estimator.deploy(initial_instance_count=1, instance_type=\"ml.t2.medium\")\n",
    "    \n",
    "pred = []\n",
    "i = 0\n",
    "payload_list = [[str(entry) for entry in row] for row in X_test.values]\n",
    "\n",
    "for j in range(10000,len(payload_list)+10000, 10000):\n",
    "    max_idx = min(len(payload_list), j)\n",
    "    payload = '\\n'.join([','.join(row) for row in payload_list[i:j]])\n",
    "    response = session.sagemaker_runtime_client.invoke_endpoint(\n",
    "                                                    EndpointName = 'sagemaker-scikit-learn-2021-01-24-14-59-53-044', #predictor.endpoint,\n",
    "                                                    ContentType = 'text/csv',\n",
    "                                                    Body = payload)\n",
    "    result = response['Body'].read().decode(\"utf-8\")\n",
    "    pred_val = ast.literal_eval(result)\n",
    "    pred = pred + pred_val\n",
    "    i = j\n",
    "\n",
    "asset_matrix = construct_asset_matrix(test_df, pd.DataFrame(pred))\n",
    "mape = calculate_mape(asset_matrix)\n",
    "result = evaluate_strategy(asset_matrix)\n",
    "\n",
    "# session.sagemaker_client.delete_endpoint(EndpointName = predictor.endpoint)\n",
    "\n",
    "# return asset_matrix, mape, result"
   ]
  },
  {
   "cell_type": "markdown",
   "metadata": {},
   "source": [
    "<h2> LTSM </h2>\n",
    "\n",
    "Testing on XGBoost algorithm. We will experiement using different values of $w$."
   ]
  },
  {
   "cell_type": "code",
   "execution_count": null,
   "metadata": {},
   "outputs": [],
   "source": [
    "features_df = source.create_features(data_df, w)\n",
    "features_df = features_df[features_df['market_cap_4_last'] > market_cap_threshold]\n",
    "\n",
    "train_df = features_df[features_df.index < pd.Timestamp(val_start)]\n",
    "val_df = features_df[(features_df.index >= pd.Timestamp(val_start)) & (features_df.index < pd.Timestamp(test_start))]\n",
    "test_df = features_df[features_df.index >= pd.Timestamp(test_start)]\n",
    "\n",
    "X_train = pd.DataFrame(train_df.iloc[:,2:-2])\n",
    "Y_train = pd.DataFrame(train_df['target_price'])\n",
    "X_val = pd.DataFrame(val_df.iloc[:,2:-2])\n",
    "Y_val = pd.DataFrame(val_df['target_price'])\n",
    "X_test = pd.DataFrame(test_df.iloc[:,2:-2])\n",
    "Y_test = pd.DataFrame(test_df['target_price'])\n",
    "\n",
    "train_location = session.upload_data(os.path.join(data_dir, 'train.csv'), key_prefix=prefix)\n",
    "\n",
    "estimator = SKLearn(entry_point='train.py',\n",
    "                    source_dir='source',\n",
    "                    role=role,\n",
    "                    train_instance_count=1, \n",
    "                    train_instance_type='ml.c4.xlarge',\n",
    "                    framework_version='0.23-1',\n",
    "                    py_version='py3',\n",
    "                    output_path='s3://{}/{}/output'.format(session.default_bucket(), prefix),\n",
    "                    sagemaker_session=session,\n",
    "                    hyperparameters={\n",
    "                        'hidden_layers': 20,\n",
    "                        'max_iter': 50\n",
    "                    })\n",
    "\n",
    "estimator.fit({'train': train_location})"
   ]
  }
 ],
 "metadata": {
  "kernelspec": {
   "display_name": "conda_amazonei_mxnet_p36",
   "language": "python",
   "name": "conda_amazonei_mxnet_p36"
  },
  "language_info": {
   "codemirror_mode": {
    "name": "ipython",
    "version": 3
   },
   "file_extension": ".py",
   "mimetype": "text/x-python",
   "name": "python",
   "nbconvert_exporter": "python",
   "pygments_lexer": "ipython3",
   "version": "3.6.10"
  }
 },
 "nbformat": 4,
 "nbformat_minor": 4
}
