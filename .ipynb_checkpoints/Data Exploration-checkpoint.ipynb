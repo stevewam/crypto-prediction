{
 "cells": [
  {
   "cell_type": "code",
   "execution_count": 1,
   "metadata": {},
   "outputs": [],
   "source": [
    "import pandas as pd"
   ]
  },
  {
   "cell_type": "markdown",
   "metadata": {},
   "source": [
    "<h2>Importing Data</h2>\n",
    "\n",
    "Data is obtained from the author of the following paper:\n",
    "\n",
    ">Laura Alessandretti, Abeer ElBahrawy, Luca Maria Aiello, Andrea Baronchelli, \"Anticipating Cryptocurrency Prices Using Machine Learning\", Complexity, vol. 2018, Article ID 8983590, 16 pages, 2018. https://doi.org/10.1155/2018/8983590"
   ]
  },
  {
   "cell_type": "code",
   "execution_count": 5,
   "metadata": {},
   "outputs": [],
   "source": [
    "data = pd.read_csv(\"./data/crypto-historical-data.csv\")"
   ]
  },
  {
   "cell_type": "code",
   "execution_count": 6,
   "metadata": {},
   "outputs": [
    {
     "data": {
      "text/html": [
       "<div>\n",
       "<style scoped>\n",
       "    .dataframe tbody tr th:only-of-type {\n",
       "        vertical-align: middle;\n",
       "    }\n",
       "\n",
       "    .dataframe tbody tr th {\n",
       "        vertical-align: top;\n",
       "    }\n",
       "\n",
       "    .dataframe thead th {\n",
       "        text-align: right;\n",
       "    }\n",
       "</style>\n",
       "<table border=\"1\" class=\"dataframe\">\n",
       "  <thead>\n",
       "    <tr style=\"text-align: right;\">\n",
       "      <th></th>\n",
       "      <th>Unnamed: 0</th>\n",
       "      <th>market cap</th>\n",
       "      <th>name</th>\n",
       "      <th>price</th>\n",
       "      <th>sym</th>\n",
       "      <th>time</th>\n",
       "      <th>volume</th>\n",
       "    </tr>\n",
       "  </thead>\n",
       "  <tbody>\n",
       "    <tr>\n",
       "      <th>0</th>\n",
       "      <td>0</td>\n",
       "      <td>20461600.0</td>\n",
       "      <td>Viberate</td>\n",
       "      <td>0.114889</td>\n",
       "      <td>VIB</td>\n",
       "      <td>2018-04-01</td>\n",
       "      <td>4702470.0</td>\n",
       "    </tr>\n",
       "    <tr>\n",
       "      <th>1</th>\n",
       "      <td>1</td>\n",
       "      <td>19204400.0</td>\n",
       "      <td>Viberate</td>\n",
       "      <td>0.124845</td>\n",
       "      <td>VIB</td>\n",
       "      <td>2018-04-02</td>\n",
       "      <td>3688650.0</td>\n",
       "    </tr>\n",
       "    <tr>\n",
       "      <th>2</th>\n",
       "      <td>2</td>\n",
       "      <td>20825800.0</td>\n",
       "      <td>Viberate</td>\n",
       "      <td>0.133474</td>\n",
       "      <td>VIB</td>\n",
       "      <td>2018-04-03</td>\n",
       "      <td>3681530.0</td>\n",
       "    </tr>\n",
       "    <tr>\n",
       "      <th>3</th>\n",
       "      <td>3</td>\n",
       "      <td>22260000.0</td>\n",
       "      <td>Viberate</td>\n",
       "      <td>0.121755</td>\n",
       "      <td>VIB</td>\n",
       "      <td>2018-04-04</td>\n",
       "      <td>5583970.0</td>\n",
       "    </tr>\n",
       "    <tr>\n",
       "      <th>4</th>\n",
       "      <td>4</td>\n",
       "      <td>20086900.0</td>\n",
       "      <td>Viberate</td>\n",
       "      <td>0.118312</td>\n",
       "      <td>VIB</td>\n",
       "      <td>2018-04-05</td>\n",
       "      <td>2824800.0</td>\n",
       "    </tr>\n",
       "  </tbody>\n",
       "</table>\n",
       "</div>"
      ],
      "text/plain": [
       "   Unnamed: 0  market cap      name     price  sym        time     volume\n",
       "0           0  20461600.0  Viberate  0.114889  VIB  2018-04-01  4702470.0\n",
       "1           1  19204400.0  Viberate  0.124845  VIB  2018-04-02  3688650.0\n",
       "2           2  20825800.0  Viberate  0.133474  VIB  2018-04-03  3681530.0\n",
       "3           3  22260000.0  Viberate  0.121755  VIB  2018-04-04  5583970.0\n",
       "4           4  20086900.0  Viberate  0.118312  VIB  2018-04-05  2824800.0"
      ]
     },
     "execution_count": 6,
     "metadata": {},
     "output_type": "execute_result"
    }
   ],
   "source": [
    "data.head()"
   ]
  },
  {
   "cell_type": "markdown",
   "metadata": {},
   "source": [
    "<h2>Data Processing</h2>\n",
    "\n",
    "The aim of this part is create the following features:\n",
    "1. Market Capitalization\n",
    "2. Price\n",
    "3. Rank: the rank of the cryptocurrency based on market capitalization\n",
    "4. Market Share: ratio of market capitalization of the cryptocurrency and the total market capitalization over the entire cryptocurrency universe\n",
    "5. Volume\n",
    "6. Age: the number of days since the first time the cryptocurrency trades on the market\n",
    "7. ROI: return on investment which is return of investment relative to cost of investment. Formula is shown below.\n",
    "\n",
    "\\begin{equation*}\n",
    "ROI_{c, t} = \\frac{P_{c, t} - P_{c, t-1}}{P_{c, t-1}}\n",
    "\\end{equation*}\n"
   ]
  },
  {
   "cell_type": "code",
   "execution_count": 8,
   "metadata": {},
   "outputs": [],
   "source": [
    "# Remove first index column\n",
    "processed_data = data.copy()\n",
    "processed_data = processed_data.iloc[:, 1:]"
   ]
  },
  {
   "cell_type": "code",
   "execution_count": 10,
   "metadata": {},
   "outputs": [],
   "source": [
    "# Determine rank for each day\n",
    "processed_data['rank'] = processed_data.groupby(\"time\")[\"market cap\"].rank(\"dense\", ascending=False)"
   ]
  },
  {
   "cell_type": "code",
   "execution_count": 23,
   "metadata": {},
   "outputs": [],
   "source": [
    "# Determine market share\n",
    "total_market_cap = processed_data.groupby(\"time\")['market cap'].sum().reset_index()\n",
    "processed_data = pd.merge(processed_data, total_market_cap, how='left', on='time')"
   ]
  },
  {
   "cell_type": "code",
   "execution_count": 17,
   "metadata": {},
   "outputs": [
    {
     "data": {
      "text/html": [
       "<div>\n",
       "<style scoped>\n",
       "    .dataframe tbody tr th:only-of-type {\n",
       "        vertical-align: middle;\n",
       "    }\n",
       "\n",
       "    .dataframe tbody tr th {\n",
       "        vertical-align: top;\n",
       "    }\n",
       "\n",
       "    .dataframe thead th {\n",
       "        text-align: right;\n",
       "    }\n",
       "</style>\n",
       "<table border=\"1\" class=\"dataframe\">\n",
       "  <thead>\n",
       "    <tr style=\"text-align: right;\">\n",
       "      <th></th>\n",
       "      <th>market cap</th>\n",
       "      <th>name</th>\n",
       "      <th>price</th>\n",
       "      <th>sym</th>\n",
       "      <th>time</th>\n",
       "      <th>volume</th>\n",
       "      <th>rank</th>\n",
       "      <th>total market cap</th>\n",
       "    </tr>\n",
       "  </thead>\n",
       "  <tbody>\n",
       "    <tr>\n",
       "      <th>0</th>\n",
       "      <td>20461600.0</td>\n",
       "      <td>Viberate</td>\n",
       "      <td>0.114889</td>\n",
       "      <td>VIB</td>\n",
       "      <td>2018-04-01</td>\n",
       "      <td>4702470.0</td>\n",
       "      <td>250.0</td>\n",
       "      <td>NaN</td>\n",
       "    </tr>\n",
       "    <tr>\n",
       "      <th>1</th>\n",
       "      <td>19204400.0</td>\n",
       "      <td>Viberate</td>\n",
       "      <td>0.124845</td>\n",
       "      <td>VIB</td>\n",
       "      <td>2018-04-02</td>\n",
       "      <td>3688650.0</td>\n",
       "      <td>260.0</td>\n",
       "      <td>NaN</td>\n",
       "    </tr>\n",
       "    <tr>\n",
       "      <th>2</th>\n",
       "      <td>20825800.0</td>\n",
       "      <td>Viberate</td>\n",
       "      <td>0.133474</td>\n",
       "      <td>VIB</td>\n",
       "      <td>2018-04-03</td>\n",
       "      <td>3681530.0</td>\n",
       "      <td>253.0</td>\n",
       "      <td>NaN</td>\n",
       "    </tr>\n",
       "    <tr>\n",
       "      <th>3</th>\n",
       "      <td>22260000.0</td>\n",
       "      <td>Viberate</td>\n",
       "      <td>0.121755</td>\n",
       "      <td>VIB</td>\n",
       "      <td>2018-04-04</td>\n",
       "      <td>5583970.0</td>\n",
       "      <td>250.0</td>\n",
       "      <td>NaN</td>\n",
       "    </tr>\n",
       "    <tr>\n",
       "      <th>4</th>\n",
       "      <td>20086900.0</td>\n",
       "      <td>Viberate</td>\n",
       "      <td>0.118312</td>\n",
       "      <td>VIB</td>\n",
       "      <td>2018-04-05</td>\n",
       "      <td>2824800.0</td>\n",
       "      <td>251.0</td>\n",
       "      <td>NaN</td>\n",
       "    </tr>\n",
       "  </tbody>\n",
       "</table>\n",
       "</div>"
      ],
      "text/plain": [
       "   market cap      name     price  sym        time     volume   rank  \\\n",
       "0  20461600.0  Viberate  0.114889  VIB  2018-04-01  4702470.0  250.0   \n",
       "1  19204400.0  Viberate  0.124845  VIB  2018-04-02  3688650.0  260.0   \n",
       "2  20825800.0  Viberate  0.133474  VIB  2018-04-03  3681530.0  253.0   \n",
       "3  22260000.0  Viberate  0.121755  VIB  2018-04-04  5583970.0  250.0   \n",
       "4  20086900.0  Viberate  0.118312  VIB  2018-04-05  2824800.0  251.0   \n",
       "\n",
       "   total market cap  \n",
       "0               NaN  \n",
       "1               NaN  \n",
       "2               NaN  \n",
       "3               NaN  \n",
       "4               NaN  "
      ]
     },
     "execution_count": 17,
     "metadata": {},
     "output_type": "execute_result"
    }
   ],
   "source": [
    "processed_data.head()"
   ]
  },
  {
   "cell_type": "code",
   "execution_count": null,
   "metadata": {},
   "outputs": [],
   "source": []
  }
 ],
 "metadata": {
  "kernelspec": {
   "display_name": "conda_amazonei_mxnet_p36",
   "language": "python",
   "name": "conda_amazonei_mxnet_p36"
  },
  "language_info": {
   "codemirror_mode": {
    "name": "ipython",
    "version": 3
   },
   "file_extension": ".py",
   "mimetype": "text/x-python",
   "name": "python",
   "nbconvert_exporter": "python",
   "pygments_lexer": "ipython3",
   "version": "3.6.10"
  }
 },
 "nbformat": 4,
 "nbformat_minor": 4
}
